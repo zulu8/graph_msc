{
 "cells": [
  {
   "cell_type": "markdown",
   "metadata": {},
   "source": [
    "# **Network Data Source**: EDA\n",
    "------------------"
   ]
  },
  {
   "cell_type": "code",
   "execution_count": 1,
   "metadata": {},
   "outputs": [],
   "source": [
    "# https://infosecjupyterthon.com/notebooks/2_Jupyterthon_Cyb3rPandaH_2020.html\n",
    "from pyspark.sql import SparkSession\n",
    "from pyspark.sql import DataFrame\n",
    "from pyspark.sql.types import *\n",
    "import pyspark.sql.functions as func\n",
    "from pyspark.sql.functions import length, concat ,concat_ws\n",
    "\n",
    "import pandas as pd, numpy as np, networkx as nx\n",
    "import matplotlib.pyplot as plt\n",
    "import requests\n",
    "from openhunt import ossem, descriptiveStatistics as ds, visualizations as vis\n",
    "import warnings\n",
    "warnings.filterwarnings('ignore')\n",
    "\n",
    "# Import packages\n",
    "import os\n",
    "import seaborn as sns\n",
    "from sklearn.naive_bayes import MultinomialNB\n",
    "from sklearn.metrics import accuracy_score, confusion_matrix\n",
    "%matplotlib inline"
   ]
  },
  {
   "cell_type": "code",
   "execution_count": 2,
   "metadata": {},
   "outputs": [
    {
     "name": "stdout",
     "output_type": "stream",
     "text": [
      "--2020-06-23 10:36:47--  https://raw.githubusercontent.com/OTRF/detection-hackathon-apt29/master/datasets/day1/zeek/combined_zeek.log\n",
      "Resolving raw.githubusercontent.com (raw.githubusercontent.com)... 199.232.52.133\n",
      "Connecting to raw.githubusercontent.com (raw.githubusercontent.com)|199.232.52.133|:443... connected.\n",
      "HTTP request sent, awaiting response... 200 OK\n",
      "Length: 1243861 (1.2M) [text/plain]\n",
      "Saving to: ‘combined_zeek.log’\n",
      "\n",
      "combined_zeek.log   100%[===================>]   1.19M  6.93MB/s    in 0.2s    \n",
      "\n",
      "2020-06-23 10:36:48 (6.93 MB/s) - ‘combined_zeek.log’ saved [1243861/1243861]\n",
      "\n"
     ]
    }
   ],
   "source": [
    "!wget https://raw.githubusercontent.com/OTRF/detection-hackathon-apt29/master/datasets/day1/zeek/combined_zeek.log"
   ]
  },
  {
   "cell_type": "code",
   "execution_count": 11,
   "metadata": {},
   "outputs": [],
   "source": [
    "# Reference: https://infosecjupyterthon.com/notebooks/2_Jupyterthon_Cyb3rPandaH_2020.html"
   ]
  },
  {
   "cell_type": "code",
   "execution_count": 16,
   "metadata": {},
   "outputs": [
    {
     "data": {
      "text/plain": [
       "'2.4.5'"
      ]
     },
     "execution_count": 16,
     "metadata": {},
     "output_type": "execute_result"
    }
   ],
   "source": [
    "from pyspark.sql import SparkSession\n",
    "spark = SparkSession.builder.getOrCreate()\n",
    "spark.conf.set(\"spark.sql.caseSensitive\", \"true\")\n",
    "spark.sparkContext.setCheckpointDir(\"./tmp/checkpoints\")\n",
    "spark.conf.set(\"spark.driver.memory\", \"3g\")\n",
    "spark.conf.set(\"spark.executor.memory\", \"3g\")\n",
    "spark.sparkContext.version"
   ]
  },
  {
   "cell_type": "code",
   "execution_count": 17,
   "metadata": {},
   "outputs": [
    {
     "name": "stdout",
     "output_type": "stream",
     "text": [
      "<class 'pandas.core.frame.DataFrame'>\n"
     ]
    },
    {
     "data": {
      "text/html": [
       "<div>\n",
       "<style scoped>\n",
       "    .dataframe tbody tr th:only-of-type {\n",
       "        vertical-align: middle;\n",
       "    }\n",
       "\n",
       "    .dataframe tbody tr th {\n",
       "        vertical-align: top;\n",
       "    }\n",
       "\n",
       "    .dataframe thead th {\n",
       "        text-align: right;\n",
       "    }\n",
       "</style>\n",
       "<table border=\"1\" class=\"dataframe\">\n",
       "  <thead>\n",
       "    <tr style=\"text-align: right;\">\n",
       "      <th></th>\n",
       "      <th>@stream</th>\n",
       "      <th>@system</th>\n",
       "      <th>@proc</th>\n",
       "      <th>ts</th>\n",
       "      <th>uid</th>\n",
       "      <th>id_orig_h</th>\n",
       "      <th>id_orig_p</th>\n",
       "      <th>id_resp_h</th>\n",
       "      <th>id_resp_p</th>\n",
       "      <th>proto</th>\n",
       "      <th>...</th>\n",
       "      <th>is_64bit</th>\n",
       "      <th>uses_aslr</th>\n",
       "      <th>uses_dep</th>\n",
       "      <th>uses_code_integrity</th>\n",
       "      <th>uses_seh</th>\n",
       "      <th>has_import_table</th>\n",
       "      <th>has_export_table</th>\n",
       "      <th>has_cert_table</th>\n",
       "      <th>has_debug_data</th>\n",
       "      <th>section_names</th>\n",
       "    </tr>\n",
       "  </thead>\n",
       "  <tbody>\n",
       "    <tr>\n",
       "      <th>0</th>\n",
       "      <td>conn</td>\n",
       "      <td>bobs.bigwheel.local</td>\n",
       "      <td>zeek</td>\n",
       "      <td>1.588205e+09</td>\n",
       "      <td>Cvf4XX17hSAgXDdGEd</td>\n",
       "      <td>10.0.1.6</td>\n",
       "      <td>54243.0</td>\n",
       "      <td>10.0.0.4</td>\n",
       "      <td>53.0</td>\n",
       "      <td>udp</td>\n",
       "      <td>...</td>\n",
       "      <td>NaN</td>\n",
       "      <td>NaN</td>\n",
       "      <td>NaN</td>\n",
       "      <td>NaN</td>\n",
       "      <td>NaN</td>\n",
       "      <td>NaN</td>\n",
       "      <td>NaN</td>\n",
       "      <td>NaN</td>\n",
       "      <td>NaN</td>\n",
       "      <td>NaN</td>\n",
       "    </tr>\n",
       "    <tr>\n",
       "      <th>1</th>\n",
       "      <td>conn</td>\n",
       "      <td>bobs.bigwheel.local</td>\n",
       "      <td>zeek</td>\n",
       "      <td>1.588205e+09</td>\n",
       "      <td>CJ21Le4zsTUcyKKi98</td>\n",
       "      <td>10.0.1.6</td>\n",
       "      <td>56880.0</td>\n",
       "      <td>10.0.0.4</td>\n",
       "      <td>445.0</td>\n",
       "      <td>tcp</td>\n",
       "      <td>...</td>\n",
       "      <td>NaN</td>\n",
       "      <td>NaN</td>\n",
       "      <td>NaN</td>\n",
       "      <td>NaN</td>\n",
       "      <td>NaN</td>\n",
       "      <td>NaN</td>\n",
       "      <td>NaN</td>\n",
       "      <td>NaN</td>\n",
       "      <td>NaN</td>\n",
       "      <td>NaN</td>\n",
       "    </tr>\n",
       "    <tr>\n",
       "      <th>2</th>\n",
       "      <td>conn</td>\n",
       "      <td>bobs.bigwheel.local</td>\n",
       "      <td>zeek</td>\n",
       "      <td>1.588205e+09</td>\n",
       "      <td>CnOP7t1eGGHf6LFfuk</td>\n",
       "      <td>10.0.1.6</td>\n",
       "      <td>65108.0</td>\n",
       "      <td>10.0.0.4</td>\n",
       "      <td>53.0</td>\n",
       "      <td>udp</td>\n",
       "      <td>...</td>\n",
       "      <td>NaN</td>\n",
       "      <td>NaN</td>\n",
       "      <td>NaN</td>\n",
       "      <td>NaN</td>\n",
       "      <td>NaN</td>\n",
       "      <td>NaN</td>\n",
       "      <td>NaN</td>\n",
       "      <td>NaN</td>\n",
       "      <td>NaN</td>\n",
       "      <td>NaN</td>\n",
       "    </tr>\n",
       "    <tr>\n",
       "      <th>3</th>\n",
       "      <td>conn</td>\n",
       "      <td>bobs.bigwheel.local</td>\n",
       "      <td>zeek</td>\n",
       "      <td>1.588205e+09</td>\n",
       "      <td>CvxbPE3MuO7boUdSc8</td>\n",
       "      <td>10.0.1.6</td>\n",
       "      <td>138.0</td>\n",
       "      <td>10.0.1.255</td>\n",
       "      <td>138.0</td>\n",
       "      <td>udp</td>\n",
       "      <td>...</td>\n",
       "      <td>NaN</td>\n",
       "      <td>NaN</td>\n",
       "      <td>NaN</td>\n",
       "      <td>NaN</td>\n",
       "      <td>NaN</td>\n",
       "      <td>NaN</td>\n",
       "      <td>NaN</td>\n",
       "      <td>NaN</td>\n",
       "      <td>NaN</td>\n",
       "      <td>NaN</td>\n",
       "    </tr>\n",
       "    <tr>\n",
       "      <th>4</th>\n",
       "      <td>conn</td>\n",
       "      <td>bobs.bigwheel.local</td>\n",
       "      <td>zeek</td>\n",
       "      <td>1.588205e+09</td>\n",
       "      <td>CuRbE21APSQo2qd6rk</td>\n",
       "      <td>10.0.1.6</td>\n",
       "      <td>123.0</td>\n",
       "      <td>10.0.0.4</td>\n",
       "      <td>123.0</td>\n",
       "      <td>udp</td>\n",
       "      <td>...</td>\n",
       "      <td>NaN</td>\n",
       "      <td>NaN</td>\n",
       "      <td>NaN</td>\n",
       "      <td>NaN</td>\n",
       "      <td>NaN</td>\n",
       "      <td>NaN</td>\n",
       "      <td>NaN</td>\n",
       "      <td>NaN</td>\n",
       "      <td>NaN</td>\n",
       "      <td>NaN</td>\n",
       "    </tr>\n",
       "  </tbody>\n",
       "</table>\n",
       "<p>5 rows × 148 columns</p>\n",
       "</div>"
      ],
      "text/plain": [
       "  @stream              @system @proc            ts                 uid  \\\n",
       "0    conn  bobs.bigwheel.local  zeek  1.588205e+09  Cvf4XX17hSAgXDdGEd   \n",
       "1    conn  bobs.bigwheel.local  zeek  1.588205e+09  CJ21Le4zsTUcyKKi98   \n",
       "2    conn  bobs.bigwheel.local  zeek  1.588205e+09  CnOP7t1eGGHf6LFfuk   \n",
       "3    conn  bobs.bigwheel.local  zeek  1.588205e+09  CvxbPE3MuO7boUdSc8   \n",
       "4    conn  bobs.bigwheel.local  zeek  1.588205e+09  CuRbE21APSQo2qd6rk   \n",
       "\n",
       "  id_orig_h  id_orig_p   id_resp_h  id_resp_p proto  ... is_64bit  uses_aslr  \\\n",
       "0  10.0.1.6    54243.0    10.0.0.4       53.0   udp  ...      NaN        NaN   \n",
       "1  10.0.1.6    56880.0    10.0.0.4      445.0   tcp  ...      NaN        NaN   \n",
       "2  10.0.1.6    65108.0    10.0.0.4       53.0   udp  ...      NaN        NaN   \n",
       "3  10.0.1.6      138.0  10.0.1.255      138.0   udp  ...      NaN        NaN   \n",
       "4  10.0.1.6      123.0    10.0.0.4      123.0   udp  ...      NaN        NaN   \n",
       "\n",
       "   uses_dep  uses_code_integrity uses_seh  has_import_table has_export_table  \\\n",
       "0       NaN                  NaN      NaN               NaN              NaN   \n",
       "1       NaN                  NaN      NaN               NaN              NaN   \n",
       "2       NaN                  NaN      NaN               NaN              NaN   \n",
       "3       NaN                  NaN      NaN               NaN              NaN   \n",
       "4       NaN                  NaN      NaN               NaN              NaN   \n",
       "\n",
       "   has_cert_table  has_debug_data  section_names  \n",
       "0             NaN             NaN            NaN  \n",
       "1             NaN             NaN            NaN  \n",
       "2             NaN             NaN            NaN  \n",
       "3             NaN             NaN            NaN  \n",
       "4             NaN             NaN            NaN  \n",
       "\n",
       "[5 rows x 148 columns]"
      ]
     },
     "execution_count": 17,
     "metadata": {},
     "output_type": "execute_result"
    }
   ],
   "source": [
    "zeekDf_day1 = pd.read_json(\"combined_zeek.log\", lines = True)\n",
    "\n",
    "print(type(zeekDf_day1))\n",
    "zeekDf_day1.head()"
   ]
  },
  {
   "cell_type": "code",
   "execution_count": 18,
   "metadata": {},
   "outputs": [],
   "source": [
    "columnsToChangeType_day1= zeekDf_day1.select_dtypes(include=[object]).columns.to_list()\n",
    "dictionary_day1 = {i : 'str' for i in columnsToChangeType_day1}\n",
    "zeekDf_day1 = zeekDf_day1.astype(dictionary_day1)"
   ]
  },
  {
   "cell_type": "code",
   "execution_count": 20,
   "metadata": {},
   "outputs": [
    {
     "name": "stdout",
     "output_type": "stream",
     "text": [
      "<class 'pyspark.sql.dataframe.DataFrame'>\n",
      "+---------+---------+----------+---------+\n",
      "|id_orig_h|id_orig_p|id_resp_h |id_resp_p|\n",
      "+---------+---------+----------+---------+\n",
      "|10.0.1.6 |54243.0  |10.0.0.4  |53.0     |\n",
      "|10.0.1.6 |56880.0  |10.0.0.4  |445.0    |\n",
      "|10.0.1.6 |65108.0  |10.0.0.4  |53.0     |\n",
      "|10.0.1.6 |138.0    |10.0.1.255|138.0    |\n",
      "|10.0.1.6 |123.0    |10.0.0.4  |123.0    |\n",
      "+---------+---------+----------+---------+\n",
      "only showing top 5 rows\n",
      "\n"
     ]
    }
   ],
   "source": [
    "df_zeek = spark.createDataFrame(zeekDf_day1)\n",
    "\n",
    "print(type(df_zeek))\n",
    "df_zeek.select('id_orig_h','id_orig_p','id_resp_h','id_resp_p').show(5, truncate = False)"
   ]
  },
  {
   "cell_type": "code",
   "execution_count": 21,
   "metadata": {},
   "outputs": [],
   "source": [
    "df_zeek.createTempView(\"apt29NetworkDay1\")"
   ]
  },
  {
   "cell_type": "code",
   "execution_count": null,
   "metadata": {},
   "outputs": [],
   "source": []
  }
 ],
 "metadata": {
  "kernelspec": {
   "display_name": "Python 3",
   "language": "python",
   "name": "python3"
  },
  "language_info": {
   "codemirror_mode": {
    "name": "ipython",
    "version": 3
   },
   "file_extension": ".py",
   "mimetype": "text/x-python",
   "name": "python",
   "nbconvert_exporter": "python",
   "pygments_lexer": "ipython3",
   "version": "3.7.7"
  }
 },
 "nbformat": 4,
 "nbformat_minor": 4
}
