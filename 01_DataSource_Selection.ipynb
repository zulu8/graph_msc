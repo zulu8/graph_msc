{
 "cells": [
  {
   "cell_type": "markdown",
   "metadata": {},
   "source": [
    "# **DataSource Selection**: Data Source and Event Type Analysis\n",
    "------------------"
   ]
  },
  {
   "cell_type": "markdown",
   "metadata": {},
   "source": [
    "## Goals:\n",
    "1. Identify most relevent data sources based on MITRE ATT&ck Techniques\n",
    "    * Frequency counts based on all TTPs\n",
    "    * Frequency counts based on common TTPs (only those TTPs attributed to tracked threat groups)\n",
    "    * Frequency counts based on modern TTPs (only those TTPs identified in 2019/2020 thrend reports)\n",
    "    * Map Generic MITRE ATT&ck Data sources to Events\n",
    "2. Conduct Exploratory Data Analysis on APT29 Detection Hackathon Dataset\n",
    "3. Identify most relevant data sources and features based on Industry Guidance"
   ]
  },
  {
   "cell_type": "markdown",
   "metadata": {},
   "source": [
    "## References:\n",
    "* https://github.com/hunters-forge/ATTACK-Python-Client\n",
    "* https://github.com/OTRF/detection-hackathon-apt29\n",
    "* https://infosecjupyterthon.com/notebooks/2_Jupyterthon_Cyb3rPandaH_2020.html\n",
    "* https://github.com/hunters-forge/ThreatHunter-Playbook\n",
    "* https://github.com/hunters-forge/OSSEM\n",
    "* https://www.slideshare.net/attackcon2018 MITRE ATT&CKcon 2.0: Prioritizing Data Sources for Minimum Viable Detection; Keith McCammon, Red Canary \n",
    "* https://github.com/keithmccammon/python-attack-utils\n",
    "* https://github.com/SadProcessor/SomeStuff/blob/master/DerbyCon19/ATTCKnowledge.ps1"
   ]
  },
  {
   "cell_type": "markdown",
   "metadata": {},
   "source": [
    "### 1. Identify most relevent data sources based on MITRE ATT&ck Techniques\n",
    "------------------\n",
    "Utilizing approach in https://github.com/hunters-forge/ATTACK-Python-Client/blob/master/notebooks/ATT%26CK_DataSources.ipynb"
   ]
  },
  {
   "cell_type": "code",
   "execution_count": 1,
   "metadata": {},
   "outputs": [],
   "source": [
    "from attackcti import attack_client\n",
    "#import altair as alt\n",
    "#alt.renderers.enable('notebook')\n",
    "#import itertools\n",
    "import pandas as pd, numpy as np\n",
    "from pandas import json_normalize\n",
    "import matplotlib.pyplot as plt\n",
    "import requests\n",
    "from openhunt import ossem, descriptiveStatistics as ds, visualizations as vis\n",
    "import warnings\n",
    "warnings.filterwarnings('ignore')\n",
    "\n",
    "# Import packages\n",
    "import os\n",
    "import seaborn as sns\n",
    "from sklearn.naive_bayes import MultinomialNB\n",
    "from sklearn.metrics import accuracy_score, confusion_matrix\n",
    "%matplotlib inline\n",
    "\n",
    "from collections import Counter\n",
    "import json\n",
    "import yaml"
   ]
  },
  {
   "cell_type": "markdown",
   "metadata": {},
   "source": [
    "### 1.A. Frequency counts based on all TTPs\n",
    "------------------\n",
    "Reference: https://github.com/hunters-forge/ATTACK-Python-Client\n",
    "* Using attackcti we can generate a dictionary of MITRE ATT&CK techniques and metadata including datasources"
   ]
  },
  {
   "cell_type": "code",
   "execution_count": 2,
   "metadata": {},
   "outputs": [
    {
     "data": {
      "text/plain": [
       "{'external_references': [{'source_name': 'mitre-attack',\n",
       "   'external_id': 'T1205.001',\n",
       "   'url': 'https://attack.mitre.org/techniques/T1205/001'},\n",
       "  {'url': 'https://www.giac.org/paper/gcih/342/handle-cd00r-invisible-backdoor/103631',\n",
       "   'description': 'Hartrell, Greg. (2002, August). Get a handle on cd00r: The invisible backdoor. Retrieved October 13, 2018.',\n",
       "   'source_name': 'Hartrell cd00r 2002'}],\n",
       " 'kill_chain_phases': [{'kill_chain_name': 'mitre-attack',\n",
       "   'phase_name': 'defense-evasion'},\n",
       "  {'kill_chain_name': 'mitre-attack', 'phase_name': 'persistence'},\n",
       "  {'kill_chain_name': 'mitre-attack', 'phase_name': 'command-and-control'}],\n",
       " 'x_mitre_version': '1.0',\n",
       " 'x_mitre_is_subtechnique': True,\n",
       " 'url': 'https://attack.mitre.org/techniques/T1205/001',\n",
       " 'matrix': 'mitre-attack',\n",
       " 'technique_id': 'T1205.001',\n",
       " 'object_marking_refs': ['marking-definition--fa42a846-8d90-4e51-bc29-71d5b4802168'],\n",
       " 'created_by_ref': 'identity--c78cb6e5-0c4b-4611-8297-d1b8b55e40b5',\n",
       " 'technique': 'Port Knocking',\n",
       " 'technique_description': 'Adversaries may use port knocking to hide open ports used for persistence or command and control. To enable a port, an adversary sends a series of attempted connections to a predefined sequence of closed ports. After the sequence is completed, opening a port is often accomplished by the host based firewall, but could also be implemented by custom software.\\n\\nThis technique has been observed to both for the dynamic opening of a listening port as well as the initiating of a connection to a listening server on a different system.\\n\\nThe observation of the signal packets to trigger the communication can be conducted through different methods. One means, originally implemented by Cd00r (Citation: Hartrell cd00r 2002), is to use the libpcap libraries to sniff for the packets in question. Another method leverages raw sockets, which enables the malware to use ports that are already open for use by other programs.',\n",
       " 'id': 'attack-pattern--8868cb5b-d575-4a60-acb2-07d37389a2fd',\n",
       " 'type': 'attack-pattern',\n",
       " 'tactic': ['defense-evasion', 'persistence', 'command-and-control'],\n",
       " 'modified': '2020-07-01T18:23:25.002Z',\n",
       " 'created': '2020-07-01T18:23:25.002Z',\n",
       " 'permissions_required': ['User'],\n",
       " 'technique_detection': 'Record network packets sent to and from the system, looking for extraneous packets that do not belong to established flows.',\n",
       " 'data_sources': ['Netflow/Enclave netflow', 'Packet capture'],\n",
       " 'platform': ['Linux', 'macOS', 'Windows']}"
      ]
     },
     "execution_count": 2,
     "metadata": {},
     "output_type": "execute_result"
    }
   ],
   "source": [
    "lift = attack_client()\n",
    "all_techniques = lift.get_techniques(stix_format=False)\n",
    "all_techniques[0]"
   ]
  },
  {
   "cell_type": "code",
   "execution_count": null,
   "metadata": {},
   "outputs": [],
   "source": []
  },
  {
   "cell_type": "code",
   "execution_count": 4,
   "metadata": {},
   "outputs": [
    {
     "data": {
      "text/plain": [
       "['Netflow/Enclave netflow', 'Packet capture']"
      ]
     },
     "execution_count": 4,
     "metadata": {},
     "output_type": "execute_result"
    }
   ],
   "source": [
    "all_techniques[0]['data_sources']"
   ]
  },
  {
   "cell_type": "code",
   "execution_count": 5,
   "metadata": {},
   "outputs": [
    {
     "data": {
      "text/plain": [
       "dict_keys(['external_references', 'kill_chain_phases', 'x_mitre_version', 'x_mitre_is_subtechnique', 'url', 'matrix', 'technique_id', 'object_marking_refs', 'created_by_ref', 'technique', 'technique_description', 'id', 'type', 'tactic', 'modified', 'created', 'permissions_required', 'technique_detection', 'data_sources', 'platform'])"
      ]
     },
     "execution_count": 5,
     "metadata": {},
     "output_type": "execute_result"
    }
   ],
   "source": [
    "all_techniques[0].keys()"
   ]
  },
  {
   "cell_type": "code",
   "execution_count": 13,
   "metadata": {},
   "outputs": [
    {
     "data": {
      "text/plain": [
       "{'external_references': [{'source_name': 'mitre-attack',\n",
       "   'external_id': 'T1059',\n",
       "   'url': 'https://attack.mitre.org/techniques/T1059'}],\n",
       " 'kill_chain_phases': [{'kill_chain_name': 'mitre-attack',\n",
       "   'phase_name': 'execution'}],\n",
       " 'x_mitre_is_subtechnique': False,\n",
       " 'x_mitre_version': '2.0',\n",
       " 'id': 'attack-pattern--7385dfaf-6886-4229-9ecd-6fd678040830',\n",
       " 'created_by_ref': 'identity--c78cb6e5-0c4b-4611-8297-d1b8b55e40b5',\n",
       " 'technique': 'Command and Scripting Interpreter',\n",
       " 'technique_description': 'Adversaries may abuse command and script interpreters to execute commands, scripts, or binaries. These interfaces and languages provide ways of interacting with computer systems and are a common feature across many different platforms. Most systems come with some built-in command-line interface and scripting capabilities, for example, macOS and Linux distributions include some flavor of [Unix Shell](https://attack.mitre.org/techniques/T1059/004) while Windows installations include the [Windows Command Shell](https://attack.mitre.org/techniques/T1059/003) and [PowerShell](https://attack.mitre.org/techniques/T1059/001).\\n\\nThere are also cross-platform interpreters such as [Python](https://attack.mitre.org/techniques/T1059/006), as well as those commonly associated with client applications such as [JavaScript/JScript](https://attack.mitre.org/techniques/T1059/007) and [Visual Basic](https://attack.mitre.org/techniques/T1059/005).\\n\\nAdversaries may abuse these technologies in various ways as a means of executing arbitrary commands. Commands and scripts can be embedded in [Initial Access](https://attack.mitre.org/tactics/TA0001) payloads delivered to victims as lure documents or as secondary payloads downloaded from an existing C2. Adversaries may also execute commands through interactive terminals/shells.',\n",
       " 'url': 'https://attack.mitre.org/techniques/T1059',\n",
       " 'matrix': 'mitre-attack',\n",
       " 'technique_id': 'T1059',\n",
       " 'object_marking_refs': ['marking-definition--fa42a846-8d90-4e51-bc29-71d5b4802168'],\n",
       " 'type': 'attack-pattern',\n",
       " 'tactic': ['execution'],\n",
       " 'modified': '2020-06-25T03:32:51.380Z',\n",
       " 'created': '2017-05-31T21:30:49.546Z',\n",
       " 'remote_support': False,\n",
       " 'permissions_required': ['User'],\n",
       " 'platform': ['Linux', 'macOS', 'Windows'],\n",
       " 'technique_detection': \"Command-line and scripting activities can be captured through proper logging of process execution with command-line arguments. This information can be useful in gaining additional insight to adversaries' actions through how they use native processes or custom tools. Also monitor for loading of modules associated with specific languages.\\n\\nIf scripting is restricted for normal users, then any attempt to enable scripts running on a system would be considered suspicious. If scripts are not commonly used on a system, but enabled, scripts running out of cycle from patching or other administrator functions are suspicious. Scripts should be captured from the file system when possible to determine their actions and intent.\\n\\nScripts are likely to perform actions with various effects on a system that may generate events, depending on the types of monitoring used. Monitor processes and command-line arguments for script execution and subsequent behavior. Actions may be related to network and system information discovery, collection, or other scriptable post-compromise behaviors and could be used as indicators of detection leading back to the source script.\",\n",
       " 'data_sources': ['Windows event logs',\n",
       "  'PowerShell logs',\n",
       "  'Process monitoring',\n",
       "  'Process command-line parameters']}"
      ]
     },
     "metadata": {},
     "output_type": "display_data"
    }
   ],
   "source": [
    "data_sources_dup = list()\n",
    "for t in all_techniques:\n",
    "    # ensure technique has datasources assigned and applies to Windows platform\n",
    "    if 'data_sources' in t.keys() and 'Windows' in t['platform']:\n",
    "        for ds in t['data_sources']:\n",
    "                data_sources_dup.append(ds)\n",
    "        if t['technique'] == 'Command and Scripting Interpreter':\n",
    "            display(t)\n",
    "        #print(t['platform'])"
   ]
  },
  {
   "cell_type": "code",
   "execution_count": 14,
   "metadata": {},
   "outputs": [
    {
     "data": {
      "text/plain": [
       "1391"
      ]
     },
     "execution_count": 14,
     "metadata": {},
     "output_type": "execute_result"
    }
   ],
   "source": [
    "len(data_sources_dup)"
   ]
  },
  {
   "cell_type": "code",
   "execution_count": 18,
   "metadata": {},
   "outputs": [
    {
     "data": {
      "text/plain": [
       "Process monitoring                    260\n",
       "Process command-line parameters       163\n",
       "File monitoring                       134\n",
       "API monitoring                         70\n",
       "Packet capture                         67\n",
       "Process use of network                 61\n",
       "Netflow/Enclave netflow                58\n",
       "Windows Registry                       55\n",
       "Authentication logs                    49\n",
       "Network protocol analysis              47\n",
       "Windows event logs                     46\n",
       "DLL monitoring                         35\n",
       "SSL/TLS inspection                     24\n",
       "Binary file metadata                   24\n",
       "Loaded DLLs                            23\n",
       "PowerShell logs                        20\n",
       "Network device logs                    15\n",
       "Network intrusion detection system     15\n",
       "Azure activity logs                    13\n",
       "AWS CloudTrail logs                    13\n",
       "dtype: int64"
      ]
     },
     "execution_count": 18,
     "metadata": {},
     "output_type": "execute_result"
    }
   ],
   "source": [
    "pd.Series(data_sources_dup).value_counts().head(20)"
   ]
  },
  {
   "cell_type": "code",
   "execution_count": 19,
   "metadata": {},
   "outputs": [
    {
     "data": {
      "text/plain": [
       "<matplotlib.axes._subplots.AxesSubplot at 0x7faadab0c1d0>"
      ]
     },
     "execution_count": 19,
     "metadata": {},
     "output_type": "execute_result"
    },
    {
     "data": {
      "image/png": "[encoded data removed]",
      "text/plain": [
       "<Figure size 432x288 with 1 Axes>"
      ]
     },
     "metadata": {
      "needs_background": "light"
     },
     "output_type": "display_data"
    }
   ],
   "source": [
    "pd.Series(data_sources_dup).value_counts(ascending=True).tail(20).plot(kind='barh')"
   ]
  },
  {
   "cell_type": "markdown",
   "metadata": {},
   "source": [
    "### 1.B. Frequency counts based on common TTPs (only those TTPs attributed to tracked threat groups)\n",
    "------------------\n",
    "Reference: https://github.com/rabobank-cdc/DeTTECT/wiki/Threat-actor-group-mapping\n",
    "* Using Mitre DeTTECT we can generate a json file with all threat actor data within ATT&CK\n",
    "* python dettect.py g -> attack_windows_all.json\n",
    "* This provides us with a subset of techniques attributed to known threat actors."
   ]
  },
  {
   "cell_type": "code",
   "execution_count": 24,
   "metadata": {},
   "outputs": [],
   "source": [
    "with open('/home/jake/Documents/output/attack_windows_all.json') as json_file:\n",
    "    attack_windows_all = json.load(json_file)"
   ]
  },
  {
   "cell_type": "code",
   "execution_count": 25,
   "metadata": {},
   "outputs": [],
   "source": [
    "#attack_windows_all['techniques']\n",
    "#for p in attack_windows_all['techniques']:\n",
    "#    print(p['techniqueID'], p['score'])\n",
    "    \n",
    "attack_windows_all_techniques = set()\n",
    "for p in attack_windows_all['techniques']:\n",
    "    attack_windows_all_techniques.add(p['techniqueID'])"
   ]
  },
  {
   "cell_type": "code",
   "execution_count": 26,
   "metadata": {},
   "outputs": [
    {
     "data": {
      "text/plain": [
       "168"
      ]
     },
     "execution_count": 26,
     "metadata": {},
     "output_type": "execute_result"
    }
   ],
   "source": [
    "len(attack_windows_all_techniques)"
   ]
  },
  {
   "cell_type": "code",
   "execution_count": 27,
   "metadata": {},
   "outputs": [],
   "source": [
    "data_sources_dup_attack = list()\n",
    "for t in all_techniques:\n",
    "    # ensure technique has datasources assigned and applies to Windows platform\n",
    "    if 'data_sources' in t.keys() and 'Windows' in t['platform'] and t['technique_id'] in attack_windows_all_techniques:\n",
    "        for ds in t['data_sources']:\n",
    "                data_sources_dup_attack.append(ds)\n",
    "        #print(t['technique_id'])"
   ]
  },
  {
   "cell_type": "code",
   "execution_count": 28,
   "metadata": {},
   "outputs": [
    {
     "data": {
      "text/plain": [
       "426"
      ]
     },
     "execution_count": 28,
     "metadata": {},
     "output_type": "execute_result"
    }
   ],
   "source": [
    "len(data_sources_dup_attack)"
   ]
  },
  {
   "cell_type": "code",
   "execution_count": 29,
   "metadata": {},
   "outputs": [
    {
     "data": {
      "text/plain": [
       "Process monitoring                    80\n",
       "Process command-line parameters       50\n",
       "File monitoring                       39\n",
       "Process use of network                29\n",
       "Packet capture                        21\n",
       "API monitoring                        20\n",
       "Network protocol analysis             17\n",
       "Netflow/Enclave netflow               16\n",
       "Windows event logs                    14\n",
       "Authentication logs                   14\n",
       "Windows Registry                      10\n",
       "Azure activity logs                   10\n",
       "AWS CloudTrail logs                    9\n",
       "Stackdriver logs                       8\n",
       "Binary file metadata                   7\n",
       "PowerShell logs                        6\n",
       "DLL monitoring                         6\n",
       "Network intrusion detection system     5\n",
       "Network device logs                    5\n",
       "Office 365 account logs                5\n",
       "dtype: int64"
      ]
     },
     "execution_count": 29,
     "metadata": {},
     "output_type": "execute_result"
    }
   ],
   "source": [
    "pd.Series(data_sources_dup_attack).value_counts().head(20)"
   ]
  },
  {
   "cell_type": "code",
   "execution_count": 30,
   "metadata": {},
   "outputs": [
    {
     "data": {
      "text/plain": [
       "<matplotlib.axes._subplots.AxesSubplot at 0x7faada9c0ed0>"
      ]
     },
     "execution_count": 30,
     "metadata": {},
     "output_type": "execute_result"
    },
    {
     "data": {
      "image/png": "[encoded data removed]",
      "text/plain": [
       "<Figure size 432x288 with 1 Axes>"
      ]
     },
     "metadata": {
      "needs_background": "light"
     },
     "output_type": "display_data"
    }
   ],
   "source": [
    "pd.Series(data_sources_dup_attack).value_counts(ascending=True).tail(20).plot(kind='barh')"
   ]
  },
  {
   "cell_type": "markdown",
   "metadata": {},
   "source": [
    "### 1.C. Frequency counts based on modern TTPs (only those TTPs identified in 2019/2020 thrend reports)\n",
    "------------------\n",
    "Reference: https://github.com/rabobank-cdc/DeTTECT/wiki/Threat-actor-group-mapping\n",
    "* Using Mitre DeTTECT we can utilize their yaml files for modern threat reports."
   ]
  },
  {
   "cell_type": "code",
   "execution_count": 31,
   "metadata": {},
   "outputs": [],
   "source": [
    "#!wget https://raw.githubusercontent.com/rabobank-cdc/DeTTECT/master/threat-actor-data/20200220-FireEye.yaml"
   ]
  },
  {
   "cell_type": "code",
   "execution_count": 32,
   "metadata": {},
   "outputs": [],
   "source": [
    "fireeye_techniques = {'T1040': 1, 'T1201': 1, 'T1007': 1, 'T1124': 1, 'T1480': 1, 'T1158': 1, 'T1093': 1, 'T1031': 1, 'T1023': 1, 'T1081': 1, 'T1214': 1, 'T1111': 1, 'T1491': 1, 'T1173': 1, 'T1106': 1, 'T1170': 1, 'T1179': 1, 'T1049': 1, 'T1497': 1, 'T1036': 1, 'T1117': 1, 'T1096': 1, 'T1482': 1, 'T1135': 1, 'T1140': 1, 'T1168': 1, 'T1077': 1, 'T1490': 1, 'T1492': 1, 'T1014': 2, 'T1094': 2, 'T1047': 2, 'T1138': 2, 'T1055': 2, 'T1058': 2, 'T1188': 2, 'T1219': 2, 'T1021': 2, 'T1496': 2, 'T1083': 3, 'T1046': 3, 'T1057': 3, 'T1016': 3, 'T1054': 3, 'T1004': 3, 'T1015': 3, 'T1087': 4, 'T1069': 4, 'T1034': 4, 'T1012': 4, 'T1038': 4, 'T1073': 4, 'T1099': 4, 'T1102': 4, 'T1022': 4, 'T1192': 4, 'T1136': 5, 'T1486': 5, 'T1033': 5, 'T1116': 5, 'T1090': 5, 'T1070': 5, 'T1060': 5, 'T1110': 5, 'T1193': 5, 'T1082': 6, 'T1089': 6, 'T1112': 7, 'T1063': 7, 'T1199': 7, 'T1059': 8, 'T1489': 8, 'T1045': 9, 'T1003': 9, 'T1071': 10, 'T1098': 10, 'T1107': 11, 'T1105': 11, 'T1053': 11, 'T1078': 11, 'T1202': 13, 'T1002': 13, 'T1032': 14, 'T1100': 16, 'T1190': 17, 'T1076': 19, 'T1133': 28, 'T1035': 28, 'T1086': 29, 'T1064': 30, 'T1027': 31}"
   ]
  },
  {
   "cell_type": "code",
   "execution_count": 33,
   "metadata": {},
   "outputs": [],
   "source": [
    "set_fireeye_techniques = set(fireeye_techniques)"
   ]
  },
  {
   "cell_type": "code",
   "execution_count": 34,
   "metadata": {},
   "outputs": [
    {
     "data": {
      "text/plain": [
       "91"
      ]
     },
     "execution_count": 34,
     "metadata": {},
     "output_type": "execute_result"
    }
   ],
   "source": [
    "len(set_fireeye_techniques)"
   ]
  },
  {
   "cell_type": "code",
   "execution_count": 35,
   "metadata": {},
   "outputs": [],
   "source": [
    "data_sources_dup_fireeye = list()\n",
    "for t in all_techniques:\n",
    "    # ensure technique has datasources assigned and applies to Windows platform\n",
    "    if 'data_sources' in t.keys() and 'Windows' in t['platform'] and t['technique_id'] in set_fireeye_techniques:\n",
    "        for ds in t['data_sources']:\n",
    "                data_sources_dup_fireeye.append(ds)\n",
    "        #print(t['technique_id'])"
   ]
  },
  {
   "cell_type": "code",
   "execution_count": 36,
   "metadata": {},
   "outputs": [
    {
     "data": {
      "text/plain": [
       "220"
      ]
     },
     "execution_count": 36,
     "metadata": {},
     "output_type": "execute_result"
    }
   ],
   "source": [
    "len(data_sources_dup_fireeye)"
   ]
  },
  {
   "cell_type": "code",
   "execution_count": 38,
   "metadata": {},
   "outputs": [
    {
     "data": {
      "text/plain": [
       "Process monitoring                 43\n",
       "Process command-line parameters    33\n",
       "File monitoring                    15\n",
       "API monitoring                     12\n",
       "Windows event logs                 10\n",
       "Network protocol analysis           9\n",
       "Process use of network              9\n",
       "Packet capture                      9\n",
       "Authentication logs                 8\n",
       "Netflow/Enclave netflow             8\n",
       "Azure activity logs                 7\n",
       "AWS CloudTrail logs                 6\n",
       "Windows Registry                    5\n",
       "Stackdriver logs                    5\n",
       "Office 365 account logs             4\n",
       "PowerShell logs                     4\n",
       "SSL/TLS inspection                  3\n",
       "Host network interface              2\n",
       "Web logs                            2\n",
       "Binary file metadata                2\n",
       "dtype: int64"
      ]
     },
     "execution_count": 38,
     "metadata": {},
     "output_type": "execute_result"
    }
   ],
   "source": [
    "pd.Series(data_sources_dup_fireeye).value_counts().head(20)"
   ]
  },
  {
   "cell_type": "code",
   "execution_count": 39,
   "metadata": {},
   "outputs": [
    {
     "data": {
      "text/plain": [
       "<matplotlib.axes._subplots.AxesSubplot at 0x7faadb319910>"
      ]
     },
     "execution_count": 39,
     "metadata": {},
     "output_type": "execute_result"
    },
    {
     "data": {
      "image/png": "[encoded data removed]",
      "text/plain": [
       "<Figure size 432x288 with 1 Axes>"
      ]
     },
     "metadata": {
      "needs_background": "light"
     },
     "output_type": "display_data"
    }
   ],
   "source": [
    "pd.Series(data_sources_dup_fireeye).value_counts(ascending=True).tail(20).plot(kind='barh')"
   ]
  },
  {
   "cell_type": "markdown",
   "metadata": {},
   "source": [
    "### 1.D. Map Generic MITRE ATT&ck Data sources to Events\n",
    "------------------\n",
    "* References: \n",
    "    * https://github.com/hunters-forge/OSSEM/tree/master/attack_data_sources\n",
    "    * https://docs.google.com/spreadsheets/d/1ow7YRDEDJs67kcKMZZ66_5z1ipJry9QrsDQkjQvizJM/edit#gid=0\n",
    "* Goals:\n",
    "    * Using hunters-forge/OSSEM identify the events that contribute to MITRE's data sources."
   ]
  },
  {
   "cell_type": "code",
   "execution_count": 24,
   "metadata": {},
   "outputs": [],
   "source": [
    "#!wget --no-check-certificate 'https://docs.google.com/spreadsheets/d/1ow7YRDEDJs67kcKMZZ66_5z1ipJry9QrsDQkjQvizJM/export?format=xlsx&id=1ow7YRDEDJs67kcKMZZ66_5z1ipJry9QrsDQkjQvizJM' -O Attack_Data_Modeling.xlsx"
   ]
  },
  {
   "cell_type": "code",
   "execution_count": 25,
   "metadata": {},
   "outputs": [],
   "source": [
    "attack_data_model = pd.read_excel(open('Attack_Data_Modeling.xlsx', 'rb'), sheet_name='Winevent Logs - ATT&CK')  "
   ]
  },
  {
   "cell_type": "code",
   "execution_count": 26,
   "metadata": {},
   "outputs": [
    {
     "data": {
      "text/html": [
       "<div>\n",
       "<style scoped>\n",
       "    .dataframe tbody tr th:only-of-type {\n",
       "        vertical-align: middle;\n",
       "    }\n",
       "\n",
       "    .dataframe tbody tr th {\n",
       "        vertical-align: top;\n",
       "    }\n",
       "\n",
       "    .dataframe thead th {\n",
       "        text-align: right;\n",
       "    }\n",
       "</style>\n",
       "<table border=\"1\" class=\"dataframe\">\n",
       "  <thead>\n",
       "    <tr style=\"text-align: right;\">\n",
       "      <th></th>\n",
       "      <th>Data Source</th>\n",
       "      <th>Sub - Data Source</th>\n",
       "      <th>Data Object</th>\n",
       "      <th>Relationship</th>\n",
       "      <th>Data Object.1</th>\n",
       "      <th>Event ID</th>\n",
       "      <th>Description</th>\n",
       "      <th>Provider Name</th>\n",
       "      <th>Event Channel</th>\n",
       "      <th>Data Category</th>\n",
       "      <th>Data Sub-Category</th>\n",
       "      <th>Minimun Operating System</th>\n",
       "      <th>GPO</th>\n",
       "      <th>Enable Commands</th>\n",
       "      <th>Client Default</th>\n",
       "      <th>Server Default</th>\n",
       "    </tr>\n",
       "  </thead>\n",
       "  <tbody>\n",
       "    <tr>\n",
       "      <th>16</th>\n",
       "      <td>Process monitoring</td>\n",
       "      <td>process creation</td>\n",
       "      <td>process</td>\n",
       "      <td>created</td>\n",
       "      <td>process</td>\n",
       "      <td>4688</td>\n",
       "      <td>A new process has been created</td>\n",
       "      <td>Microsoft-Windows-Security-Auditing</td>\n",
       "      <td>Security</td>\n",
       "      <td>Audit Detailed Tracking</td>\n",
       "      <td>Audit Process Creation</td>\n",
       "      <td>Windows Vista, Windows 2008</td>\n",
       "      <td>Computer Configuration -&gt; Windows Settings -&gt; ...</td>\n",
       "      <td>auditpol.exe /set /subcategory:\"Process Creati...</td>\n",
       "      <td>No auditing</td>\n",
       "      <td>No auditing</td>\n",
       "    </tr>\n",
       "    <tr>\n",
       "      <th>17</th>\n",
       "      <td>Process monitoring</td>\n",
       "      <td>process creation</td>\n",
       "      <td>process</td>\n",
       "      <td>created</td>\n",
       "      <td>process</td>\n",
       "      <td>1</td>\n",
       "      <td>Process creation</td>\n",
       "      <td>Microsoft-Windows-Sysmon</td>\n",
       "      <td>Microsoft-windows-sysmon/operational</td>\n",
       "      <td>Process Creation</td>\n",
       "      <td>NaN</td>\n",
       "      <td>Windows 7, Windows 2008 R2</td>\n",
       "      <td>N/A</td>\n",
       "      <td>Sysmon64.exe -i /Sysmon64.exe -i -l /Sysmon64....</td>\n",
       "      <td>No auditing</td>\n",
       "      <td>No auditing</td>\n",
       "    </tr>\n",
       "    <tr>\n",
       "      <th>18</th>\n",
       "      <td>Process monitoring</td>\n",
       "      <td>process termination</td>\n",
       "      <td>user</td>\n",
       "      <td>terminated</td>\n",
       "      <td>process</td>\n",
       "      <td>4689</td>\n",
       "      <td>A process has exited</td>\n",
       "      <td>Microsoft-Windows-Security-Auditing</td>\n",
       "      <td>Security</td>\n",
       "      <td>Audit Detailed Tracking</td>\n",
       "      <td>Audit Process Termination</td>\n",
       "      <td>Windows Vista, Windows 2008</td>\n",
       "      <td>Computer Configuration -&gt; Windows Settings -&gt; ...</td>\n",
       "      <td>auditpol.exe /set /subcategory:\"Process Termin...</td>\n",
       "      <td>No auditing</td>\n",
       "      <td>No auditing</td>\n",
       "    </tr>\n",
       "    <tr>\n",
       "      <th>19</th>\n",
       "      <td>Process monitoring</td>\n",
       "      <td>process termination</td>\n",
       "      <td>process</td>\n",
       "      <td>terminated</td>\n",
       "      <td>NaN</td>\n",
       "      <td>5</td>\n",
       "      <td>The process terminate event reports when a pro...</td>\n",
       "      <td>Microsoft-Windows-Sysmon</td>\n",
       "      <td>Microsoft-windows-sysmon/operational</td>\n",
       "      <td>Process Terminiation</td>\n",
       "      <td>NaN</td>\n",
       "      <td>Windows 7, Windows 2008 R2</td>\n",
       "      <td>N/A</td>\n",
       "      <td>Sysmon64.exe -i /Sysmon64.exe -i -l / Sysmon64...</td>\n",
       "      <td>No auditing</td>\n",
       "      <td>No auditing</td>\n",
       "    </tr>\n",
       "    <tr>\n",
       "      <th>20</th>\n",
       "      <td>Process monitoring</td>\n",
       "      <td>process write to process</td>\n",
       "      <td>process</td>\n",
       "      <td>wrote_to</td>\n",
       "      <td>process</td>\n",
       "      <td>8</td>\n",
       "      <td>The CreateRemoteThread event detects when a pr...</td>\n",
       "      <td>Microsoft-Windows-Sysmon</td>\n",
       "      <td>Microsoft-windows-sysmon/operational</td>\n",
       "      <td>Process Right to Process</td>\n",
       "      <td>CreateRemoteThread</td>\n",
       "      <td>Windows 7, Windows 2008 R2</td>\n",
       "      <td>N/A</td>\n",
       "      <td>&lt;CreateRemoteThread onmatch=\"exclude\" /&gt;</td>\n",
       "      <td>No auditing</td>\n",
       "      <td>No auditing</td>\n",
       "    </tr>\n",
       "    <tr>\n",
       "      <th>21</th>\n",
       "      <td>Process monitoring</td>\n",
       "      <td>process access</td>\n",
       "      <td>process</td>\n",
       "      <td>opened</td>\n",
       "      <td>process</td>\n",
       "      <td>10</td>\n",
       "      <td>The process accessed event reports when a proc...</td>\n",
       "      <td>Microsoft-Windows-Sysmon</td>\n",
       "      <td>Microsoft-windows-sysmon/operational</td>\n",
       "      <td>Process Access</td>\n",
       "      <td>Process Opens Another Process</td>\n",
       "      <td>Windows 7, Windows 2008 R2</td>\n",
       "      <td>N/A</td>\n",
       "      <td>&lt;ProcessAccess onmatch=\"exclude\" /&gt;</td>\n",
       "      <td>No auditing</td>\n",
       "      <td>No auditing</td>\n",
       "    </tr>\n",
       "  </tbody>\n",
       "</table>\n",
       "</div>"
      ],
      "text/plain": [
       "           Data Source         Sub - Data Source Data Object Relationship  \\\n",
       "16  Process monitoring          process creation     process      created   \n",
       "17  Process monitoring          process creation     process      created   \n",
       "18  Process monitoring       process termination        user   terminated   \n",
       "19  Process monitoring       process termination     process   terminated   \n",
       "20  Process monitoring  process write to process     process     wrote_to   \n",
       "21  Process monitoring            process access     process       opened   \n",
       "\n",
       "   Data Object.1  Event ID                                        Description  \\\n",
       "16       process      4688                     A new process has been created   \n",
       "17       process         1                                   Process creation   \n",
       "18       process      4689                               A process has exited   \n",
       "19           NaN         5  The process terminate event reports when a pro...   \n",
       "20       process         8  The CreateRemoteThread event detects when a pr...   \n",
       "21       process        10  The process accessed event reports when a proc...   \n",
       "\n",
       "                          Provider Name                         Event Channel  \\\n",
       "16  Microsoft-Windows-Security-Auditing                              Security   \n",
       "17             Microsoft-Windows-Sysmon  Microsoft-windows-sysmon/operational   \n",
       "18  Microsoft-Windows-Security-Auditing                              Security   \n",
       "19             Microsoft-Windows-Sysmon  Microsoft-windows-sysmon/operational   \n",
       "20             Microsoft-Windows-Sysmon  Microsoft-windows-sysmon/operational   \n",
       "21             Microsoft-Windows-Sysmon  Microsoft-windows-sysmon/operational   \n",
       "\n",
       "                Data Category              Data Sub-Category  \\\n",
       "16    Audit Detailed Tracking         Audit Process Creation   \n",
       "17          Process Creation                             NaN   \n",
       "18    Audit Detailed Tracking      Audit Process Termination   \n",
       "19       Process Terminiation                            NaN   \n",
       "20  Process Right to Process              CreateRemoteThread   \n",
       "21             Process Access  Process Opens Another Process   \n",
       "\n",
       "       Minimun Operating System  \\\n",
       "16  Windows Vista, Windows 2008   \n",
       "17   Windows 7, Windows 2008 R2   \n",
       "18  Windows Vista, Windows 2008   \n",
       "19   Windows 7, Windows 2008 R2   \n",
       "20   Windows 7, Windows 2008 R2   \n",
       "21   Windows 7, Windows 2008 R2   \n",
       "\n",
       "                                                  GPO  \\\n",
       "16  Computer Configuration -> Windows Settings -> ...   \n",
       "17                                               N/A    \n",
       "18  Computer Configuration -> Windows Settings -> ...   \n",
       "19                                               N/A    \n",
       "20                                               N/A    \n",
       "21                                               N/A    \n",
       "\n",
       "                                      Enable Commands Client Default  \\\n",
       "16  auditpol.exe /set /subcategory:\"Process Creati...    No auditing   \n",
       "17  Sysmon64.exe -i /Sysmon64.exe -i -l /Sysmon64....    No auditing   \n",
       "18  auditpol.exe /set /subcategory:\"Process Termin...    No auditing   \n",
       "19  Sysmon64.exe -i /Sysmon64.exe -i -l / Sysmon64...    No auditing   \n",
       "20           <CreateRemoteThread onmatch=\"exclude\" />    No auditing   \n",
       "21                <ProcessAccess onmatch=\"exclude\" />    No auditing   \n",
       "\n",
       "   Server Default  \n",
       "16    No auditing  \n",
       "17    No auditing  \n",
       "18    No auditing  \n",
       "19    No auditing  \n",
       "20    No auditing  \n",
       "21    No auditing  "
      ]
     },
     "execution_count": 26,
     "metadata": {},
     "output_type": "execute_result"
    }
   ],
   "source": [
    "attack_data_model.loc[attack_data_model['Data Source'] == 'Process monitoring']"
   ]
  },
  {
   "cell_type": "code",
   "execution_count": 27,
   "metadata": {},
   "outputs": [
    {
     "data": {
      "text/html": [
       "<div>\n",
       "<style scoped>\n",
       "    .dataframe tbody tr th:only-of-type {\n",
       "        vertical-align: middle;\n",
       "    }\n",
       "\n",
       "    .dataframe tbody tr th {\n",
       "        vertical-align: top;\n",
       "    }\n",
       "\n",
       "    .dataframe thead th {\n",
       "        text-align: right;\n",
       "    }\n",
       "</style>\n",
       "<table border=\"1\" class=\"dataframe\">\n",
       "  <thead>\n",
       "    <tr style=\"text-align: right;\">\n",
       "      <th></th>\n",
       "      <th>event_code</th>\n",
       "      <th>title</th>\n",
       "      <th>standard_name</th>\n",
       "      <th>standard_type</th>\n",
       "      <th>name</th>\n",
       "      <th>type</th>\n",
       "      <th>description</th>\n",
       "      <th>sample_value</th>\n",
       "    </tr>\n",
       "  </thead>\n",
       "  <tbody>\n",
       "    <tr>\n",
       "      <th>0</th>\n",
       "      <td>1</td>\n",
       "      <td>Event ID 1: Process creation</td>\n",
       "      <td>tag</td>\n",
       "      <td>TBD</td>\n",
       "      <td>RuleName</td>\n",
       "      <td>string</td>\n",
       "      <td>custom tag mapped to event. i.e ATT&amp;CK techniq...</td>\n",
       "      <td>T1114</td>\n",
       "    </tr>\n",
       "    <tr>\n",
       "      <th>1</th>\n",
       "      <td>1</td>\n",
       "      <td>Event ID 1: Process creation</td>\n",
       "      <td>event_date_creation</td>\n",
       "      <td>TBD</td>\n",
       "      <td>UtcTime</td>\n",
       "      <td>date</td>\n",
       "      <td>Time in UTC when event was created</td>\n",
       "      <td>4/11/18 5:25</td>\n",
       "    </tr>\n",
       "    <tr>\n",
       "      <th>2</th>\n",
       "      <td>1</td>\n",
       "      <td>Event ID 1: Process creation</td>\n",
       "      <td>process_guid</td>\n",
       "      <td>TBD</td>\n",
       "      <td>ProcessGuid</td>\n",
       "      <td>string</td>\n",
       "      <td>Process Guid of the process that got spawned/c...</td>\n",
       "      <td>{A98268C1-9C2E-5ACD-0000-0010396CAB00}</td>\n",
       "    </tr>\n",
       "    <tr>\n",
       "      <th>3</th>\n",
       "      <td>1</td>\n",
       "      <td>Event ID 1: Process creation</td>\n",
       "      <td>process_id</td>\n",
       "      <td>TBD</td>\n",
       "      <td>ProcessId</td>\n",
       "      <td>integer</td>\n",
       "      <td>Process ID used by the os to identify the crea...</td>\n",
       "      <td>4756</td>\n",
       "    </tr>\n",
       "    <tr>\n",
       "      <th>4</th>\n",
       "      <td>1</td>\n",
       "      <td>Event ID 1: Process creation</td>\n",
       "      <td>process_path</td>\n",
       "      <td>TBD</td>\n",
       "      <td>Image</td>\n",
       "      <td>string</td>\n",
       "      <td>File path of the process being spawned/created...</td>\n",
       "      <td>C:\\Windows\\System32\\conhost.exe</td>\n",
       "    </tr>\n",
       "    <tr>\n",
       "      <th>5</th>\n",
       "      <td>1</td>\n",
       "      <td>Event ID 1: Process creation</td>\n",
       "      <td>file_version</td>\n",
       "      <td>TBD</td>\n",
       "      <td>FileVersion</td>\n",
       "      <td>string</td>\n",
       "      <td>Version of the image associated with the main ...</td>\n",
       "      <td>10.0.16299.15 (WinBuild.160101.0800)</td>\n",
       "    </tr>\n",
       "    <tr>\n",
       "      <th>6</th>\n",
       "      <td>1</td>\n",
       "      <td>Event ID 1: Process creation</td>\n",
       "      <td>file_description</td>\n",
       "      <td>TBD</td>\n",
       "      <td>Description</td>\n",
       "      <td>string</td>\n",
       "      <td>Description of the image associated with the m...</td>\n",
       "      <td>Console Window Host</td>\n",
       "    </tr>\n",
       "    <tr>\n",
       "      <th>7</th>\n",
       "      <td>1</td>\n",
       "      <td>Event ID 1: Process creation</td>\n",
       "      <td>file_product</td>\n",
       "      <td>TBD</td>\n",
       "      <td>Product</td>\n",
       "      <td>string</td>\n",
       "      <td>Product name the image associated with the mai...</td>\n",
       "      <td>Microsoft® Windows® Operating System</td>\n",
       "    </tr>\n",
       "    <tr>\n",
       "      <th>8</th>\n",
       "      <td>1</td>\n",
       "      <td>Event ID 1: Process creation</td>\n",
       "      <td>file_company</td>\n",
       "      <td>TBD</td>\n",
       "      <td>Company</td>\n",
       "      <td>string</td>\n",
       "      <td>Company name the image associated with the mai...</td>\n",
       "      <td>Microsoft Corporation</td>\n",
       "    </tr>\n",
       "    <tr>\n",
       "      <th>9</th>\n",
       "      <td>1</td>\n",
       "      <td>Event ID 1: Process creation</td>\n",
       "      <td>file_name_original</td>\n",
       "      <td>TBD</td>\n",
       "      <td>OriginalFileName</td>\n",
       "      <td>string</td>\n",
       "      <td>original file name</td>\n",
       "      <td>wuauclt.exe</td>\n",
       "    </tr>\n",
       "    <tr>\n",
       "      <th>10</th>\n",
       "      <td>1</td>\n",
       "      <td>Event ID 1: Process creation</td>\n",
       "      <td>process_command_line</td>\n",
       "      <td>TBD</td>\n",
       "      <td>CommandLine</td>\n",
       "      <td>string</td>\n",
       "      <td>Arguments which were passed to the executable ...</td>\n",
       "      <td>??\\C:\\WINDOWS\\system32\\conhost.exe 0xffffffff ...</td>\n",
       "    </tr>\n",
       "    <tr>\n",
       "      <th>11</th>\n",
       "      <td>1</td>\n",
       "      <td>Event ID 1: Process creation</td>\n",
       "      <td>file_current_directory</td>\n",
       "      <td>TBD</td>\n",
       "      <td>CurrentDirectory</td>\n",
       "      <td>string</td>\n",
       "      <td>The path without the name of the image associa...</td>\n",
       "      <td>C:\\WINDOWS</td>\n",
       "    </tr>\n",
       "    <tr>\n",
       "      <th>12</th>\n",
       "      <td>1</td>\n",
       "      <td>Event ID 1: Process creation</td>\n",
       "      <td>user_name</td>\n",
       "      <td>TBD</td>\n",
       "      <td>User</td>\n",
       "      <td>string</td>\n",
       "      <td>Name of the account who created the process (c...</td>\n",
       "      <td>DESKTOP-WARDOG\\wardog</td>\n",
       "    </tr>\n",
       "    <tr>\n",
       "      <th>13</th>\n",
       "      <td>1</td>\n",
       "      <td>Event ID 1: Process creation</td>\n",
       "      <td>user_logon_guid</td>\n",
       "      <td>TBD</td>\n",
       "      <td>LogonGuid</td>\n",
       "      <td>string</td>\n",
       "      <td>Logon GUID of the user who created the new pro...</td>\n",
       "      <td>{A98268C1-95F2-5ACD-0000-002019620F00}</td>\n",
       "    </tr>\n",
       "    <tr>\n",
       "      <th>14</th>\n",
       "      <td>1</td>\n",
       "      <td>Event ID 1: Process creation</td>\n",
       "      <td>user_logon_id</td>\n",
       "      <td>TBD</td>\n",
       "      <td>LogonId</td>\n",
       "      <td>integer</td>\n",
       "      <td>Login ID of the user who created the new proce...</td>\n",
       "      <td>0xf6219</td>\n",
       "    </tr>\n",
       "    <tr>\n",
       "      <th>15</th>\n",
       "      <td>1</td>\n",
       "      <td>Event ID 1: Process creation</td>\n",
       "      <td>user_session_id</td>\n",
       "      <td>TBD</td>\n",
       "      <td>TerminalSessionId</td>\n",
       "      <td>integer</td>\n",
       "      <td>ID of the session the user belongs to</td>\n",
       "      <td>1</td>\n",
       "    </tr>\n",
       "    <tr>\n",
       "      <th>16</th>\n",
       "      <td>1</td>\n",
       "      <td>Event ID 1: Process creation</td>\n",
       "      <td>process_integrity_level</td>\n",
       "      <td>TBD</td>\n",
       "      <td>IntegrityLevel</td>\n",
       "      <td>string</td>\n",
       "      <td>Integrity label assigned to a process</td>\n",
       "      <td>Medium</td>\n",
       "    </tr>\n",
       "    <tr>\n",
       "      <th>17</th>\n",
       "      <td>1</td>\n",
       "      <td>Event ID 1: Process creation</td>\n",
       "      <td>TBD</td>\n",
       "      <td>TBD</td>\n",
       "      <td>Hashes</td>\n",
       "      <td>string</td>\n",
       "      <td>Hashes captured by sysmon driver</td>\n",
       "      <td>SHA1=B0BF5AC2E81BBF597FAD5F349FEEB32CAC449FA2,...</td>\n",
       "    </tr>\n",
       "    <tr>\n",
       "      <th>18</th>\n",
       "      <td>1</td>\n",
       "      <td>Event ID 1: Process creation</td>\n",
       "      <td>process_parent_guid</td>\n",
       "      <td>TBD</td>\n",
       "      <td>ParentProcessGuid</td>\n",
       "      <td>string</td>\n",
       "      <td>ProcessGUID of the process that spawned/create...</td>\n",
       "      <td>{A98268C1-9C2E-5ACD-0000-00100266AB00}</td>\n",
       "    </tr>\n",
       "    <tr>\n",
       "      <th>19</th>\n",
       "      <td>1</td>\n",
       "      <td>Event ID 1: Process creation</td>\n",
       "      <td>process_parent_id</td>\n",
       "      <td>TBD</td>\n",
       "      <td>ParentProcessId</td>\n",
       "      <td>integer</td>\n",
       "      <td>Process ID of the process that spawned/created...</td>\n",
       "      <td>240</td>\n",
       "    </tr>\n",
       "    <tr>\n",
       "      <th>20</th>\n",
       "      <td>1</td>\n",
       "      <td>Event ID 1: Process creation</td>\n",
       "      <td>process_parent_path</td>\n",
       "      <td>TBD</td>\n",
       "      <td>ParentImage</td>\n",
       "      <td>string</td>\n",
       "      <td>File path that spawned/created the main process</td>\n",
       "      <td>C:\\Windows\\System32\\cmd.exe</td>\n",
       "    </tr>\n",
       "    <tr>\n",
       "      <th>21</th>\n",
       "      <td>1</td>\n",
       "      <td>Event ID 1: Process creation</td>\n",
       "      <td>process_parent_command_line</td>\n",
       "      <td>TBD</td>\n",
       "      <td>ParentCommandLine</td>\n",
       "      <td>string</td>\n",
       "      <td>Arguments which were passed to the executable ...</td>\n",
       "      <td>C:\\WINDOWS\\system32\\cmd.exe</td>\n",
       "    </tr>\n",
       "  </tbody>\n",
       "</table>\n",
       "</div>"
      ],
      "text/plain": [
       "   event_code                         title                standard_name  \\\n",
       "0           1  Event ID 1: Process creation                          tag   \n",
       "1           1  Event ID 1: Process creation          event_date_creation   \n",
       "2           1  Event ID 1: Process creation                 process_guid   \n",
       "3           1  Event ID 1: Process creation                   process_id   \n",
       "4           1  Event ID 1: Process creation                 process_path   \n",
       "5           1  Event ID 1: Process creation                 file_version   \n",
       "6           1  Event ID 1: Process creation             file_description   \n",
       "7           1  Event ID 1: Process creation                 file_product   \n",
       "8           1  Event ID 1: Process creation                 file_company   \n",
       "9           1  Event ID 1: Process creation           file_name_original   \n",
       "10          1  Event ID 1: Process creation         process_command_line   \n",
       "11          1  Event ID 1: Process creation       file_current_directory   \n",
       "12          1  Event ID 1: Process creation                    user_name   \n",
       "13          1  Event ID 1: Process creation              user_logon_guid   \n",
       "14          1  Event ID 1: Process creation                user_logon_id   \n",
       "15          1  Event ID 1: Process creation              user_session_id   \n",
       "16          1  Event ID 1: Process creation      process_integrity_level   \n",
       "17          1  Event ID 1: Process creation                          TBD   \n",
       "18          1  Event ID 1: Process creation          process_parent_guid   \n",
       "19          1  Event ID 1: Process creation            process_parent_id   \n",
       "20          1  Event ID 1: Process creation          process_parent_path   \n",
       "21          1  Event ID 1: Process creation  process_parent_command_line   \n",
       "\n",
       "   standard_type               name     type  \\\n",
       "0            TBD           RuleName   string   \n",
       "1            TBD            UtcTime     date   \n",
       "2            TBD        ProcessGuid   string   \n",
       "3            TBD          ProcessId  integer   \n",
       "4            TBD              Image   string   \n",
       "5            TBD        FileVersion   string   \n",
       "6            TBD        Description   string   \n",
       "7            TBD            Product   string   \n",
       "8            TBD            Company   string   \n",
       "9            TBD   OriginalFileName   string   \n",
       "10           TBD        CommandLine   string   \n",
       "11           TBD   CurrentDirectory   string   \n",
       "12           TBD               User   string   \n",
       "13           TBD          LogonGuid   string   \n",
       "14           TBD            LogonId  integer   \n",
       "15           TBD  TerminalSessionId  integer   \n",
       "16           TBD     IntegrityLevel   string   \n",
       "17           TBD             Hashes   string   \n",
       "18           TBD  ParentProcessGuid   string   \n",
       "19           TBD    ParentProcessId  integer   \n",
       "20           TBD        ParentImage   string   \n",
       "21           TBD  ParentCommandLine   string   \n",
       "\n",
       "                                          description  \\\n",
       "0   custom tag mapped to event. i.e ATT&CK techniq...   \n",
       "1                  Time in UTC when event was created   \n",
       "2   Process Guid of the process that got spawned/c...   \n",
       "3   Process ID used by the os to identify the crea...   \n",
       "4   File path of the process being spawned/created...   \n",
       "5   Version of the image associated with the main ...   \n",
       "6   Description of the image associated with the m...   \n",
       "7   Product name the image associated with the mai...   \n",
       "8   Company name the image associated with the mai...   \n",
       "9                                  original file name   \n",
       "10  Arguments which were passed to the executable ...   \n",
       "11  The path without the name of the image associa...   \n",
       "12  Name of the account who created the process (c...   \n",
       "13  Logon GUID of the user who created the new pro...   \n",
       "14  Login ID of the user who created the new proce...   \n",
       "15              ID of the session the user belongs to   \n",
       "16              Integrity label assigned to a process   \n",
       "17                   Hashes captured by sysmon driver   \n",
       "18  ProcessGUID of the process that spawned/create...   \n",
       "19  Process ID of the process that spawned/created...   \n",
       "20    File path that spawned/created the main process   \n",
       "21  Arguments which were passed to the executable ...   \n",
       "\n",
       "                                         sample_value  \n",
       "0                                               T1114  \n",
       "1                                        4/11/18 5:25  \n",
       "2              {A98268C1-9C2E-5ACD-0000-0010396CAB00}  \n",
       "3                                                4756  \n",
       "4                     C:\\Windows\\System32\\conhost.exe  \n",
       "5                10.0.16299.15 (WinBuild.160101.0800)  \n",
       "6                                 Console Window Host  \n",
       "7                Microsoft® Windows® Operating System  \n",
       "8                               Microsoft Corporation  \n",
       "9                                         wuauclt.exe  \n",
       "10  ??\\C:\\WINDOWS\\system32\\conhost.exe 0xffffffff ...  \n",
       "11                                         C:\\WINDOWS  \n",
       "12                              DESKTOP-WARDOG\\wardog  \n",
       "13             {A98268C1-95F2-5ACD-0000-002019620F00}  \n",
       "14                                            0xf6219  \n",
       "15                                                  1  \n",
       "16                                             Medium  \n",
       "17  SHA1=B0BF5AC2E81BBF597FAD5F349FEEB32CAC449FA2,...  \n",
       "18             {A98268C1-9C2E-5ACD-0000-00100266AB00}  \n",
       "19                                                240  \n",
       "20                        C:\\Windows\\System32\\cmd.exe  \n",
       "21                        C:\\WINDOWS\\system32\\cmd.exe  "
      ]
     },
     "execution_count": 27,
     "metadata": {},
     "output_type": "execute_result"
    }
   ],
   "source": [
    "ossem.getEventDf(platform = 'windows', provider = 'sysmon', event = 'event-1')"
   ]
  },
  {
   "cell_type": "code",
   "execution_count": null,
   "metadata": {},
   "outputs": [],
   "source": []
  }
 ],
 "metadata": {
  "kernelspec": {
   "display_name": "Python 3",
   "language": "python",
   "name": "python3"
  },
  "language_info": {
   "codemirror_mode": {
    "name": "ipython",
    "version": 3
   },
   "file_extension": ".py",
   "mimetype": "text/x-python",
   "name": "python",
   "nbconvert_exporter": "python",
   "pygments_lexer": "ipython3",
   "version": "3.7.7"
  }
 },
 "nbformat": 4,
 "nbformat_minor": 4
}
