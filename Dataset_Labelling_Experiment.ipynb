{
 "cells": [
  {
   "cell_type": "markdown",
   "metadata": {},
   "source": [
    "# Free Telemetry Notebook"
   ]
  },
  {
   "cell_type": "markdown",
   "metadata": {},
   "source": [
    "\n",
    "|               |    |\n",
    "|:--------------|:---|\n",
    "| Group         | APT29 |\n",
    "| Description   | APT29 is a threat group that has been attributed to the Russian government and has operated since at least 2008. This group reportedly compromised the Democratic National Committee starting in the summer of 2015 |\n",
    "| Author        | [Open Threat Research - APT29 Detection Hackathon](https://github.com/OTRF/detection-hackathon-apt29) |\n",
    "    "
   ]
  },
  {
   "cell_type": "markdown",
   "metadata": {},
   "source": [
    "## Telemetry Detection Category"
   ]
  },
  {
   "cell_type": "code",
   "execution_count": 184,
   "metadata": {},
   "outputs": [],
   "source": [
    "# https://infosecjupyterthon.com/notebooks/2_Jupyterthon_Cyb3rPandaH_2020.html\n",
    "from pyspark.sql import SparkSession\n",
    "from pyspark.sql import DataFrame\n",
    "from pyspark.sql.types import *\n",
    "import pyspark.sql.functions as func\n",
    "from pyspark.sql.functions import length, concat ,concat_ws\n",
    "\n",
    "import pandas as pd, numpy as np, networkx as nx\n",
    "import matplotlib.pyplot as plt\n",
    "import requests\n",
    "from openhunt import ossem, descriptiveStatistics as ds, visualizations as vis\n",
    "import warnings\n",
    "warnings.filterwarnings('ignore')\n",
    "\n",
    "# Import packages\n",
    "import os\n",
    "import seaborn as sns\n",
    "from sklearn.naive_bayes import MultinomialNB\n",
    "from sklearn.metrics import accuracy_score, confusion_matrix\n",
    "%matplotlib inline"
   ]
  },
  {
   "cell_type": "code",
   "execution_count": 185,
   "metadata": {
    "tags": [
     "hide-input"
    ]
   },
   "outputs": [
    {
     "data": {
      "text/html": [
       "\n",
       "    <div class=\"bk-root\">\n",
       "        <a href=\"https://bokeh.org\" target=\"_blank\" class=\"bk-logo bk-logo-small bk-logo-notebook\"></a>\n",
       "        <span id=\"1112\">Loading BokehJS ...</span>\n",
       "    </div>"
      ]
     },
     "metadata": {},
     "output_type": "display_data"
    },
    {
     "data": {
      "application/javascript": [
       "\n",
       "(function(root) {\n",
       "  function now() {\n",
       "    return new Date();\n",
       "  }\n",
       "\n",
       "  var force = true;\n",
       "\n",
       "  if (typeof root._bokeh_onload_callbacks === \"undefined\" || force === true) {\n",
       "    root._bokeh_onload_callbacks = [];\n",
       "    root._bokeh_is_loading = undefined;\n",
       "  }\n",
       "\n",
       "  var JS_MIME_TYPE = 'application/javascript';\n",
       "  var HTML_MIME_TYPE = 'text/html';\n",
       "  var EXEC_MIME_TYPE = 'application/vnd.bokehjs_exec.v0+json';\n",
       "  var CLASS_NAME = 'output_bokeh rendered_html';\n",
       "\n",
       "  /**\n",
       "   * Render data to the DOM node\n",
       "   */\n",
       "  function render(props, node) {\n",
       "    var script = document.createElement(\"script\");\n",
       "    node.appendChild(script);\n",
       "  }\n",
       "\n",
       "  /**\n",
       "   * Handle when an output is cleared or removed\n",
       "   */\n",
       "  function handleClearOutput(event, handle) {\n",
       "    var cell = handle.cell;\n",
       "\n",
       "    var id = cell.output_area._bokeh_element_id;\n",
       "    var server_id = cell.output_area._bokeh_server_id;\n",
       "    // Clean up Bokeh references\n",
       "    if (id != null && id in Bokeh.index) {\n",
       "      Bokeh.index[id].model.document.clear();\n",
       "      delete Bokeh.index[id];\n",
       "    }\n",
       "\n",
       "    if (server_id !== undefined) {\n",
       "      // Clean up Bokeh references\n",
       "      var cmd = \"from bokeh.io.state import curstate; print(curstate().uuid_to_server['\" + server_id + \"'].get_sessions()[0].document.roots[0]._id)\";\n",
       "      cell.notebook.kernel.execute(cmd, {\n",
       "        iopub: {\n",
       "          output: function(msg) {\n",
       "            var id = msg.content.text.trim();\n",
       "            if (id in Bokeh.index) {\n",
       "              Bokeh.index[id].model.document.clear();\n",
       "              delete Bokeh.index[id];\n",
       "            }\n",
       "          }\n",
       "        }\n",
       "      });\n",
       "      // Destroy server and session\n",
       "      var cmd = \"import bokeh.io.notebook as ion; ion.destroy_server('\" + server_id + \"')\";\n",
       "      cell.notebook.kernel.execute(cmd);\n",
       "    }\n",
       "  }\n",
       "\n",
       "  /**\n",
       "   * Handle when a new output is added\n",
       "   */\n",
       "  function handleAddOutput(event, handle) {\n",
       "    var output_area = handle.output_area;\n",
       "    var output = handle.output;\n",
       "\n",
       "    // limit handleAddOutput to display_data with EXEC_MIME_TYPE content only\n",
       "    if ((output.output_type != \"display_data\") || (!output.data.hasOwnProperty(EXEC_MIME_TYPE))) {\n",
       "      return\n",
       "    }\n",
       "\n",
       "    var toinsert = output_area.element.find(\".\" + CLASS_NAME.split(' ')[0]);\n",
       "\n",
       "    if (output.metadata[EXEC_MIME_TYPE][\"id\"] !== undefined) {\n",
       "      toinsert[toinsert.length - 1].firstChild.textContent = output.data[JS_MIME_TYPE];\n",
       "      // store reference to embed id on output_area\n",
       "      output_area._bokeh_element_id = output.metadata[EXEC_MIME_TYPE][\"id\"];\n",
       "    }\n",
       "    if (output.metadata[EXEC_MIME_TYPE][\"server_id\"] !== undefined) {\n",
       "      var bk_div = document.createElement(\"div\");\n",
       "      bk_div.innerHTML = output.data[HTML_MIME_TYPE];\n",
       "      var script_attrs = bk_div.children[0].attributes;\n",
       "      for (var i = 0; i < script_attrs.length; i++) {\n",
       "        toinsert[toinsert.length - 1].firstChild.setAttribute(script_attrs[i].name, script_attrs[i].value);\n",
       "        toinsert[toinsert.length - 1].firstChild.textContent = bk_div.children[0].textContent\n",
       "      }\n",
       "      // store reference to server id on output_area\n",
       "      output_area._bokeh_server_id = output.metadata[EXEC_MIME_TYPE][\"server_id\"];\n",
       "    }\n",
       "  }\n",
       "\n",
       "  function register_renderer(events, OutputArea) {\n",
       "\n",
       "    function append_mime(data, metadata, element) {\n",
       "      // create a DOM node to render to\n",
       "      var toinsert = this.create_output_subarea(\n",
       "        metadata,\n",
       "        CLASS_NAME,\n",
       "        EXEC_MIME_TYPE\n",
       "      );\n",
       "      this.keyboard_manager.register_events(toinsert);\n",
       "      // Render to node\n",
       "      var props = {data: data, metadata: metadata[EXEC_MIME_TYPE]};\n",
       "      render(props, toinsert[toinsert.length - 1]);\n",
       "      element.append(toinsert);\n",
       "      return toinsert\n",
       "    }\n",
       "\n",
       "    /* Handle when an output is cleared or removed */\n",
       "    events.on('clear_output.CodeCell', handleClearOutput);\n",
       "    events.on('delete.Cell', handleClearOutput);\n",
       "\n",
       "    /* Handle when a new output is added */\n",
       "    events.on('output_added.OutputArea', handleAddOutput);\n",
       "\n",
       "    /**\n",
       "     * Register the mime type and append_mime function with output_area\n",
       "     */\n",
       "    OutputArea.prototype.register_mime_type(EXEC_MIME_TYPE, append_mime, {\n",
       "      /* Is output safe? */\n",
       "      safe: true,\n",
       "      /* Index of renderer in `output_area.display_order` */\n",
       "      index: 0\n",
       "    });\n",
       "  }\n",
       "\n",
       "  // register the mime type if in Jupyter Notebook environment and previously unregistered\n",
       "  if (root.Jupyter !== undefined) {\n",
       "    var events = require('base/js/events');\n",
       "    var OutputArea = require('notebook/js/outputarea').OutputArea;\n",
       "\n",
       "    if (OutputArea.prototype.mime_types().indexOf(EXEC_MIME_TYPE) == -1) {\n",
       "      register_renderer(events, OutputArea);\n",
       "    }\n",
       "  }\n",
       "\n",
       "  \n",
       "  if (typeof (root._bokeh_timeout) === \"undefined\" || force === true) {\n",
       "    root._bokeh_timeout = Date.now() + 5000;\n",
       "    root._bokeh_failed_load = false;\n",
       "  }\n",
       "\n",
       "  var NB_LOAD_WARNING = {'data': {'text/html':\n",
       "     \"<div style='background-color: #fdd'>\\n\"+\n",
       "     \"<p>\\n\"+\n",
       "     \"BokehJS does not appear to have successfully loaded. If loading BokehJS from CDN, this \\n\"+\n",
       "     \"may be due to a slow or bad network connection. Possible fixes:\\n\"+\n",
       "     \"</p>\\n\"+\n",
       "     \"<ul>\\n\"+\n",
       "     \"<li>re-rerun `output_notebook()` to attempt to load from CDN again, or</li>\\n\"+\n",
       "     \"<li>use INLINE resources instead, as so:</li>\\n\"+\n",
       "     \"</ul>\\n\"+\n",
       "     \"<code>\\n\"+\n",
       "     \"from bokeh.resources import INLINE\\n\"+\n",
       "     \"output_notebook(resources=INLINE)\\n\"+\n",
       "     \"</code>\\n\"+\n",
       "     \"</div>\"}};\n",
       "\n",
       "  function display_loaded() {\n",
       "    var el = document.getElementById(\"1112\");\n",
       "    if (el != null) {\n",
       "      el.textContent = \"BokehJS is loading...\";\n",
       "    }\n",
       "    if (root.Bokeh !== undefined) {\n",
       "      if (el != null) {\n",
       "        el.textContent = \"BokehJS \" + root.Bokeh.version + \" successfully loaded.\";\n",
       "      }\n",
       "    } else if (Date.now() < root._bokeh_timeout) {\n",
       "      setTimeout(display_loaded, 100)\n",
       "    }\n",
       "  }\n",
       "\n",
       "\n",
       "  function run_callbacks() {\n",
       "    try {\n",
       "      root._bokeh_onload_callbacks.forEach(function(callback) {\n",
       "        if (callback != null)\n",
       "          callback();\n",
       "      });\n",
       "    } finally {\n",
       "      delete root._bokeh_onload_callbacks\n",
       "    }\n",
       "    console.debug(\"Bokeh: all callbacks have finished\");\n",
       "  }\n",
       "\n",
       "  function load_libs(css_urls, js_urls, callback) {\n",
       "    if (css_urls == null) css_urls = [];\n",
       "    if (js_urls == null) js_urls = [];\n",
       "\n",
       "    root._bokeh_onload_callbacks.push(callback);\n",
       "    if (root._bokeh_is_loading > 0) {\n",
       "      console.debug(\"Bokeh: BokehJS is being loaded, scheduling callback at\", now());\n",
       "      return null;\n",
       "    }\n",
       "    if (js_urls == null || js_urls.length === 0) {\n",
       "      run_callbacks();\n",
       "      return null;\n",
       "    }\n",
       "    console.debug(\"Bokeh: BokehJS not loaded, scheduling load and callback at\", now());\n",
       "    root._bokeh_is_loading = css_urls.length + js_urls.length;\n",
       "\n",
       "    function on_load() {\n",
       "      root._bokeh_is_loading--;\n",
       "      if (root._bokeh_is_loading === 0) {\n",
       "        console.debug(\"Bokeh: all BokehJS libraries/stylesheets loaded\");\n",
       "        run_callbacks()\n",
       "      }\n",
       "    }\n",
       "\n",
       "    function on_error() {\n",
       "      console.error(\"failed to load \" + url);\n",
       "    }\n",
       "\n",
       "    for (var i = 0; i < css_urls.length; i++) {\n",
       "      var url = css_urls[i];\n",
       "      const element = document.createElement(\"link\");\n",
       "      element.onload = on_load;\n",
       "      element.onerror = on_error;\n",
       "      element.rel = \"stylesheet\";\n",
       "      element.type = \"text/css\";\n",
       "      element.href = url;\n",
       "      console.debug(\"Bokeh: injecting link tag for BokehJS stylesheet: \", url);\n",
       "      document.body.appendChild(element);\n",
       "    }\n",
       "\n",
       "    const hashes = {\"https://cdn.bokeh.org/bokeh/release/bokeh-2.0.2.min.js\": \"ufR9RFnRs6lniiaFvtJziE0YeidtAgBRH6ux2oUItHw5WTvE1zuk9uzhUU/FJXDp\", \"https://cdn.bokeh.org/bokeh/release/bokeh-widgets-2.0.2.min.js\": \"8QM/PGWBT+IssZuRcDcjzwIh1mkOmJSoNMmyYDZbCfXJg3Ap1lEvdVgFuSAwhb/J\", \"https://cdn.bokeh.org/bokeh/release/bokeh-tables-2.0.2.min.js\": \"Jm8cH3Rg0P6UeZhVY5cLy1WzKajUT9KImCY+76hEqrcJt59/d8GPvFHjCkYgnSIn\", \"https://cdn.bokeh.org/bokeh/release/bokeh-gl-2.0.2.min.js\": \"Ozhzj+SI7ywm74aOI/UajcWz+C0NjsPunEVyVIrxzYkB+jA+2tUw8x5xJCbVtK5I\"};\n",
       "\n",
       "    for (var i = 0; i < js_urls.length; i++) {\n",
       "      var url = js_urls[i];\n",
       "      var element = document.createElement('script');\n",
       "      element.onload = on_load;\n",
       "      element.onerror = on_error;\n",
       "      element.async = false;\n",
       "      element.src = url;\n",
       "      if (url in hashes) {\n",
       "        element.crossOrigin = \"anonymous\";\n",
       "        element.integrity = \"sha384-\" + hashes[url];\n",
       "      }\n",
       "      console.debug(\"Bokeh: injecting script tag for BokehJS library: \", url);\n",
       "      document.head.appendChild(element);\n",
       "    }\n",
       "  };\n",
       "\n",
       "  function inject_raw_css(css) {\n",
       "    const element = document.createElement(\"style\");\n",
       "    element.appendChild(document.createTextNode(css));\n",
       "    document.body.appendChild(element);\n",
       "  }\n",
       "\n",
       "  \n",
       "  var js_urls = [\"https://cdn.bokeh.org/bokeh/release/bokeh-2.0.2.min.js\", \"https://cdn.bokeh.org/bokeh/release/bokeh-widgets-2.0.2.min.js\", \"https://cdn.bokeh.org/bokeh/release/bokeh-tables-2.0.2.min.js\", \"https://cdn.bokeh.org/bokeh/release/bokeh-gl-2.0.2.min.js\"];\n",
       "  var css_urls = [];\n",
       "  \n",
       "\n",
       "  var inline_js = [\n",
       "    function(Bokeh) {\n",
       "      Bokeh.set_log_level(\"info\");\n",
       "    },\n",
       "    function(Bokeh) {\n",
       "    \n",
       "    \n",
       "    }\n",
       "  ];\n",
       "\n",
       "  function run_inline_js() {\n",
       "    \n",
       "    if (root.Bokeh !== undefined || force === true) {\n",
       "      \n",
       "    for (var i = 0; i < inline_js.length; i++) {\n",
       "      inline_js[i].call(root, root.Bokeh);\n",
       "    }\n",
       "    if (force === true) {\n",
       "        display_loaded();\n",
       "      }} else if (Date.now() < root._bokeh_timeout) {\n",
       "      setTimeout(run_inline_js, 100);\n",
       "    } else if (!root._bokeh_failed_load) {\n",
       "      console.log(\"Bokeh: BokehJS failed to load within specified timeout.\");\n",
       "      root._bokeh_failed_load = true;\n",
       "    } else if (force !== true) {\n",
       "      var cell = $(document.getElementById(\"1112\")).parents('.cell').data().cell;\n",
       "      cell.output_area.append_execute_result(NB_LOAD_WARNING)\n",
       "    }\n",
       "\n",
       "  }\n",
       "\n",
       "  if (root._bokeh_is_loading === 0) {\n",
       "    console.debug(\"Bokeh: BokehJS loaded, going straight to plotting\");\n",
       "    run_inline_js();\n",
       "  } else {\n",
       "    load_libs(css_urls, js_urls, function() {\n",
       "      console.debug(\"Bokeh: BokehJS plotting callback run at\", now());\n",
       "      run_inline_js();\n",
       "    });\n",
       "  }\n",
       "}(window));"
      ],
      "application/vnd.bokehjs_load.v0+json": "\n(function(root) {\n  function now() {\n    return new Date();\n  }\n\n  var force = true;\n\n  if (typeof root._bokeh_onload_callbacks === \"undefined\" || force === true) {\n    root._bokeh_onload_callbacks = [];\n    root._bokeh_is_loading = undefined;\n  }\n\n  \n\n  \n  if (typeof (root._bokeh_timeout) === \"undefined\" || force === true) {\n    root._bokeh_timeout = Date.now() + 5000;\n    root._bokeh_failed_load = false;\n  }\n\n  var NB_LOAD_WARNING = {'data': {'text/html':\n     \"<div style='background-color: #fdd'>\\n\"+\n     \"<p>\\n\"+\n     \"BokehJS does not appear to have successfully loaded. If loading BokehJS from CDN, this \\n\"+\n     \"may be due to a slow or bad network connection. Possible fixes:\\n\"+\n     \"</p>\\n\"+\n     \"<ul>\\n\"+\n     \"<li>re-rerun `output_notebook()` to attempt to load from CDN again, or</li>\\n\"+\n     \"<li>use INLINE resources instead, as so:</li>\\n\"+\n     \"</ul>\\n\"+\n     \"<code>\\n\"+\n     \"from bokeh.resources import INLINE\\n\"+\n     \"output_notebook(resources=INLINE)\\n\"+\n     \"</code>\\n\"+\n     \"</div>\"}};\n\n  function display_loaded() {\n    var el = document.getElementById(\"1112\");\n    if (el != null) {\n      el.textContent = \"BokehJS is loading...\";\n    }\n    if (root.Bokeh !== undefined) {\n      if (el != null) {\n        el.textContent = \"BokehJS \" + root.Bokeh.version + \" successfully loaded.\";\n      }\n    } else if (Date.now() < root._bokeh_timeout) {\n      setTimeout(display_loaded, 100)\n    }\n  }\n\n\n  function run_callbacks() {\n    try {\n      root._bokeh_onload_callbacks.forEach(function(callback) {\n        if (callback != null)\n          callback();\n      });\n    } finally {\n      delete root._bokeh_onload_callbacks\n    }\n    console.debug(\"Bokeh: all callbacks have finished\");\n  }\n\n  function load_libs(css_urls, js_urls, callback) {\n    if (css_urls == null) css_urls = [];\n    if (js_urls == null) js_urls = [];\n\n    root._bokeh_onload_callbacks.push(callback);\n    if (root._bokeh_is_loading > 0) {\n      console.debug(\"Bokeh: BokehJS is being loaded, scheduling callback at\", now());\n      return null;\n    }\n    if (js_urls == null || js_urls.length === 0) {\n      run_callbacks();\n      return null;\n    }\n    console.debug(\"Bokeh: BokehJS not loaded, scheduling load and callback at\", now());\n    root._bokeh_is_loading = css_urls.length + js_urls.length;\n\n    function on_load() {\n      root._bokeh_is_loading--;\n      if (root._bokeh_is_loading === 0) {\n        console.debug(\"Bokeh: all BokehJS libraries/stylesheets loaded\");\n        run_callbacks()\n      }\n    }\n\n    function on_error() {\n      console.error(\"failed to load \" + url);\n    }\n\n    for (var i = 0; i < css_urls.length; i++) {\n      var url = css_urls[i];\n      const element = document.createElement(\"link\");\n      element.onload = on_load;\n      element.onerror = on_error;\n      element.rel = \"stylesheet\";\n      element.type = \"text/css\";\n      element.href = url;\n      console.debug(\"Bokeh: injecting link tag for BokehJS stylesheet: \", url);\n      document.body.appendChild(element);\n    }\n\n    const hashes = {\"https://cdn.bokeh.org/bokeh/release/bokeh-2.0.2.min.js\": \"ufR9RFnRs6lniiaFvtJziE0YeidtAgBRH6ux2oUItHw5WTvE1zuk9uzhUU/FJXDp\", \"https://cdn.bokeh.org/bokeh/release/bokeh-widgets-2.0.2.min.js\": \"8QM/PGWBT+IssZuRcDcjzwIh1mkOmJSoNMmyYDZbCfXJg3Ap1lEvdVgFuSAwhb/J\", \"https://cdn.bokeh.org/bokeh/release/bokeh-tables-2.0.2.min.js\": \"Jm8cH3Rg0P6UeZhVY5cLy1WzKajUT9KImCY+76hEqrcJt59/d8GPvFHjCkYgnSIn\", \"https://cdn.bokeh.org/bokeh/release/bokeh-gl-2.0.2.min.js\": \"Ozhzj+SI7ywm74aOI/UajcWz+C0NjsPunEVyVIrxzYkB+jA+2tUw8x5xJCbVtK5I\"};\n\n    for (var i = 0; i < js_urls.length; i++) {\n      var url = js_urls[i];\n      var element = document.createElement('script');\n      element.onload = on_load;\n      element.onerror = on_error;\n      element.async = false;\n      element.src = url;\n      if (url in hashes) {\n        element.crossOrigin = \"anonymous\";\n        element.integrity = \"sha384-\" + hashes[url];\n      }\n      console.debug(\"Bokeh: injecting script tag for BokehJS library: \", url);\n      document.head.appendChild(element);\n    }\n  };\n\n  function inject_raw_css(css) {\n    const element = document.createElement(\"style\");\n    element.appendChild(document.createTextNode(css));\n    document.body.appendChild(element);\n  }\n\n  \n  var js_urls = [\"https://cdn.bokeh.org/bokeh/release/bokeh-2.0.2.min.js\", \"https://cdn.bokeh.org/bokeh/release/bokeh-widgets-2.0.2.min.js\", \"https://cdn.bokeh.org/bokeh/release/bokeh-tables-2.0.2.min.js\", \"https://cdn.bokeh.org/bokeh/release/bokeh-gl-2.0.2.min.js\"];\n  var css_urls = [];\n  \n\n  var inline_js = [\n    function(Bokeh) {\n      Bokeh.set_log_level(\"info\");\n    },\n    function(Bokeh) {\n    \n    \n    }\n  ];\n\n  function run_inline_js() {\n    \n    if (root.Bokeh !== undefined || force === true) {\n      \n    for (var i = 0; i < inline_js.length; i++) {\n      inline_js[i].call(root, root.Bokeh);\n    }\n    if (force === true) {\n        display_loaded();\n      }} else if (Date.now() < root._bokeh_timeout) {\n      setTimeout(run_inline_js, 100);\n    } else if (!root._bokeh_failed_load) {\n      console.log(\"Bokeh: BokehJS failed to load within specified timeout.\");\n      root._bokeh_failed_load = true;\n    } else if (force !== true) {\n      var cell = $(document.getElementById(\"1112\")).parents('.cell').data().cell;\n      cell.output_area.append_execute_result(NB_LOAD_WARNING)\n    }\n\n  }\n\n  if (root._bokeh_is_loading === 0) {\n    console.debug(\"Bokeh: BokehJS loaded, going straight to plotting\");\n    run_inline_js();\n  } else {\n    load_libs(css_urls, js_urls, function() {\n      console.debug(\"Bokeh: BokehJS plotting callback run at\", now());\n      run_inline_js();\n    });\n  }\n}(window));"
     },
     "metadata": {},
     "output_type": "display_data"
    },
    {
     "data": {
      "text/html": [
       "\n",
       "\n",
       "\n",
       "\n",
       "\n",
       "\n",
       "  <div class=\"bk-root\" id=\"c8b57c05-d225-47ac-8476-108f0f62f382\" data-root-id=\"1115\"></div>\n"
      ]
     },
     "metadata": {},
     "output_type": "display_data"
    },
    {
     "data": {
      "application/javascript": [
       "(function(root) {\n",
       "  function embed_document(root) {\n",
       "    \n",
       "  var docs_json = {\"e1d007b6-9f33-45dc-98dd-c407e6c7e202\":{\"roots\":{\"references\":[{\"attributes\":{\"below\":[{\"id\":\"1124\"}],\"center\":[{\"id\":\"1126\"},{\"id\":\"1130\"},{\"id\":\"1145\"},{\"id\":\"1165\"}],\"left\":[{\"id\":\"1127\"}],\"plot_height\":550,\"renderers\":[{\"id\":\"1137\"},{\"id\":\"1151\"}],\"title\":{\"id\":\"1139\"},\"toolbar\":{\"id\":\"1131\"},\"x_range\":{\"id\":\"1116\"},\"x_scale\":{\"id\":\"1120\"},\"y_range\":{\"id\":\"1118\"},\"y_scale\":{\"id\":\"1122\"}},\"id\":\"1115\",\"subtype\":\"Figure\",\"type\":\"Plot\"},{\"attributes\":{\"source\":{\"id\":\"1113\"}},\"id\":\"1138\",\"type\":\"CDSView\"},{\"attributes\":{\"data_source\":{\"id\":\"1113\"},\"glyph\":{\"id\":\"1149\"},\"hover_glyph\":null,\"muted_glyph\":null,\"name\":\"needHover\",\"nonselection_glyph\":{\"id\":\"1150\"},\"selection_glyph\":null,\"view\":{\"id\":\"1152\"}},\"id\":\"1151\",\"type\":\"GlyphRenderer\"},{\"attributes\":{\"fill_alpha\":{\"value\":0.1},\"fill_color\":{\"value\":\"#c9d9d3\"},\"line_alpha\":{\"value\":0.1},\"line_color\":{\"value\":\"#c9d9d3\"},\"top\":{\"field\":\"sub-Steps\"},\"width\":{\"value\":0.7},\"x\":{\"field\":\"stepname\",\"transform\":{\"id\":\"1133\"}}},\"id\":\"1136\",\"type\":\"VBar\"},{\"attributes\":{\"label\":{\"value\":\"Total\"},\"renderers\":[{\"id\":\"1137\"}]},\"id\":\"1146\",\"type\":\"LegendItem\"},{\"attributes\":{\"axis\":{\"id\":\"1124\"},\"ticker\":null},\"id\":\"1126\",\"type\":\"Grid\"},{\"attributes\":{\"align\":\"center\",\"text\":\"Telemetry Detection Category (Average Coverage: 82%)\",\"text_font_size\":{\"value\":\"12pt\"}},\"id\":\"1139\",\"type\":\"Title\"},{\"attributes\":{\"fill_alpha\":{\"value\":0.1},\"fill_color\":{\"value\":\"#718dbf\"},\"line_alpha\":{\"value\":0.1},\"line_color\":{\"value\":\"#718dbf\"},\"top\":{\"field\":\"covered\"},\"width\":{\"value\":0.7},\"x\":{\"field\":\"stepname\",\"transform\":{\"id\":\"1147\"}}},\"id\":\"1150\",\"type\":\"VBar\"},{\"attributes\":{\"callback\":null,\"names\":[\"needHover\"],\"tooltips\":[[\"Covered\",\"@covered\"],[\"Percentage\",\"@percentage\"]]},\"id\":\"1114\",\"type\":\"HoverTool\"},{\"attributes\":{},\"id\":\"1128\",\"type\":\"BasicTicker\"},{\"attributes\":{\"axis_label\":\"Count of Sub-Steps\",\"formatter\":{\"id\":\"1144\"},\"ticker\":{\"id\":\"1128\"}},\"id\":\"1127\",\"type\":\"LinearAxis\"},{\"attributes\":{\"label\":{\"value\":\"Covered\"},\"renderers\":[{\"id\":\"1151\"}]},\"id\":\"1161\",\"type\":\"LegendItem\"},{\"attributes\":{\"range\":{\"id\":\"1116\"}},\"id\":\"1133\",\"type\":\"Dodge\"},{\"attributes\":{},\"id\":\"1144\",\"type\":\"BasicTickFormatter\"},{\"attributes\":{\"border_line_alpha\":0.3,\"border_line_color\":\"black\",\"border_line_width\":3,\"items\":[{\"id\":\"1146\"},{\"id\":\"1161\"}]},\"id\":\"1145\",\"type\":\"Legend\"},{\"attributes\":{\"data_source\":{\"id\":\"1113\"},\"glyph\":{\"id\":\"1135\"},\"hover_glyph\":null,\"muted_glyph\":null,\"nonselection_glyph\":{\"id\":\"1136\"},\"selection_glyph\":null,\"view\":{\"id\":\"1138\"}},\"id\":\"1137\",\"type\":\"GlyphRenderer\"},{\"attributes\":{\"level\":\"glyph\",\"source\":{\"id\":\"1113\"},\"text\":{\"field\":\"sub-Steps\"},\"text_align\":\"center\",\"x\":{\"field\":\"stepname\"},\"y\":{\"field\":\"sub-Steps\"}},\"id\":\"1165\",\"type\":\"LabelSet\"},{\"attributes\":{\"source\":{\"id\":\"1113\"}},\"id\":\"1152\",\"type\":\"CDSView\"},{\"attributes\":{},\"id\":\"1160\",\"type\":\"UnionRenderers\"},{\"attributes\":{\"range\":{\"id\":\"1116\"}},\"id\":\"1147\",\"type\":\"Dodge\"},{\"attributes\":{\"data\":{\"covered\":[5,4,6,19,2,3,6,7,12,1],\"percentage\":[\"83%\",\"67%\",\"75%\",\"100%\",\"100%\",\"60%\",\"86%\",\"88%\",\"86%\",\"25%\"],\"stepname\":[\"1:Initial Compromise\",\"2:Collection & Exfiltration\",\"3:Deploy Stealth Toolkit\",\"4:Clean Up\",\"5:Establish Persistence\",\"6:Credential Access\",\"7:Collection & Exfiltration\",\"8:Expand Access\",\"9:Clean Up, Collection and Exfiltration\",\"10:Persistence Execution\"],\"sub-Steps\":[6,6,8,19,2,5,7,8,14,4]},\"selected\":{\"id\":\"1159\"},\"selection_policy\":{\"id\":\"1160\"}},\"id\":\"1113\",\"type\":\"ColumnDataSource\"},{\"attributes\":{\"axis\":{\"id\":\"1127\"},\"dimension\":1,\"ticker\":null},\"id\":\"1130\",\"type\":\"Grid\"},{\"attributes\":{\"active_drag\":\"auto\",\"active_inspect\":\"auto\",\"active_multi\":null,\"active_scroll\":\"auto\",\"active_tap\":\"auto\",\"tools\":[{\"id\":\"1114\"}]},\"id\":\"1131\",\"type\":\"Toolbar\"},{\"attributes\":{\"fill_color\":{\"value\":\"#718dbf\"},\"line_color\":{\"value\":\"#718dbf\"},\"top\":{\"field\":\"covered\"},\"width\":{\"value\":0.7},\"x\":{\"field\":\"stepname\",\"transform\":{\"id\":\"1147\"}}},\"id\":\"1149\",\"type\":\"VBar\"},{\"attributes\":{\"factors\":[\"1:Initial Compromise\",\"2:Collection & Exfiltration\",\"3:Deploy Stealth Toolkit\",\"4:Clean Up\",\"5:Establish Persistence\",\"6:Credential Access\",\"7:Collection & Exfiltration\",\"8:Expand Access\",\"9:Clean Up, Collection and Exfiltration\",\"10:Persistence Execution\"]},\"id\":\"1116\",\"type\":\"FactorRange\"},{\"attributes\":{\"axis_label\":\"Emulation Steps\",\"formatter\":{\"id\":\"1142\"},\"major_label_orientation\":45,\"ticker\":{\"id\":\"1125\"}},\"id\":\"1124\",\"type\":\"CategoricalAxis\"},{\"attributes\":{\"end\":23},\"id\":\"1118\",\"type\":\"Range1d\"},{\"attributes\":{\"fill_color\":{\"value\":\"#c9d9d3\"},\"line_color\":{\"value\":\"#c9d9d3\"},\"top\":{\"field\":\"sub-Steps\"},\"width\":{\"value\":0.7},\"x\":{\"field\":\"stepname\",\"transform\":{\"id\":\"1133\"}}},\"id\":\"1135\",\"type\":\"VBar\"},{\"attributes\":{},\"id\":\"1120\",\"type\":\"CategoricalScale\"},{\"attributes\":{},\"id\":\"1125\",\"type\":\"CategoricalTicker\"},{\"attributes\":{},\"id\":\"1159\",\"type\":\"Selection\"},{\"attributes\":{},\"id\":\"1122\",\"type\":\"LinearScale\"},{\"attributes\":{},\"id\":\"1142\",\"type\":\"CategoricalTickFormatter\"}],\"root_ids\":[\"1115\"]},\"title\":\"Bokeh Application\",\"version\":\"2.0.2\"}};\n",
       "  var render_items = [{\"docid\":\"e1d007b6-9f33-45dc-98dd-c407e6c7e202\",\"root_ids\":[\"1115\"],\"roots\":{\"1115\":\"c8b57c05-d225-47ac-8476-108f0f62f382\"}}];\n",
       "  root.Bokeh.embed.embed_items_notebook(docs_json, render_items);\n",
       "\n",
       "  }\n",
       "  if (root.Bokeh !== undefined) {\n",
       "    embed_document(root);\n",
       "  } else {\n",
       "    var attempts = 0;\n",
       "    var timer = setInterval(function(root) {\n",
       "      if (root.Bokeh !== undefined) {\n",
       "        clearInterval(timer);\n",
       "        embed_document(root);\n",
       "      } else {\n",
       "        attempts++;\n",
       "        if (attempts > 100) {\n",
       "          clearInterval(timer);\n",
       "          console.log(\"Bokeh: ERROR: Unable to run BokehJS code because BokehJS library is missing\");\n",
       "        }\n",
       "      }\n",
       "    }, 10, root)\n",
       "  }\n",
       "})(window);"
      ],
      "application/vnd.bokehjs_exec.v0+json": ""
     },
     "metadata": {
      "application/vnd.bokehjs_exec.v0+json": {
       "id": "1115"
      }
     },
     "output_type": "display_data"
    }
   ],
   "source": [
    "# Importing Libraries\n",
    "from bokeh.io import show\n",
    "from bokeh.plotting import figure\n",
    "from bokeh.models import ColumnDataSource, LabelSet, HoverTool\n",
    "from bokeh.transform import dodge\n",
    "import pandas as pd\n",
    "\n",
    "# You need to run this code at the beginning in order to show visualization using Jupyter Notebooks\n",
    "from bokeh.io import output_notebook\n",
    "output_notebook()\n",
    "apt29= pd.read_json('https://raw.githubusercontent.com/hunters-forge/ThreatHunter-Playbook/master/docs/evals/apt29/data/otr_results.json')\n",
    "summary = (\n",
    "    apt29\n",
    "    .groupby(['step','stepname']).agg(total=pd.NamedAgg(column=\"substep\", aggfunc=\"nunique\"))\n",
    "    .join(\n",
    "        apt29[apt29['detectiontype'] == 'Telemetry']\n",
    "        .groupby(['step','stepname']).agg(telemetry=pd.NamedAgg(column=\"vendor\", aggfunc=\"count\"))\n",
    "    )\n",
    ").reset_index()\n",
    "summary['percentage'] = (summary['telemetry'] / summary['total']).map(\"{:.0%}\".format)\n",
    "# Get Total Average Telemetry coverage\n",
    "total_avg_percentage = '{0:.0f}'.format((summary['telemetry'].sum() / summary['total'].sum() * 100))\n",
    "\n",
    "# Lists of values to create ColumnDataSource\n",
    "stepname = summary['stepname'].tolist()\n",
    "total = summary['total'].tolist()\n",
    "telemetry = summary['telemetry'].tolist()\n",
    "percentage = summary['percentage'].tolist()\n",
    "\n",
    "# Creating ColumnDataSource object: source of data for visualization\n",
    "source = ColumnDataSource(data={'stepname':stepname,'sub-Steps':total,'covered':telemetry,'percentage':percentage})\n",
    "\n",
    "# Defining HoverTool object (Display info with Mouse): It is applied to chart named 'needHover'\n",
    "hover_tool = HoverTool(names = ['needHover'],tooltips = [(\"Covered\", \"@covered\"),(\"Percentage\", \"@percentage\")])\n",
    "\n",
    "# Creating Figure\n",
    "p = figure(x_range=stepname,y_range=(0,23),plot_height=550,plot_width=600,toolbar_location='right',tools=[hover_tool])\n",
    "\n",
    "# Creating Vertical Bar Charts\n",
    "p.vbar(x=dodge('stepname',0.0,range=p.x_range),top='sub-Steps',width=0.7,source=source,color=\"#c9d9d3\",legend_label=\"Total\")\n",
    "p.vbar(x=dodge('stepname',0.0, range=p.x_range),top='covered',width=0.7,source=source,color=\"#718dbf\",legend_label=\"Covered\", name = 'needHover')\n",
    "\n",
    "# Adding Legend\n",
    "p.legend.location = \"top_right\"\n",
    "p.legend.orientation = \"vertical\"\n",
    "p.legend.border_line_width = 3\n",
    "p.legend.border_line_color = \"black\"\n",
    "p.legend.border_line_alpha = 0.3\n",
    "\n",
    "# Adding Title\n",
    "p.title.text = 'Telemetry Detection Category (Average Coverage: {}%)'.format(total_avg_percentage)\n",
    "p.title.align = 'center'\n",
    "p.title.text_font_size = '12pt'\n",
    "\n",
    "# Adding Axis Labels\n",
    "p.xaxis.axis_label = 'Emulation Steps'\n",
    "p.xaxis.major_label_orientation = 45\n",
    "\n",
    "p.yaxis.axis_label = 'Count of Sub-Steps'\n",
    "\n",
    "# Adding Data Label: Only for total of sub-steps\n",
    "total_label = LabelSet(x='stepname',y='sub-Steps',text='sub-Steps',text_align='center',level='glyph',source= source)\n",
    "p.add_layout(total_label)\n",
    "\n",
    "#Showing visualization\n",
    "show(p)"
   ]
  },
  {
   "cell_type": "markdown",
   "metadata": {},
   "source": [
    "## Import Libraries"
   ]
  },
  {
   "cell_type": "code",
   "execution_count": 186,
   "metadata": {},
   "outputs": [],
   "source": [
    "from pyspark.sql import SparkSession"
   ]
  },
  {
   "cell_type": "markdown",
   "metadata": {},
   "source": [
    "## Start Spark Session"
   ]
  },
  {
   "cell_type": "code",
   "execution_count": 187,
   "metadata": {},
   "outputs": [],
   "source": [
    "spark = SparkSession.builder.getOrCreate()\n",
    "spark.conf.set(\"spark.sql.caseSensitive\", \"true\")"
   ]
  },
  {
   "cell_type": "code",
   "execution_count": 188,
   "metadata": {},
   "outputs": [],
   "source": [
    "spark.sparkContext.setCheckpointDir(\"./tmp/checkpoints\")"
   ]
  },
  {
   "cell_type": "markdown",
   "metadata": {},
   "source": [
    "## Decompress Dataset"
   ]
  },
  {
   "cell_type": "code",
   "execution_count": 189,
   "metadata": {},
   "outputs": [],
   "source": [
    "#!wget https://github.com/hunters-forge/mordor/raw/master/datasets/large/apt29/day1/apt29_evals_day1_manual.zip"
   ]
  },
  {
   "cell_type": "code",
   "execution_count": 190,
   "metadata": {},
   "outputs": [],
   "source": [
    "#!unzip apt29_evals_day1_manual.zip"
   ]
  },
  {
   "cell_type": "markdown",
   "metadata": {},
   "source": [
    "## Import Datasets"
   ]
  },
  {
   "cell_type": "code",
   "execution_count": 466,
   "metadata": {},
   "outputs": [],
   "source": [
    "def apply_label(master_df, match_df, match_column, match_label):\n",
    "    \"\"\"\n",
    "    Append technique description to TP_Label field where match_column is equal in the master_df\n",
    "    \"\"\"\n",
    "    if not 'TP_Label' in master_df.columns:\n",
    "        master_df = master_df.withColumn('TP_Label', func.lit('0'))\n",
    "\n",
    "    master_df = master_df.join(match_df, master_df[match_column] == match_df[match_column], how='left').withColumn(\"TP_Label\",\n",
    "      func.when((master_df[match_column]==match_df[match_column]), \n",
    "                func.concat(master_df[\"TP_Label\"], func.lit(\", \"), func.lit(match_label))).otherwise(master_df[\"TP_Label\"])).drop(match_df[match_column])\n",
    "    \n",
    "    #master_df = master_df.checkpoint()\n",
    "    \n",
    "    #print('Number of records with label {}: {}'.format('\"' + match_label + '\"', (master_df.where(master_df[\"TP_Label\"].like(\"%\" + match_label)).count())))\n",
    "    print((master_df.where(master_df[\"TP_Label\"].like(\"%\" + match_label))).select(\"EventID\", \"TP_Label\").show(100,truncate = False, vertical = True))\n",
    "    return master_df"
   ]
  },
  {
   "cell_type": "code",
   "execution_count": 467,
   "metadata": {},
   "outputs": [],
   "source": [
    "df_day1_host = spark.read.json('apt29_evals_day1_manual_2020-05-01225525.json')"
   ]
  },
  {
   "cell_type": "markdown",
   "metadata": {},
   "source": [
    "## Create Temporary SQL View"
   ]
  },
  {
   "cell_type": "code",
   "execution_count": 468,
   "metadata": {
    "collapsed": true,
    "jupyter": {
     "outputs_hidden": true
    }
   },
   "outputs": [
    {
     "ename": "AnalysisException",
     "evalue": "\"Temporary view 'apt29Host' already exists;\"",
     "output_type": "error",
     "traceback": [
      "\u001b[0;31m---------------------------------------------------------------------------\u001b[0m",
      "\u001b[0;31mPy4JJavaError\u001b[0m                             Traceback (most recent call last)",
      "\u001b[0;32m~/miniconda3/envs/py3msc/lib/python3.7/site-packages/pyspark/sql/utils.py\u001b[0m in \u001b[0;36mdeco\u001b[0;34m(*a, **kw)\u001b[0m\n\u001b[1;32m     62\u001b[0m         \u001b[0;32mtry\u001b[0m\u001b[0;34m:\u001b[0m\u001b[0;34m\u001b[0m\u001b[0;34m\u001b[0m\u001b[0m\n\u001b[0;32m---> 63\u001b[0;31m             \u001b[0;32mreturn\u001b[0m \u001b[0mf\u001b[0m\u001b[0;34m(\u001b[0m\u001b[0;34m*\u001b[0m\u001b[0ma\u001b[0m\u001b[0;34m,\u001b[0m \u001b[0;34m**\u001b[0m\u001b[0mkw\u001b[0m\u001b[0;34m)\u001b[0m\u001b[0;34m\u001b[0m\u001b[0;34m\u001b[0m\u001b[0m\n\u001b[0m\u001b[1;32m     64\u001b[0m         \u001b[0;32mexcept\u001b[0m \u001b[0mpy4j\u001b[0m\u001b[0;34m.\u001b[0m\u001b[0mprotocol\u001b[0m\u001b[0;34m.\u001b[0m\u001b[0mPy4JJavaError\u001b[0m \u001b[0;32mas\u001b[0m \u001b[0me\u001b[0m\u001b[0;34m:\u001b[0m\u001b[0;34m\u001b[0m\u001b[0;34m\u001b[0m\u001b[0m\n",
      "\u001b[0;32m~/miniconda3/envs/py3msc/lib/python3.7/site-packages/py4j/protocol.py\u001b[0m in \u001b[0;36mget_return_value\u001b[0;34m(answer, gateway_client, target_id, name)\u001b[0m\n\u001b[1;32m    327\u001b[0m                     \u001b[0;34m\"An error occurred while calling {0}{1}{2}.\\n\"\u001b[0m\u001b[0;34m.\u001b[0m\u001b[0;34m\u001b[0m\u001b[0;34m\u001b[0m\u001b[0m\n\u001b[0;32m--> 328\u001b[0;31m                     format(target_id, \".\", name), value)\n\u001b[0m\u001b[1;32m    329\u001b[0m             \u001b[0;32melse\u001b[0m\u001b[0;34m:\u001b[0m\u001b[0;34m\u001b[0m\u001b[0;34m\u001b[0m\u001b[0m\n",
      "\u001b[0;31mPy4JJavaError\u001b[0m: An error occurred while calling o6980.createTempView.\n: org.apache.spark.sql.catalyst.analysis.TempTableAlreadyExistsException: Temporary view 'apt29Host' already exists;\n\tat org.apache.spark.sql.catalyst.catalog.SessionCatalog.createTempView(SessionCatalog.scala:495)\n\tat org.apache.spark.sql.execution.command.CreateViewCommand.run(views.scala:146)\n\tat org.apache.spark.sql.execution.command.ExecutedCommandExec.sideEffectResult$lzycompute(commands.scala:70)\n\tat org.apache.spark.sql.execution.command.ExecutedCommandExec.sideEffectResult(commands.scala:68)\n\tat org.apache.spark.sql.execution.command.ExecutedCommandExec.executeCollect(commands.scala:79)\n\tat org.apache.spark.sql.Dataset$$anonfun$6.apply(Dataset.scala:194)\n\tat org.apache.spark.sql.Dataset$$anonfun$6.apply(Dataset.scala:194)\n\tat org.apache.spark.sql.Dataset$$anonfun$52.apply(Dataset.scala:3370)\n\tat org.apache.spark.sql.execution.SQLExecution$$anonfun$withNewExecutionId$1.apply(SQLExecution.scala:80)\n\tat org.apache.spark.sql.execution.SQLExecution$.withSQLConfPropagated(SQLExecution.scala:127)\n\tat org.apache.spark.sql.execution.SQLExecution$.withNewExecutionId(SQLExecution.scala:75)\n\tat org.apache.spark.sql.Dataset.withAction(Dataset.scala:3369)\n\tat org.apache.spark.sql.Dataset.<init>(Dataset.scala:194)\n\tat org.apache.spark.sql.Dataset$.ofRows(Dataset.scala:79)\n\tat org.apache.spark.sql.Dataset.org$apache$spark$sql$Dataset$$withPlan(Dataset.scala:3412)\n\tat org.apache.spark.sql.Dataset.createTempView(Dataset.scala:3088)\n\tat sun.reflect.NativeMethodAccessorImpl.invoke0(Native Method)\n\tat sun.reflect.NativeMethodAccessorImpl.invoke(NativeMethodAccessorImpl.java:62)\n\tat sun.reflect.DelegatingMethodAccessorImpl.invoke(DelegatingMethodAccessorImpl.java:43)\n\tat java.lang.reflect.Method.invoke(Method.java:498)\n\tat py4j.reflection.MethodInvoker.invoke(MethodInvoker.java:244)\n\tat py4j.reflection.ReflectionEngine.invoke(ReflectionEngine.java:357)\n\tat py4j.Gateway.invoke(Gateway.java:282)\n\tat py4j.commands.AbstractCommand.invokeMethod(AbstractCommand.java:132)\n\tat py4j.commands.CallCommand.execute(CallCommand.java:79)\n\tat py4j.GatewayConnection.run(GatewayConnection.java:238)\n\tat java.lang.Thread.run(Thread.java:745)\n",
      "\nDuring handling of the above exception, another exception occurred:\n",
      "\u001b[0;31mAnalysisException\u001b[0m                         Traceback (most recent call last)",
      "\u001b[0;32m<ipython-input-468-dbede08809b1>\u001b[0m in \u001b[0;36m<module>\u001b[0;34m\u001b[0m\n\u001b[0;32m----> 1\u001b[0;31m \u001b[0mdf_day1_host\u001b[0m\u001b[0;34m.\u001b[0m\u001b[0mcreateTempView\u001b[0m\u001b[0;34m(\u001b[0m\u001b[0;34m'apt29Host'\u001b[0m\u001b[0;34m)\u001b[0m\u001b[0;34m\u001b[0m\u001b[0;34m\u001b[0m\u001b[0m\n\u001b[0m",
      "\u001b[0;32m~/miniconda3/envs/py3msc/lib/python3.7/site-packages/pyspark/sql/dataframe.py\u001b[0m in \u001b[0;36mcreateTempView\u001b[0;34m(self, name)\u001b[0m\n\u001b[1;32m    161\u001b[0m \u001b[0;34m\u001b[0m\u001b[0m\n\u001b[1;32m    162\u001b[0m         \"\"\"\n\u001b[0;32m--> 163\u001b[0;31m         \u001b[0mself\u001b[0m\u001b[0;34m.\u001b[0m\u001b[0m_jdf\u001b[0m\u001b[0;34m.\u001b[0m\u001b[0mcreateTempView\u001b[0m\u001b[0;34m(\u001b[0m\u001b[0mname\u001b[0m\u001b[0;34m)\u001b[0m\u001b[0;34m\u001b[0m\u001b[0;34m\u001b[0m\u001b[0m\n\u001b[0m\u001b[1;32m    164\u001b[0m \u001b[0;34m\u001b[0m\u001b[0m\n\u001b[1;32m    165\u001b[0m     \u001b[0;34m@\u001b[0m\u001b[0msince\u001b[0m\u001b[0;34m(\u001b[0m\u001b[0;36m2.0\u001b[0m\u001b[0;34m)\u001b[0m\u001b[0;34m\u001b[0m\u001b[0;34m\u001b[0m\u001b[0m\n",
      "\u001b[0;32m~/miniconda3/envs/py3msc/lib/python3.7/site-packages/py4j/java_gateway.py\u001b[0m in \u001b[0;36m__call__\u001b[0;34m(self, *args)\u001b[0m\n\u001b[1;32m   1255\u001b[0m         \u001b[0manswer\u001b[0m \u001b[0;34m=\u001b[0m \u001b[0mself\u001b[0m\u001b[0;34m.\u001b[0m\u001b[0mgateway_client\u001b[0m\u001b[0;34m.\u001b[0m\u001b[0msend_command\u001b[0m\u001b[0;34m(\u001b[0m\u001b[0mcommand\u001b[0m\u001b[0;34m)\u001b[0m\u001b[0;34m\u001b[0m\u001b[0;34m\u001b[0m\u001b[0m\n\u001b[1;32m   1256\u001b[0m         return_value = get_return_value(\n\u001b[0;32m-> 1257\u001b[0;31m             answer, self.gateway_client, self.target_id, self.name)\n\u001b[0m\u001b[1;32m   1258\u001b[0m \u001b[0;34m\u001b[0m\u001b[0m\n\u001b[1;32m   1259\u001b[0m         \u001b[0;32mfor\u001b[0m \u001b[0mtemp_arg\u001b[0m \u001b[0;32min\u001b[0m \u001b[0mtemp_args\u001b[0m\u001b[0;34m:\u001b[0m\u001b[0;34m\u001b[0m\u001b[0;34m\u001b[0m\u001b[0m\n",
      "\u001b[0;32m~/miniconda3/envs/py3msc/lib/python3.7/site-packages/pyspark/sql/utils.py\u001b[0m in \u001b[0;36mdeco\u001b[0;34m(*a, **kw)\u001b[0m\n\u001b[1;32m     69\u001b[0m                 \u001b[0;32mraise\u001b[0m \u001b[0mAnalysisException\u001b[0m\u001b[0;34m(\u001b[0m\u001b[0ms\u001b[0m\u001b[0;34m.\u001b[0m\u001b[0msplit\u001b[0m\u001b[0;34m(\u001b[0m\u001b[0;34m': '\u001b[0m\u001b[0;34m,\u001b[0m \u001b[0;36m1\u001b[0m\u001b[0;34m)\u001b[0m\u001b[0;34m[\u001b[0m\u001b[0;36m1\u001b[0m\u001b[0;34m]\u001b[0m\u001b[0;34m,\u001b[0m \u001b[0mstackTrace\u001b[0m\u001b[0;34m)\u001b[0m\u001b[0;34m\u001b[0m\u001b[0;34m\u001b[0m\u001b[0m\n\u001b[1;32m     70\u001b[0m             \u001b[0;32mif\u001b[0m \u001b[0ms\u001b[0m\u001b[0;34m.\u001b[0m\u001b[0mstartswith\u001b[0m\u001b[0;34m(\u001b[0m\u001b[0;34m'org.apache.spark.sql.catalyst.analysis'\u001b[0m\u001b[0;34m)\u001b[0m\u001b[0;34m:\u001b[0m\u001b[0;34m\u001b[0m\u001b[0;34m\u001b[0m\u001b[0m\n\u001b[0;32m---> 71\u001b[0;31m                 \u001b[0;32mraise\u001b[0m \u001b[0mAnalysisException\u001b[0m\u001b[0;34m(\u001b[0m\u001b[0ms\u001b[0m\u001b[0;34m.\u001b[0m\u001b[0msplit\u001b[0m\u001b[0;34m(\u001b[0m\u001b[0;34m': '\u001b[0m\u001b[0;34m,\u001b[0m \u001b[0;36m1\u001b[0m\u001b[0;34m)\u001b[0m\u001b[0;34m[\u001b[0m\u001b[0;36m1\u001b[0m\u001b[0;34m]\u001b[0m\u001b[0;34m,\u001b[0m \u001b[0mstackTrace\u001b[0m\u001b[0;34m)\u001b[0m\u001b[0;34m\u001b[0m\u001b[0;34m\u001b[0m\u001b[0m\n\u001b[0m\u001b[1;32m     72\u001b[0m             \u001b[0;32mif\u001b[0m \u001b[0ms\u001b[0m\u001b[0;34m.\u001b[0m\u001b[0mstartswith\u001b[0m\u001b[0;34m(\u001b[0m\u001b[0;34m'org.apache.spark.sql.catalyst.parser.ParseException: '\u001b[0m\u001b[0;34m)\u001b[0m\u001b[0;34m:\u001b[0m\u001b[0;34m\u001b[0m\u001b[0;34m\u001b[0m\u001b[0m\n\u001b[1;32m     73\u001b[0m                 \u001b[0;32mraise\u001b[0m \u001b[0mParseException\u001b[0m\u001b[0;34m(\u001b[0m\u001b[0ms\u001b[0m\u001b[0;34m.\u001b[0m\u001b[0msplit\u001b[0m\u001b[0;34m(\u001b[0m\u001b[0;34m': '\u001b[0m\u001b[0;34m,\u001b[0m \u001b[0;36m1\u001b[0m\u001b[0;34m)\u001b[0m\u001b[0;34m[\u001b[0m\u001b[0;36m1\u001b[0m\u001b[0;34m]\u001b[0m\u001b[0;34m,\u001b[0m \u001b[0mstackTrace\u001b[0m\u001b[0;34m)\u001b[0m\u001b[0;34m\u001b[0m\u001b[0;34m\u001b[0m\u001b[0m\n",
      "\u001b[0;31mAnalysisException\u001b[0m: \"Temporary view 'apt29Host' already exists;\""
     ]
    }
   ],
   "source": [
    "df_day1_host.createTempView('apt29Host')"
   ]
  },
  {
   "cell_type": "markdown",
   "metadata": {},
   "source": [
    "## Determine Sysmon Data Dictionary"
   ]
  },
  {
   "cell_type": "raw",
   "metadata": {},
   "source": [
    "sysmon = spark.sql(\n",
    "'''\n",
    "SELECT *\n",
    "FROM apt29Host\n",
    "WHERE Channel = \"Microsoft-Windows-Sysmon/Operational\"\n",
    "''')\n",
    "#sysmon.show(1, truncate = False, vertical = True)"
   ]
  },
  {
   "cell_type": "raw",
   "metadata": {},
   "source": [
    "sysmon_count = sysmon.agg(*[func.count(c).alias(c) for c in sysmon.columns])\n",
    "sysmon_count_pandas = sysmon_count.toPandas()\n",
    "sysmon_nonNull_cols = sysmon_count_pandas.columns[(sysmon_count_pandas != 0).all()]"
   ]
  },
  {
   "cell_type": "raw",
   "metadata": {},
   "source": [
    "sysmon_nonNull_cols"
   ]
  },
  {
   "cell_type": "markdown",
   "metadata": {},
   "source": [
    "## Adversary - Detection Steps"
   ]
  },
  {
   "cell_type": "markdown",
   "metadata": {},
   "source": [
    "## 1.A.1. User Execution\n",
    "**Procedure:** User Pam executed payload rcs.3aka3.doc\n",
    "\n",
    "**Criteria:** The rcs.3aka3.doc process spawning from explorer.exe\n"
   ]
  },
  {
   "cell_type": "markdown",
   "metadata": {},
   "source": [
    "### Detection Type:Telemetry(None)"
   ]
  },
  {
   "cell_type": "markdown",
   "metadata": {},
   "source": [
    "**Query ID:204B00B6-A92B-4EF7-8510-4FB237703147**"
   ]
  },
  {
   "cell_type": "code",
   "execution_count": 479,
   "metadata": {},
   "outputs": [
    {
     "name": "stdout",
     "output_type": "stream",
     "text": [
      "-RECORD 0---------------------------------------------------------------------------------------------------------------------------------------------------------------------------------------------------------------------------------------------------------------------------------------------------------------------------------------------------------------------------------------------------------------------------------------------------------------------------------------------------------------------------------------------------------------------------------------------------------------------------------------------------------------------------------------------------------------------------------------------------------------------------------------------------------------------------------------------------------------------------------------------------\n",
      " Message | Process Create:\n",
      "RuleName: -\n",
      "UtcTime: 2020-05-02 02:55:56.157\n",
      "ProcessGuid: {47ab858c-e13c-5eac-a903-000000000400}\n",
      "ProcessId: 8524\n",
      "Image: C:\\ProgramData\\victim\\â€®cod.3aka3.scr\n",
      "FileVersion: -\n",
      "Description: -\n",
      "Product: -\n",
      "Company: -\n",
      "OriginalFileName: -\n",
      "CommandLine: \"C:\\ProgramData\\victim\\â€®cod.3aka3.scr\" /S\n",
      "CurrentDirectory: C:\\ProgramData\\victim\\\n",
      "User: DMEVALS\\pbeesly\n",
      "LogonGuid: {47ab858c-dabe-5eac-f331-370000000000}\n",
      "LogonId: 0x3731F3\n",
      "TerminalSessionId: 2\n",
      "IntegrityLevel: Medium\n",
      "Hashes: SHA1=4B7FA56A4E85F88B98D11A6E018698AE3FBA5E62,MD5=9D1C5EF38E6073661C74660B3A71A76E,SHA256=0DF38A55D940F498478EB03683C94D4584236E100125B526A67650BA54DF4AE4,IMPHASH=F00447512A354E59D39D2818AABA4A17\n",
      "ParentProcessGuid: {47ab858c-dac4-5eac-f202-000000000400}\n",
      "ParentProcessId: 4440\n",
      "ParentImage: C:\\Windows\\explorer.exe\n",
      "ParentCommandLine: C:\\windows\\Explorer.EXE \n",
      "\n"
     ]
    }
   ],
   "source": [
    "df = spark.sql(\n",
    "'''\n",
    "SELECT Message\n",
    "FROM apt29Host\n",
    "WHERE Channel = \"Microsoft-Windows-Sysmon/Operational\"\n",
    "    AND EventID = 1\n",
    "    AND LOWER(ParentImage) LIKE \"%explorer.exe\"\n",
    "    AND LOWER(Image) LIKE \"%3aka3%\"\n",
    "\n",
    "'''\n",
    ")\n",
    "df.show(100,truncate = False, vertical = True)"
   ]
  },
  {
   "cell_type": "code",
   "execution_count": 480,
   "metadata": {},
   "outputs": [
    {
     "name": "stdout",
     "output_type": "stream",
     "text": [
      "-RECORD 0----------------------------\n",
      " EventID  | 1                        \n",
      " TP_Label | 0, 1.A.1. User Execution \n",
      "\n",
      "None\n"
     ]
    }
   ],
   "source": [
    "df_labelled = apply_label(df_day1_host, df, df.columns[0], \"1.A.1. User Execution\")"
   ]
  },
  {
   "cell_type": "code",
   "execution_count": 481,
   "metadata": {},
   "outputs": [],
   "source": [
    "df_labelled = df_labelled.cache()"
   ]
  },
  {
   "cell_type": "code",
   "execution_count": 482,
   "metadata": {},
   "outputs": [],
   "source": [
    "df_labelled = df_labelled.checkpoint()"
   ]
  },
  {
   "cell_type": "markdown",
   "metadata": {},
   "source": [
    "**Query ID:52540C1E-DD76-41B2-93ED-CFBA2B94ECF7**"
   ]
  },
  {
   "cell_type": "code",
   "execution_count": null,
   "metadata": {},
   "outputs": [],
   "source": [
    "df = spark.sql(\n",
    "'''\n",
    "SELECT Message\n",
    "FROM apt29Host\n",
    "WHERE LOWER(Channel) = \"security\"\n",
    "    AND EventID = 4688\n",
    "    AND LOWER(ParentProcessName) LIKE \"%explorer.exe\"\n",
    "    AND LOWER(NewProcessName) LIKE \"%3aka3%\"\n",
    "\n",
    "'''\n",
    ")\n",
    "df.show(100,truncate = False, vertical = True)"
   ]
  },
  {
   "cell_type": "code",
   "execution_count": null,
   "metadata": {},
   "outputs": [],
   "source": [
    "df_labelled = apply_label(df_labelled, df, df.columns[0], \"1.A.1. User Execution\")"
   ]
  },
  {
   "cell_type": "markdown",
   "metadata": {},
   "source": [
    "### Detection Type:General(None)"
   ]
  },
  {
   "cell_type": "markdown",
   "metadata": {},
   "source": [
    "**Query ID:DFD6A782-9BDB-4550-AB6B-525E825B095E**"
   ]
  },
  {
   "cell_type": "code",
   "execution_count": null,
   "metadata": {},
   "outputs": [],
   "source": [
    "df = spark.sql(\n",
    "'''\n",
    "SELECT Message\n",
    "FROM apt29Host\n",
    "WHERE Channel = \"Microsoft-Windows-Sysmon/Operational\"\n",
    "  AND EventID = 13\n",
    "  AND TargetObject RLIKE '.*\\\\\\\\\\\\\\\\AppCompatFlags\\\\\\\\\\\\\\\\Compatibility Assistant\\\\\\\\\\\\\\\\Store\\\\\\\\\\\\\\\\.*3aka3.scr'\n",
    "\n",
    "'''\n",
    ")\n",
    "df.show(100,truncate = False, vertical = True)"
   ]
  },
  {
   "cell_type": "code",
   "execution_count": null,
   "metadata": {},
   "outputs": [],
   "source": [
    "df_labelled = apply_label(df_labelled, df, df.columns[0], \"1.A.1. User Execution\")"
   ]
  },
  {
   "cell_type": "markdown",
   "metadata": {},
   "source": [
    "## 1.A.2. Masquerading\n",
    "**Procedure:** Used unicode right-to-left override (RTLO) character to obfuscate file name rcs.3aka3.doc (originally cod.3aka.scr)\n",
    "\n",
    "**Criteria:** Evidence of the right-to-left override character (U+202E) in the rcs.3aka.doc process ​OR the original filename (cod.3aka.scr)\n"
   ]
  },
  {
   "cell_type": "markdown",
   "metadata": {},
   "source": [
    "### Detection Type:Telemetry(None)"
   ]
  },
  {
   "cell_type": "markdown",
   "metadata": {},
   "source": [
    "**Query ID:F4C71BF4-E068-493D-ABAA-0C5DFA02875D**"
   ]
  },
  {
   "cell_type": "code",
   "execution_count": null,
   "metadata": {},
   "outputs": [],
   "source": [
    "df = spark.sql(\n",
    "'''\n",
    "SELECT Message\n",
    "FROM apt29Host\n",
    "WHERE Channel = \"Microsoft-Windows-Sysmon/Operational\"\n",
    "    AND EventID = 1\n",
    "    AND LOWER(Image) RLIKE '.*\\\\â€Ž|â€|â€ª|â€«|â€¬|â€|â€®.*'\n",
    "\n",
    "'''\n",
    ")\n",
    "df.show(100,truncate = False, vertical = True)"
   ]
  },
  {
   "cell_type": "code",
   "execution_count": null,
   "metadata": {},
   "outputs": [],
   "source": [
    "df_labelled = apply_label(df_labelled, df, df.columns[0], \"1.A.2. Masquerading\")"
   ]
  },
  {
   "cell_type": "markdown",
   "metadata": {},
   "source": [
    "**Query ID:D94222A0-72F9-4F1E-84A9-F14CA1098D44**"
   ]
  },
  {
   "cell_type": "code",
   "execution_count": null,
   "metadata": {},
   "outputs": [],
   "source": [
    "df = spark.sql(\n",
    "'''\n",
    "SELECT Message\n",
    "FROM apt29Host\n",
    "WHERE LOWER(Channel) = \"security\"\n",
    "    AND EventID = 4688\n",
    "    AND LOWER(NewProcessName) RLIKE '.*\\\\â€Ž|â€|â€ª|â€«|â€¬|â€|â€®.*'\n",
    "\n",
    "'''\n",
    ")\n",
    "df.show(100,truncate = False, vertical = True)"
   ]
  },
  {
   "cell_type": "code",
   "execution_count": null,
   "metadata": {},
   "outputs": [],
   "source": [
    "df_labelled = apply_label(df_labelled, df, df.columns[0], \"1.A.2. Masquerading\")"
   ]
  },
  {
   "cell_type": "markdown",
   "metadata": {},
   "source": [
    "## 1.A.3. Uncommonly Used Port\n",
    "**Procedure:** Established C2 channel (192.168.0.5) via rcs.3aka3.doc payload over TCP port 1234\n",
    "\n",
    "**Criteria:** Established network channel over port 1234\n"
   ]
  },
  {
   "cell_type": "markdown",
   "metadata": {},
   "source": [
    "### Detection Type:Telemetry(None)"
   ]
  },
  {
   "cell_type": "markdown",
   "metadata": {},
   "source": [
    "**Query ID:B53A710B-43AB-4B57-BD92-4E787D494978**"
   ]
  },
  {
   "cell_type": "code",
   "execution_count": null,
   "metadata": {},
   "outputs": [],
   "source": [
    "df = spark.sql(\n",
    "'''\n",
    "SELECT Message\n",
    "FROM apt29Host\n",
    "WHERE Channel = \"Microsoft-Windows-Sysmon/Operational\"\n",
    "    AND EventID = 3\n",
    "    AND LOWER(Image) RLIKE '.*\\\\â€Ž|â€|â€ª|â€«|â€¬|â€|â€®.*'\n",
    "\n",
    "'''\n",
    ")\n",
    "df.show(100,truncate = False, vertical = True)"
   ]
  },
  {
   "cell_type": "code",
   "execution_count": null,
   "metadata": {},
   "outputs": [],
   "source": [
    "df_labelled = apply_label(df_labelled, df, df.columns[0], \"1.A.3. Uncommonly Used Port\")"
   ]
  },
  {
   "cell_type": "markdown",
   "metadata": {},
   "source": [
    "**Query ID:1BAC5645-83CD-4D6F-A4F8-659084401F47**"
   ]
  },
  {
   "cell_type": "code",
   "execution_count": null,
   "metadata": {},
   "outputs": [],
   "source": [
    "df = spark.sql(\n",
    "'''\n",
    "SELECT Message\n",
    "FROM apt29Host\n",
    "WHERE LOWER(Channel) = \"security\"\n",
    "  AND EventID = 5156\n",
    "  AND LOWER(Application) RLIKE '.*\\\\â€Ž|â€|â€ª|â€«|â€¬|â€|â€®.*'\n",
    "\n",
    "'''\n",
    ")\n",
    "df.show(100,truncate = False, vertical = True)"
   ]
  },
  {
   "cell_type": "code",
   "execution_count": null,
   "metadata": {},
   "outputs": [],
   "source": [
    "df_labelled = apply_label(df_labelled, df, df.columns[0], \"1.A.3. Uncommonly Used Port\")"
   ]
  },
  {
   "cell_type": "markdown",
   "metadata": {},
   "source": [
    "## 1.A.4. Standard Cryptographic Protocol\n",
    "**Procedure:** Used RC4 stream cipher to encrypt C2 (192.168.0.5) traffic\n",
    "\n",
    "**Criteria:** Evidence that the network data sent over the C2 channel is encrypted\n"
   ]
  },
  {
   "cell_type": "markdown",
   "metadata": {},
   "source": [
    "### Detection Type:None(None)"
   ]
  },
  {
   "cell_type": "markdown",
   "metadata": {},
   "source": [
    "**Query ID:E12B701E-1222-413C-BCAF-F357CB769B3E**"
   ]
  },
  {
   "cell_type": "code",
   "execution_count": null,
   "metadata": {},
   "outputs": [],
   "source": [
    "df = spark.sql(\n",
    "'''\n",
    "SELECT Message\n",
    "FROM apt29Host\n",
    "WHERE Channel = \"Microsoft-Windows-Sysmon/Operational\"\n",
    "  AND EventID = 7\n",
    "  AND Image LIKE \"%3aka3%\"\n",
    "  AND LOWER(ImageLoaded) LIKE '%bcrypt.dll'\n",
    "\n",
    "'''\n",
    ")\n",
    "df.show(100,truncate = False, vertical = True)"
   ]
  },
  {
   "cell_type": "code",
   "execution_count": null,
   "metadata": {},
   "outputs": [],
   "source": [
    "df_labelled = apply_label(df_labelled, df, df.columns[0], \"1.A.4. Standard Cryptographic Protocol\")"
   ]
  },
  {
   "cell_type": "markdown",
   "metadata": {},
   "source": [
    "## 1.B.1. Command-Line Interface\n",
    "**Procedure:** Spawned interactive cmd.exe\n",
    "\n",
    "**Criteria:** cmd.exe spawning from the rcs.3aka3.doc​ process\n"
   ]
  },
  {
   "cell_type": "markdown",
   "metadata": {},
   "source": [
    "### Detection Type:Telemetry(Correlated)"
   ]
  },
  {
   "cell_type": "markdown",
   "metadata": {},
   "source": [
    "**Query ID:4799C203-573A-49CB-ACE4-8C4C5CD3862A**"
   ]
  },
  {
   "cell_type": "code",
   "execution_count": null,
   "metadata": {},
   "outputs": [],
   "source": [
    "df = spark.sql(\n",
    "'''\n",
    "SELECT Message\n",
    "FROM apt29Host\n",
    "WHERE Channel = \"Microsoft-Windows-Sysmon/Operational\"\n",
    "  AND EventID = 1\n",
    "  AND LOWER(ParentImage) RLIKE '.*\\\\â€Ž|â€|â€ª|â€«|â€¬|â€|â€®.*'\n",
    "  AND LOWER(Image) LIKE \"%cmd.exe\"\n",
    "\n",
    "'''\n",
    ")\n",
    "df.show(100,truncate = False, vertical = True)"
   ]
  },
  {
   "cell_type": "code",
   "execution_count": null,
   "metadata": {},
   "outputs": [],
   "source": [
    "df_labelled = apply_label(df_labelled, df, df.columns[0], \"1.B.1. Command-Line Interface\")"
   ]
  },
  {
   "cell_type": "markdown",
   "metadata": {},
   "source": [
    "**Query ID:C8D664CD-48EE-4663-AE49-D5B0B19014C7**"
   ]
  },
  {
   "cell_type": "code",
   "execution_count": null,
   "metadata": {},
   "outputs": [],
   "source": [
    "df = spark.sql(\n",
    "'''\n",
    "SELECT Message\n",
    "FROM apt29Host\n",
    "WHERE LOWER(Channel) = \"security\"\n",
    "  AND EventID = 4688\n",
    "  AND LOWER(ParentProcessName) RLIKE '.*\\\\â€Ž|â€|â€ª|â€«|â€¬|â€|â€®.*'\n",
    "  AND LOWER(NewProcessName) LIKE \"%cmd.exe\"\n",
    "\n",
    "'''\n",
    ")\n",
    "df.show(100,truncate = False, vertical = True)"
   ]
  },
  {
   "cell_type": "code",
   "execution_count": null,
   "metadata": {},
   "outputs": [],
   "source": [
    "df_labelled = apply_label(df_labelled, df, df.columns[0], \"1.B.1. Command-Line Interface\")"
   ]
  },
  {
   "cell_type": "markdown",
   "metadata": {},
   "source": [
    "## 1.B.2. PowerShell\n",
    "**Procedure:** Spawned interactive powershell.exe\n",
    "\n",
    "**Criteria:** powershell.exe spawning from cmd.exe\n"
   ]
  },
  {
   "cell_type": "markdown",
   "metadata": {},
   "source": [
    "### Detection Type:Telemetry(Correlated)"
   ]
  },
  {
   "cell_type": "markdown",
   "metadata": {},
   "source": [
    "**Query ID:C1DBF5F2-21D5-45E4-8D9A-44905F1F8242**"
   ]
  },
  {
   "cell_type": "code",
   "execution_count": null,
   "metadata": {},
   "outputs": [],
   "source": [
    "df = spark.sql(\n",
    "'''\n",
    "SELECT Message\n",
    "FROM apt29Host a\n",
    "INNER JOIN (\n",
    "    SELECT ProcessGuid\n",
    "    FROM apt29Host\n",
    "    WHERE Channel = \"Microsoft-Windows-Sysmon/Operational\"\n",
    "        AND EventID = 1\n",
    "        AND LOWER(ParentImage) RLIKE '.*\\\\â€Ž|â€|â€ª|â€«|â€¬|â€|â€®.*'\n",
    "        AND LOWER(Image) LIKE '%cmd.exe'\n",
    ") b\n",
    "ON a.ParentProcessGuid = b.ProcessGuid\n",
    "WHERE Channel = \"Microsoft-Windows-Sysmon/Operational\"\n",
    "    AND EventID = 1\n",
    "    AND LOWER(Image) LIKE '%powershell.exe'\n",
    "\n",
    "'''\n",
    ")\n",
    "df.show(100,truncate = False, vertical = True)"
   ]
  },
  {
   "cell_type": "code",
   "execution_count": null,
   "metadata": {},
   "outputs": [],
   "source": [
    "df_labelled = apply_label(df_labelled, df, df.columns[0], \"1.B.2. PowerShell\")"
   ]
  },
  {
   "cell_type": "markdown",
   "metadata": {},
   "source": [
    "**Query ID:43B46661-3407-4302-BA8C-EE772C677DCB**"
   ]
  },
  {
   "cell_type": "code",
   "execution_count": null,
   "metadata": {},
   "outputs": [],
   "source": [
    "df = spark.sql(\n",
    "'''\n",
    "SELECT Message\n",
    "FROM apt29Host a\n",
    "INNER JOIN (\n",
    "    SELECT NewProcessId\n",
    "    FROM apt29Host\n",
    "    WHERE LOWER(Channel) = \"security\"\n",
    "        AND EventID = 4688\n",
    "        AND LOWER(ParentProcessName) RLIKE '.*\\\\â€Ž|â€|â€ª|â€«|â€¬|â€|â€®.*'\n",
    "        AND LOWER(NewProcessName) LIKE '%cmd.exe'\n",
    ") b\n",
    "ON a.ProcessId = b.NewProcessId\n",
    "WHERE LOWER(Channel) = \"security\"\n",
    "    AND EventID = 4688\n",
    "    AND LOWER(NewProcessName) LIKE '%powershell.exe'\n",
    "\n",
    "'''\n",
    ")\n",
    "df.show(100,truncate = False, vertical = True)"
   ]
  },
  {
   "cell_type": "code",
   "execution_count": null,
   "metadata": {},
   "outputs": [],
   "source": [
    "df_labelled = apply_label(df_labelled, df, df.columns[0], \"1.B.2. PowerShell\")"
   ]
  },
  {
   "cell_type": "markdown",
   "metadata": {},
   "source": [
    "## 2.A.1. File and Directory Discovery\n",
    "**Procedure:** Searched filesystem for document and media files using PowerShell\n",
    "\n",
    "**Criteria:** powershell.exe executing (Get-)ChildItem\n"
   ]
  },
  {
   "cell_type": "code",
   "execution_count": null,
   "metadata": {},
   "outputs": [],
   "source": [
    "df_labbelled = df_labelled.checkpoint()"
   ]
  },
  {
   "cell_type": "markdown",
   "metadata": {},
   "source": [
    "### Detection Type:Telemetry(Correlated)"
   ]
  },
  {
   "cell_type": "markdown",
   "metadata": {},
   "source": [
    "**Query ID:10C87900-CC2F-4EE1-A2F2-1832A761B050**"
   ]
  },
  {
   "cell_type": "code",
   "execution_count": null,
   "metadata": {},
   "outputs": [],
   "source": [
    "df = spark.sql(\n",
    "'''\n",
    "SELECT b.Message\n",
    "FROM apt29Host a\n",
    "INNER JOIN (\n",
    "  SELECT d.ParentProcessGuid, d.ProcessId, c.ScriptBlockText\n",
    "  FROM apt29Host c\n",
    "  INNER JOIN (\n",
    "      SELECT ParentProcessGuid, ProcessGuid, ProcessId\n",
    "      FROM apt29Host\n",
    "      WHERE Channel = \"Microsoft-Windows-Sysmon/Operational\"\n",
    "          AND EventID = 1\n",
    "      ) d\n",
    "  ON c.ExecutionProcessID = d.ProcessId\n",
    "  WHERE c.Channel = \"Microsoft-Windows-PowerShell/Operational\"\n",
    "          AND c.EventID = 4104\n",
    "          AND LOWER(c.ScriptBlockText) LIKE \"%childitem%\"\n",
    ") b\n",
    "ON a.ProcessGuid = b.ParentProcessGuid\n",
    "WHERE a.Channel = \"Microsoft-Windows-Sysmon/Operational\"\n",
    "          AND a.EventID = 1\n",
    "          AND LOWER(a.ParentImage) RLIKE '.*\\\\â€Ž|â€|â€ª|â€«|â€¬|â€|â€®.*'\n",
    "\n",
    "'''\n",
    ")\n",
    "df.show(100,truncate = False, vertical = True)"
   ]
  },
  {
   "cell_type": "code",
   "execution_count": null,
   "metadata": {},
   "outputs": [],
   "source": [
    "df_labelled = apply_label(df_labelled, df, df.columns[0], \"2.A.1. File and Directory Discovery\")"
   ]
  },
  {
   "cell_type": "markdown",
   "metadata": {},
   "source": [
    "**Query ID:26F6963D-00D5-466A-B4BA-59DA30892B26**"
   ]
  },
  {
   "cell_type": "code",
   "execution_count": null,
   "metadata": {},
   "outputs": [],
   "source": [
    "df = spark.sql(\n",
    "'''\n",
    "SELECT b.ScriptBlockText\n",
    "FROM apt29Host a\n",
    "INNER JOIN (\n",
    "  SELECT d.NewProcessId, d.ProcessId, c.ScriptBlockText\n",
    "  FROM apt29Host c\n",
    "  INNER JOIN (\n",
    "      SELECT split(NewProcessId, '0x')[1] as NewProcessId, ProcessId\n",
    "      FROM apt29Host\n",
    "      WHERE LOWER(Channel) = \"security\"\n",
    "          AND EventID = 4688\n",
    "      ) d\n",
    "  ON hex(c.ExecutionProcessID) = d.NewProcessId\n",
    "  WHERE c.Channel = \"Microsoft-Windows-PowerShell/Operational\"\n",
    "          AND c.EventID = 4104\n",
    "          AND LOWER(c.ScriptBlockText) LIKE \"%childitem%\"\n",
    ") b\n",
    "ON a.NewProcessId = b.ProcessId\n",
    "WHERE LOWER(a.Channel) = \"security\"\n",
    "          AND a.EventID = 4688\n",
    "          AND LOWER(a.ParentProcessName) RLIKE '.*\\\\â€Ž|â€|â€ª|â€«|â€¬|â€|â€®.*'\n",
    "\n",
    "'''\n",
    ")\n",
    "df.show(100,truncate = False, vertical = True)"
   ]
  },
  {
   "cell_type": "code",
   "execution_count": null,
   "metadata": {},
   "outputs": [],
   "source": [
    "df_labelled = apply_label(df_labelled, df, df.columns[0], \"2.A.1. File and Directory Discovery\")"
   ]
  },
  {
   "cell_type": "markdown",
   "metadata": {},
   "source": [
    "## 2.A.2. Automated Collection\n",
    "**Procedure:** Scripted search of filesystem for document and media files using PowerShell\n",
    "\n",
    "**Criteria:** powershell.exe executing (Get-)ChildItem\n"
   ]
  },
  {
   "cell_type": "markdown",
   "metadata": {},
   "source": [
    "### Detection Type:Telemetry(Correlated)"
   ]
  },
  {
   "cell_type": "markdown",
   "metadata": {},
   "source": [
    "**Query ID:F96EA21C-1EB4-4988-8F98-BD018717EE2D**"
   ]
  },
  {
   "cell_type": "code",
   "execution_count": null,
   "metadata": {},
   "outputs": [],
   "source": [
    "df = spark.sql(\n",
    "'''\n",
    "SELECT b.ScriptBlockText\n",
    "FROM apt29Host a\n",
    "INNER JOIN (\n",
    "  SELECT d.ParentProcessGuid, d.ProcessId, c.ScriptBlockText\n",
    "  FROM apt29Host c\n",
    "  INNER JOIN (\n",
    "      SELECT ParentProcessGuid, ProcessGuid, ProcessId\n",
    "      FROM apt29Host\n",
    "      WHERE Channel = \"Microsoft-Windows-Sysmon/Operational\"\n",
    "          AND EventID = 1\n",
    "      ) d\n",
    "  ON c.ExecutionProcessID = d.ProcessId\n",
    "  WHERE c.Channel = \"Microsoft-Windows-PowerShell/Operational\"\n",
    "          AND c.EventID = 4104\n",
    "          AND LOWER(c.ScriptBlockText) LIKE \"%childitem%\"\n",
    ") b\n",
    "ON a.ProcessGuid = b.ParentProcessGuid\n",
    "WHERE a.Channel = \"Microsoft-Windows-Sysmon/Operational\"\n",
    "          AND a.EventID = 1\n",
    "          AND LOWER(a.ParentImage) RLIKE '.*\\\\â€Ž|â€|â€ª|â€«|â€¬|â€|â€®.*'\n",
    "\n",
    "'''\n",
    ")\n",
    "df.show(100,truncate = False, vertical = True)"
   ]
  },
  {
   "cell_type": "code",
   "execution_count": null,
   "metadata": {},
   "outputs": [],
   "source": [
    "df_labelled = apply_label(df_labelled, df, df.columns[0], \"2.A.2. Automated Collection\")"
   ]
  },
  {
   "cell_type": "markdown",
   "metadata": {},
   "source": [
    "**Query ID:EAD989D4-8886-46DC-BC8C-780C10760E93**"
   ]
  },
  {
   "cell_type": "code",
   "execution_count": null,
   "metadata": {},
   "outputs": [],
   "source": [
    "df = spark.sql(\n",
    "'''\n",
    "SELECT b.ScriptBlockText\n",
    "FROM apt29Host a\n",
    "INNER JOIN (\n",
    "  SELECT d.NewProcessId, d.ProcessId, c.ScriptBlockText\n",
    "  FROM apt29Host c\n",
    "  INNER JOIN (\n",
    "      SELECT split(NewProcessId, '0x')[1] as NewProcessId, ProcessId\n",
    "      FROM apt29Host\n",
    "      WHERE LOWER(Channel) = \"security\"\n",
    "          AND EventID = 4688\n",
    "      ) d\n",
    "  ON hex(c.ExecutionProcessID) = d.NewProcessId\n",
    "  WHERE c.Channel = \"Microsoft-Windows-PowerShell/Operational\"\n",
    "          AND c.EventID = 4104\n",
    "          AND LOWER(c.ScriptBlockText) LIKE \"%childitem%\"\n",
    ") b\n",
    "ON a.NewProcessId = b.ProcessId\n",
    "WHERE LOWER(a.Channel) = \"security\"\n",
    "          AND a.EventID = 4688\n",
    "          AND LOWER(a.ParentProcessName) RLIKE '.*\\\\â€Ž|â€|â€ª|â€«|â€¬|â€|â€®.*'\n",
    "\n",
    "'''\n",
    ")\n",
    "df.show(100,truncate = False, vertical = True)"
   ]
  },
  {
   "cell_type": "code",
   "execution_count": null,
   "metadata": {},
   "outputs": [],
   "source": [
    "df_labelled = apply_label(df_labelled, df, df.columns[0], \"2.A.2. Automated Collection\")"
   ]
  },
  {
   "cell_type": "markdown",
   "metadata": {},
   "source": [
    "## 2.A.3. Data from Local System\n",
    "**Procedure:** Recursively collected files found in C:\\Users\\Pam\\ using PowerShell\n",
    "\n",
    "**Criteria:** powershell.exe reading files in C:\\Users\\Pam\\\n"
   ]
  },
  {
   "cell_type": "markdown",
   "metadata": {},
   "source": [
    "### Detection Type:None(None)"
   ]
  },
  {
   "cell_type": "markdown",
   "metadata": {},
   "source": [
    "## 2.A.4. Data Compressed\n",
    "**Procedure:** Compressed and stored files into ZIP (Draft.zip) using PowerShell\n",
    "\n",
    "**Criteria:** powershell.exe executing Compress-Archive\n"
   ]
  },
  {
   "cell_type": "markdown",
   "metadata": {},
   "source": [
    "### Detection Type:Telemetry(Correlated)"
   ]
  },
  {
   "cell_type": "markdown",
   "metadata": {},
   "source": [
    "**Query ID:6CDEBEBF-387F-4A40-A4E8-8D4DF3A8F897**"
   ]
  },
  {
   "cell_type": "code",
   "execution_count": null,
   "metadata": {},
   "outputs": [],
   "source": [
    "df = spark.sql(\n",
    "'''\n",
    "SELECT b.ScriptBlockText\n",
    "FROM apt29Host a\n",
    "INNER JOIN (\n",
    "  SELECT d.ParentProcessGuid, d.ProcessId, c.ScriptBlockText\n",
    "  FROM apt29Host c\n",
    "  INNER JOIN (\n",
    "      SELECT ParentProcessGuid, ProcessGuid, ProcessId\n",
    "      FROM apt29Host\n",
    "      WHERE Channel = \"Microsoft-Windows-Sysmon/Operational\"\n",
    "          AND EventID = 1\n",
    "      ) d\n",
    "  ON c.ExecutionProcessID = d.ProcessId\n",
    "  WHERE c.Channel = \"Microsoft-Windows-PowerShell/Operational\"\n",
    "          AND c.EventID = 4104\n",
    "          AND LOWER(c.ScriptBlockText) LIKE \"%compress-archive%\"\n",
    ") b\n",
    "ON a.ProcessGuid = b.ParentProcessGuid\n",
    "WHERE a.Channel = \"Microsoft-Windows-Sysmon/Operational\"\n",
    "          AND a.EventID = 1\n",
    "          AND LOWER(a.ParentImage) RLIKE '.*\\\\â€Ž|â€|â€ª|â€«|â€¬|â€|â€®.*'\n",
    "\n",
    "'''\n",
    ")\n",
    "df.show(100,truncate = False, vertical = True)"
   ]
  },
  {
   "cell_type": "code",
   "execution_count": null,
   "metadata": {},
   "outputs": [],
   "source": [
    "df_labelled = apply_label(df_labelled, df, df.columns[0], \"2.A.4. Data Compressed\")"
   ]
  },
  {
   "cell_type": "markdown",
   "metadata": {},
   "source": [
    "**Query ID:621F8EE7-E9D8-417C-9FE5-5A0D89C3736A**"
   ]
  },
  {
   "cell_type": "code",
   "execution_count": null,
   "metadata": {},
   "outputs": [],
   "source": [
    "df = spark.sql(\n",
    "'''\n",
    "SELECT b.ScriptBlockText\n",
    "FROM apt29Host a\n",
    "INNER JOIN (\n",
    "  SELECT d.NewProcessId, d.ProcessId, c.ScriptBlockText\n",
    "  FROM apt29Host c\n",
    "  INNER JOIN (\n",
    "      SELECT split(NewProcessId, '0x')[1] as NewProcessId, ProcessId\n",
    "      FROM apt29Host\n",
    "      WHERE LOWER(Channel) = \"security\"\n",
    "          AND EventID = 4688\n",
    "      ) d\n",
    "  ON hex(c.ExecutionProcessID) = d.NewProcessId\n",
    "  WHERE c.Channel = \"Microsoft-Windows-PowerShell/Operational\"\n",
    "          AND c.EventID = 4104\n",
    "          AND LOWER(c.ScriptBlockText) LIKE \"%compress-archive%\"\n",
    ") b\n",
    "ON a.NewProcessId = b.ProcessId\n",
    "WHERE LOWER(a.Channel) = \"security\"\n",
    "          AND a.EventID = 4688\n",
    "          AND LOWER(a.ParentProcessName) RLIKE '.*\\\\â€Ž|â€|â€ª|â€«|â€¬|â€|â€®.*'\n",
    "\n",
    "'''\n",
    ")\n",
    "df.show(100,truncate = False, vertical = True)"
   ]
  },
  {
   "cell_type": "code",
   "execution_count": null,
   "metadata": {},
   "outputs": [],
   "source": [
    "df_labelled = apply_label(df_labelled, df, df.columns[0], \"2.A.4. Data Compressed\")"
   ]
  },
  {
   "cell_type": "markdown",
   "metadata": {},
   "source": [
    "## 2.A.5. Data Staged\n",
    "**Procedure:** Staged files for exfiltration into ZIP (Draft.zip) using PowerShell\n",
    "\n",
    "**Criteria:** powershell.exe creating the file draft.zip\n"
   ]
  },
  {
   "cell_type": "markdown",
   "metadata": {},
   "source": [
    "### Detection Type:Telemetry(Correlated)"
   ]
  },
  {
   "cell_type": "markdown",
   "metadata": {},
   "source": [
    "**Query ID:76154CEC-1E01-4D3A-B9ED-C78978597C2B**"
   ]
  },
  {
   "cell_type": "code",
   "execution_count": null,
   "metadata": {},
   "outputs": [],
   "source": [
    "df = spark.sql(\n",
    "'''\n",
    "SELECT TargetFilename\n",
    "FROM apt29Host a\n",
    "INNER JOIN (\n",
    "    SELECT d.ProcessGuid, d.ProcessId\n",
    "    FROM apt29Host c\n",
    "    INNER JOIN (\n",
    "        SELECT ProcessGuid, ProcessId\n",
    "        FROM apt29Host\n",
    "        WHERE Channel = \"Microsoft-Windows-Sysmon/Operational\"\n",
    "            AND EventID = 1\n",
    "        ) d\n",
    "    ON c.ExecutionProcessID = d.ProcessId\n",
    "    WHERE c.Channel = \"Microsoft-Windows-PowerShell/Operational\"\n",
    "            AND c.EventID = 4104\n",
    "            AND LOWER(c.ScriptBlockText) LIKE \"%compress-archive%\"\n",
    ") b\n",
    "ON a.ProcessGuid = b.ProcessGuid\n",
    "WHERE a.Channel = \"Microsoft-Windows-Sysmon/Operational\"\n",
    "            AND a.EventID = 11\n",
    "            AND LOWER(a.TargetFilename) LIKE \"%zip\"\n",
    "\n",
    "'''\n",
    ")\n",
    "df.show(100,truncate = False, vertical = True)"
   ]
  },
  {
   "cell_type": "code",
   "execution_count": null,
   "metadata": {},
   "outputs": [],
   "source": [
    "df = spark.sql(\n",
    "'''\n",
    "SELECT Message\n",
    "FROM apt29Host a\n",
    "INNER JOIN (\n",
    "    SELECT d.ProcessGuid, d.ProcessId\n",
    "    FROM apt29Host c\n",
    "    INNER JOIN (\n",
    "        SELECT ProcessGuid, ProcessId\n",
    "        FROM apt29Host\n",
    "        WHERE Channel = \"Microsoft-Windows-Sysmon/Operational\"\n",
    "            AND EventID = 1\n",
    "        ) d\n",
    "    ON c.ExecutionProcessID = d.ProcessId\n",
    "    WHERE c.Channel = \"Microsoft-Windows-PowerShell/Operational\"\n",
    "            AND c.EventID = 4104\n",
    "            AND LOWER(c.ScriptBlockText) LIKE \"%compress-archive%\"\n",
    ") b\n",
    "ON a.ProcessGuid = b.ProcessGuid\n",
    "WHERE a.Channel = \"Microsoft-Windows-Sysmon/Operational\"\n",
    "            AND a.EventID = 11\n",
    "            AND LOWER(a.TargetFilename) LIKE \"%zip\"\n",
    "\n",
    "'''\n",
    ")\n",
    "df.show(100,truncate = False, vertical = True)"
   ]
  },
  {
   "cell_type": "code",
   "execution_count": null,
   "metadata": {},
   "outputs": [],
   "source": [
    "df_labelled = apply_label(df_labelled, df, df.columns[0], \"2.A.5. Data Staged\")"
   ]
  },
  {
   "cell_type": "markdown",
   "metadata": {},
   "source": [
    "## 2.B.1. Exfiltration Over Command and Control Channel\n",
    "**Procedure:** Read and downloaded ZIP (Draft.zip) over C2 channel (192.168.0.5 over TCP port 1234)\n",
    "\n",
    "**Criteria:** The rcs.3aka3.doc process reading the file draft.zip while connected to the C2 channel\n"
   ]
  },
  {
   "cell_type": "markdown",
   "metadata": {},
   "source": [
    "### Detection Type:None(None)"
   ]
  },
  {
   "cell_type": "markdown",
   "metadata": {},
   "source": [
    "## 3.A.1. Remote File Copy\n",
    "**Procedure:** Dropped stage 2 payload (monkey.png) to disk\n",
    "\n",
    "**Criteria:** The rcs.3aka3.doc process creating the file monkey.png\n"
   ]
  },
  {
   "cell_type": "code",
   "execution_count": null,
   "metadata": {},
   "outputs": [],
   "source": [
    "df_labelled = df_labelled.checkpoint()"
   ]
  },
  {
   "cell_type": "markdown",
   "metadata": {},
   "source": [
    "### Detection Type:Telemetry(Correlated)"
   ]
  },
  {
   "cell_type": "markdown",
   "metadata": {},
   "source": [
    "**Query ID:64249901-ADF8-4E5D-8BB4-70540A45E26C**"
   ]
  },
  {
   "cell_type": "code",
   "execution_count": null,
   "metadata": {},
   "outputs": [],
   "source": [
    "df = spark.sql(\n",
    "'''\n",
    "SELECT b.Message\n",
    "FROM apt29Host a\n",
    "INNER JOIN (\n",
    "    SELECT ProcessGuid, Message\n",
    "    FROM apt29Host\n",
    "    WHERE Channel = \"Microsoft-Windows-Sysmon/Operational\"\n",
    "        AND EventID = 11\n",
    "        AND LOWER(TargetFilename) LIKE '%monkey.png'\n",
    ") b\n",
    "ON a.ProcessGuid = b.ProcessGuid\n",
    "WHERE a.Channel = \"Microsoft-Windows-Sysmon/Operational\"\n",
    "  AND a.EventID = 1\n",
    "  AND LOWER(a.Image) RLIKE '.*\\\\â€Ž|â€|â€ª|â€«|â€¬|â€|â€®.*'\n",
    "\n",
    "'''\n",
    ")\n",
    "df.show(100,truncate = False, vertical = True)"
   ]
  },
  {
   "cell_type": "code",
   "execution_count": null,
   "metadata": {},
   "outputs": [],
   "source": [
    "df_labelled = apply_label(df_labelled, df, df.columns[0], \"3.A.1. Remote File Copy\")"
   ]
  },
  {
   "cell_type": "markdown",
   "metadata": {},
   "source": [
    "## 3.A.2. Obfuscated Files or Information\n",
    "**Procedure:** Embedded PowerShell payload in monkey.png using steganography\n",
    "\n",
    "**Criteria:** Evidence that a PowerShell payload was within monkey.png\n"
   ]
  },
  {
   "cell_type": "markdown",
   "metadata": {},
   "source": [
    "### Detection Type:Telemetry(None)"
   ]
  },
  {
   "cell_type": "markdown",
   "metadata": {},
   "source": [
    "**Query ID:0F10E1D1-EDF8-4B9F-B879-3651598D528A**"
   ]
  },
  {
   "cell_type": "code",
   "execution_count": null,
   "metadata": {},
   "outputs": [],
   "source": [
    "df = spark.sql(\n",
    "'''\n",
    "SELECT d.Message\n",
    "FROM apt29Host c\n",
    "INNER JOIN (\n",
    "    SELECT ParentProcessGuid, ProcessGuid, ProcessId, ParentImage, Image, ParentCommandLine, CommandLine\n",
    "    FROM apt29Host\n",
    "    WHERE Channel = \"Microsoft-Windows-Sysmon/Operational\"\n",
    "        AND EventID = 1\n",
    "    ) d\n",
    "ON c.ExecutionProcessID = d.ProcessId\n",
    "WHERE c.Channel = \"Microsoft-Windows-PowerShell/Operational\"\n",
    "    AND c.EventID = 4104\n",
    "    AND LOWER(c.ScriptBlockText) LIKE \"%monkey.png%\"\n",
    "\n",
    "'''\n",
    ")\n",
    "df.show(100,truncate = False, vertical = True)"
   ]
  },
  {
   "cell_type": "code",
   "execution_count": null,
   "metadata": {},
   "outputs": [],
   "source": [
    "df_labelled = apply_label(df_labelled, df, df.columns[1], \"3.A.2. Obfuscated Files or Information\")"
   ]
  },
  {
   "cell_type": "code",
   "execution_count": null,
   "metadata": {},
   "outputs": [],
   "source": [
    "df = spark.sql(\n",
    "'''\n",
    "SELECT Message\n",
    "FROM apt29Host c\n",
    "INNER JOIN (\n",
    "    SELECT ParentProcessGuid, ProcessGuid, ProcessId, ParentImage, Image, ParentCommandLine, CommandLine\n",
    "    FROM apt29Host\n",
    "    WHERE Channel = \"Microsoft-Windows-Sysmon/Operational\"\n",
    "        AND EventID = 1\n",
    "    ) d\n",
    "ON c.ExecutionProcessID = d.ProcessId\n",
    "WHERE c.Channel = \"Microsoft-Windows-PowerShell/Operational\"\n",
    "    AND c.EventID = 4104\n",
    "    AND LOWER(c.ScriptBlockText) LIKE \"%monkey.png%\"\n",
    "\n",
    "'''\n",
    ")\n",
    "df.show(100,truncate = False, vertical = True)"
   ]
  },
  {
   "cell_type": "code",
   "execution_count": null,
   "metadata": {},
   "outputs": [],
   "source": [
    "df_labelled = apply_label(df_labelled, df, df.columns[0], \"3.A.2. Obfuscated Files or Information\")"
   ]
  },
  {
   "cell_type": "markdown",
   "metadata": {},
   "source": [
    "**Query ID:94F9B4F2-1C52-4A47-BF47-C786513A05AA**"
   ]
  },
  {
   "cell_type": "code",
   "execution_count": null,
   "metadata": {},
   "outputs": [],
   "source": [
    "df = spark.sql(\n",
    "'''\n",
    "SELECT d.Message\n",
    "FROM apt29Host c\n",
    "INNER JOIN (\n",
    "    SELECT NewProcessName, CommandLine, split(NewProcessId, '0x')[1] as NewProcessId\n",
    "    FROM apt29Host\n",
    "    WHERE LOWER(Channel) = \"security\"\n",
    "        AND EventID = 4688\n",
    "    ) d\n",
    "ON LOWER(hex(c.ExecutionProcessID)) = d.NewProcessId\n",
    "WHERE c.Channel = \"Microsoft-Windows-PowerShell/Operational\"\n",
    "    AND c.EventID = 4104\n",
    "    AND LOWER(c.ScriptBlockText) LIKE \"%monkey.png%\"\n",
    "\n",
    "'''\n",
    ")\n",
    "df.show(100,truncate = False, vertical = True)"
   ]
  },
  {
   "cell_type": "markdown",
   "metadata": {},
   "source": [
    "## 3.B.1. Component Object Model Hijacking\n",
    "**Procedure:** Modified the Registry to enable COM hijacking of sdclt.exe using PowerShell\n",
    "\n",
    "**Criteria:** Addition of the DelegateExecute ​subkey in ​HKCU\\Software\\Classes\\Folder\\shell\\open\\​​command​​\n"
   ]
  },
  {
   "cell_type": "markdown",
   "metadata": {},
   "source": [
    "### Detection Type:Telemetry(None)"
   ]
  },
  {
   "cell_type": "markdown",
   "metadata": {},
   "source": [
    "**Query ID:04EB334D-A304-40D9-B177-0BB6E95FC23E**"
   ]
  },
  {
   "cell_type": "code",
   "execution_count": null,
   "metadata": {},
   "outputs": [],
   "source": [
    "df = spark.sql(\n",
    "'''\n",
    "SELECT Message\n",
    "FROM apt29Host\n",
    "WHERE Channel = \"Microsoft-Windows-Sysmon/Operational\"\n",
    "    AND EventID = 13\n",
    "    AND LOWER(TargetObject) RLIKE '.*\\\\\\\\\\\\\\\\folder\\\\\\\\\\\\\\\\shell\\\\\\\\\\\\\\\\open\\\\\\\\\\\\\\\\command\\\\\\\\\\\\\\delegateexecute.*'\n",
    "\n",
    "'''\n",
    ")\n",
    "df.show(100,truncate = False, vertical = True)"
   ]
  },
  {
   "cell_type": "code",
   "execution_count": null,
   "metadata": {},
   "outputs": [],
   "source": [
    "df_labelled = apply_label(df_labelled, df, df.columns[0], \"3.B.1. Component Object Model Hijacking\")"
   ]
  },
  {
   "cell_type": "markdown",
   "metadata": {},
   "source": [
    "## 3.B.2. Bypass User Account Control\n",
    "**Procedure:** Executed elevated PowerShell payload\n",
    "\n",
    "**Criteria:** High integrity powershell.exe spawning from control.exe​​ (spawned from sdclt.exe)\n"
   ]
  },
  {
   "cell_type": "markdown",
   "metadata": {},
   "source": [
    "### Detection Type:Technique(None)"
   ]
  },
  {
   "cell_type": "markdown",
   "metadata": {},
   "source": [
    "**Query ID:7a4a8c7e-4238-4db3-a90d-34e9f3c6e60f**"
   ]
  },
  {
   "cell_type": "code",
   "execution_count": null,
   "metadata": {},
   "outputs": [],
   "source": [
    "df = spark.sql(\n",
    "'''\n",
    "SELECT Message\n",
    "FROM apt29Host\n",
    "WHERE Channel = \"Microsoft-Windows-Sysmon/Operational\"\n",
    "    AND EventID = 1\n",
    "    AND LOWER(ParentImage) LIKE \"%sdclt.exe%\"\n",
    "\n",
    "'''\n",
    ")\n",
    "df.show(100,truncate = False, vertical = True)"
   ]
  },
  {
   "cell_type": "code",
   "execution_count": null,
   "metadata": {},
   "outputs": [],
   "source": [
    "df_labelled = apply_label(df_labelled, df, df.columns[0], \"3.B.2. Bypass User Account Control\")"
   ]
  },
  {
   "cell_type": "markdown",
   "metadata": {},
   "source": [
    "**Query ID:d52fe669-55da-49e1-a76b-89297c66fa02**"
   ]
  },
  {
   "cell_type": "code",
   "execution_count": null,
   "metadata": {},
   "outputs": [],
   "source": [
    "df = spark.sql(\n",
    "'''\n",
    "SELECT Message\n",
    "FROM apt29Host\n",
    "WHERE LOWER(Channel) = \"security\"\n",
    "  AND EventID = 4688\n",
    "  AND LOWER(ParentProcessName) LIKE \"%sdclt.exe\"\n",
    "\n",
    "'''\n",
    ")\n",
    "df.show(100,truncate = False, vertical = True)"
   ]
  },
  {
   "cell_type": "code",
   "execution_count": null,
   "metadata": {},
   "outputs": [],
   "source": [
    "df_labelled = apply_label(df_labelled, df, df.columns[0], \"3.B.2. Bypass User Account Control\")"
   ]
  },
  {
   "cell_type": "markdown",
   "metadata": {},
   "source": [
    "### Detection Type:Telemetry(None)"
   ]
  },
  {
   "cell_type": "markdown",
   "metadata": {},
   "source": [
    "**Query ID:F7E315BA-6A66-44D8-ABB3-3FBB4AA8F80A**"
   ]
  },
  {
   "cell_type": "code",
   "execution_count": null,
   "metadata": {},
   "outputs": [],
   "source": [
    "df = spark.sql(\n",
    "'''\n",
    "SELECT Message\n",
    "FROM apt29Host\n",
    "WHERE Channel = \"Microsoft-Windows-Sysmon/Operational\"\n",
    "    AND EventID = 1\n",
    "    AND LOWER(Image) LIKE \"%sdclt.exe\"\n",
    "    AND IntegrityLevel = \"High\"\n",
    "\n",
    "'''\n",
    ")\n",
    "df.show(100,truncate = False, vertical = True)"
   ]
  },
  {
   "cell_type": "markdown",
   "metadata": {},
   "source": [
    "**Query ID:6C8780E9-E6AF-4210-8EA0-72E9017CEE7D**"
   ]
  },
  {
   "cell_type": "code",
   "execution_count": null,
   "metadata": {},
   "outputs": [],
   "source": [
    "df = spark.sql(\n",
    "'''\n",
    "SELECT Message\n",
    "FROM apt29Host a\n",
    "INNER JOIN (\n",
    "    SELECT ProcessGuid\n",
    "    FROM apt29Host\n",
    "    WHERE Channel = \"Microsoft-Windows-Sysmon/Operational\"\n",
    "        AND EventID = 1\n",
    "        AND LOWER(Image) LIKE \"%control.exe\"\n",
    "        AND LOWER(ParentImage) LIKE \"%sdclt.exe\"\n",
    ") b\n",
    "ON a.ParentProcessGuid = b.ProcessGuid\n",
    "WHERE a.Channel = \"Microsoft-Windows-Sysmon/Operational\"\n",
    "    AND a.EventID = 1\n",
    "    AND a.IntegrityLevel = \"High\"\n",
    "\n",
    "'''\n",
    ")\n",
    "df.show(100,truncate = False, vertical = True)"
   ]
  },
  {
   "cell_type": "code",
   "execution_count": null,
   "metadata": {},
   "outputs": [],
   "source": [
    "df_labelled = apply_label(df_labelled, df, df.columns[0], \"3.B.2. Bypass User Account Control\")"
   ]
  },
  {
   "cell_type": "markdown",
   "metadata": {},
   "source": [
    "**Query ID:C36B49B5-DF58-4A34-9FE9-56189B9DEFEA**"
   ]
  },
  {
   "cell_type": "code",
   "execution_count": null,
   "metadata": {},
   "outputs": [],
   "source": [
    "df = spark.sql(\n",
    "'''\n",
    "SELECT Message\n",
    "FROM apt29Host\n",
    "WHERE LOWER(Channel) = \"security\"\n",
    "  AND EventID = 4688\n",
    "  AND LOWER(NewProcessName) LIKE \"%sdclt.exe\"\n",
    "  AND MandatoryLabel = \"S-1-16-12288\"\n",
    "  AND TokenElevationType = \"%%1937\"\n",
    "\n",
    "'''\n",
    ")\n",
    "df.show(100,truncate = False, vertical = True)"
   ]
  },
  {
   "cell_type": "code",
   "execution_count": null,
   "metadata": {},
   "outputs": [],
   "source": [
    "df_labelled = apply_label(df_labelled, df, df.columns[0], \"3.B.2. Bypass User Account Control\")"
   ]
  },
  {
   "cell_type": "markdown",
   "metadata": {},
   "source": [
    "**Query ID:EE34D18C-0549-4AFB-8B98-01160B0C9094**"
   ]
  },
  {
   "cell_type": "code",
   "execution_count": null,
   "metadata": {},
   "outputs": [],
   "source": [
    "df = spark.sql(\n",
    "'''\n",
    "SELECT Message\n",
    "FROM apt29Host a\n",
    "INNER JOIN (\n",
    "    SELECT NewProcessId\n",
    "    FROM apt29Host\n",
    "    WHERE LOWER(Channel) = \"security\"\n",
    "        AND EventID = 4688\n",
    "        AND LOWER(NewProcessName) LIKE \"%control.exe\"\n",
    "        AND LOWER(ParentProcessName) LIKE \"%sdclt.exe\"\n",
    ") b\n",
    "ON a.ProcessId = b.NewProcessId\n",
    "WHERE LOWER(a.Channel) = \"security\"\n",
    "    AND a.EventID = 4688\n",
    "    AND a.MandatoryLabel = \"S-1-16-12288\"\n",
    "    AND a.TokenElevationType = \"%%1937\"\n",
    "\n",
    "'''\n",
    ")\n",
    "df.show(100,truncate = False, vertical = True)"
   ]
  },
  {
   "cell_type": "code",
   "execution_count": null,
   "metadata": {},
   "outputs": [],
   "source": [
    "df_labelled = apply_label(df_labelled, df, df.columns[0], \"3.B.2. Bypass User Account Control\")"
   ]
  },
  {
   "cell_type": "markdown",
   "metadata": {},
   "source": [
    "## 3.B.3. Commonly Used Port\n",
    "**Procedure:** Established C2 channel (192.168.0.5) via PowerShell payload over TCP port 443\n",
    "\n",
    "**Criteria:** Established network channel over port 443\n"
   ]
  },
  {
   "cell_type": "markdown",
   "metadata": {},
   "source": [
    "### Detection Type:Telemetry(Correlated)"
   ]
  },
  {
   "cell_type": "markdown",
   "metadata": {},
   "source": [
    "**Query ID:E209D0C5-5A2B-4AEC-92B0-1510165B8EC7**"
   ]
  },
  {
   "cell_type": "code",
   "execution_count": null,
   "metadata": {},
   "outputs": [],
   "source": [
    "df = spark.sql(\n",
    "'''\n",
    "SELECT Message\n",
    "FROM apt29Host d\n",
    "INNER JOIN (\n",
    "    SELECT a.ProcessGuid\n",
    "    FROM apt29Host a\n",
    "    INNER JOIN (\n",
    "      SELECT ProcessGuid\n",
    "      FROM apt29Host\n",
    "      WHERE Channel = \"Microsoft-Windows-Sysmon/Operational\"\n",
    "          AND EventID = 1\n",
    "          AND LOWER(Image) LIKE \"%control.exe\"\n",
    "          AND LOWER(ParentImage) LIKE \"%sdclt.exe\"\n",
    "    ) b\n",
    "    ON a.ParentProcessGuid = b.ProcessGuid\n",
    "    WHERE a.Channel = \"Microsoft-Windows-Sysmon/Operational\"\n",
    "      AND a.EventID = 1\n",
    "      AND a.IntegrityLevel = \"High\"\n",
    ") c\n",
    "ON d.ProcessGuid = c.ProcessGuid\n",
    "WHERE d.Channel = \"Microsoft-Windows-Sysmon/Operational\"\n",
    "    AND d.EventID = 3\n",
    "\n",
    "'''\n",
    ")\n",
    "df.show(100,truncate = False, vertical = True)"
   ]
  },
  {
   "cell_type": "code",
   "execution_count": null,
   "metadata": {},
   "outputs": [],
   "source": [
    "df_labelled = apply_label(df_labelled, df, df.columns[0], \"3.B.3. Commonly Used Port\")"
   ]
  },
  {
   "cell_type": "markdown",
   "metadata": {},
   "source": [
    "**Query ID:2E9B9ADC-2426-419F-8E6E-2D9338384F80**"
   ]
  },
  {
   "cell_type": "code",
   "execution_count": null,
   "metadata": {},
   "outputs": [],
   "source": [
    "df = spark.sql(\n",
    "'''\n",
    "SELECT Message\n",
    "FROM apt29Host d\n",
    "INNER JOIN (\n",
    "    SELECT split(a.NewProcessId, '0x')[1] as NewProcessId\n",
    "    FROM apt29Host a\n",
    "    INNER JOIN (\n",
    "      SELECT NewProcessId\n",
    "      FROM apt29Host\n",
    "      WHERE LOWER(Channel) = \"security\"\n",
    "          AND EventID = 4688\n",
    "          AND LOWER(NewProcessName) LIKE \"%control.exe\"\n",
    "          AND LOWER(ParentProcessName) LIKE \"%sdclt.exe\"\n",
    "    ) b\n",
    "    ON a.ProcessId = b.NewProcessId\n",
    "    WHERE LOWER(a.Channel) = \"security\"\n",
    "      AND a.EventID = 4688\n",
    "      AND a.MandatoryLabel = \"S-1-16-12288\"\n",
    "      AND a.TokenElevationType = \"%%1937\"\n",
    ") c\n",
    "ON LOWER(hex(CAST(ProcessId as INT))) = c.NewProcessId\n",
    "WHERE LOWER(Channel) = \"security\"\n",
    "    AND d.EventID = 5156\n",
    "\n",
    "'''\n",
    ")\n",
    "df.show(100,truncate = False, vertical = True)"
   ]
  },
  {
   "cell_type": "code",
   "execution_count": null,
   "metadata": {},
   "outputs": [],
   "source": [
    "df_labelled = apply_label(df_labelled, df, df.columns[0], \"3.B.3. Commonly Used Port\")"
   ]
  },
  {
   "cell_type": "markdown",
   "metadata": {},
   "source": [
    "## 3.B.4. Standard Application Layer Protocol\n",
    "**Procedure:** Used HTTPS to transport C2 (192.168.0.5) traffic\n",
    "\n",
    "**Criteria:** Evidence that the network data sent over the C2 channel is HTTPS\n"
   ]
  },
  {
   "cell_type": "markdown",
   "metadata": {},
   "source": [
    "### Detection Type:None(None)"
   ]
  },
  {
   "cell_type": "markdown",
   "metadata": {},
   "source": [
    "## 3.B.5. Standard Cryptographic Protocol\n",
    "**Procedure:** Used HTTPS to encrypt C2 (192.168.0.5) traffic\n",
    "\n",
    "**Criteria:** Evidence that the network data sent over the C2 channel is encrypted\n"
   ]
  },
  {
   "cell_type": "markdown",
   "metadata": {},
   "source": [
    "### Detection Type:None(None)"
   ]
  },
  {
   "cell_type": "markdown",
   "metadata": {},
   "source": [
    "## 3.C.1. Modify Registry\n",
    "**Procedure:** Modified the Registry to remove artifacts of COM hijacking\n",
    "\n",
    "**Criteria:** Deletion of of the HKCU\\Software\\Classes\\Folder\\shell\\Open\\command subkey\n"
   ]
  },
  {
   "cell_type": "markdown",
   "metadata": {},
   "source": [
    "### Detection Type:Telemetry(Correlated)"
   ]
  },
  {
   "cell_type": "markdown",
   "metadata": {},
   "source": [
    "**Query ID:22A46621-7A92-48C1-81BF-B3937EB4FDC3**"
   ]
  },
  {
   "cell_type": "code",
   "execution_count": null,
   "metadata": {},
   "outputs": [],
   "source": [
    "df = spark.sql(\n",
    "'''\n",
    "SELECT Message\n",
    "FROM apt29Host d\n",
    "INNER JOIN (\n",
    "    SELECT b.ProcessGuid\n",
    "    FROM apt29Host b\n",
    "    INNER JOIN (\n",
    "        SELECT ProcessGuid\n",
    "        FROM apt29Host\n",
    "        WHERE Channel = \"Microsoft-Windows-Sysmon/Operational\"\n",
    "            AND EventID = 1\n",
    "            AND LOWER(ParentImage) RLIKE '.*\\\\â€Ž|â€|â€ª|â€«|â€¬|â€|â€®.*'\n",
    "    ) a\n",
    "    ON b.ParentProcessGuid = a.ProcessGuid\n",
    "    WHERE b.Channel = \"Microsoft-Windows-Sysmon/Operational\"\n",
    "        AND b.EventID = 1\n",
    ") c\n",
    "ON d.ProcessGuid = c.ProcessGuid\n",
    "WHERE d.Channel = \"Microsoft-Windows-Sysmon/Operational\"\n",
    "  AND d.EventID = 12\n",
    "  AND LOWER(d.TargetObject) RLIKE '.*\\\\\\\\\\\\\\\\folder\\\\\\\\\\\\\\\\shell\\\\\\\\\\\\\\\\open\\\\\\\\\\\\\\\\command.*'\n",
    "  AND d.Message RLIKE '.*EventType: DeleteKey.*'\n",
    "\n",
    "'''\n",
    ")\n",
    "df.show(100,truncate = False, vertical = True)"
   ]
  },
  {
   "cell_type": "code",
   "execution_count": null,
   "metadata": {},
   "outputs": [],
   "source": [
    "df_labelled = apply_label(df_labelled, df, df.columns[0], \"3.C.1. Modify Registry\")"
   ]
  },
  {
   "cell_type": "markdown",
   "metadata": {},
   "source": [
    "## 4.A.1. Remote File Copy\n",
    "**Procedure:** Dropped additional tools (SysinternalsSuite.zip) to disk over C2 channel (192.168.0.5)\n",
    "\n",
    "**Criteria:** powershell.exe creating the file SysinternalsSuite.zip\n"
   ]
  },
  {
   "cell_type": "code",
   "execution_count": null,
   "metadata": {},
   "outputs": [],
   "source": [
    "df_labelled = df_labelled.checkpoint()"
   ]
  },
  {
   "cell_type": "markdown",
   "metadata": {},
   "source": [
    "### Detection Type:Telemetry(Correlated)"
   ]
  },
  {
   "cell_type": "markdown",
   "metadata": {},
   "source": [
    "**Query ID:337EA65D-55A7-4890-BB2A-6A08BB9703E2**"
   ]
  },
  {
   "cell_type": "code",
   "execution_count": null,
   "metadata": {},
   "outputs": [],
   "source": [
    "df = spark.sql(\n",
    "'''\n",
    "SELECT Message\n",
    "FROM apt29Host d\n",
    "INNER JOIN (\n",
    "    SELECT b.ProcessGuid\n",
    "    FROM apt29Host b\n",
    "    INNER JOIN (\n",
    "        SELECT ProcessGuid\n",
    "        FROM apt29Host\n",
    "        WHERE Channel = \"Microsoft-Windows-Sysmon/Operational\"\n",
    "            AND EventID = 1\n",
    "            AND LOWER(ParentImage) RLIKE '.*\\\\â€Ž|â€|â€ª|â€«|â€¬|â€|â€®.*'\n",
    "    ) a\n",
    "    ON b.ParentProcessGuid = a.ProcessGuid\n",
    "    WHERE b.Channel = \"Microsoft-Windows-Sysmon/Operational\"\n",
    "        AND b.EventID = 1\n",
    ") c\n",
    "ON d.ProcessGuid = c.ProcessGuid\n",
    "WHERE d.Channel = \"Microsoft-Windows-Sysmon/Operational\"\n",
    "  AND d.EventID = 11\n",
    "  AND LOWER(d.TargetFilename) LIKE '%.zip'\n",
    "\n",
    "'''\n",
    ")\n",
    "df.show(100,truncate = False, vertical = True)"
   ]
  },
  {
   "cell_type": "code",
   "execution_count": null,
   "metadata": {},
   "outputs": [],
   "source": [
    "df_labelled = apply_label(df_labelled, df, df.columns[0], \"4.A.1. Remote File Copy\")"
   ]
  },
  {
   "cell_type": "markdown",
   "metadata": {},
   "source": [
    "## 4.A.2. PowerShell\n",
    "**Procedure:** Spawned interactive powershell.exe\n",
    "\n",
    "**Criteria:** powershell.exe spawning from powershell.exe\n"
   ]
  },
  {
   "cell_type": "markdown",
   "metadata": {},
   "source": [
    "### Detection Type:Telemetry(Correlated)"
   ]
  },
  {
   "cell_type": "markdown",
   "metadata": {},
   "source": [
    "**Query ID:B86F90BD-716C-4432-AE97-901174F111A8**"
   ]
  },
  {
   "cell_type": "code",
   "execution_count": null,
   "metadata": {},
   "outputs": [],
   "source": [
    "df = spark.sql(\n",
    "'''\n",
    "SELECT Message\n",
    "FROM apt29Host d\n",
    "INNER JOIN (\n",
    "    SELECT a.ProcessGuid, a.ParentProcessGuid\n",
    "    FROM apt29Host a\n",
    "    INNER JOIN (\n",
    "      SELECT ProcessGuid\n",
    "      FROM apt29Host\n",
    "      WHERE Channel = \"Microsoft-Windows-Sysmon/Operational\"\n",
    "          AND EventID = 1\n",
    "          AND LOWER(Image) LIKE \"%control.exe\"\n",
    "          AND LOWER(ParentImage) LIKE \"%sdclt.exe\"\n",
    "    ) b\n",
    "    ON a.ParentProcessGuid = b.ProcessGuid\n",
    "    WHERE a.Channel = \"Microsoft-Windows-Sysmon/Operational\"\n",
    "      AND a.EventID = 1\n",
    "      AND a.IntegrityLevel = \"High\"\n",
    ") c\n",
    "ON d.ParentProcessGuid= c.ProcessGuid\n",
    "WHERE d.Channel = \"Microsoft-Windows-Sysmon/Operational\"\n",
    "    AND d.EventID = 1\n",
    "    AND d.Image LIKE '%powershell.exe'\n",
    "\n",
    "'''\n",
    ")\n",
    "df.show(100,truncate = False, vertical = True)"
   ]
  },
  {
   "cell_type": "code",
   "execution_count": null,
   "metadata": {},
   "outputs": [],
   "source": [
    "df_labelled = apply_label(df_labelled, df, df.columns[0], \"4.A.2. PowerShell\")"
   ]
  },
  {
   "cell_type": "markdown",
   "metadata": {},
   "source": [
    "**Query ID:FA520225-1813-4EF2-BA58-98CB59C897D7**"
   ]
  },
  {
   "cell_type": "code",
   "execution_count": null,
   "metadata": {},
   "outputs": [],
   "source": [
    "df = spark.sql(\n",
    "'''\n",
    "SELECT Message\n",
    "FROM apt29Host d\n",
    "INNER JOIN(\n",
    "    SELECT a.ProcessId, a.NewProcessId\n",
    "    FROM apt29Host a\n",
    "    INNER JOIN (\n",
    "      SELECT NewProcessId\n",
    "      FROM apt29Host\n",
    "      WHERE LOWER(Channel) = \"security\"\n",
    "          AND EventID = 4688\n",
    "          AND LOWER(NewProcessName) LIKE \"%control.exe\"\n",
    "          AND LOWER(ParentProcessName) LIKE \"%sdclt.exe\"\n",
    "    ) b\n",
    "    ON a.ProcessId = b.NewProcessId\n",
    "    WHERE LOWER(a.Channel) = \"security\"\n",
    "      AND a.EventID = 4688\n",
    "      AND a.MandatoryLabel = \"S-1-16-12288\"\n",
    "      AND a.TokenElevationType = \"%%1937\"\n",
    ") c\n",
    "ON d.ProcessId = c.NewProcessId\n",
    "WHERE LOWER(d.Channel) = \"security\"\n",
    "    AND d.EventID = 4688\n",
    "    AND d.NewProcessName LIKE '%powershell.exe'\n",
    "\n",
    "'''\n",
    ")\n",
    "df.show(100,truncate = False, vertical = True)"
   ]
  },
  {
   "cell_type": "code",
   "execution_count": null,
   "metadata": {},
   "outputs": [],
   "source": [
    "df_labelled = apply_label(df_labelled, df, df.columns[0], \"4.A.2. PowerShell\")"
   ]
  },
  {
   "cell_type": "markdown",
   "metadata": {},
   "source": [
    "## 4.A.3. Deobfuscate/Decode Files or Information\n",
    "**Procedure:** Decompressed ZIP (SysinternalsSuite.zip) file using PowerShell\n",
    "\n",
    "**Criteria:** powershell.exe executing Expand-Archive\n"
   ]
  },
  {
   "cell_type": "markdown",
   "metadata": {},
   "source": [
    "### Detection Type:Telemetry(Correlated)"
   ]
  },
  {
   "cell_type": "markdown",
   "metadata": {},
   "source": [
    "**Query ID:66B068A4-C3AB-4973-AE07-2C15AFF78104**"
   ]
  },
  {
   "cell_type": "code",
   "execution_count": null,
   "metadata": {},
   "outputs": [],
   "source": [
    "df = spark.sql(\n",
    "'''\n",
    "SELECT Payload\n",
    "FROM apt29Host f\n",
    "INNER JOIN (\n",
    "    SELECT d.ProcessId\n",
    "    FROM apt29Host d\n",
    "    INNER JOIN (\n",
    "      SELECT a.ProcessGuid, a.ParentProcessGuid\n",
    "      FROM apt29Host a\n",
    "      INNER JOIN (\n",
    "        SELECT ProcessGuid\n",
    "        FROM apt29Host\n",
    "        WHERE Channel = \"Microsoft-Windows-Sysmon/Operational\"\n",
    "            AND EventID = 1\n",
    "            AND LOWER(Image) LIKE \"%control.exe\"\n",
    "            AND LOWER(ParentImage) LIKE \"%sdclt.exe\"\n",
    "      ) b\n",
    "      ON a.ParentProcessGuid = b.ProcessGuid\n",
    "      WHERE a.Channel = \"Microsoft-Windows-Sysmon/Operational\"\n",
    "        AND a.EventID = 1\n",
    "        AND a.IntegrityLevel = \"High\"\n",
    "    ) c\n",
    "    ON d.ParentProcessGuid= c.ProcessGuid\n",
    "    WHERE d.Channel = \"Microsoft-Windows-Sysmon/Operational\"\n",
    "      AND d.EventID = 1\n",
    "      AND d.Image LIKE '%powershell.exe'\n",
    ") e\n",
    "ON f.ExecutionProcessID = e.ProcessId\n",
    "WHERE f.Channel = \"Microsoft-Windows-PowerShell/Operational\"\n",
    "    AND f.EventID = 4103\n",
    "    AND LOWER(f.Payload) LIKE \"%expand-archive%\"\n",
    "\n",
    "'''\n",
    ")\n",
    "df.show(100,truncate = False, vertical = True)"
   ]
  },
  {
   "cell_type": "code",
   "execution_count": null,
   "metadata": {},
   "outputs": [],
   "source": [
    "df_labelled = apply_label(df_labelled, df, df.columns[0], \"4.A.3. Deobfuscate/Decode Files or Information\")"
   ]
  },
  {
   "cell_type": "markdown",
   "metadata": {},
   "source": [
    "**Query ID:09F29912-8E93-461E-9E89-3F06F6763383**"
   ]
  },
  {
   "cell_type": "code",
   "execution_count": null,
   "metadata": {},
   "outputs": [],
   "source": [
    "df = spark.sql(\n",
    "'''\n",
    "SELECT Message\n",
    "FROM apt29Host f\n",
    "INNER JOIN (\n",
    "    SELECT d.ProcessId\n",
    "    FROM apt29Host d\n",
    "    INNER JOIN (\n",
    "      SELECT a.ProcessGuid, a.ParentProcessGuid\n",
    "      FROM apt29Host a\n",
    "      INNER JOIN (\n",
    "        SELECT ProcessGuid\n",
    "        FROM apt29Host\n",
    "        WHERE Channel = \"Microsoft-Windows-Sysmon/Operational\"\n",
    "            AND EventID = 1\n",
    "            AND LOWER(Image) LIKE \"%control.exe\"\n",
    "            AND LOWER(ParentImage) LIKE \"%sdclt.exe\"\n",
    "      ) b\n",
    "      ON a.ParentProcessGuid = b.ProcessGuid\n",
    "      WHERE a.Channel = \"Microsoft-Windows-Sysmon/Operational\"\n",
    "        AND a.EventID = 1\n",
    "        AND a.IntegrityLevel = \"High\"\n",
    "    ) c\n",
    "    ON d.ParentProcessGuid= c.ProcessGuid\n",
    "    WHERE d.Channel = \"Microsoft-Windows-Sysmon/Operational\"\n",
    "      AND d.EventID = 1\n",
    "      AND d.Image LIKE '%powershell.exe'\n",
    ") e\n",
    "ON f.ExecutionProcessID = e.ProcessId\n",
    "WHERE f.Channel = \"Microsoft-Windows-PowerShell/Operational\"\n",
    "    AND f.EventID = 4104\n",
    "    AND LOWER(f.ScriptBlockText) LIKE \"%expand-archive%\"\n",
    "\n",
    "'''\n",
    ")\n",
    "df.show(100,truncate = False, vertical = True)"
   ]
  },
  {
   "cell_type": "code",
   "execution_count": null,
   "metadata": {},
   "outputs": [],
   "source": [
    "df_labelled = apply_label(df_labelled, df, df.columns[0], \"4.A.3. Deobfuscate/Decode Files or Information\")"
   ]
  },
  {
   "cell_type": "markdown",
   "metadata": {},
   "source": [
    "**Query ID:B5F24262-9373-43A4-A83F-0DBB708BD2C0**"
   ]
  },
  {
   "cell_type": "code",
   "execution_count": null,
   "metadata": {},
   "outputs": [],
   "source": [
    "df = spark.sql(\n",
    "'''\n",
    "SELECT Payload\n",
    "FROM apt29Host f\n",
    "INNER JOIN (\n",
    "    SELECT split(d.NewProcessId, '0x')[1] as NewProcessId\n",
    "    FROM apt29Host d\n",
    "    INNER JOIN(\n",
    "      SELECT a.ProcessId, a.NewProcessId\n",
    "      FROM apt29Host a\n",
    "      INNER JOIN (\n",
    "        SELECT NewProcessId\n",
    "        FROM apt29Host\n",
    "        WHERE LOWER(Channel) = \"security\"\n",
    "            AND EventID = 4688\n",
    "            AND LOWER(NewProcessName) LIKE \"%control.exe\"\n",
    "            AND LOWER(ParentProcessName) LIKE \"%sdclt.exe\"\n",
    "      ) b\n",
    "      ON a.ProcessId = b.NewProcessId\n",
    "      WHERE LOWER(a.Channel) = \"security\"\n",
    "        AND a.EventID = 4688\n",
    "        AND a.MandatoryLabel = \"S-1-16-12288\"\n",
    "        AND a.TokenElevationType = \"%%1937\"\n",
    "    ) c\n",
    "    ON d.ProcessId = c.NewProcessId\n",
    "    WHERE LOWER(d.Channel) = \"security\"\n",
    "      AND d.EventID = 4688\n",
    "      AND d.NewProcessName LIKE '%powershell.exe'\n",
    ") e\n",
    "ON LOWER(hex(f.ExecutionProcessID)) = e.NewProcessId\n",
    "WHERE f.Channel = \"Microsoft-Windows-PowerShell/Operational\"\n",
    "    AND f.EventID = 4103\n",
    "    AND LOWER(f.Payload) LIKE \"%expand-archive%\"\n",
    "\n",
    "'''\n",
    ")\n",
    "df.show(100,truncate = False, vertical = True)"
   ]
  },
  {
   "cell_type": "code",
   "execution_count": null,
   "metadata": {},
   "outputs": [],
   "source": [
    "df_labelled = apply_label(df_labelled, df, df.columns[0], \"4.A.3. Deobfuscate/Decode Files or Information\")"
   ]
  },
  {
   "cell_type": "markdown",
   "metadata": {},
   "source": [
    "**Query ID:4310F2AF-11EF-4EAC-A968-3436FE5F6140**"
   ]
  },
  {
   "cell_type": "code",
   "execution_count": null,
   "metadata": {},
   "outputs": [],
   "source": [
    "df = spark.sql(\n",
    "'''\n",
    "SELECT Message\n",
    "FROM apt29Host f\n",
    "INNER JOIN (\n",
    "    SELECT split(d.NewProcessId, '0x')[1] as NewProcessId\n",
    "    FROM apt29Host d\n",
    "    INNER JOIN(\n",
    "      SELECT a.ProcessId, a.NewProcessId\n",
    "      FROM apt29Host a\n",
    "      INNER JOIN (\n",
    "        SELECT NewProcessId\n",
    "        FROM apt29Host\n",
    "        WHERE LOWER(Channel) = \"security\"\n",
    "            AND EventID = 4688\n",
    "            AND LOWER(NewProcessName) LIKE \"%control.exe\"\n",
    "            AND LOWER(ParentProcessName) LIKE \"%sdclt.exe\"\n",
    "      ) b\n",
    "      ON a.ProcessId = b.NewProcessId\n",
    "      WHERE LOWER(a.Channel) = \"security\"\n",
    "        AND a.EventID = 4688\n",
    "        AND a.MandatoryLabel = \"S-1-16-12288\"\n",
    "        AND a.TokenElevationType = \"%%1937\"\n",
    "    ) c\n",
    "    ON d.ProcessId = c.NewProcessId\n",
    "    WHERE LOWER(d.Channel) = \"security\"\n",
    "      AND d.EventID = 4688\n",
    "      AND d.NewProcessName LIKE '%powershell.exe'\n",
    ") e\n",
    "ON LOWER(hex(f.ExecutionProcessID)) = e.NewProcessId\n",
    "WHERE f.Channel = \"Microsoft-Windows-PowerShell/Operational\"\n",
    "    AND f.EventID = 4104\n",
    "    AND LOWER(f.ScriptBlockText) LIKE \"%expand-archive%\"\n",
    "\n",
    "'''\n",
    ")\n",
    "df.show(100,truncate = False, vertical = True)"
   ]
  },
  {
   "cell_type": "code",
   "execution_count": null,
   "metadata": {},
   "outputs": [],
   "source": [
    "df_labelled = apply_label(df_labelled, df, df.columns[0], \"4.A.3. Deobfuscate/Decode Files or Information\")"
   ]
  },
  {
   "cell_type": "markdown",
   "metadata": {},
   "source": [
    "## 4.B.1. Process Discovery\n",
    "**Procedure:** Enumerated current running processes using PowerShell\n",
    "\n",
    "**Criteria:** powershell.exe executing Get-Process\n"
   ]
  },
  {
   "cell_type": "markdown",
   "metadata": {},
   "source": [
    "### Detection Type:Telemetry(Correlated)"
   ]
  },
  {
   "cell_type": "markdown",
   "metadata": {},
   "source": [
    "**Query ID:CE6D61C3-C3B5-43D2-BD3C-4C1711A822DA**"
   ]
  },
  {
   "cell_type": "code",
   "execution_count": null,
   "metadata": {},
   "outputs": [],
   "source": [
    "df = spark.sql(\n",
    "'''\n",
    "SELECT Message\n",
    "FROM apt29Host f\n",
    "INNER JOIN (\n",
    "    SELECT d.ProcessId\n",
    "    FROM apt29Host d\n",
    "    INNER JOIN (\n",
    "      SELECT a.ProcessGuid, a.ParentProcessGuid\n",
    "      FROM apt29Host a\n",
    "      INNER JOIN (\n",
    "        SELECT ProcessGuid\n",
    "        FROM apt29Host\n",
    "        WHERE Channel = \"Microsoft-Windows-Sysmon/Operational\"\n",
    "            AND EventID = 1\n",
    "            AND LOWER(Image) LIKE \"%control.exe\"\n",
    "            AND LOWER(ParentImage) LIKE \"%sdclt.exe\"\n",
    "      ) b\n",
    "      ON a.ParentProcessGuid = b.ProcessGuid\n",
    "      WHERE a.Channel = \"Microsoft-Windows-Sysmon/Operational\"\n",
    "        AND a.EventID = 1\n",
    "        AND a.IntegrityLevel = \"High\"\n",
    "    ) c\n",
    "    ON d.ParentProcessGuid= c.ProcessGuid\n",
    "    WHERE d.Channel = \"Microsoft-Windows-Sysmon/Operational\"\n",
    "      AND d.EventID = 1\n",
    "      AND d.Image LIKE '%powershell.exe'\n",
    ") e\n",
    "ON f.ExecutionProcessID = e.ProcessId\n",
    "WHERE f.Channel = \"Microsoft-Windows-PowerShell/Operational\"\n",
    "    AND f.EventID = 4104\n",
    "    AND LOWER(f.ScriptBlockText) LIKE \"%get-process%\"\n",
    "\n",
    "'''\n",
    ")\n",
    "df.show(100,truncate = False, vertical = True)"
   ]
  },
  {
   "cell_type": "code",
   "execution_count": null,
   "metadata": {},
   "outputs": [],
   "source": [
    "df_labelled = apply_label(df_labelled, df, df.columns[0], \"4.B.1. Process Discovery\")"
   ]
  },
  {
   "cell_type": "markdown",
   "metadata": {},
   "source": [
    "**Query ID:294DFB34-1FA8-464D-B85C-F2AE163DB4A9**"
   ]
  },
  {
   "cell_type": "code",
   "execution_count": null,
   "metadata": {},
   "outputs": [],
   "source": [
    "df = spark.sql(\n",
    "'''\n",
    "SELECT Message\n",
    "FROM apt29Host f\n",
    "INNER JOIN (\n",
    "    SELECT split(d.NewProcessId, '0x')[1] as NewProcessId\n",
    "    FROM apt29Host d\n",
    "    INNER JOIN(\n",
    "      SELECT a.ProcessId, a.NewProcessId\n",
    "      FROM apt29Host a\n",
    "      INNER JOIN (\n",
    "        SELECT NewProcessId\n",
    "        FROM apt29Host\n",
    "        WHERE LOWER(Channel) = \"security\"\n",
    "            AND EventID = 4688\n",
    "            AND LOWER(NewProcessName) LIKE \"%control.exe\"\n",
    "            AND LOWER(ParentProcessName) LIKE \"%sdclt.exe\"\n",
    "      ) b\n",
    "      ON a.ProcessId = b.NewProcessId\n",
    "      WHERE LOWER(a.Channel) = \"security\"\n",
    "        AND a.EventID = 4688\n",
    "        AND a.MandatoryLabel = \"S-1-16-12288\"\n",
    "        AND a.TokenElevationType = \"%%1937\"\n",
    "    ) c\n",
    "    ON d.ProcessId = c.NewProcessId\n",
    "    WHERE LOWER(d.Channel) = \"security\"\n",
    "      AND d.EventID = 4688\n",
    "      AND d.NewProcessName LIKE '%powershell.exe'\n",
    ") e\n",
    "ON LOWER(hex(f.ExecutionProcessID)) = e.NewProcessId\n",
    "WHERE f.Channel = \"Microsoft-Windows-PowerShell/Operational\"\n",
    "    AND f.EventID = 4104\n",
    "    AND LOWER(f.ScriptBlockText) LIKE \"%get-process%\"\n",
    "\n",
    "'''\n",
    ")\n",
    "df.show(100,truncate = False, vertical = True)"
   ]
  },
  {
   "cell_type": "code",
   "execution_count": null,
   "metadata": {},
   "outputs": [],
   "source": [
    "df_labelled = apply_label(df_labelled, df, df.columns[0], \"4.B.1. Process Discovery\")"
   ]
  },
  {
   "cell_type": "markdown",
   "metadata": {},
   "source": [
    "## 4.B.2. File Deletion\n",
    "**Procedure:** Deleted rcs.3aka3.doc on disk using SDelete\n",
    "\n",
    "**Criteria:** sdelete64.exe deleting the file rcs.3aka3.doc\n"
   ]
  },
  {
   "cell_type": "markdown",
   "metadata": {},
   "source": [
    "### Detection Type:Telemetry(Correlated)"
   ]
  },
  {
   "cell_type": "markdown",
   "metadata": {},
   "source": [
    "**Query ID:5EED5350-0BFD-4501-8B2D-4CE4F8F9E948**"
   ]
  },
  {
   "cell_type": "code",
   "execution_count": null,
   "metadata": {},
   "outputs": [],
   "source": [
    "df = spark.sql(\n",
    "'''\n",
    "SELECT f.ProcessGuid\n",
    "FROM apt29Host f\n",
    "INNER JOIN (\n",
    "    SELECT d.ProcessId, d.ProcessGuid\n",
    "    FROM apt29Host d\n",
    "    INNER JOIN (\n",
    "      SELECT a.ProcessGuid, a.ParentProcessGuid\n",
    "      FROM apt29Host a\n",
    "      INNER JOIN (\n",
    "        SELECT ProcessGuid\n",
    "        FROM apt29Host\n",
    "        WHERE Channel = \"Microsoft-Windows-Sysmon/Operational\"\n",
    "            AND EventID = 1\n",
    "            AND LOWER(Image) LIKE \"%control.exe\"\n",
    "            AND LOWER(ParentImage) LIKE \"%sdclt.exe\"\n",
    "      ) b\n",
    "      ON a.ParentProcessGuid = b.ProcessGuid\n",
    "      WHERE a.Channel = \"Microsoft-Windows-Sysmon/Operational\"\n",
    "        AND a.EventID = 1\n",
    "        AND a.IntegrityLevel = \"High\"\n",
    "    ) c\n",
    "    ON d.ParentProcessGuid= c.ProcessGuid\n",
    "    WHERE d.Channel = \"Microsoft-Windows-Sysmon/Operational\"\n",
    "      AND d.EventID = 1\n",
    "      AND d.Image LIKE '%powershell.exe'\n",
    ") e\n",
    "ON f.ParentProcessGuid = e.ProcessGuid\n",
    "WHERE f.Channel = \"Microsoft-Windows-Sysmon/Operational\"\n",
    "    AND f.EventID = 1\n",
    "    AND LOWER(f.Image) LIKE '%sdelete%'\n",
    "    AND LOWER(f.CommandLine) LIKE '%3aka3%'\n",
    "\n",
    "'''\n",
    ")\n",
    "df.show(100,truncate = False, vertical = True)"
   ]
  },
  {
   "cell_type": "code",
   "execution_count": null,
   "metadata": {},
   "outputs": [],
   "source": [
    "df = spark.sql(\n",
    "'''\n",
    "SELECT f.Message\n",
    "FROM apt29Host f\n",
    "INNER JOIN (\n",
    "    SELECT d.ProcessId, d.ProcessGuid\n",
    "    FROM apt29Host d\n",
    "    INNER JOIN (\n",
    "      SELECT a.ProcessGuid, a.ParentProcessGuid\n",
    "      FROM apt29Host a\n",
    "      INNER JOIN (\n",
    "        SELECT ProcessGuid\n",
    "        FROM apt29Host\n",
    "        WHERE Channel = \"Microsoft-Windows-Sysmon/Operational\"\n",
    "            AND EventID = 1\n",
    "            AND LOWER(Image) LIKE \"%control.exe\"\n",
    "            AND LOWER(ParentImage) LIKE \"%sdclt.exe\"\n",
    "      ) b\n",
    "      ON a.ParentProcessGuid = b.ProcessGuid\n",
    "      WHERE a.Channel = \"Microsoft-Windows-Sysmon/Operational\"\n",
    "        AND a.EventID = 1\n",
    "        AND a.IntegrityLevel = \"High\"\n",
    "    ) c\n",
    "    ON d.ParentProcessGuid= c.ProcessGuid\n",
    "    WHERE d.Channel = \"Microsoft-Windows-Sysmon/Operational\"\n",
    "      AND d.EventID = 1\n",
    "      AND d.Image LIKE '%powershell.exe'\n",
    ") e\n",
    "ON f.ParentProcessGuid = e.ProcessGuid\n",
    "WHERE f.Channel = \"Microsoft-Windows-Sysmon/Operational\"\n",
    "    AND f.EventID = 1\n",
    "    AND LOWER(f.Image) LIKE '%sdelete%'\n",
    "    AND LOWER(f.CommandLine) LIKE '%3aka3%'\n",
    "\n",
    "'''\n",
    ")\n",
    "df.show(100,truncate = False, vertical = True)"
   ]
  },
  {
   "cell_type": "code",
   "execution_count": null,
   "metadata": {},
   "outputs": [],
   "source": [
    "df_labelled = apply_label(df_labelled, df, df.columns[0], \"4.B.2. File Deletion\")"
   ]
  },
  {
   "cell_type": "markdown",
   "metadata": {},
   "source": [
    "**Query ID:59A9AC92-124D-4C4B-A6BF-3121C98677C3**"
   ]
  },
  {
   "cell_type": "code",
   "execution_count": null,
   "metadata": {},
   "outputs": [],
   "source": [
    "df = spark.sql(\n",
    "'''\n",
    "SELECT Message\n",
    "FROM apt29Host h\n",
    "INNER JOIN (\n",
    "    SELECT f.ProcessGuid\n",
    "    FROM apt29Host f\n",
    "    INNER JOIN (\n",
    "      SELECT d.ProcessId, d.ProcessGuid\n",
    "      FROM apt29Host d\n",
    "      INNER JOIN (\n",
    "        SELECT a.ProcessGuid, a.ParentProcessGuid\n",
    "        FROM apt29Host a\n",
    "        INNER JOIN (\n",
    "          SELECT ProcessGuid\n",
    "          FROM apt29Host\n",
    "          WHERE Channel = \"Microsoft-Windows-Sysmon/Operational\"\n",
    "              AND EventID = 1\n",
    "              AND LOWER(Image) LIKE \"%control.exe\"\n",
    "              AND LOWER(ParentImage) LIKE \"%sdclt.exe\"\n",
    "        ) b\n",
    "        ON a.ParentProcessGuid = b.ProcessGuid\n",
    "        WHERE a.Channel = \"Microsoft-Windows-Sysmon/Operational\"\n",
    "          AND a.EventID = 1\n",
    "          AND a.IntegrityLevel = \"High\"\n",
    "      ) c\n",
    "      ON d.ParentProcessGuid= c.ProcessGuid\n",
    "      WHERE d.Channel = \"Microsoft-Windows-Sysmon/Operational\"\n",
    "        AND d.EventID = 1\n",
    "        AND d.Image LIKE '%powershell.exe'\n",
    "    ) e\n",
    "    ON f.ParentProcessGuid = e.ProcessGuid\n",
    "    WHERE f.Channel = \"Microsoft-Windows-Sysmon/Operational\"\n",
    "      AND f.EventID = 1\n",
    "      AND LOWER(f.Image) LIKE '%sdelete%'\n",
    "      AND LOWER(f.CommandLine) LIKE '%3aka3%'\n",
    ") g\n",
    "ON h.ProcessGuid = g.ProcessGuid\n",
    "WHERE h.Channel = \"Microsoft-Windows-Sysmon/Operational\"\n",
    "    AND h.EventID in (12,13)\n",
    "    AND LOWER(h.TargetObject) RLIKE '.*\\\\\\\\\\\\\\\\software\\\\\\\\\\\\\\\\sysinternals\\\\\\\\\\\\\\\\sdelete.*'\n",
    "\n",
    "'''\n",
    ")\n",
    "df.show(100,truncate = False, vertical = True)"
   ]
  },
  {
   "cell_type": "code",
   "execution_count": null,
   "metadata": {},
   "outputs": [],
   "source": [
    "df_labelled = apply_label(df_labelled, df, df.columns[0], \"4.B.2. File Deletion\")"
   ]
  },
  {
   "cell_type": "markdown",
   "metadata": {},
   "source": [
    "**Query ID:3A1DC1C2-B640-4FCE-A71F-2F65AB060A8C**"
   ]
  },
  {
   "cell_type": "code",
   "execution_count": null,
   "metadata": {},
   "outputs": [],
   "source": [
    "df = spark.sql(\n",
    "'''\n",
    "SELECT Message\n",
    "FROM apt29Host f\n",
    "INNER JOIN (\n",
    "  SELECT d.NewProcessId\n",
    "  FROM apt29Host d\n",
    "  INNER JOIN(\n",
    "    SELECT a.ProcessId, a.NewProcessId\n",
    "    FROM apt29Host a\n",
    "    INNER JOIN (\n",
    "      SELECT NewProcessId\n",
    "      FROM apt29Host\n",
    "      WHERE LOWER(Channel) = \"security\"\n",
    "          AND EventID = 4688\n",
    "          AND LOWER(NewProcessName) LIKE \"%control.exe\"\n",
    "          AND LOWER(ParentProcessName) LIKE \"%sdclt.exe\"\n",
    "    ) b\n",
    "    ON a.ProcessId = b.NewProcessId\n",
    "    WHERE LOWER(a.Channel) = \"security\"\n",
    "      AND a.EventID = 4688\n",
    "      AND a.MandatoryLabel = \"S-1-16-12288\"\n",
    "      AND a.TokenElevationType = \"%%1937\"\n",
    "  ) c\n",
    "  ON d.ProcessId = c.NewProcessId\n",
    "  WHERE LOWER(d.Channel) = \"security\"\n",
    "    AND d.EventID = 4688\n",
    "    AND d.NewProcessName LIKE '%powershell.exe'\n",
    ") e\n",
    "ON f.ProcessId = e.NewProcessId\n",
    "WHERE LOWER(f.Channel) = \"security\"\n",
    "  AND f.EventID = 4688\n",
    "  AND LOWER(f.NewProcessName) LIKE '%sdelete%'\n",
    "  AND LOWER(f.CommandLine) LIKE '%3aka3%'\n",
    "\n",
    "'''\n",
    ")\n",
    "df.show(100,truncate = False, vertical = True)"
   ]
  },
  {
   "cell_type": "code",
   "execution_count": null,
   "metadata": {},
   "outputs": [],
   "source": [
    "df_labelled = apply_label(df_labelled, df, df.columns[0], \"4.B.2. File Deletion\")"
   ]
  },
  {
   "cell_type": "markdown",
   "metadata": {},
   "source": [
    "## 4.B.3. File Deletion\n",
    "**Procedure:** Deleted Draft.zip on disk using SDelete\n",
    "\n",
    "**Criteria:** sdelete64.exe deleting the file draft.zip\n"
   ]
  },
  {
   "cell_type": "markdown",
   "metadata": {},
   "source": [
    "### Detection Type:Telemetry(Correlated)"
   ]
  },
  {
   "cell_type": "markdown",
   "metadata": {},
   "source": [
    "**Query ID:02D0BBFB-4BDF-4167-B530-253779745EF7**"
   ]
  },
  {
   "cell_type": "code",
   "execution_count": null,
   "metadata": {},
   "outputs": [],
   "source": [
    "df = spark.sql(\n",
    "'''\n",
    "SELECT Message, g.CommandLine\n",
    "FROM apt29Host h\n",
    "INNER JOIN (\n",
    "  SELECT f.ProcessGuid, f.CommandLine\n",
    "  FROM apt29Host f\n",
    "  INNER JOIN (\n",
    "    SELECT d.ProcessId, d.ProcessGuid\n",
    "    FROM apt29Host d\n",
    "    INNER JOIN (\n",
    "      SELECT a.ProcessGuid, a.ParentProcessGuid\n",
    "      FROM apt29Host a\n",
    "      INNER JOIN (\n",
    "        SELECT ProcessGuid\n",
    "        FROM apt29Host\n",
    "        WHERE Channel = \"Microsoft-Windows-Sysmon/Operational\"\n",
    "            AND EventID = 1\n",
    "            AND LOWER(Image) LIKE \"%control.exe\"\n",
    "            AND LOWER(ParentImage) LIKE \"%sdclt.exe\"\n",
    "      ) b\n",
    "      ON a.ParentProcessGuid = b.ProcessGuid\n",
    "      WHERE a.Channel = \"Microsoft-Windows-Sysmon/Operational\"\n",
    "        AND a.EventID = 1\n",
    "        AND a.IntegrityLevel = \"High\"\n",
    "    ) c\n",
    "    ON d.ParentProcessGuid= c.ProcessGuid\n",
    "    WHERE d.Channel = \"Microsoft-Windows-Sysmon/Operational\"\n",
    "      AND d.EventID = 1\n",
    "      AND d.Image LIKE '%powershell.exe'\n",
    "  ) e\n",
    "  ON f.ParentProcessGuid = e.ProcessGuid\n",
    "  WHERE f.Channel = \"Microsoft-Windows-Sysmon/Operational\"\n",
    "    AND f.EventID = 1\n",
    "    AND LOWER(f.Image) LIKE '%sdelete%'\n",
    "    AND LOWER(f.CommandLine) LIKE '%draft.zip%'\n",
    ") g\n",
    "ON h.ProcessGuid = g.ProcessGuid\n",
    "WHERE h.Channel = \"Microsoft-Windows-Sysmon/Operational\"\n",
    "  AND h.EventID = 23\n",
    "\n",
    "'''\n",
    ")\n",
    "df.show(100,truncate = False, vertical = True)"
   ]
  },
  {
   "cell_type": "code",
   "execution_count": null,
   "metadata": {},
   "outputs": [],
   "source": [
    "df_labelled = apply_label(df_labelled, df, df.columns[0], \"4.B.3. File Deletion\")"
   ]
  },
  {
   "cell_type": "markdown",
   "metadata": {},
   "source": [
    "**Query ID:719618E8-9EE7-4693-937E-1FD39228DEBC**"
   ]
  },
  {
   "cell_type": "code",
   "execution_count": null,
   "metadata": {},
   "outputs": [],
   "source": [
    "df = spark.sql(\n",
    "'''\n",
    "SELECT Message\n",
    "FROM apt29Host h\n",
    "INNER JOIN (\n",
    "  SELECT f.ProcessGuid\n",
    "  FROM apt29Host f\n",
    "  INNER JOIN (\n",
    "    SELECT d.ProcessId, d.ProcessGuid\n",
    "    FROM apt29Host d\n",
    "    INNER JOIN (\n",
    "      SELECT a.ProcessGuid, a.ParentProcessGuid\n",
    "      FROM apt29Host a\n",
    "      INNER JOIN (\n",
    "        SELECT ProcessGuid\n",
    "        FROM apt29Host\n",
    "        WHERE Channel = \"Microsoft-Windows-Sysmon/Operational\"\n",
    "            AND EventID = 1\n",
    "            AND LOWER(Image) LIKE \"%control.exe\"\n",
    "            AND LOWER(ParentImage) LIKE \"%sdclt.exe\"\n",
    "      ) b\n",
    "      ON a.ParentProcessGuid = b.ProcessGuid\n",
    "      WHERE a.Channel = \"Microsoft-Windows-Sysmon/Operational\"\n",
    "        AND a.EventID = 1\n",
    "        AND a.IntegrityLevel = \"High\"\n",
    "    ) c\n",
    "    ON d.ParentProcessGuid= c.ProcessGuid\n",
    "    WHERE d.Channel = \"Microsoft-Windows-Sysmon/Operational\"\n",
    "      AND d.EventID = 1\n",
    "      AND d.Image LIKE '%powershell.exe'\n",
    "  ) e\n",
    "  ON f.ParentProcessGuid = e.ProcessGuid\n",
    "  WHERE f.Channel = \"Microsoft-Windows-Sysmon/Operational\"\n",
    "    AND f.EventID = 1\n",
    "    AND LOWER(f.Image) LIKE '%sdelete%'\n",
    "    AND LOWER(f.CommandLine) LIKE '%draft.zip%'\n",
    ") g\n",
    "ON h.ProcessGuid = g.ProcessGuid\n",
    "WHERE h.Channel = \"Microsoft-Windows-Sysmon/Operational\"\n",
    "  AND h.EventID in (12,13)\n",
    "  AND LOWER(h.TargetObject) RLIKE '.*\\\\\\\\\\\\\\\\software\\\\\\\\\\\\\\\\sysinternals\\\\\\\\\\\\\\\\sdelete.*'\n",
    "\n",
    "'''\n",
    ")\n",
    "df.show(100,truncate = False, vertical = True)"
   ]
  },
  {
   "cell_type": "code",
   "execution_count": null,
   "metadata": {},
   "outputs": [],
   "source": [
    "df_labelled = apply_label(df_labelled, df, df.columns[0], \"4.B.3. File Deletion\")"
   ]
  },
  {
   "cell_type": "markdown",
   "metadata": {},
   "source": [
    "**Query ID:5A19E46B-8328-4867-81CF-87518A3784B1**"
   ]
  },
  {
   "cell_type": "code",
   "execution_count": null,
   "metadata": {},
   "outputs": [],
   "source": [
    "df = spark.sql(\n",
    "'''\n",
    "SELECT Message\n",
    "FROM apt29Host f\n",
    "INNER JOIN (\n",
    "SELECT d.NewProcessId\n",
    "FROM apt29Host d\n",
    "INNER JOIN(\n",
    "  SELECT a.ProcessId, a.NewProcessId\n",
    "  FROM apt29Host a\n",
    "  INNER JOIN (\n",
    "    SELECT NewProcessId\n",
    "    FROM apt29Host\n",
    "    WHERE LOWER(Channel) = \"security\"\n",
    "        AND EventID = 4688\n",
    "        AND LOWER(NewProcessName) LIKE \"%control.exe\"\n",
    "        AND LOWER(ParentProcessName) LIKE \"%sdclt.exe\"\n",
    "  ) b\n",
    "  ON a.ProcessId = b.NewProcessId\n",
    "  WHERE LOWER(a.Channel) = \"security\"\n",
    "    AND a.EventID = 4688\n",
    "    AND a.MandatoryLabel = \"S-1-16-12288\"\n",
    "    AND a.TokenElevationType = \"%%1937\"\n",
    ") c\n",
    "ON d.ProcessId = c.NewProcessId\n",
    "WHERE LOWER(d.Channel) = \"security\"\n",
    "  AND d.EventID = 4688\n",
    "  AND d.NewProcessName LIKE '%powershell.exe'\n",
    ") e\n",
    "ON f.ProcessId = e.NewProcessId\n",
    "WHERE LOWER(f.Channel) = \"security\"\n",
    "AND f.EventID = 4688\n",
    "AND LOWER(f.NewProcessName) LIKE '%sdelete%'\n",
    "AND LOWER(f.CommandLine) LIKE '%draft.zip'\n",
    "\n",
    "'''\n",
    ")\n",
    "df.show(100,truncate = False, vertical = True)"
   ]
  },
  {
   "cell_type": "code",
   "execution_count": null,
   "metadata": {},
   "outputs": [],
   "source": [
    "df_labelled = apply_label(df_labelled, df, df.columns[0], \"4.B.3. File Deletion\")"
   ]
  },
  {
   "cell_type": "markdown",
   "metadata": {},
   "source": [
    "## 4.B.4. File Deletion\n",
    "**Procedure:** Deleted SysinternalsSuite.zip on disk using SDelete\n",
    "\n",
    "**Criteria:** sdelete64.exe deleting the file SysinternalsSuite.zip\n"
   ]
  },
  {
   "cell_type": "markdown",
   "metadata": {},
   "source": [
    "### Detection Type:Telemetry(Correlated)"
   ]
  },
  {
   "cell_type": "markdown",
   "metadata": {},
   "source": [
    "**Query ID:83D62033-105A-4A02-8B75-DAB52D8D51EC**"
   ]
  },
  {
   "cell_type": "code",
   "execution_count": null,
   "metadata": {},
   "outputs": [],
   "source": [
    "df = spark.sql(\n",
    "'''\n",
    "SELECT Message, g.CommandLine\n",
    "FROM apt29Host h\n",
    "INNER JOIN (\n",
    "  SELECT f.ProcessGuid, f.CommandLine\n",
    "  FROM apt29Host f\n",
    "  INNER JOIN (\n",
    "    SELECT d.ProcessId, d.ProcessGuid\n",
    "    FROM apt29Host d\n",
    "    INNER JOIN (\n",
    "      SELECT a.ProcessGuid, a.ParentProcessGuid\n",
    "      FROM apt29Host a\n",
    "      INNER JOIN (\n",
    "        SELECT ProcessGuid\n",
    "        FROM apt29Host\n",
    "        WHERE Channel = \"Microsoft-Windows-Sysmon/Operational\"\n",
    "            AND EventID = 1\n",
    "            AND LOWER(Image) LIKE \"%control.exe\"\n",
    "            AND LOWER(ParentImage) LIKE \"%sdclt.exe\"\n",
    "      ) b\n",
    "      ON a.ParentProcessGuid = b.ProcessGuid\n",
    "      WHERE a.Channel = \"Microsoft-Windows-Sysmon/Operational\"\n",
    "        AND a.EventID = 1\n",
    "        AND a.IntegrityLevel = \"High\"\n",
    "    ) c\n",
    "    ON d.ParentProcessGuid= c.ProcessGuid\n",
    "    WHERE d.Channel = \"Microsoft-Windows-Sysmon/Operational\"\n",
    "      AND d.EventID = 1\n",
    "      AND d.Image LIKE '%powershell.exe'\n",
    "  ) e\n",
    "  ON f.ParentProcessGuid = e.ProcessGuid\n",
    "  WHERE f.Channel = \"Microsoft-Windows-Sysmon/Operational\"\n",
    "    AND f.EventID = 1\n",
    "    AND LOWER(f.Image) LIKE '%sdelete%'\n",
    "    AND LOWER(f.CommandLine) LIKE '%sysinternalssuite.zip%'\n",
    ") g\n",
    "ON h.ProcessGuid = g.ProcessGuid\n",
    "WHERE h.Channel = \"Microsoft-Windows-Sysmon/Operational\"\n",
    "  AND h.EventID = 23\n",
    "\n",
    "'''\n",
    ")\n",
    "df.show(100,truncate = False, vertical = True)"
   ]
  },
  {
   "cell_type": "code",
   "execution_count": null,
   "metadata": {},
   "outputs": [],
   "source": [
    "df_labelled = apply_label(df_labelled, df, df.columns[0], \"4.B.4. File Deletion\")"
   ]
  },
  {
   "cell_type": "markdown",
   "metadata": {},
   "source": [
    "**Query ID:AC2ECFF0-D817-4893-BDED-F16B837C4DBA**"
   ]
  },
  {
   "cell_type": "code",
   "execution_count": null,
   "metadata": {},
   "outputs": [],
   "source": [
    "df = spark.sql(\n",
    "'''\n",
    "SELECT Message\n",
    "FROM apt29Host h\n",
    "INNER JOIN (\n",
    "  SELECT f.ProcessGuid\n",
    "  FROM apt29Host f\n",
    "  INNER JOIN (\n",
    "    SELECT d.ProcessId, d.ProcessGuid\n",
    "    FROM apt29Host d\n",
    "    INNER JOIN (\n",
    "      SELECT a.ProcessGuid, a.ParentProcessGuid\n",
    "      FROM apt29Host a\n",
    "      INNER JOIN (\n",
    "        SELECT ProcessGuid\n",
    "        FROM apt29Host\n",
    "        WHERE Channel = \"Microsoft-Windows-Sysmon/Operational\"\n",
    "            AND EventID = 1\n",
    "            AND LOWER(Image) LIKE \"%control.exe\"\n",
    "            AND LOWER(ParentImage) LIKE \"%sdclt.exe\"\n",
    "      ) b\n",
    "      ON a.ParentProcessGuid = b.ProcessGuid\n",
    "      WHERE a.Channel = \"Microsoft-Windows-Sysmon/Operational\"\n",
    "        AND a.EventID = 1\n",
    "        AND a.IntegrityLevel = \"High\"\n",
    "    ) c\n",
    "    ON d.ParentProcessGuid= c.ProcessGuid\n",
    "    WHERE d.Channel = \"Microsoft-Windows-Sysmon/Operational\"\n",
    "      AND d.EventID = 1\n",
    "      AND d.Image LIKE '%powershell.exe'\n",
    "  ) e\n",
    "  ON f.ParentProcessGuid = e.ProcessGuid\n",
    "  WHERE f.Channel = \"Microsoft-Windows-Sysmon/Operational\"\n",
    "    AND f.EventID = 1\n",
    "    AND LOWER(f.Image) LIKE '%sdelete%'\n",
    "    AND LOWER(f.CommandLine) LIKE '%sysinternalssuite.zip%'\n",
    ") g\n",
    "ON h.ProcessGuid = g.ProcessGuid\n",
    "WHERE h.Channel = \"Microsoft-Windows-Sysmon/Operational\"\n",
    "  AND h.EventID in (12,13)\n",
    "  AND LOWER(h.TargetObject) RLIKE '.*\\\\\\\\\\\\\\\\software\\\\\\\\\\\\\\\\sysinternals\\\\\\\\\\\\\\\\sdelete.*'\n",
    "\n",
    "'''\n",
    ")\n",
    "df.show(100,truncate = False, vertical = True)"
   ]
  },
  {
   "cell_type": "code",
   "execution_count": null,
   "metadata": {},
   "outputs": [],
   "source": [
    "df_labelled = apply_label(df_labelled, df, df.columns[0], \"4.B.4. File Deletion\")"
   ]
  },
  {
   "cell_type": "markdown",
   "metadata": {},
   "source": [
    "**Query ID:4D6DE690-E92C-4D60-93E6-8E5C7C4DF143**"
   ]
  },
  {
   "cell_type": "code",
   "execution_count": null,
   "metadata": {},
   "outputs": [],
   "source": [
    "df = spark.sql(\n",
    "'''\n",
    "SELECT Message\n",
    "FROM apt29Host f\n",
    "INNER JOIN (\n",
    "SELECT d.NewProcessId\n",
    "FROM apt29Host d\n",
    "INNER JOIN(\n",
    "  SELECT a.ProcessId, a.NewProcessId\n",
    "  FROM apt29Host a\n",
    "  INNER JOIN (\n",
    "    SELECT NewProcessId\n",
    "    FROM apt29Host\n",
    "    WHERE LOWER(Channel) = \"security\"\n",
    "        AND EventID = 4688\n",
    "        AND LOWER(NewProcessName) LIKE \"%control.exe\"\n",
    "        AND LOWER(ParentProcessName) LIKE \"%sdclt.exe\"\n",
    "  ) b\n",
    "  ON a.ProcessId = b.NewProcessId\n",
    "  WHERE LOWER(a.Channel) = \"security\"\n",
    "    AND a.EventID = 4688\n",
    "    AND a.MandatoryLabel = \"S-1-16-12288\"\n",
    "    AND a.TokenElevationType = \"%%1937\"\n",
    ") c\n",
    "ON d.ProcessId = c.NewProcessId\n",
    "WHERE LOWER(d.Channel) = \"security\"\n",
    "  AND d.EventID = 4688\n",
    "  AND d.NewProcessName LIKE '%powershell.exe'\n",
    ") e\n",
    "ON f.ProcessId = e.NewProcessId\n",
    "WHERE LOWER(f.Channel) = \"security\"\n",
    "AND f.EventID = 4688\n",
    "AND LOWER(f.NewProcessName) LIKE '%sdelete%'\n",
    "AND LOWER(f.CommandLine) LIKE '%sysinternalssuite.zip'\n",
    "\n",
    "'''\n",
    ")\n",
    "df.show(100,truncate = False, vertical = True)"
   ]
  },
  {
   "cell_type": "code",
   "execution_count": null,
   "metadata": {},
   "outputs": [],
   "source": [
    "df_labelled = apply_label(df_labelled, df, df.columns[0], \"4.B.4. File Deletion\")"
   ]
  },
  {
   "cell_type": "markdown",
   "metadata": {},
   "source": [
    "## 4.C.1. File and Directory Discovery\n",
    "**Procedure:** Enumerated user's temporary directory path using PowerShell\n",
    "\n",
    "**Criteria:** powershell.exe executing $env:TEMP\n"
   ]
  },
  {
   "cell_type": "markdown",
   "metadata": {},
   "source": [
    "### Detection Type:Telemetry(Correlated)"
   ]
  },
  {
   "cell_type": "markdown",
   "metadata": {},
   "source": [
    "**Query ID:85BFD73C-875E-4208-AD9E-1922D4D4D991**"
   ]
  },
  {
   "cell_type": "code",
   "execution_count": null,
   "metadata": {},
   "outputs": [],
   "source": [
    "df = spark.sql(\n",
    "'''\n",
    "SELECT Message\n",
    "FROM apt29Host f\n",
    "INNER JOIN (\n",
    "  SELECT d.ProcessId\n",
    "  FROM apt29Host d\n",
    "  INNER JOIN (\n",
    "    SELECT a.ProcessGuid, a.ParentProcessGuid\n",
    "    FROM apt29Host a\n",
    "    INNER JOIN (\n",
    "      SELECT ProcessGuid\n",
    "      FROM apt29Host\n",
    "      WHERE Channel = \"Microsoft-Windows-Sysmon/Operational\"\n",
    "          AND EventID = 1\n",
    "          AND LOWER(Image) LIKE \"%control.exe\"\n",
    "          AND LOWER(ParentImage) LIKE \"%sdclt.exe\"\n",
    "    ) b\n",
    "    ON a.ParentProcessGuid = b.ProcessGuid\n",
    "    WHERE a.Channel = \"Microsoft-Windows-Sysmon/Operational\"\n",
    "      AND a.EventID = 1\n",
    "      AND a.IntegrityLevel = \"High\"\n",
    "  ) c\n",
    "  ON d.ParentProcessGuid= c.ProcessGuid\n",
    "  WHERE d.Channel = \"Microsoft-Windows-Sysmon/Operational\"\n",
    "    AND d.EventID = 1\n",
    "    AND d.Image LIKE '%powershell.exe'\n",
    ") e\n",
    "ON f.ExecutionProcessID = e.ProcessId\n",
    "WHERE f.Channel = \"Microsoft-Windows-PowerShell/Operational\"\n",
    "  AND f.EventID = 4104\n",
    "  AND LOWER(f.ScriptBlockText) LIKE \"%$env:temp%\"\n",
    "\n",
    "'''\n",
    ")\n",
    "df.show(100,truncate = False, vertical = True)"
   ]
  },
  {
   "cell_type": "code",
   "execution_count": null,
   "metadata": {},
   "outputs": [],
   "source": [
    "df_labelled = apply_label(df_labelled, df, df.columns[0], \"4.C.1. File and Directory Discovery\")"
   ]
  },
  {
   "cell_type": "markdown",
   "metadata": {},
   "source": [
    "**Query ID:D18CF7B9-CBF0-40CE-9D07-12DC83AF3B2F**"
   ]
  },
  {
   "cell_type": "code",
   "execution_count": null,
   "metadata": {},
   "outputs": [],
   "source": [
    "df = spark.sql(\n",
    "'''\n",
    "SELECT Message\n",
    "FROM apt29Host f\n",
    "INNER JOIN (\n",
    "  SELECT split(d.NewProcessId, '0x')[1] as NewProcessId\n",
    "  FROM apt29Host d\n",
    "  INNER JOIN(\n",
    "    SELECT a.ProcessId, a.NewProcessId\n",
    "    FROM apt29Host a\n",
    "    INNER JOIN (\n",
    "      SELECT NewProcessId\n",
    "      FROM apt29Host\n",
    "      WHERE LOWER(Channel) = \"security\"\n",
    "          AND EventID = 4688\n",
    "          AND LOWER(NewProcessName) LIKE \"%control.exe\"\n",
    "          AND LOWER(ParentProcessName) LIKE \"%sdclt.exe\"\n",
    "    ) b\n",
    "    ON a.ProcessId = b.NewProcessId\n",
    "    WHERE LOWER(a.Channel) = \"security\"\n",
    "      AND a.EventID = 4688\n",
    "      AND a.MandatoryLabel = \"S-1-16-12288\"\n",
    "      AND a.TokenElevationType = \"%%1937\"\n",
    "  ) c\n",
    "  ON d.ProcessId = c.NewProcessId\n",
    "  WHERE LOWER(d.Channel) = \"security\"\n",
    "    AND d.EventID = 4688\n",
    "    AND d.NewProcessName LIKE '%powershell.exe'\n",
    ") e\n",
    "ON LOWER(hex(f.ExecutionProcessID)) = e.NewProcessId\n",
    "WHERE f.Channel = \"Microsoft-Windows-PowerShell/Operational\"\n",
    "  AND f.EventID = 4104\n",
    "  AND LOWER(f.ScriptBlockText) LIKE \"%$env:temp%\"\n",
    "\n",
    "'''\n",
    ")\n",
    "df.show(100,truncate = False, vertical = True)"
   ]
  },
  {
   "cell_type": "code",
   "execution_count": null,
   "metadata": {},
   "outputs": [],
   "source": [
    "df_labelled = apply_label(df_labelled, df, df.columns[0], \"4.C.1. File and Directory Discovery\")"
   ]
  },
  {
   "cell_type": "markdown",
   "metadata": {},
   "source": [
    "## 4.C.2. System Owner/User Discovery\n",
    "**Procedure:** Enumerated the current username using PowerShell\n",
    "\n",
    "**Criteria:** powershell.exe executing $env:USERNAME\n"
   ]
  },
  {
   "cell_type": "markdown",
   "metadata": {},
   "source": [
    "### Detection Type:Telemetry(Correlated)"
   ]
  },
  {
   "cell_type": "markdown",
   "metadata": {},
   "source": [
    "**Query ID:A45F53ED-65CB-4739-A4D3-F2B0F08F86F8**"
   ]
  },
  {
   "cell_type": "code",
   "execution_count": null,
   "metadata": {},
   "outputs": [],
   "source": [
    "df = spark.sql(\n",
    "'''\n",
    "SELECT Message\n",
    "FROM apt29Host f\n",
    "INNER JOIN (\n",
    "  SELECT d.ProcessId\n",
    "  FROM apt29Host d\n",
    "  INNER JOIN (\n",
    "    SELECT a.ProcessGuid, a.ParentProcessGuid\n",
    "    FROM apt29Host a\n",
    "    INNER JOIN (\n",
    "      SELECT ProcessGuid\n",
    "      FROM apt29Host\n",
    "      WHERE Channel = \"Microsoft-Windows-Sysmon/Operational\"\n",
    "          AND EventID = 1\n",
    "          AND LOWER(Image) LIKE \"%control.exe\"\n",
    "          AND LOWER(ParentImage) LIKE \"%sdclt.exe\"\n",
    "    ) b\n",
    "    ON a.ParentProcessGuid = b.ProcessGuid\n",
    "    WHERE a.Channel = \"Microsoft-Windows-Sysmon/Operational\"\n",
    "      AND a.EventID = 1\n",
    "      AND a.IntegrityLevel = \"High\"\n",
    "  ) c\n",
    "  ON d.ParentProcessGuid= c.ProcessGuid\n",
    "  WHERE d.Channel = \"Microsoft-Windows-Sysmon/Operational\"\n",
    "    AND d.EventID = 1\n",
    "    AND d.Image LIKE '%powershell.exe'\n",
    ") e\n",
    "ON f.ExecutionProcessID = e.ProcessId\n",
    "WHERE f.Channel = \"Microsoft-Windows-PowerShell/Operational\"\n",
    "  AND f.EventID = 4104\n",
    "  AND LOWER(f.ScriptBlockText) LIKE \"%$env:username%\"\n",
    "\n",
    "'''\n",
    ")\n",
    "df.show(100,truncate = False, vertical = True)"
   ]
  },
  {
   "cell_type": "code",
   "execution_count": null,
   "metadata": {},
   "outputs": [],
   "source": [
    "df_labelled = apply_label(df_labelled, df, df.columns[0], \"4.C.2. System Owner/User Discovery\")"
   ]
  },
  {
   "cell_type": "markdown",
   "metadata": {},
   "source": [
    "**Query ID:6F3D1615-69D6-41C6-90D0-39ACA14941BD**"
   ]
  },
  {
   "cell_type": "code",
   "execution_count": null,
   "metadata": {},
   "outputs": [],
   "source": [
    "df = spark.sql(\n",
    "'''\n",
    "SELECT Message\n",
    "FROM apt29Host f\n",
    "INNER JOIN (\n",
    "  SELECT split(d.NewProcessId, '0x')[1] as NewProcessId\n",
    "  FROM apt29Host d\n",
    "  INNER JOIN(\n",
    "    SELECT a.ProcessId, a.NewProcessId\n",
    "    FROM apt29Host a\n",
    "    INNER JOIN (\n",
    "      SELECT NewProcessId\n",
    "      FROM apt29Host\n",
    "      WHERE LOWER(Channel) = \"security\"\n",
    "          AND EventID = 4688\n",
    "          AND LOWER(NewProcessName) LIKE \"%control.exe\"\n",
    "          AND LOWER(ParentProcessName) LIKE \"%sdclt.exe\"\n",
    "    ) b\n",
    "    ON a.ProcessId = b.NewProcessId\n",
    "    WHERE LOWER(a.Channel) = \"security\"\n",
    "      AND a.EventID = 4688\n",
    "      AND a.MandatoryLabel = \"S-1-16-12288\"\n",
    "      AND a.TokenElevationType = \"%%1937\"\n",
    "  ) c\n",
    "  ON d.ProcessId = c.NewProcessId\n",
    "  WHERE LOWER(d.Channel) = \"security\"\n",
    "    AND d.EventID = 4688\n",
    "    AND d.NewProcessName LIKE '%powershell.exe'\n",
    ") e\n",
    "ON LOWER(hex(f.ExecutionProcessID)) = e.NewProcessId\n",
    "WHERE f.Channel = \"Microsoft-Windows-PowerShell/Operational\"\n",
    "  AND f.EventID = 4104\n",
    "  AND LOWER(f.ScriptBlockText) LIKE \"%$env:username%\"\n",
    "\n",
    "'''\n",
    ")\n",
    "df.show(100,truncate = False, vertical = True)"
   ]
  },
  {
   "cell_type": "code",
   "execution_count": null,
   "metadata": {},
   "outputs": [],
   "source": [
    "df_labelled = apply_label(df_labelled, df, df.columns[0], \"4.C.2. System Owner/User Discovery\")"
   ]
  },
  {
   "cell_type": "markdown",
   "metadata": {},
   "source": [
    "## 4.C.3. System Information Discovery\n",
    "**Procedure:** Enumerated the computer hostname using PowerShell\n",
    "\n",
    "**Criteria:** powershell.exe executing $env:COMPUTERNAME\n"
   ]
  },
  {
   "cell_type": "markdown",
   "metadata": {},
   "source": [
    "### Detection Type:Telemetry(Correlated)"
   ]
  },
  {
   "cell_type": "markdown",
   "metadata": {},
   "source": [
    "**Query ID:9B610803-2B27-4DA4-9AAC-C859F48510DA**"
   ]
  },
  {
   "cell_type": "code",
   "execution_count": null,
   "metadata": {},
   "outputs": [],
   "source": [
    "df = spark.sql(\n",
    "'''\n",
    "SELECT Message\n",
    "FROM apt29Host f\n",
    "INNER JOIN (\n",
    "  SELECT d.ProcessId\n",
    "  FROM apt29Host d\n",
    "  INNER JOIN (\n",
    "    SELECT a.ProcessGuid, a.ParentProcessGuid\n",
    "    FROM apt29Host a\n",
    "    INNER JOIN (\n",
    "      SELECT ProcessGuid\n",
    "      FROM apt29Host\n",
    "      WHERE Channel = \"Microsoft-Windows-Sysmon/Operational\"\n",
    "          AND EventID = 1\n",
    "          AND LOWER(Image) LIKE \"%control.exe\"\n",
    "          AND LOWER(ParentImage) LIKE \"%sdclt.exe\"\n",
    "    ) b\n",
    "    ON a.ParentProcessGuid = b.ProcessGuid\n",
    "    WHERE a.Channel = \"Microsoft-Windows-Sysmon/Operational\"\n",
    "      AND a.EventID = 1\n",
    "      AND a.IntegrityLevel = \"High\"\n",
    "  ) c\n",
    "  ON d.ParentProcessGuid= c.ProcessGuid\n",
    "  WHERE d.Channel = \"Microsoft-Windows-Sysmon/Operational\"\n",
    "    AND d.EventID = 1\n",
    "    AND d.Image LIKE '%powershell.exe'\n",
    ") e\n",
    "ON f.ExecutionProcessID = e.ProcessId\n",
    "WHERE f.Channel = \"Microsoft-Windows-PowerShell/Operational\"\n",
    "  AND f.EventID = 4104\n",
    "  AND LOWER(f.ScriptBlockText) LIKE \"%$env:computername%\"\n",
    "\n",
    "'''\n",
    ")\n",
    "df.show(100,truncate = False, vertical = True)"
   ]
  },
  {
   "cell_type": "code",
   "execution_count": null,
   "metadata": {},
   "outputs": [],
   "source": [
    "df_labelled = apply_label(df_labelled, df, df.columns[0], \"4.C.3. System Information Discovery\")"
   ]
  },
  {
   "cell_type": "markdown",
   "metadata": {},
   "source": [
    "**Query ID:1BA09833-CDF3-44BE-86D0-6F5B1C66D151**"
   ]
  },
  {
   "cell_type": "code",
   "execution_count": null,
   "metadata": {},
   "outputs": [],
   "source": [
    "df = spark.sql(\n",
    "'''\n",
    "SELECT Message\n",
    "FROM apt29Host f\n",
    "INNER JOIN (\n",
    "  SELECT split(d.NewProcessId, '0x')[1] as NewProcessId\n",
    "  FROM apt29Host d\n",
    "  INNER JOIN(\n",
    "    SELECT a.ProcessId, a.NewProcessId\n",
    "    FROM apt29Host a\n",
    "    INNER JOIN (\n",
    "      SELECT NewProcessId\n",
    "      FROM apt29Host\n",
    "      WHERE LOWER(Channel) = \"security\"\n",
    "          AND EventID = 4688\n",
    "          AND LOWER(NewProcessName) LIKE \"%control.exe\"\n",
    "          AND LOWER(ParentProcessName) LIKE \"%sdclt.exe\"\n",
    "    ) b\n",
    "    ON a.ProcessId = b.NewProcessId\n",
    "    WHERE LOWER(a.Channel) = \"security\"\n",
    "      AND a.EventID = 4688\n",
    "      AND a.MandatoryLabel = \"S-1-16-12288\"\n",
    "      AND a.TokenElevationType = \"%%1937\"\n",
    "  ) c\n",
    "  ON d.ProcessId = c.NewProcessId\n",
    "  WHERE LOWER(d.Channel) = \"security\"\n",
    "    AND d.EventID = 4688\n",
    "    AND d.NewProcessName LIKE '%powershell.exe'\n",
    ") e\n",
    "ON LOWER(hex(f.ExecutionProcessID)) = e.NewProcessId\n",
    "WHERE f.Channel = \"Microsoft-Windows-PowerShell/Operational\"\n",
    "  AND f.EventID = 4104\n",
    "  AND LOWER(f.ScriptBlockText) LIKE \"%$env:computername%\"\n",
    "\n",
    "'''\n",
    ")\n",
    "df.show(100,truncate = False, vertical = True)"
   ]
  },
  {
   "cell_type": "code",
   "execution_count": null,
   "metadata": {},
   "outputs": [],
   "source": [
    "df_labelled = apply_label(df_labelled, df, df.columns[0], \"4.C.3. System Information Discovery\")"
   ]
  },
  {
   "cell_type": "markdown",
   "metadata": {},
   "source": [
    "## 4.C.4. System Network Configuration Discovery\n",
    "**Procedure:** Enumerated the current domain name using PowerShell\n",
    "\n",
    "**Criteria:** powershell.exe executing $env:USERDOMAIN\n"
   ]
  },
  {
   "cell_type": "code",
   "execution_count": null,
   "metadata": {},
   "outputs": [],
   "source": [
    "df_labelled = df_labelled.checkpoint()"
   ]
  },
  {
   "cell_type": "markdown",
   "metadata": {},
   "source": [
    "### Detection Type:Telemetry(Correlated)"
   ]
  },
  {
   "cell_type": "markdown",
   "metadata": {},
   "source": [
    "**Query ID:1418A09E-BC90-4BC5-A0BC-1ECC4283ACF4**"
   ]
  },
  {
   "cell_type": "code",
   "execution_count": null,
   "metadata": {},
   "outputs": [],
   "source": [
    "df = spark.sql(\n",
    "'''\n",
    "SELECT Message\n",
    "FROM apt29Host f\n",
    "INNER JOIN (\n",
    "  SELECT d.ProcessId\n",
    "  FROM apt29Host d\n",
    "  INNER JOIN (\n",
    "    SELECT a.ProcessGuid, a.ParentProcessGuid\n",
    "    FROM apt29Host a\n",
    "    INNER JOIN (\n",
    "      SELECT ProcessGuid\n",
    "      FROM apt29Host\n",
    "      WHERE Channel = \"Microsoft-Windows-Sysmon/Operational\"\n",
    "          AND EventID = 1\n",
    "          AND LOWER(Image) LIKE \"%control.exe\"\n",
    "          AND LOWER(ParentImage) LIKE \"%sdclt.exe\"\n",
    "    ) b\n",
    "    ON a.ParentProcessGuid = b.ProcessGuid\n",
    "    WHERE a.Channel = \"Microsoft-Windows-Sysmon/Operational\"\n",
    "      AND a.EventID = 1\n",
    "      AND a.IntegrityLevel = \"High\"\n",
    "  ) c\n",
    "  ON d.ParentProcessGuid= c.ProcessGuid\n",
    "  WHERE d.Channel = \"Microsoft-Windows-Sysmon/Operational\"\n",
    "    AND d.EventID = 1\n",
    "    AND d.Image LIKE '%powershell.exe'\n",
    ") e\n",
    "ON f.ExecutionProcessID = e.ProcessId\n",
    "WHERE f.Channel = \"Microsoft-Windows-PowerShell/Operational\"\n",
    "  AND f.EventID = 4104\n",
    "  AND LOWER(f.ScriptBlockText) LIKE \"%$env:userdomain%\"\n",
    "\n",
    "'''\n",
    ")\n",
    "df.show(100,truncate = False, vertical = True)"
   ]
  },
  {
   "cell_type": "code",
   "execution_count": null,
   "metadata": {},
   "outputs": [],
   "source": [
    "df_labelled = apply_label(df_labelled, df, df.columns[0], \"4.C.4. System Network Configuration Discovery\")"
   ]
  },
  {
   "cell_type": "markdown",
   "metadata": {},
   "source": [
    "**Query ID:8D215D46-CE33-4CB7-9934-FF9205971570**"
   ]
  },
  {
   "cell_type": "code",
   "execution_count": null,
   "metadata": {},
   "outputs": [],
   "source": [
    "df = spark.sql(\n",
    "'''\n",
    "SELECT Message\n",
    "FROM apt29Host f\n",
    "INNER JOIN (\n",
    "  SELECT split(d.NewProcessId, '0x')[1] as NewProcessId\n",
    "  FROM apt29Host d\n",
    "  INNER JOIN(\n",
    "    SELECT a.ProcessId, a.NewProcessId\n",
    "    FROM apt29Host a\n",
    "    INNER JOIN (\n",
    "      SELECT NewProcessId\n",
    "      FROM apt29Host\n",
    "      WHERE LOWER(Channel) = \"security\"\n",
    "          AND EventID = 4688\n",
    "          AND LOWER(NewProcessName) LIKE \"%control.exe\"\n",
    "          AND LOWER(ParentProcessName) LIKE \"%sdclt.exe\"\n",
    "    ) b\n",
    "    ON a.ProcessId = b.NewProcessId\n",
    "    WHERE LOWER(a.Channel) = \"security\"\n",
    "      AND a.EventID = 4688\n",
    "      AND a.MandatoryLabel = \"S-1-16-12288\"\n",
    "      AND a.TokenElevationType = \"%%1937\"\n",
    "  ) c\n",
    "  ON d.ProcessId = c.NewProcessId\n",
    "  WHERE LOWER(d.Channel) = \"security\"\n",
    "    AND d.EventID = 4688\n",
    "    AND d.NewProcessName LIKE '%powershell.exe'\n",
    ") e\n",
    "ON LOWER(hex(f.ExecutionProcessID)) = e.NewProcessId\n",
    "WHERE f.Channel = \"Microsoft-Windows-PowerShell/Operational\"\n",
    "  AND f.EventID = 4104\n",
    "  AND LOWER(f.ScriptBlockText) LIKE \"%$env:userdomain%\"\n",
    "\n",
    "'''\n",
    ")\n",
    "df.show(100,truncate = False, vertical = True)"
   ]
  },
  {
   "cell_type": "code",
   "execution_count": null,
   "metadata": {},
   "outputs": [],
   "source": [
    "df_labelled = apply_label(df_labelled, df, df.columns[0], \"4.C.4. System Network Configuration Discovery\")"
   ]
  },
  {
   "cell_type": "markdown",
   "metadata": {},
   "source": [
    "## 4.C.5. Process Discovery\n",
    "**Procedure:** Enumerated the current process ID using PowerShell\n",
    "\n",
    "**Criteria:** powershell.exe executing $PID\n"
   ]
  },
  {
   "cell_type": "markdown",
   "metadata": {},
   "source": [
    "### Detection Type:Telemetry(Correlated)"
   ]
  },
  {
   "cell_type": "markdown",
   "metadata": {},
   "source": [
    "**Query ID:2DBE08DB-BADD-40AD-A037-DEBD29E207C6**"
   ]
  },
  {
   "cell_type": "code",
   "execution_count": null,
   "metadata": {},
   "outputs": [],
   "source": [
    "df = spark.sql(\n",
    "'''\n",
    "SELECT Message\n",
    "FROM apt29Host f\n",
    "INNER JOIN (\n",
    "  SELECT d.ProcessId\n",
    "  FROM apt29Host d\n",
    "  INNER JOIN (\n",
    "    SELECT a.ProcessGuid, a.ParentProcessGuid\n",
    "    FROM apt29Host a\n",
    "    INNER JOIN (\n",
    "      SELECT ProcessGuid\n",
    "      FROM apt29Host\n",
    "      WHERE Channel = \"Microsoft-Windows-Sysmon/Operational\"\n",
    "          AND EventID = 1\n",
    "          AND LOWER(Image) LIKE \"%control.exe\"\n",
    "          AND LOWER(ParentImage) LIKE \"%sdclt.exe\"\n",
    "    ) b\n",
    "    ON a.ParentProcessGuid = b.ProcessGuid\n",
    "    WHERE a.Channel = \"Microsoft-Windows-Sysmon/Operational\"\n",
    "      AND a.EventID = 1\n",
    "      AND a.IntegrityLevel = \"High\"\n",
    "  ) c\n",
    "  ON d.ParentProcessGuid= c.ProcessGuid\n",
    "  WHERE d.Channel = \"Microsoft-Windows-Sysmon/Operational\"\n",
    "    AND d.EventID = 1\n",
    "    AND d.Image LIKE '%powershell.exe'\n",
    ") e\n",
    "ON f.ExecutionProcessID = e.ProcessId\n",
    "WHERE f.Channel = \"Microsoft-Windows-PowerShell/Operational\"\n",
    "  AND f.EventID = 4104\n",
    "  AND LOWER(f.ScriptBlockText) LIKE \"%$pid%\"\n",
    "\n",
    "'''\n",
    ")\n",
    "df.show(100,truncate = False, vertical = True)"
   ]
  },
  {
   "cell_type": "code",
   "execution_count": null,
   "metadata": {},
   "outputs": [],
   "source": [
    "df_labelled = apply_label(df_labelled, df, df.columns[0], \"4.C.5. Process Discovery\")"
   ]
  },
  {
   "cell_type": "markdown",
   "metadata": {},
   "source": [
    "**Query ID:9CFC783B-2DC8-4A3D-AC7B-2DF890827E2E**"
   ]
  },
  {
   "cell_type": "code",
   "execution_count": null,
   "metadata": {},
   "outputs": [],
   "source": [
    "df = spark.sql(\n",
    "'''\n",
    "SELECT Message\n",
    "FROM apt29Host f\n",
    "INNER JOIN (\n",
    "  SELECT split(d.NewProcessId, '0x')[1] as NewProcessId\n",
    "  FROM apt29Host d\n",
    "  INNER JOIN(\n",
    "    SELECT a.ProcessId, a.NewProcessId\n",
    "    FROM apt29Host a\n",
    "    INNER JOIN (\n",
    "      SELECT NewProcessId\n",
    "      FROM apt29Host\n",
    "      WHERE LOWER(Channel) = \"security\"\n",
    "          AND EventID = 4688\n",
    "          AND LOWER(NewProcessName) LIKE \"%control.exe\"\n",
    "          AND LOWER(ParentProcessName) LIKE \"%sdclt.exe\"\n",
    "    ) b\n",
    "    ON a.ProcessId = b.NewProcessId\n",
    "    WHERE LOWER(a.Channel) = \"security\"\n",
    "      AND a.EventID = 4688\n",
    "      AND a.MandatoryLabel = \"S-1-16-12288\"\n",
    "      AND a.TokenElevationType = \"%%1937\"\n",
    "  ) c\n",
    "  ON d.ProcessId = c.NewProcessId\n",
    "  WHERE LOWER(d.Channel) = \"security\"\n",
    "    AND d.EventID = 4688\n",
    "    AND d.NewProcessName LIKE '%powershell.exe'\n",
    ") e\n",
    "ON LOWER(hex(f.ExecutionProcessID)) = e.NewProcessId\n",
    "WHERE f.Channel = \"Microsoft-Windows-PowerShell/Operational\"\n",
    "  AND f.EventID = 4104\n",
    "  AND LOWER(f.ScriptBlockText) LIKE \"%$pid%\"\n",
    "\n",
    "'''\n",
    ")\n",
    "df.show(100,truncate = False, vertical = True)"
   ]
  },
  {
   "cell_type": "code",
   "execution_count": null,
   "metadata": {},
   "outputs": [],
   "source": [
    "df_labelled = apply_label(df_labelled, df, df.columns[0], \"4.C.5. Process Discovery\")"
   ]
  },
  {
   "cell_type": "markdown",
   "metadata": {},
   "source": [
    "## 4.C.6. System Information Discovery\n",
    "**Procedure:** Enumerated the OS version using PowerShell\n",
    "\n",
    "**Criteria:** powershell.exe executing​ Gwmi Win32_OperatingSystem\n"
   ]
  },
  {
   "cell_type": "markdown",
   "metadata": {},
   "source": [
    "### Detection Type:Telemetry(Correlated)"
   ]
  },
  {
   "cell_type": "markdown",
   "metadata": {},
   "source": [
    "**Query ID:5A2B7006-A887-465F-9D41-AED8F6AECBE1**"
   ]
  },
  {
   "cell_type": "code",
   "execution_count": null,
   "metadata": {},
   "outputs": [],
   "source": [
    "df = spark.sql(\n",
    "'''\n",
    "SELECT Message\n",
    "FROM apt29Host f\n",
    "INNER JOIN (\n",
    "  SELECT d.ProcessId\n",
    "  FROM apt29Host d\n",
    "  INNER JOIN (\n",
    "    SELECT a.ProcessGuid, a.ParentProcessGuid\n",
    "    FROM apt29Host a\n",
    "    INNER JOIN (\n",
    "      SELECT ProcessGuid\n",
    "      FROM apt29Host\n",
    "      WHERE Channel = \"Microsoft-Windows-Sysmon/Operational\"\n",
    "          AND EventID = 1\n",
    "          AND LOWER(Image) LIKE \"%control.exe\"\n",
    "          AND LOWER(ParentImage) LIKE \"%sdclt.exe\"\n",
    "    ) b\n",
    "    ON a.ParentProcessGuid = b.ProcessGuid\n",
    "    WHERE a.Channel = \"Microsoft-Windows-Sysmon/Operational\"\n",
    "      AND a.EventID = 1\n",
    "      AND a.IntegrityLevel = \"High\"\n",
    "  ) c\n",
    "  ON d.ParentProcessGuid= c.ProcessGuid\n",
    "  WHERE d.Channel = \"Microsoft-Windows-Sysmon/Operational\"\n",
    "    AND d.EventID = 1\n",
    "    AND d.Image LIKE '%powershell.exe'\n",
    ") e\n",
    "ON f.ExecutionProcessID = e.ProcessId\n",
    "WHERE f.Channel = \"Microsoft-Windows-PowerShell/Operational\"\n",
    "  AND f.EventID = 4104\n",
    "  AND LOWER(f.ScriptBlockText) LIKE \"%gwmi win32_operatingsystem%\"\n",
    "\n",
    "'''\n",
    ")\n",
    "df.show(100,truncate = False, vertical = True)"
   ]
  },
  {
   "cell_type": "code",
   "execution_count": null,
   "metadata": {},
   "outputs": [],
   "source": [
    "df_labelled = apply_label(df_labelled, df, df.columns[0], \"4.C.6. System Information Discovery\")"
   ]
  },
  {
   "cell_type": "markdown",
   "metadata": {},
   "source": [
    "**Query ID:69A3B3AC-42BE-44F6-A418-C2356894F745**"
   ]
  },
  {
   "cell_type": "code",
   "execution_count": null,
   "metadata": {},
   "outputs": [],
   "source": [
    "df = spark.sql(\n",
    "'''\n",
    "SELECT Message\n",
    "FROM apt29Host f\n",
    "INNER JOIN (\n",
    "  SELECT split(d.NewProcessId, '0x')[1] as NewProcessId\n",
    "  FROM apt29Host d\n",
    "  INNER JOIN(\n",
    "    SELECT a.ProcessId, a.NewProcessId\n",
    "    FROM apt29Host a\n",
    "    INNER JOIN (\n",
    "      SELECT NewProcessId\n",
    "      FROM apt29Host\n",
    "      WHERE LOWER(Channel) = \"security\"\n",
    "          AND EventID = 4688\n",
    "          AND LOWER(NewProcessName) LIKE \"%control.exe\"\n",
    "          AND LOWER(ParentProcessName) LIKE \"%sdclt.exe\"\n",
    "    ) b\n",
    "    ON a.ProcessId = b.NewProcessId\n",
    "    WHERE LOWER(a.Channel) = \"security\"\n",
    "      AND a.EventID = 4688\n",
    "      AND a.MandatoryLabel = \"S-1-16-12288\"\n",
    "      AND a.TokenElevationType = \"%%1937\"\n",
    "  ) c\n",
    "  ON d.ProcessId = c.NewProcessId\n",
    "  WHERE LOWER(d.Channel) = \"security\"\n",
    "    AND d.EventID = 4688\n",
    "    AND d.NewProcessName LIKE '%powershell.exe'\n",
    ") e\n",
    "ON LOWER(hex(f.ExecutionProcessID)) = e.NewProcessId\n",
    "WHERE f.Channel = \"Microsoft-Windows-PowerShell/Operational\"\n",
    "  AND f.EventID = 4104\n",
    "  AND LOWER(f.ScriptBlockText) LIKE \"%gwmi win32_operatingsystem%\"\n",
    "\n",
    "'''\n",
    ")\n",
    "df.show(100,truncate = False, vertical = True)"
   ]
  },
  {
   "cell_type": "code",
   "execution_count": null,
   "metadata": {},
   "outputs": [],
   "source": [
    "df_labelled = apply_label(df_labelled, df, df.columns[0], \"4.C.6. System Information Discovery\")"
   ]
  },
  {
   "cell_type": "markdown",
   "metadata": {},
   "source": [
    "## 4.C.7. Security Software Discovery\n",
    "**Procedure:** Enumerated anti-virus software using PowerShell\n",
    "\n",
    "**Criteria:** powershell.exe executing​ Get-WmiObject ...​ -Class AntiVirusProduct\n"
   ]
  },
  {
   "cell_type": "markdown",
   "metadata": {},
   "source": [
    "### Detection Type:Telemetry(Correlated)"
   ]
  },
  {
   "cell_type": "markdown",
   "metadata": {},
   "source": [
    "**Query ID:E1E0849D-1771-438B-9D8F-A67B7EC48B97**"
   ]
  },
  {
   "cell_type": "code",
   "execution_count": null,
   "metadata": {},
   "outputs": [],
   "source": [
    "df = spark.sql(\n",
    "'''\n",
    "SELECT Message\n",
    "FROM apt29Host f\n",
    "INNER JOIN (\n",
    "  SELECT d.ProcessId\n",
    "  FROM apt29Host d\n",
    "  INNER JOIN (\n",
    "    SELECT a.ProcessGuid, a.ParentProcessGuid\n",
    "    FROM apt29Host a\n",
    "    INNER JOIN (\n",
    "      SELECT ProcessGuid\n",
    "      FROM apt29Host\n",
    "      WHERE Channel = \"Microsoft-Windows-Sysmon/Operational\"\n",
    "          AND EventID = 1\n",
    "          AND LOWER(Image) LIKE \"%control.exe\"\n",
    "          AND LOWER(ParentImage) LIKE \"%sdclt.exe\"\n",
    "    ) b\n",
    "    ON a.ParentProcessGuid = b.ProcessGuid\n",
    "    WHERE a.Channel = \"Microsoft-Windows-Sysmon/Operational\"\n",
    "      AND a.EventID = 1\n",
    "      AND a.IntegrityLevel = \"High\"\n",
    "  ) c\n",
    "  ON d.ParentProcessGuid= c.ProcessGuid\n",
    "  WHERE d.Channel = \"Microsoft-Windows-Sysmon/Operational\"\n",
    "    AND d.EventID = 1\n",
    "    AND d.Image LIKE '%powershell.exe'\n",
    ") e\n",
    "ON f.ExecutionProcessID = e.ProcessId\n",
    "WHERE f.Channel = \"Microsoft-Windows-PowerShell/Operational\"\n",
    "  AND f.EventID = 4104\n",
    "  AND LOWER(f.ScriptBlockText) LIKE \"%-class antivirusproduct%\"\n",
    "\n",
    "'''\n",
    ")\n",
    "df.show(100,truncate = False, vertical = True)"
   ]
  },
  {
   "cell_type": "code",
   "execution_count": null,
   "metadata": {},
   "outputs": [],
   "source": [
    "df_labelled = apply_label(df_labelled, df, df.columns[0], \"4.C.7. Security Software Discovery\")"
   ]
  },
  {
   "cell_type": "markdown",
   "metadata": {},
   "source": [
    "**Query ID:956D78C8-FCB5-440D-B059-6790F729D02D**"
   ]
  },
  {
   "cell_type": "code",
   "execution_count": null,
   "metadata": {},
   "outputs": [],
   "source": [
    "df = spark.sql(\n",
    "'''\n",
    "SELECT Message\n",
    "FROM apt29Host f\n",
    "INNER JOIN (\n",
    "  SELECT split(d.NewProcessId, '0x')[1] as NewProcessId\n",
    "  FROM apt29Host d\n",
    "  INNER JOIN(\n",
    "    SELECT a.ProcessId, a.NewProcessId\n",
    "    FROM apt29Host a\n",
    "    INNER JOIN (\n",
    "      SELECT NewProcessId\n",
    "      FROM apt29Host\n",
    "      WHERE LOWER(Channel) = \"security\"\n",
    "          AND EventID = 4688\n",
    "          AND LOWER(NewProcessName) LIKE \"%control.exe\"\n",
    "          AND LOWER(ParentProcessName) LIKE \"%sdclt.exe\"\n",
    "    ) b\n",
    "    ON a.ProcessId = b.NewProcessId\n",
    "    WHERE LOWER(a.Channel) = \"security\"\n",
    "      AND a.EventID = 4688\n",
    "      AND a.MandatoryLabel = \"S-1-16-12288\"\n",
    "      AND a.TokenElevationType = \"%%1937\"\n",
    "  ) c\n",
    "  ON d.ProcessId = c.NewProcessId\n",
    "  WHERE LOWER(d.Channel) = \"security\"\n",
    "    AND d.EventID = 4688\n",
    "    AND d.NewProcessName LIKE '%powershell.exe'\n",
    ") e\n",
    "ON LOWER(hex(f.ExecutionProcessID)) = e.NewProcessId\n",
    "WHERE f.Channel = \"Microsoft-Windows-PowerShell/Operational\"\n",
    "  AND f.EventID = 4104\n",
    "  AND LOWER(f.ScriptBlockText) LIKE \"%-class antivirusproduct%\"\n",
    "\n",
    "'''\n",
    ")\n",
    "df.show(100,truncate = False, vertical = True)"
   ]
  },
  {
   "cell_type": "code",
   "execution_count": null,
   "metadata": {},
   "outputs": [],
   "source": [
    "df_labelled = apply_label(df_labelled, df, df.columns[0], \"4.C.7. Security Software Discovery\")"
   ]
  },
  {
   "cell_type": "markdown",
   "metadata": {},
   "source": [
    "## 4.C.8. Security Software Discovery\n",
    "**Procedure:** Enumerated firewall software using PowerShell\n",
    "\n",
    "**Criteria:** powershell.exe executing Get-WmiObject ...​​ -Class FireWallProduct\n"
   ]
  },
  {
   "cell_type": "markdown",
   "metadata": {},
   "source": [
    "### Detection Type:Telemetry(Correlated)"
   ]
  },
  {
   "cell_type": "markdown",
   "metadata": {},
   "source": [
    "**Query ID:9F924458-73AD-42C8-B98E-0CB4B4355B9B**"
   ]
  },
  {
   "cell_type": "code",
   "execution_count": null,
   "metadata": {},
   "outputs": [],
   "source": [
    "df = spark.sql(\n",
    "'''\n",
    "SELECT Message\n",
    "FROM apt29Host f\n",
    "INNER JOIN (\n",
    "  SELECT d.ProcessId\n",
    "  FROM apt29Host d\n",
    "  INNER JOIN (\n",
    "    SELECT a.ProcessGuid, a.ParentProcessGuid\n",
    "    FROM apt29Host a\n",
    "    INNER JOIN (\n",
    "      SELECT ProcessGuid\n",
    "      FROM apt29Host\n",
    "      WHERE Channel = \"Microsoft-Windows-Sysmon/Operational\"\n",
    "          AND EventID = 1\n",
    "          AND LOWER(Image) LIKE \"%control.exe\"\n",
    "          AND LOWER(ParentImage) LIKE \"%sdclt.exe\"\n",
    "    ) b\n",
    "    ON a.ParentProcessGuid = b.ProcessGuid\n",
    "    WHERE a.Channel = \"Microsoft-Windows-Sysmon/Operational\"\n",
    "      AND a.EventID = 1\n",
    "      AND a.IntegrityLevel = \"High\"\n",
    "  ) c\n",
    "  ON d.ParentProcessGuid= c.ProcessGuid\n",
    "  WHERE d.Channel = \"Microsoft-Windows-Sysmon/Operational\"\n",
    "    AND d.EventID = 1\n",
    "    AND d.Image LIKE '%powershell.exe'\n",
    ") e\n",
    "ON f.ExecutionProcessID = e.ProcessId\n",
    "WHERE f.Channel = \"Microsoft-Windows-PowerShell/Operational\"\n",
    "  AND f.EventID = 4104\n",
    "  AND LOWER(f.ScriptBlockText) LIKE \"%-class firewallproduct%\"\n",
    "\n",
    "'''\n",
    ")\n",
    "df.show(100,truncate = False, vertical = True)"
   ]
  },
  {
   "cell_type": "code",
   "execution_count": null,
   "metadata": {},
   "outputs": [],
   "source": [
    "df_labelled = apply_label(df_labelled, df, df.columns[0], \"4.C.8. Security Software Discovery\")"
   ]
  },
  {
   "cell_type": "markdown",
   "metadata": {},
   "source": [
    "**Query ID:B7549913-AF53-4F9A-9C3F-4106578EA5F2**"
   ]
  },
  {
   "cell_type": "code",
   "execution_count": null,
   "metadata": {},
   "outputs": [],
   "source": [
    "df = spark.sql(\n",
    "'''\n",
    "SELECT Message\n",
    "FROM apt29Host f\n",
    "INNER JOIN (\n",
    "  SELECT split(d.NewProcessId, '0x')[1] as NewProcessId\n",
    "  FROM apt29Host d\n",
    "  INNER JOIN(\n",
    "    SELECT a.ProcessId, a.NewProcessId\n",
    "    FROM apt29Host a\n",
    "    INNER JOIN (\n",
    "      SELECT NewProcessId\n",
    "      FROM apt29Host\n",
    "      WHERE LOWER(Channel) = \"security\"\n",
    "          AND EventID = 4688\n",
    "          AND LOWER(NewProcessName) LIKE \"%control.exe\"\n",
    "          AND LOWER(ParentProcessName) LIKE \"%sdclt.exe\"\n",
    "    ) b\n",
    "    ON a.ProcessId = b.NewProcessId\n",
    "    WHERE LOWER(a.Channel) = \"security\"\n",
    "      AND a.EventID = 4688\n",
    "      AND a.MandatoryLabel = \"S-1-16-12288\"\n",
    "      AND a.TokenElevationType = \"%%1937\"\n",
    "  ) c\n",
    "  ON d.ProcessId = c.NewProcessId\n",
    "  WHERE LOWER(d.Channel) = \"security\"\n",
    "    AND d.EventID = 4688\n",
    "    AND d.NewProcessName LIKE '%powershell.exe'\n",
    ") e\n",
    "ON LOWER(hex(f.ExecutionProcessID)) = e.NewProcessId\n",
    "WHERE f.Channel = \"Microsoft-Windows-PowerShell/Operational\"\n",
    "  AND f.EventID = 4104\n",
    "  AND LOWER(f.ScriptBlockText) LIKE \"%-class firewallproduct%\"\n",
    "\n",
    "'''\n",
    ")\n",
    "df.show(100,truncate = False, vertical = True)"
   ]
  },
  {
   "cell_type": "code",
   "execution_count": null,
   "metadata": {},
   "outputs": [],
   "source": [
    "df_labelled = apply_label(df_labelled, df, df.columns[0], \"4.C.8. Security Software Discovery\")"
   ]
  },
  {
   "cell_type": "markdown",
   "metadata": {},
   "source": [
    "## 4.C.9. Permission Groups Discovery\n",
    "**Procedure:** Enumerated user's domain group membership via the NetUserGetGroups API\n",
    "\n",
    "**Criteria:** powershell.exe executing the NetUserGetGroups API\n"
   ]
  },
  {
   "cell_type": "markdown",
   "metadata": {},
   "source": [
    "### Detection Type:technique(alert)"
   ]
  },
  {
   "cell_type": "markdown",
   "metadata": {},
   "source": [
    "**Query ID:FA458669-1C94-4150-AFFC-A3236FC6B275**"
   ]
  },
  {
   "cell_type": "code",
   "execution_count": null,
   "metadata": {},
   "outputs": [],
   "source": [
    "df = spark.sql(\n",
    "'''\n",
    "SELECT a.Message\n",
    "FROM apt29Host o\n",
    "INNER JOIN (\n",
    "    SELECT Message, EventTime, SubjectLogonId\n",
    "    FROM apt29Host\n",
    "    WHERE lower(Channel) = \"security\"\n",
    "        AND EventID = 4661\n",
    "        AND ObjectType = \"SAM_DOMAIN\"\n",
    "        AND SubjectUserName NOT LIKE '%$'\n",
    "        AND AccessMask = '0x20094'\n",
    "        AND LOWER(Message) LIKE '%getlocalgroupmembership%'\n",
    "    ) a\n",
    "ON o.TargetLogonId = a.SubjectLogonId\n",
    "WHERE lower(Channel) = \"security\" \n",
    "        AND o.EventID = 4624\n",
    "        AND o.LogonType = 3\n",
    "\n",
    "'''\n",
    ")\n",
    "df.show(100,truncate = False, vertical = True)"
   ]
  },
  {
   "cell_type": "code",
   "execution_count": null,
   "metadata": {},
   "outputs": [],
   "source": [
    "df_labelled = apply_label(df_labelled, df, df.columns[0], \"4.C.9. Permission Groups Discovery\")"
   ]
  },
  {
   "cell_type": "markdown",
   "metadata": {},
   "source": [
    "### Detection Type:Telemetry(Correlated)"
   ]
  },
  {
   "cell_type": "markdown",
   "metadata": {},
   "source": [
    "**Query ID:11827B7C-8010-443C-9116-500289E0ED57**"
   ]
  },
  {
   "cell_type": "code",
   "execution_count": null,
   "metadata": {},
   "outputs": [],
   "source": [
    "df = spark.sql(\n",
    "'''\n",
    "SELECT f.Message\n",
    "FROM apt29Host f\n",
    "INNER JOIN (\n",
    "  SELECT d.ProcessId\n",
    "  FROM apt29Host d\n",
    "  INNER JOIN (\n",
    "    SELECT a.ProcessGuid, a.ParentProcessGuid\n",
    "    FROM apt29Host a\n",
    "    INNER JOIN (\n",
    "      SELECT ProcessGuid\n",
    "      FROM apt29Host\n",
    "      WHERE Channel = \"Microsoft-Windows-Sysmon/Operational\"\n",
    "          AND EventID = 1\n",
    "          AND LOWER(Image) LIKE \"%control.exe\"\n",
    "          AND LOWER(ParentImage) LIKE \"%sdclt.exe\"\n",
    "    ) b\n",
    "    ON a.ParentProcessGuid = b.ProcessGuid\n",
    "    WHERE a.Channel = \"Microsoft-Windows-Sysmon/Operational\"\n",
    "      AND a.EventID = 1\n",
    "      AND a.IntegrityLevel = \"High\"\n",
    "  ) c\n",
    "  ON d.ParentProcessGuid= c.ProcessGuid\n",
    "  WHERE d.Channel = \"Microsoft-Windows-Sysmon/Operational\"\n",
    "    AND d.EventID = 1\n",
    "    AND d.Image LIKE '%powershell.exe'\n",
    ") e\n",
    "ON f.ExecutionProcessID = e.ProcessId\n",
    "WHERE f.Channel = \"Microsoft-Windows-PowerShell/Operational\"\n",
    "  AND f.EventID = 4104\n",
    "  AND LOWER(f.ScriptBlockText) LIKE \"%netusergetgroups%\"\n",
    "\n",
    "'''\n",
    ")\n",
    "df.show(100,truncate = False, vertical = True)"
   ]
  },
  {
   "cell_type": "code",
   "execution_count": null,
   "metadata": {},
   "outputs": [],
   "source": [
    "#df_labelled = apply_label(df_labelled, df, df.columns[0], \"4.C.9. Permission Groups Discovery\")"
   ]
  },
  {
   "cell_type": "markdown",
   "metadata": {},
   "source": [
    "**Query ID:52E7DFEA-05BC-4B81-BFE9-DE6085FA8228**"
   ]
  },
  {
   "cell_type": "code",
   "execution_count": null,
   "metadata": {},
   "outputs": [],
   "source": [
    "df = spark.sql(\n",
    "'''\n",
    "SELECT f.Message\n",
    "FROM apt29Host f\n",
    "INNER JOIN (\n",
    "  SELECT split(d.NewProcessId, '0x')[1] as NewProcessId\n",
    "  FROM apt29Host d\n",
    "  INNER JOIN(\n",
    "    SELECT a.ProcessId, a.NewProcessId\n",
    "    FROM apt29Host a\n",
    "    INNER JOIN (\n",
    "      SELECT NewProcessId\n",
    "      FROM apt29Host\n",
    "      WHERE LOWER(Channel) = \"security\"\n",
    "          AND EventID = 4688\n",
    "          AND LOWER(NewProcessName) LIKE \"%control.exe\"\n",
    "          AND LOWER(ParentProcessName) LIKE \"%sdclt.exe\"\n",
    "    ) b\n",
    "    ON a.ProcessId = b.NewProcessId\n",
    "    WHERE LOWER(a.Channel) = \"security\"\n",
    "      AND a.EventID = 4688\n",
    "      AND a.MandatoryLabel = \"S-1-16-12288\"\n",
    "      AND a.TokenElevationType = \"%%1937\"\n",
    "  ) c\n",
    "  ON d.ProcessId = c.NewProcessId\n",
    "  WHERE LOWER(d.Channel) = \"security\"\n",
    "    AND d.EventID = 4688\n",
    "    AND d.NewProcessName LIKE '%powershell.exe'\n",
    ") e\n",
    "ON LOWER(hex(f.ExecutionProcessID)) = e.NewProcessId\n",
    "WHERE f.Channel = \"Microsoft-Windows-PowerShell/Operational\"\n",
    "  AND f.EventID = 4104\n",
    "  AND LOWER(f.ScriptBlockText) LIKE \"%netusergetgroups%\"\n",
    "\n",
    "'''\n",
    ")\n",
    "df.show(100,truncate = False, vertical = True)"
   ]
  },
  {
   "cell_type": "code",
   "execution_count": null,
   "metadata": {},
   "outputs": [],
   "source": [
    "#df_labelled = apply_label(df_labelled, df, df.columns[0], \"4.C.9. Permission Groups Discovery\")"
   ]
  },
  {
   "cell_type": "markdown",
   "metadata": {},
   "source": [
    "## 4.C.10. Execution through API\n",
    "**Procedure:** Executed API call by reflectively loading Netapi32.dll\n",
    "\n",
    "**Criteria:** The NetUserGetGroups API function loaded into powershell.exe from Netapi32.dll\n"
   ]
  },
  {
   "cell_type": "markdown",
   "metadata": {},
   "source": [
    "### Detection Type:Telemetry(Correlated)"
   ]
  },
  {
   "cell_type": "markdown",
   "metadata": {},
   "source": [
    "**Query ID:0B50643F-98FA-4F4A-8E22-9257D85AD7C5**"
   ]
  },
  {
   "cell_type": "code",
   "execution_count": null,
   "metadata": {},
   "outputs": [],
   "source": [
    "df = spark.sql(\n",
    "'''\n",
    "SELECT Message\n",
    "FROM apt29Host f\n",
    "INNER JOIN (\n",
    "    SELECT d.ProcessGuid\n",
    "    FROM apt29Host d\n",
    "    INNER JOIN (\n",
    "      SELECT a.ProcessGuid, a.ParentProcessGuid\n",
    "      FROM apt29Host a\n",
    "      INNER JOIN (\n",
    "        SELECT ProcessGuid\n",
    "        FROM apt29Host\n",
    "        WHERE Channel = \"Microsoft-Windows-Sysmon/Operational\"\n",
    "            AND EventID = 1\n",
    "            AND LOWER(Image) LIKE \"%control.exe\"\n",
    "            AND LOWER(ParentImage) LIKE \"%sdclt.exe\"\n",
    "      ) b\n",
    "      ON a.ParentProcessGuid = b.ProcessGuid\n",
    "      WHERE a.Channel = \"Microsoft-Windows-Sysmon/Operational\"\n",
    "        AND a.EventID = 1\n",
    "        AND a.IntegrityLevel = \"High\"\n",
    "    ) c\n",
    "    ON d.ParentProcessGuid= c.ProcessGuid\n",
    "    WHERE d.Channel = \"Microsoft-Windows-Sysmon/Operational\"\n",
    "      AND d.EventID = 1\n",
    "      AND d.Image LIKE '%powershell.exe'\n",
    ") e\n",
    "ON f.ProcessGuid = e.ProcessGuid\n",
    "WHERE f.Channel = \"Microsoft-Windows-Sysmon/Operational\"\n",
    "AND f.EventID = 7\n",
    "AND LOWER(f.ImageLoaded) LIKE \"%netapi32.dll\"\n",
    "\n",
    "'''\n",
    ")\n",
    "df.show(100,truncate = False, vertical = True)"
   ]
  },
  {
   "cell_type": "code",
   "execution_count": null,
   "metadata": {},
   "outputs": [],
   "source": [
    "df_labelled = apply_label(df_labelled, df, df.columns[0], \"4.C.10. Execution through API\")"
   ]
  },
  {
   "cell_type": "markdown",
   "metadata": {},
   "source": [
    "## 4.C.11. Permission Groups Discovery\n",
    "**Procedure:** Enumerated user's local group membership via the NetUserGetLocalGroups API\n",
    "\n",
    "**Criteria:** powershell.exe executing the NetUserGetLocalGroups API\n"
   ]
  },
  {
   "cell_type": "markdown",
   "metadata": {},
   "source": [
    "### Detection Type:Telemetry(Correlated)"
   ]
  },
  {
   "cell_type": "markdown",
   "metadata": {},
   "source": [
    "**Query ID:1CD16ED8-C812-40B1-B968-F0DABFC79DDF**"
   ]
  },
  {
   "cell_type": "code",
   "execution_count": null,
   "metadata": {},
   "outputs": [],
   "source": [
    "df = spark.sql(\n",
    "'''\n",
    "SELECT f.Message\n",
    "FROM apt29Host f\n",
    "INNER JOIN (\n",
    "  SELECT d.ProcessId\n",
    "  FROM apt29Host d\n",
    "  INNER JOIN (\n",
    "    SELECT a.ProcessGuid, a.ParentProcessGuid\n",
    "    FROM apt29Host a\n",
    "    INNER JOIN (\n",
    "      SELECT ProcessGuid\n",
    "      FROM apt29Host\n",
    "      WHERE Channel = \"Microsoft-Windows-Sysmon/Operational\"\n",
    "          AND EventID = 1\n",
    "          AND LOWER(Image) LIKE \"%control.exe\"\n",
    "          AND LOWER(ParentImage) LIKE \"%sdclt.exe\"\n",
    "    ) b\n",
    "    ON a.ParentProcessGuid = b.ProcessGuid\n",
    "    WHERE a.Channel = \"Microsoft-Windows-Sysmon/Operational\"\n",
    "      AND a.EventID = 1\n",
    "      AND a.IntegrityLevel = \"High\"\n",
    "  ) c\n",
    "  ON d.ParentProcessGuid= c.ProcessGuid\n",
    "  WHERE d.Channel = \"Microsoft-Windows-Sysmon/Operational\"\n",
    "    AND d.EventID = 1\n",
    "    AND d.Image LIKE '%powershell.exe'\n",
    ") e\n",
    "ON f.ExecutionProcessID = e.ProcessId\n",
    "WHERE f.Channel = \"Microsoft-Windows-PowerShell/Operational\"\n",
    "  AND f.EventID = 4104\n",
    "  AND LOWER(f.ScriptBlockText) LIKE \"%netusergetlocalgroups%\"\n",
    "\n",
    "'''\n",
    ")\n",
    "df.show(100,truncate = False, vertical = True)"
   ]
  },
  {
   "cell_type": "code",
   "execution_count": null,
   "metadata": {},
   "outputs": [],
   "source": [
    "df_labelled = apply_label(df_labelled, df, df.columns[0], \"4.C.11. Permission Groups Discovery\")"
   ]
  },
  {
   "cell_type": "markdown",
   "metadata": {},
   "source": [
    "**Query ID:F0AC46E2-63EA-4C8E-AF39-6631444451E5**"
   ]
  },
  {
   "cell_type": "code",
   "execution_count": null,
   "metadata": {},
   "outputs": [],
   "source": [
    "df = spark.sql(\n",
    "'''\n",
    "SELECT f.Message\n",
    "FROM apt29Host f\n",
    "INNER JOIN (\n",
    "  SELECT split(d.NewProcessId, '0x')[1] as NewProcessId\n",
    "  FROM apt29Host d\n",
    "  INNER JOIN(\n",
    "    SELECT a.ProcessId, a.NewProcessId\n",
    "    FROM apt29Host a\n",
    "    INNER JOIN (\n",
    "      SELECT NewProcessId\n",
    "      FROM apt29Host\n",
    "      WHERE LOWER(Channel) = \"security\"\n",
    "          AND EventID = 4688\n",
    "          AND LOWER(NewProcessName) LIKE \"%control.exe\"\n",
    "          AND LOWER(ParentProcessName) LIKE \"%sdclt.exe\"\n",
    "    ) b\n",
    "    ON a.ProcessId = b.NewProcessId\n",
    "    WHERE LOWER(a.Channel) = \"security\"\n",
    "      AND a.EventID = 4688\n",
    "      AND a.MandatoryLabel = \"S-1-16-12288\"\n",
    "      AND a.TokenElevationType = \"%%1937\"\n",
    "  ) c\n",
    "  ON d.ProcessId = c.NewProcessId\n",
    "  WHERE LOWER(d.Channel) = \"security\"\n",
    "    AND d.EventID = 4688\n",
    "    AND d.NewProcessName LIKE '%powershell.exe'\n",
    ") e\n",
    "ON LOWER(hex(f.ExecutionProcessID)) = e.NewProcessId\n",
    "WHERE f.Channel = \"Microsoft-Windows-PowerShell/Operational\"\n",
    "  AND f.EventID = 4104\n",
    "  AND LOWER(f.ScriptBlockText) LIKE \"%netusergetlocalgroups%\"\n",
    "\n",
    "'''\n",
    ")\n",
    "df.show(100,truncate = False, vertical = True)"
   ]
  },
  {
   "cell_type": "code",
   "execution_count": null,
   "metadata": {},
   "outputs": [],
   "source": [
    "df_labelled = apply_label(df_labelled, df, df.columns[0], \"4.C.11. Permission Groups Discovery\")"
   ]
  },
  {
   "cell_type": "markdown",
   "metadata": {},
   "source": [
    "## 4.C.12. Execution through API\n",
    "**Procedure:** Executed API call by reflectively loading Netapi32.dll\n",
    "\n",
    "**Criteria:** The NetUserGetLocalGroups API function loaded into powershelle.exe from Netapi32.dll\n"
   ]
  },
  {
   "cell_type": "markdown",
   "metadata": {},
   "source": [
    "### Detection Type:Telemetry(Correlated)"
   ]
  },
  {
   "cell_type": "markdown",
   "metadata": {},
   "source": [
    "**Query ID:53CEF026-66EF-4B26-B5C9-10D4BBA3F9E8**"
   ]
  },
  {
   "cell_type": "code",
   "execution_count": null,
   "metadata": {},
   "outputs": [],
   "source": [
    "df = spark.sql(\n",
    "'''\n",
    "SELECT f.Message\n",
    "FROM apt29Host f\n",
    "INNER JOIN (\n",
    "    SELECT d.ProcessGuid\n",
    "    FROM apt29Host d\n",
    "    INNER JOIN (\n",
    "      SELECT a.ProcessGuid, a.ParentProcessGuid\n",
    "      FROM apt29Host a\n",
    "      INNER JOIN (\n",
    "        SELECT ProcessGuid\n",
    "        FROM apt29Host\n",
    "        WHERE Channel = \"Microsoft-Windows-Sysmon/Operational\"\n",
    "            AND EventID = 1\n",
    "            AND LOWER(Image) LIKE \"%control.exe\"\n",
    "            AND LOWER(ParentImage) LIKE \"%sdclt.exe\"\n",
    "      ) b\n",
    "      ON a.ParentProcessGuid = b.ProcessGuid\n",
    "      WHERE a.Channel = \"Microsoft-Windows-Sysmon/Operational\"\n",
    "        AND a.EventID = 1\n",
    "        AND a.IntegrityLevel = \"High\"\n",
    "    ) c\n",
    "    ON d.ParentProcessGuid= c.ProcessGuid\n",
    "    WHERE d.Channel = \"Microsoft-Windows-Sysmon/Operational\"\n",
    "      AND d.EventID = 1\n",
    "      AND d.Image LIKE '%powershell.exe'\n",
    ") e\n",
    "ON f.ProcessGuid = e.ProcessGuid\n",
    "WHERE f.Channel = \"Microsoft-Windows-Sysmon/Operational\"\n",
    "AND f.EventID = 7\n",
    "AND LOWER(f.ImageLoaded) LIKE \"%netapi32.dll\"\n",
    "\n",
    "'''\n",
    ")\n",
    "df.show(100,truncate = False, vertical = True)"
   ]
  },
  {
   "cell_type": "code",
   "execution_count": null,
   "metadata": {},
   "outputs": [],
   "source": [
    "df_labelled = apply_label(df_labelled, df, df.columns[0], \"4.C.12. Execution through API\")"
   ]
  },
  {
   "cell_type": "markdown",
   "metadata": {},
   "source": [
    "## 5.A.1. New Service\n",
    "**Procedure:** Created a new service (javamtsup) that executes a service binary (javamtsup.exe) at system startup\n",
    "\n",
    "**Criteria:** powershell.exe creating the Javamtsup service\n"
   ]
  },
  {
   "cell_type": "markdown",
   "metadata": {},
   "source": [
    "### Detection Type:Telemetry(Correlated)"
   ]
  },
  {
   "cell_type": "markdown",
   "metadata": {},
   "source": [
    "**Query ID:A16CE10D-6EE3-4611-BE9B-B023F36E2DFF**"
   ]
  },
  {
   "cell_type": "code",
   "execution_count": null,
   "metadata": {},
   "outputs": [],
   "source": [
    "df = spark.sql(\n",
    "'''\n",
    "SELECT Message\n",
    "FROM apt29Host\n",
    "WHERE Channel = \"Microsoft-Windows-Sysmon/Operational\"\n",
    "  AND EventID IN (12,13,14)\n",
    "  AND (LOWER(TargetObject) LIKE \"%javamtsup%\" OR LOWER(Details) LIKE \"%javamtsup%\")\n",
    "\n",
    "'''\n",
    ")\n",
    "df.show(100,truncate = False, vertical = True)"
   ]
  },
  {
   "cell_type": "code",
   "execution_count": null,
   "metadata": {},
   "outputs": [],
   "source": [
    "df_labelled = apply_label(df_labelled, df, df.columns[0], \"5.A.1. New Service\")"
   ]
  },
  {
   "cell_type": "markdown",
   "metadata": {},
   "source": [
    "**Query ID:E76C4174-C24A-4CA3-9EA8-46C5286D3B6F**"
   ]
  },
  {
   "cell_type": "code",
   "execution_count": null,
   "metadata": {},
   "outputs": [],
   "source": [
    "df = spark.sql(\n",
    "'''\n",
    "SELECT Payload\n",
    "FROM apt29Host f\n",
    "INNER JOIN (\n",
    "  SELECT d.ProcessId, d.ParentProcessId\n",
    "  FROM apt29Host d\n",
    "  INNER JOIN (\n",
    "    SELECT a.ProcessGuid, a.ParentProcessGuid\n",
    "    FROM apt29Host a\n",
    "    INNER JOIN (\n",
    "      SELECT ProcessGuid\n",
    "      FROM apt29Host\n",
    "      WHERE Channel = \"Microsoft-Windows-Sysmon/Operational\"\n",
    "          AND EventID = 1\n",
    "          AND LOWER(Image) LIKE \"%control.exe\"\n",
    "          AND LOWER(ParentImage) LIKE \"%sdclt.exe\"\n",
    "    ) b\n",
    "    ON a.ParentProcessGuid = b.ProcessGuid\n",
    "    WHERE a.Channel = \"Microsoft-Windows-Sysmon/Operational\"\n",
    "      AND a.EventID = 1\n",
    "      AND a.IntegrityLevel = \"High\"\n",
    "  ) c\n",
    "  ON d.ParentProcessGuid= c.ProcessGuid\n",
    "  WHERE d.Channel = \"Microsoft-Windows-Sysmon/Operational\"\n",
    "    AND d.EventID = 1\n",
    "    AND d.Image LIKE '%powershell.exe'\n",
    ") e\n",
    "ON f.ExecutionProcessID = e.ProcessId\n",
    "WHERE f.Channel = \"Microsoft-Windows-PowerShell/Operational\"\n",
    "  AND f.EventID = 4103\n",
    "  AND LOWER(f.Payload) LIKE \"%new-service%\"\n",
    "\n",
    "'''\n",
    ")\n",
    "df.show(100,truncate = False, vertical = True)"
   ]
  },
  {
   "cell_type": "code",
   "execution_count": null,
   "metadata": {},
   "outputs": [],
   "source": [
    "df_labelled = apply_label(df_labelled, df, df.columns[0], \"5.A.1. New Service\")"
   ]
  },
  {
   "cell_type": "markdown",
   "metadata": {},
   "source": [
    "**Query ID:AA3EF640-2720-4E8A-B86D-DFCF2FDB86BD**"
   ]
  },
  {
   "cell_type": "code",
   "execution_count": null,
   "metadata": {},
   "outputs": [],
   "source": [
    "df = spark.sql(\n",
    "'''\n",
    "SELECT f.Payload\n",
    "FROM apt29Host f\n",
    "INNER JOIN (\n",
    "  SELECT split(d.NewProcessId, '0x')[1] as NewProcessId\n",
    "  FROM apt29Host d\n",
    "  INNER JOIN(\n",
    "    SELECT a.ProcessId, a.NewProcessId\n",
    "    FROM apt29Host a\n",
    "    INNER JOIN (\n",
    "      SELECT NewProcessId\n",
    "      FROM apt29Host\n",
    "      WHERE LOWER(Channel) = \"security\"\n",
    "          AND EventID = 4688\n",
    "          AND LOWER(NewProcessName) LIKE \"%control.exe\"\n",
    "          AND LOWER(ParentProcessName) LIKE \"%sdclt.exe\"\n",
    "    ) b\n",
    "    ON a.ProcessId = b.NewProcessId\n",
    "    WHERE LOWER(a.Channel) = \"security\"\n",
    "      AND a.EventID = 4688\n",
    "      AND a.MandatoryLabel = \"S-1-16-12288\"\n",
    "      AND a.TokenElevationType = \"%%1937\"\n",
    "  ) c\n",
    "  ON d.ProcessId = c.NewProcessId\n",
    "  WHERE LOWER(d.Channel) = \"security\"\n",
    "    AND d.EventID = 4688\n",
    "    AND d.NewProcessName LIKE '%powershell.exe'\n",
    ") e\n",
    "ON LOWER(hex(f.ExecutionProcessID)) = e.NewProcessId\n",
    "WHERE f.Channel = \"Microsoft-Windows-PowerShell/Operational\"\n",
    "  AND f.EventID = 4103\n",
    "  AND LOWER(f.Payload) LIKE \"%new-service%\"\n",
    "\n",
    "'''\n",
    ")\n",
    "df.show(100,truncate = False, vertical = True)"
   ]
  },
  {
   "cell_type": "code",
   "execution_count": null,
   "metadata": {},
   "outputs": [],
   "source": [
    "df_labelled = apply_label(df_labelled, df, df.columns[0], \"5.A.1. New Service\")"
   ]
  },
  {
   "cell_type": "markdown",
   "metadata": {},
   "source": [
    "## 5.B.1. Registry Run Keys / Startup Folder\n",
    "**Procedure:** Created a LNK file (hostui.lnk) in the Startup folder that executes on login\n",
    "\n",
    "**Criteria:** powershell.exe creating the file hostui.lnk in the Startup folder\n"
   ]
  },
  {
   "cell_type": "code",
   "execution_count": null,
   "metadata": {},
   "outputs": [],
   "source": [
    "df_labelled = df_labelled.checkpoint()"
   ]
  },
  {
   "cell_type": "markdown",
   "metadata": {},
   "source": [
    "### Detection Type:Telemetry(Correlated)"
   ]
  },
  {
   "cell_type": "markdown",
   "metadata": {},
   "source": [
    "**Query ID:611FCA99-97D0-4873-9E51-1C1BA2DBB40D**"
   ]
  },
  {
   "cell_type": "code",
   "execution_count": null,
   "metadata": {},
   "outputs": [],
   "source": [
    "df = spark.sql(\n",
    "'''\n",
    "SELECT f.Message\n",
    "FROM apt29Host f\n",
    "INNER JOIN (\n",
    "    SELECT d.ProcessGuid\n",
    "    FROM apt29Host d\n",
    "    INNER JOIN (\n",
    "      SELECT a.ProcessGuid, a.ParentProcessGuid\n",
    "      FROM apt29Host a\n",
    "      INNER JOIN (\n",
    "        SELECT ProcessGuid\n",
    "        FROM apt29Host\n",
    "        WHERE Channel = \"Microsoft-Windows-Sysmon/Operational\"\n",
    "            AND EventID = 1\n",
    "            AND LOWER(Image) LIKE \"%control.exe\"\n",
    "            AND LOWER(ParentImage) LIKE \"%sdclt.exe\"\n",
    "      ) b\n",
    "      ON a.ParentProcessGuid = b.ProcessGuid\n",
    "      WHERE a.Channel = \"Microsoft-Windows-Sysmon/Operational\"\n",
    "        AND a.EventID = 1\n",
    "        AND a.IntegrityLevel = \"High\"\n",
    "    ) c\n",
    "    ON d.ParentProcessGuid= c.ProcessGuid\n",
    "    WHERE d.Channel = \"Microsoft-Windows-Sysmon/Operational\"\n",
    "      AND d.EventID = 1\n",
    "      AND d.Image LIKE '%powershell.exe'\n",
    ") e\n",
    "ON f.ProcessGuid = e.ProcessGuid\n",
    "WHERE f.Channel = \"Microsoft-Windows-Sysmon/Operational\"\n",
    "    AND f.EventID = 11\n",
    "    AND f.TargetFilename RLIKE '.*\\\\\\\\\\\\\\\\ProgramData\\\\\\\\\\\\\\\\Microsoft\\\\\\\\\\\\\\\\Windows\\\\\\\\\\\\\\\\Start Menu\\\\\\\\\\\\\\\\Programs\\\\\\\\\\\\\\\\StartUp.*'\n",
    "\n",
    "'''\n",
    ")\n",
    "df.show(100,truncate = False, vertical = True)"
   ]
  },
  {
   "cell_type": "code",
   "execution_count": null,
   "metadata": {},
   "outputs": [],
   "source": [
    "df_labelled = apply_label(df_labelled, df, df.columns[0], \"5.B.1. Registry Run Keys / Startup Folder\")"
   ]
  },
  {
   "cell_type": "markdown",
   "metadata": {},
   "source": [
    "## 6.A.1. Credentials in Files\n",
    "**Procedure:** Read the Chrome SQL database file to extract encrypted credentials\n",
    "\n",
    "**Criteria:** accesschk.exe reading files within %APPDATALOCAL%\\Google\\chrome\\user data\\default\\\n"
   ]
  },
  {
   "cell_type": "markdown",
   "metadata": {},
   "source": [
    "### Detection Type:None(None)"
   ]
  },
  {
   "cell_type": "markdown",
   "metadata": {},
   "source": [
    "## 6.A.2. Credential Dumping\n",
    "**Procedure:** Executed the CryptUnprotectedData API call to decrypt Chrome passwords\n",
    "\n",
    "**Criteria:** accesschk.exe executing the CryptUnprotectedData API\n"
   ]
  },
  {
   "cell_type": "markdown",
   "metadata": {},
   "source": [
    "### Detection Type:None(None)"
   ]
  },
  {
   "cell_type": "markdown",
   "metadata": {},
   "source": [
    "## 6.A.3. Masquerading\n",
    "**Procedure:** Masqueraded a Chrome password dump tool as accesscheck.exe, a legitimate Sysinternals tool\n",
    "\n",
    "**Criteria:** Evidence that accesschk.exe is not the legitimate Sysinternals tool\n"
   ]
  },
  {
   "cell_type": "markdown",
   "metadata": {},
   "source": [
    "### Detection Type:Telemetry(Correlated)"
   ]
  },
  {
   "cell_type": "markdown",
   "metadata": {},
   "source": [
    "**Query ID:0A19F9B7-5E17-47E5-8015-29E9ABC09ADC**"
   ]
  },
  {
   "cell_type": "code",
   "execution_count": null,
   "metadata": {},
   "outputs": [],
   "source": [
    "df = spark.sql(\n",
    "'''\n",
    "SELECT Message\n",
    "FROM apt29Host h\n",
    "INNER JOIN (\n",
    "    SELECT f.ProcessGuid\n",
    "    FROM apt29Host f\n",
    "    INNER JOIN (\n",
    "      SELECT d.ProcessGuid, d.ParentProcessGuid\n",
    "      FROM apt29Host d\n",
    "      INNER JOIN (\n",
    "        SELECT a.ProcessGuid, a.ParentProcessGuid\n",
    "        FROM apt29Host a\n",
    "        INNER JOIN (\n",
    "          SELECT ProcessGuid\n",
    "          FROM apt29Host\n",
    "          WHERE Channel = \"Microsoft-Windows-Sysmon/Operational\"\n",
    "              AND EventID = 1\n",
    "              AND LOWER(Image) LIKE \"%control.exe\"\n",
    "              AND LOWER(ParentImage) LIKE \"%sdclt.exe\"\n",
    "        ) b\n",
    "        ON a.ParentProcessGuid = b.ProcessGuid\n",
    "        WHERE a.Channel = \"Microsoft-Windows-Sysmon/Operational\"\n",
    "          AND a.EventID = 1\n",
    "          AND a.IntegrityLevel = \"High\"\n",
    "      ) c\n",
    "      ON d.ParentProcessGuid= c.ProcessGuid\n",
    "      WHERE d.Channel = \"Microsoft-Windows-Sysmon/Operational\"\n",
    "        AND d.EventID = 1\n",
    "        AND d.Image LIKE '%powershell.exe'\n",
    "    ) e\n",
    "    ON f.ParentProcessGuid = e.ProcessGuid\n",
    "    WHERE f.Channel = \"Microsoft-Windows-Sysmon/Operational\"\n",
    "      AND f.EventID = 1\n",
    "      AND LOWER(f.Image) LIKE '%accesschk%'\n",
    ") g\n",
    "ON h.ProcessGuid = g.ProcessGuid\n",
    "WHERE h.Channel = \"Microsoft-Windows-Sysmon/Operational\"\n",
    "    AND EventID = 7\n",
    "    AND LOWER(ImageLoaded) LIKE '%accesschk%'\n",
    "\n",
    "'''\n",
    ")\n",
    "df.show(100,truncate = False, vertical = True)"
   ]
  },
  {
   "cell_type": "code",
   "execution_count": null,
   "metadata": {},
   "outputs": [],
   "source": [
    "df_labelled = apply_label(df_labelled, df, df.columns[0], \"6.A.3. Masquerading\")"
   ]
  },
  {
   "cell_type": "markdown",
   "metadata": {},
   "source": [
    "### Detection Type:General(Correlated)"
   ]
  },
  {
   "cell_type": "markdown",
   "metadata": {},
   "source": [
    "**Query ID:1FCE98FC-1FF9-41CB-9C25-0235729A2B01**"
   ]
  },
  {
   "cell_type": "code",
   "execution_count": null,
   "metadata": {},
   "outputs": [],
   "source": [
    "df = spark.sql(\n",
    "'''\n",
    "SELECT Message\n",
    "FROM apt29Host h\n",
    "INNER JOIN (\n",
    "    SELECT f.ProcessGuid\n",
    "    FROM apt29Host f\n",
    "    INNER JOIN (\n",
    "      SELECT d.ProcessGuid, d.ParentProcessGuid\n",
    "      FROM apt29Host d\n",
    "      INNER JOIN (\n",
    "        SELECT a.ProcessGuid, a.ParentProcessGuid\n",
    "        FROM apt29Host a\n",
    "        INNER JOIN (\n",
    "          SELECT ProcessGuid\n",
    "          FROM apt29Host\n",
    "          WHERE Channel = \"Microsoft-Windows-Sysmon/Operational\"\n",
    "              AND EventID = 1\n",
    "              AND LOWER(Image) LIKE \"%control.exe\"\n",
    "              AND LOWER(ParentImage) LIKE \"%sdclt.exe\"\n",
    "        ) b\n",
    "        ON a.ParentProcessGuid = b.ProcessGuid\n",
    "        WHERE a.Channel = \"Microsoft-Windows-Sysmon/Operational\"\n",
    "          AND a.EventID = 1\n",
    "          AND a.IntegrityLevel = \"High\"\n",
    "      ) c\n",
    "      ON d.ParentProcessGuid= c.ProcessGuid\n",
    "      WHERE d.Channel = \"Microsoft-Windows-Sysmon/Operational\"\n",
    "        AND d.EventID = 1\n",
    "        AND d.Image LIKE '%powershell.exe'\n",
    "    ) e\n",
    "    ON f.ParentProcessGuid = e.ProcessGuid\n",
    "    WHERE f.Channel = \"Microsoft-Windows-Sysmon/Operational\"\n",
    "      AND f.EventID = 1\n",
    "      AND LOWER(f.Image) LIKE '%accesschk%'\n",
    ") g\n",
    "ON h.ProcessGuid = g.ProcessGuid\n",
    "WHERE h.Channel = \"Microsoft-Windows-Sysmon/Operational\"\n",
    "    AND EventID = 7\n",
    "    AND LOWER(ImageLoaded) LIKE '%accesschk%'\n",
    "\n",
    "'''\n",
    ")\n",
    "df.show(100,truncate = False, vertical = True)"
   ]
  },
  {
   "cell_type": "code",
   "execution_count": null,
   "metadata": {},
   "outputs": [],
   "source": [
    "df_labelled = apply_label(df_labelled, df, df.columns[0], \"6.A.3. Masquerading\")"
   ]
  },
  {
   "cell_type": "markdown",
   "metadata": {},
   "source": [
    "## 6.B.1. Private Keys\n",
    "**Procedure:** Exported a local certificate to a PFX file using PowerShell\n",
    "\n",
    "**Criteria:** powershell.exe creating a certificate file exported from the system\n"
   ]
  },
  {
   "cell_type": "markdown",
   "metadata": {},
   "source": [
    "### Detection Type:Telemetry(Correlated)"
   ]
  },
  {
   "cell_type": "markdown",
   "metadata": {},
   "source": [
    "**Query ID:6392C9F1-D975-4F75-8A70-433DEDD7F622**"
   ]
  },
  {
   "cell_type": "code",
   "execution_count": null,
   "metadata": {},
   "outputs": [],
   "source": [
    "df = spark.sql(\n",
    "'''\n",
    "SELECT Message\n",
    "FROM apt29Host f\n",
    "INNER JOIN (\n",
    "    SELECT d.ProcessGuid\n",
    "    FROM apt29Host d\n",
    "    INNER JOIN (\n",
    "      SELECT a.ProcessGuid, a.ParentProcessGuid\n",
    "      FROM apt29Host a\n",
    "      INNER JOIN (\n",
    "        SELECT ProcessGuid\n",
    "        FROM apt29Host\n",
    "        WHERE Channel = \"Microsoft-Windows-Sysmon/Operational\"\n",
    "            AND EventID = 1\n",
    "            AND LOWER(Image) LIKE \"%control.exe\"\n",
    "            AND LOWER(ParentImage) LIKE \"%sdclt.exe\"\n",
    "      ) b\n",
    "      ON a.ParentProcessGuid = b.ProcessGuid\n",
    "      WHERE a.Channel = \"Microsoft-Windows-Sysmon/Operational\"\n",
    "        AND a.EventID = 1\n",
    "        AND a.IntegrityLevel = \"High\"\n",
    "    ) c\n",
    "    ON d.ParentProcessGuid= c.ProcessGuid\n",
    "    WHERE d.Channel = \"Microsoft-Windows-Sysmon/Operational\"\n",
    "      AND d.EventID = 1\n",
    "      AND d.Image LIKE '%powershell.exe'\n",
    ") e\n",
    "ON f.ProcessGuid = e.ProcessGuid\n",
    "WHERE f.Channel = \"Microsoft-Windows-Sysmon/Operational\"\n",
    "AND f.EventID = 11\n",
    "AND LOWER(f.TargetFilename) LIKE \"%.pfx\"\n",
    "\n",
    "'''\n",
    ")\n",
    "df.show(100,truncate = False, vertical = True)"
   ]
  },
  {
   "cell_type": "code",
   "execution_count": null,
   "metadata": {},
   "outputs": [],
   "source": [
    "df_labelled = apply_label(df_labelled, df, df.columns[0], \"6.B.1. Private Keys\")"
   ]
  },
  {
   "cell_type": "markdown",
   "metadata": {},
   "source": [
    "## 6.C.1. Credential Dumping\n",
    "**Procedure:** Dumped password hashes from the Windows Registry by injecting a malicious DLL into Lsass.exe\n",
    "\n",
    "**Criteria:** powershell.exe injecting into lsass.exe OR lsass.exe reading Registry keys under HKLM:\\SAM\\SAM\\Domains\\Account\\Users\\\n"
   ]
  },
  {
   "cell_type": "markdown",
   "metadata": {},
   "source": [
    "### Detection Type:Telemetry(Correlated)"
   ]
  },
  {
   "cell_type": "markdown",
   "metadata": {},
   "source": [
    "**Query ID:7B2CE2A5-4386-4EED-9A03-9B7D1049C4AE**"
   ]
  },
  {
   "cell_type": "code",
   "execution_count": null,
   "metadata": {},
   "outputs": [],
   "source": [
    "df = spark.sql(\n",
    "'''\n",
    "SELECT Message\n",
    "FROM apt29Host f\n",
    "INNER JOIN (\n",
    "    SELECT d.ProcessGuid, d.ParentProcessGuid\n",
    "    FROM apt29Host d\n",
    "    INNER JOIN (\n",
    "      SELECT a.ProcessGuid, a.ParentProcessGuid\n",
    "      FROM apt29Host a\n",
    "      INNER JOIN (\n",
    "        SELECT ProcessGuid\n",
    "        FROM apt29Host\n",
    "        WHERE Channel = \"Microsoft-Windows-Sysmon/Operational\"\n",
    "            AND EventID = 1\n",
    "            AND LOWER(Image) LIKE \"%control.exe\"\n",
    "            AND LOWER(ParentImage) LIKE \"%sdclt.exe\"\n",
    "      ) b\n",
    "      ON a.ParentProcessGuid = b.ProcessGuid\n",
    "      WHERE a.Channel = \"Microsoft-Windows-Sysmon/Operational\"\n",
    "        AND a.EventID = 1\n",
    "        AND a.IntegrityLevel = \"High\"\n",
    "    ) c\n",
    "    ON d.ParentProcessGuid= c.ProcessGuid\n",
    "    WHERE d.Channel = \"Microsoft-Windows-Sysmon/Operational\"\n",
    "      AND d.EventID = 1\n",
    "      AND d.Image LIKE '%powershell.exe'\n",
    ") e\n",
    "ON f.SourceProcessGuid = e.ParentProcessGuid\n",
    "WHERE f.Channel = \"Microsoft-Windows-Sysmon/Operational\"\n",
    "    AND f.EventID = 8\n",
    "    AND f.TargetImage LIKE '%lsass.exe'\n",
    "\n",
    "'''\n",
    ")\n",
    "df.show(100,truncate = False, vertical = True)"
   ]
  },
  {
   "cell_type": "code",
   "execution_count": null,
   "metadata": {},
   "outputs": [],
   "source": [
    "df_labelled = apply_label(df_labelled, df, df.columns[0], \"6.C.1. Credential Dumping\")"
   ]
  },
  {
   "cell_type": "markdown",
   "metadata": {},
   "source": [
    "## 7.A.1. Screen Capture\n",
    "**Procedure:** Captured and saved screenshots using PowerShell\n",
    "\n",
    "**Criteria:** powershell.exe executing the CopyFromScreen function from System.Drawing.dll\n"
   ]
  },
  {
   "cell_type": "markdown",
   "metadata": {},
   "source": [
    "### Detection Type:Telemetry(Correlated)"
   ]
  },
  {
   "cell_type": "markdown",
   "metadata": {},
   "source": [
    "**Query ID:3B4E5808-3C71-406A-B181-17B0CE3178C9**"
   ]
  },
  {
   "cell_type": "code",
   "execution_count": null,
   "metadata": {},
   "outputs": [],
   "source": [
    "df = spark.sql(\n",
    "'''\n",
    "SELECT Message\n",
    "FROM apt29Host f\n",
    "INNER JOIN (\n",
    "    SELECT d.ProcessGuid, d.ParentProcessGuid\n",
    "    FROM apt29Host d\n",
    "    INNER JOIN (\n",
    "      SELECT a.ProcessGuid, a.ParentProcessGuid\n",
    "      FROM apt29Host a\n",
    "      INNER JOIN (\n",
    "        SELECT ProcessGuid\n",
    "        FROM apt29Host\n",
    "        WHERE Channel = \"Microsoft-Windows-Sysmon/Operational\"\n",
    "            AND EventID = 1\n",
    "            AND LOWER(Image) LIKE \"%control.exe\"\n",
    "            AND LOWER(ParentImage) LIKE \"%sdclt.exe\"\n",
    "      ) b\n",
    "      ON a.ParentProcessGuid = b.ProcessGuid\n",
    "      WHERE a.Channel = \"Microsoft-Windows-Sysmon/Operational\"\n",
    "        AND a.EventID = 1\n",
    "        AND a.IntegrityLevel = \"High\"\n",
    "    ) c\n",
    "    ON d.ParentProcessGuid= c.ProcessGuid\n",
    "    WHERE d.Channel = \"Microsoft-Windows-Sysmon/Operational\"\n",
    "      AND d.EventID = 1\n",
    "      AND d.Image LIKE '%powershell.exe'\n",
    ") e\n",
    "ON f.ProcessGuid = e.ProcessGuid\n",
    "WHERE f.Channel = \"Microsoft-Windows-Sysmon/Operational\"\n",
    "    AND f.EventID = 7\n",
    "    AND LOWER(f.ImageLoaded) LIKE \"%system.drawing.ni.dll\"\n",
    "\n",
    "'''\n",
    ")\n",
    "df.show(100,truncate = False, vertical = True)"
   ]
  },
  {
   "cell_type": "code",
   "execution_count": null,
   "metadata": {},
   "outputs": [],
   "source": [
    "df_labelled = apply_label(df_labelled, df, df.columns[0], \"7.A.1. Screen Capture\")"
   ]
  },
  {
   "cell_type": "markdown",
   "metadata": {},
   "source": [
    "### Detection Type:Telemetry(Correlated)"
   ]
  },
  {
   "cell_type": "markdown",
   "metadata": {},
   "source": [
    "**Query ID:B374D3E7-3580-441F-8D6E-48C40CBA7922**"
   ]
  },
  {
   "cell_type": "code",
   "execution_count": null,
   "metadata": {},
   "outputs": [],
   "source": [
    "df = spark.sql(\n",
    "'''\n",
    "SELECT Payload\n",
    "FROM apt29Host f\n",
    "INNER JOIN (\n",
    "    SELECT d.ProcessId, d.ParentProcessId\n",
    "    FROM apt29Host d\n",
    "    INNER JOIN (\n",
    "      SELECT a.ProcessGuid, a.ParentProcessGuid\n",
    "      FROM apt29Host a\n",
    "      INNER JOIN (\n",
    "        SELECT ProcessGuid\n",
    "        FROM apt29Host\n",
    "        WHERE Channel = \"Microsoft-Windows-Sysmon/Operational\"\n",
    "            AND EventID = 1\n",
    "            AND LOWER(Image) LIKE \"%control.exe\"\n",
    "            AND LOWER(ParentImage) LIKE \"%sdclt.exe\"\n",
    "      ) b\n",
    "      ON a.ParentProcessGuid = b.ProcessGuid\n",
    "      WHERE a.Channel = \"Microsoft-Windows-Sysmon/Operational\"\n",
    "        AND a.EventID = 1\n",
    "        AND a.IntegrityLevel = \"High\"\n",
    "    ) c\n",
    "    ON d.ParentProcessGuid= c.ProcessGuid\n",
    "    WHERE d.Channel = \"Microsoft-Windows-Sysmon/Operational\"\n",
    "      AND d.EventID = 1\n",
    "      AND d.Image LIKE '%powershell.exe'\n",
    ") e\n",
    "ON f.ExecutionProcessID = e.ProcessId\n",
    "WHERE f.Channel = \"Microsoft-Windows-PowerShell/Operational\"\n",
    "AND f.EventID = 4103\n",
    "AND LOWER(f.Payload) LIKE \"%copyfromscreen%\"\n",
    "\n",
    "'''\n",
    ")\n",
    "df.show(100,truncate = False, vertical = True)"
   ]
  },
  {
   "cell_type": "code",
   "execution_count": null,
   "metadata": {},
   "outputs": [],
   "source": [
    "df_labelled = apply_label(df_labelled, df, df.columns[0], \"7.A.1. Screen Capture\")"
   ]
  },
  {
   "cell_type": "markdown",
   "metadata": {},
   "source": [
    "**Query ID:2AA4D448-3893-4F31-9497-0F8E2B7E3CFD**"
   ]
  },
  {
   "cell_type": "code",
   "execution_count": null,
   "metadata": {},
   "outputs": [],
   "source": [
    "df = spark.sql(\n",
    "'''\n",
    "SELECT Payload\n",
    "FROM apt29Host f\n",
    "INNER JOIN (\n",
    "    SELECT split(d.NewProcessId, '0x')[1] as NewProcessId\n",
    "    FROM apt29Host d\n",
    "    INNER JOIN(\n",
    "      SELECT a.ProcessId, a.NewProcessId\n",
    "      FROM apt29Host a\n",
    "      INNER JOIN (\n",
    "        SELECT NewProcessId\n",
    "        FROM apt29Host\n",
    "        WHERE LOWER(Channel) = \"security\"\n",
    "            AND EventID = 4688\n",
    "            AND LOWER(NewProcessName) LIKE \"%control.exe\"\n",
    "            AND LOWER(ParentProcessName) LIKE \"%sdclt.exe\"\n",
    "      ) b\n",
    "      ON a.ProcessId = b.NewProcessId\n",
    "      WHERE LOWER(a.Channel) = \"security\"\n",
    "        AND a.EventID = 4688\n",
    "        AND a.MandatoryLabel = \"S-1-16-12288\"\n",
    "        AND a.TokenElevationType = \"%%1937\"\n",
    "    ) c\n",
    "    ON d.ProcessId = c.NewProcessId\n",
    "    WHERE LOWER(d.Channel) = \"security\"\n",
    "      AND d.EventID = 4688\n",
    "      AND d.NewProcessName LIKE '%powershell.exe'\n",
    ") e\n",
    "ON LOWER(hex(f.ExecutionProcessID)) = e.NewProcessId\n",
    "WHERE f.Channel = \"Microsoft-Windows-PowerShell/Operational\"\n",
    "AND f.EventID = 4103\n",
    "AND LOWER(f.Payload) LIKE \"%copyfromscreen%\"\n",
    "\n",
    "'''\n",
    ")\n",
    "df.show(100,truncate = False, vertical = True)"
   ]
  },
  {
   "cell_type": "code",
   "execution_count": null,
   "metadata": {},
   "outputs": [],
   "source": [
    "df_labelled = apply_label(df_labelled, df, df.columns[0], \"7.A.1. Screen Capture\")"
   ]
  },
  {
   "cell_type": "markdown",
   "metadata": {},
   "source": [
    "## 7.A.2. Clipboard Data\n",
    "**Procedure:** Captured clipboard contents using PowerShell\n",
    "\n",
    "**Criteria:** powershell.exe executing Get-Clipboard\n"
   ]
  },
  {
   "cell_type": "code",
   "execution_count": null,
   "metadata": {},
   "outputs": [],
   "source": [
    "df_labelled = df_labelled.checkpoint()"
   ]
  },
  {
   "cell_type": "markdown",
   "metadata": {},
   "source": [
    "### Detection Type:Telemetry(Correlated)"
   ]
  },
  {
   "cell_type": "markdown",
   "metadata": {},
   "source": [
    "**Query ID:F4609F7E-C4DB-4327-91D4-59A58C962A02**"
   ]
  },
  {
   "cell_type": "code",
   "execution_count": null,
   "metadata": {},
   "outputs": [],
   "source": [
    "df = spark.sql(\n",
    "'''\n",
    "SELECT Message\n",
    "FROM apt29Host f\n",
    "INNER JOIN (\n",
    "  SELECT d.ProcessId, d.ParentProcessId\n",
    "  FROM apt29Host d\n",
    "  INNER JOIN (\n",
    "    SELECT a.ProcessGuid, a.ParentProcessGuid\n",
    "    FROM apt29Host a\n",
    "    INNER JOIN (\n",
    "      SELECT ProcessGuid\n",
    "      FROM apt29Host\n",
    "      WHERE Channel = \"Microsoft-Windows-Sysmon/Operational\"\n",
    "          AND EventID = 1\n",
    "          AND LOWER(Image) LIKE \"%control.exe\"\n",
    "          AND LOWER(ParentImage) LIKE \"%sdclt.exe\"\n",
    "    ) b\n",
    "    ON a.ParentProcessGuid = b.ProcessGuid\n",
    "    WHERE a.Channel = \"Microsoft-Windows-Sysmon/Operational\"\n",
    "      AND a.EventID = 1\n",
    "      AND a.IntegrityLevel = \"High\"\n",
    "  ) c\n",
    "  ON d.ParentProcessGuid= c.ProcessGuid\n",
    "  WHERE d.Channel = \"Microsoft-Windows-Sysmon/Operational\"\n",
    "    AND d.EventID = 1\n",
    "    AND d.Image LIKE '%powershell.exe'\n",
    ") e\n",
    "ON f.ExecutionProcessID = e.ProcessId\n",
    "WHERE f.Channel = \"Microsoft-Windows-PowerShell/Operational\"\n",
    "AND f.EventID = 4103\n",
    "AND LOWER(f.Payload) LIKE \"%get-clipboard%\"\n",
    "\n",
    "'''\n",
    ")\n",
    "df.show(100,truncate = False, vertical = True)"
   ]
  },
  {
   "cell_type": "code",
   "execution_count": null,
   "metadata": {},
   "outputs": [],
   "source": [
    "df_labelled = apply_label(df_labelled, df, df.columns[0], \"7.A.2. Clipboard Data\")"
   ]
  },
  {
   "cell_type": "markdown",
   "metadata": {},
   "source": [
    "**Query ID:6EC8D7EB-153B-459A-9333-51208449DB99**"
   ]
  },
  {
   "cell_type": "code",
   "execution_count": null,
   "metadata": {},
   "outputs": [],
   "source": [
    "df = spark.sql(\n",
    "'''\n",
    "SELECT Message\n",
    "FROM apt29Host f\n",
    "INNER JOIN (\n",
    "  SELECT split(d.NewProcessId, '0x')[1] as NewProcessId\n",
    "  FROM apt29Host d\n",
    "  INNER JOIN(\n",
    "    SELECT a.ProcessId, a.NewProcessId\n",
    "    FROM apt29Host a\n",
    "    INNER JOIN (\n",
    "      SELECT NewProcessId\n",
    "      FROM apt29Host\n",
    "      WHERE LOWER(Channel) = \"security\"\n",
    "          AND EventID = 4688\n",
    "          AND LOWER(NewProcessName) LIKE \"%control.exe\"\n",
    "          AND LOWER(ParentProcessName) LIKE \"%sdclt.exe\"\n",
    "    ) b\n",
    "    ON a.ProcessId = b.NewProcessId\n",
    "    WHERE LOWER(a.Channel) = \"security\"\n",
    "      AND a.EventID = 4688\n",
    "      AND a.MandatoryLabel = \"S-1-16-12288\"\n",
    "      AND a.TokenElevationType = \"%%1937\"\n",
    "  ) c\n",
    "  ON d.ProcessId = c.NewProcessId\n",
    "  WHERE LOWER(d.Channel) = \"security\"\n",
    "    AND d.EventID = 4688\n",
    "    AND d.NewProcessName LIKE '%powershell.exe'\n",
    ") e\n",
    "ON LOWER(hex(f.ExecutionProcessID)) = e.NewProcessId\n",
    "WHERE f.Channel = \"Microsoft-Windows-PowerShell/Operational\"\n",
    "AND f.EventID = 4103\n",
    "AND LOWER(f.Payload) LIKE \"%get-clipboard%\"\n",
    "\n",
    "'''\n",
    ")\n",
    "df.show(100,truncate = False, vertical = True)"
   ]
  },
  {
   "cell_type": "code",
   "execution_count": null,
   "metadata": {},
   "outputs": [],
   "source": [
    "df_labelled = apply_label(df_labelled, df, df.columns[0], \"7.A.2. Clipboard Data\")"
   ]
  },
  {
   "cell_type": "markdown",
   "metadata": {},
   "source": [
    "## 7.A.3. Input Capture\n",
    "**Procedure:** Captured user keystrokes using the GetAsyncKeyState API\n",
    "\n",
    "**Criteria:** powershell.exe executing the GetAsyncKeyState API\n"
   ]
  },
  {
   "cell_type": "markdown",
   "metadata": {},
   "source": [
    "### Detection Type:None(None)"
   ]
  },
  {
   "cell_type": "markdown",
   "metadata": {},
   "source": [
    "## 7.B.1. Data from Local System\n",
    "**Procedure:** Read data in the user's Downloads directory using PowerShell\n",
    "\n",
    "**Criteria:** powershell.exe reading files in C:\\Users\\pam\\Downloads\\\n"
   ]
  },
  {
   "cell_type": "markdown",
   "metadata": {},
   "source": [
    "### Detection Type:None(None)"
   ]
  },
  {
   "cell_type": "markdown",
   "metadata": {},
   "source": [
    "## 7.B.2. Data Compressed\n",
    "**Procedure:** Compressed data from the user's Downloads directory into a ZIP file (OfficeSupplies.7z) using PowerShell\n",
    "\n",
    "**Criteria:** powershell.exe creating the file OfficeSupplies.7z\n"
   ]
  },
  {
   "cell_type": "markdown",
   "metadata": {},
   "source": [
    "### Detection Type:Telemetry(Correlated)"
   ]
  },
  {
   "cell_type": "markdown",
   "metadata": {},
   "source": [
    "**Query ID:BA68938F-7506-4E20-BC06-0B44B535A0B1**"
   ]
  },
  {
   "cell_type": "code",
   "execution_count": null,
   "metadata": {},
   "outputs": [],
   "source": [
    "df = spark.sql(\n",
    "'''\n",
    "SELECT Message\n",
    "FROM apt29Host f\n",
    "INNER JOIN (\n",
    "  SELECT d.ProcessGuid, d.ParentProcessGuid\n",
    "  FROM apt29Host d\n",
    "  INNER JOIN (\n",
    "    SELECT a.ProcessGuid, a.ParentProcessGuid\n",
    "    FROM apt29Host a\n",
    "    INNER JOIN (\n",
    "      SELECT ProcessGuid\n",
    "      FROM apt29Host\n",
    "      WHERE Channel = \"Microsoft-Windows-Sysmon/Operational\"\n",
    "          AND EventID = 1\n",
    "          AND LOWER(Image) LIKE \"%control.exe\"\n",
    "          AND LOWER(ParentImage) LIKE \"%sdclt.exe\"\n",
    "    ) b\n",
    "    ON a.ParentProcessGuid = b.ProcessGuid\n",
    "    WHERE a.Channel = \"Microsoft-Windows-Sysmon/Operational\"\n",
    "      AND a.EventID = 1\n",
    "      AND a.IntegrityLevel = \"High\"\n",
    "  ) c\n",
    "  ON d.ParentProcessGuid= c.ProcessGuid\n",
    "  WHERE d.Channel = \"Microsoft-Windows-Sysmon/Operational\"\n",
    "    AND d.EventID = 1\n",
    "    AND d.Image LIKE '%powershell.exe'\n",
    ") e\n",
    "ON f.ProcessGuid = e.ProcessGuid\n",
    "WHERE f.Channel = \"Microsoft-Windows-Sysmon/Operational\"\n",
    "  AND f.EventID = 11\n",
    "  AND LOWER(f.TargetFilename) LIKE '%officesupplies%'\n",
    "\n",
    "'''\n",
    ")\n",
    "df.show(100,truncate = False, vertical = True)"
   ]
  },
  {
   "cell_type": "code",
   "execution_count": null,
   "metadata": {},
   "outputs": [],
   "source": [
    "df_labelled = apply_label(df_labelled, df, df.columns[0], \"7.B.2. Data Compressed\")"
   ]
  },
  {
   "cell_type": "markdown",
   "metadata": {},
   "source": [
    "## 7.B.3. Data Encrypted\n",
    "**Procedure:** Encrypted data from the user's Downloads directory using PowerShell\n",
    "\n",
    "**Criteria:** powershell.exe executing Compress-7Zip with the password argument used for encryption\n"
   ]
  },
  {
   "cell_type": "markdown",
   "metadata": {},
   "source": [
    "### Detection Type:Telemetry(Correlated)"
   ]
  },
  {
   "cell_type": "markdown",
   "metadata": {},
   "source": [
    "**Query ID:4C19DDB9-9763-4D1C-9B9D-788ECF193778**"
   ]
  },
  {
   "cell_type": "code",
   "execution_count": null,
   "metadata": {},
   "outputs": [],
   "source": [
    "df = spark.sql(\n",
    "'''\n",
    "SELECT f.Message\n",
    "FROM apt29Host f\n",
    "INNER JOIN (\n",
    "  SELECT d.ProcessId, d.ParentProcessId\n",
    "  FROM apt29Host d\n",
    "  INNER JOIN (\n",
    "    SELECT a.ProcessGuid, a.ParentProcessGuid\n",
    "    FROM apt29Host a\n",
    "    INNER JOIN (\n",
    "      SELECT ProcessGuid\n",
    "      FROM apt29Host\n",
    "      WHERE Channel = \"Microsoft-Windows-Sysmon/Operational\"\n",
    "          AND EventID = 1\n",
    "          AND LOWER(Image) LIKE \"%control.exe\"\n",
    "          AND LOWER(ParentImage) LIKE \"%sdclt.exe\"\n",
    "    ) b\n",
    "    ON a.ParentProcessGuid = b.ProcessGuid\n",
    "    WHERE a.Channel = \"Microsoft-Windows-Sysmon/Operational\"\n",
    "      AND a.EventID = 1\n",
    "      AND a.IntegrityLevel = \"High\"\n",
    "  ) c\n",
    "  ON d.ParentProcessGuid= c.ProcessGuid\n",
    "  WHERE d.Channel = \"Microsoft-Windows-Sysmon/Operational\"\n",
    "    AND d.EventID = 1\n",
    "    AND d.Image LIKE '%powershell.exe'\n",
    ") e\n",
    "ON f.ExecutionProcessID = e.ProcessId\n",
    "WHERE f.Channel = \"Microsoft-Windows-PowerShell/Operational\"\n",
    "    AND f.EventID = 4104\n",
    "    AND LOWER(f.ScriptBlockText) LIKE \"%compress-7zip%\"\n",
    "\n",
    "'''\n",
    ")\n",
    "df.show(100,truncate = False, vertical = True)"
   ]
  },
  {
   "cell_type": "code",
   "execution_count": null,
   "metadata": {},
   "outputs": [],
   "source": [
    "df_labelled = apply_label(df_labelled, df, df.columns[0], \"7.B.3. Data Encrypted\")"
   ]
  },
  {
   "cell_type": "markdown",
   "metadata": {},
   "source": [
    "**Query ID:C670DAFF-B1FD-45B2-9DEB-AC5AEC273EE7**"
   ]
  },
  {
   "cell_type": "code",
   "execution_count": null,
   "metadata": {},
   "outputs": [],
   "source": [
    "df = spark.sql(\n",
    "'''\n",
    "SELECT f.Message\n",
    "FROM apt29Host f\n",
    "INNER JOIN (\n",
    "  SELECT split(d.NewProcessId, '0x')[1] as NewProcessId\n",
    "  FROM apt29Host d\n",
    "  INNER JOIN(\n",
    "    SELECT a.ProcessId, a.NewProcessId\n",
    "    FROM apt29Host a\n",
    "    INNER JOIN (\n",
    "      SELECT NewProcessId\n",
    "      FROM apt29Host\n",
    "      WHERE LOWER(Channel) = \"security\"\n",
    "          AND EventID = 4688\n",
    "          AND LOWER(NewProcessName) LIKE \"%control.exe\"\n",
    "          AND LOWER(ParentProcessName) LIKE \"%sdclt.exe\"\n",
    "    ) b\n",
    "    ON a.ProcessId = b.NewProcessId\n",
    "    WHERE LOWER(a.Channel) = \"security\"\n",
    "      AND a.EventID = 4688\n",
    "      AND a.MandatoryLabel = \"S-1-16-12288\"\n",
    "      AND a.TokenElevationType = \"%%1937\"\n",
    "  ) c\n",
    "  ON d.ProcessId = c.NewProcessId\n",
    "  WHERE LOWER(d.Channel) = \"security\"\n",
    "    AND d.EventID = 4688\n",
    "    AND d.NewProcessName LIKE '%powershell.exe'\n",
    ") e\n",
    "ON LOWER(hex(f.ExecutionProcessID)) = e.NewProcessId\n",
    "WHERE f.Channel = \"Microsoft-Windows-PowerShell/Operational\"\n",
    "AND f.EventID = 4104\n",
    "AND LOWER(f.ScriptBlockText) LIKE \"%compress-7zip%\"\n",
    "\n",
    "'''\n",
    ")\n",
    "df.show(100,truncate = False, vertical = True)"
   ]
  },
  {
   "cell_type": "code",
   "execution_count": null,
   "metadata": {},
   "outputs": [],
   "source": [
    "df_labelled = apply_label(df_labelled, df, df.columns[0], \"7.B.3. Data Encrypted\")"
   ]
  },
  {
   "cell_type": "markdown",
   "metadata": {},
   "source": [
    "## 7.B.4. Exfiltration Over Alternative Protocol\n",
    "**Procedure:** Exfiltrated collection (OfficeSupplies.7z) to WebDAV network share using PowerShell\n",
    "\n",
    "**Criteria:** powershell executing Copy-Item pointing to an attack-controlled WebDav network share (192.168.0.4:80)\n"
   ]
  },
  {
   "cell_type": "markdown",
   "metadata": {},
   "source": [
    "### Detection Type:Telemetry(Correlated)"
   ]
  },
  {
   "cell_type": "markdown",
   "metadata": {},
   "source": [
    "**Query ID:7AAC6658-2B5C-4B4A-B7C9-D42D288D5218**"
   ]
  },
  {
   "cell_type": "code",
   "execution_count": null,
   "metadata": {},
   "outputs": [],
   "source": [
    "df = spark.sql(\n",
    "'''\n",
    "SELECT f.Message\n",
    "FROM apt29Host f\n",
    "INNER JOIN (\n",
    "    SELECT d.ProcessId, d.ParentProcessId\n",
    "    FROM apt29Host d\n",
    "    INNER JOIN (\n",
    "      SELECT a.ProcessGuid, a.ParentProcessGuid\n",
    "      FROM apt29Host a\n",
    "      INNER JOIN (\n",
    "        SELECT ProcessGuid\n",
    "        FROM apt29Host\n",
    "        WHERE Channel = \"Microsoft-Windows-Sysmon/Operational\"\n",
    "            AND EventID = 1\n",
    "            AND LOWER(Image) LIKE \"%control.exe\"\n",
    "            AND LOWER(ParentImage) LIKE \"%sdclt.exe\"\n",
    "      ) b\n",
    "      ON a.ParentProcessGuid = b.ProcessGuid\n",
    "      WHERE a.Channel = \"Microsoft-Windows-Sysmon/Operational\"\n",
    "        AND a.EventID = 1\n",
    "        AND a.IntegrityLevel = \"High\"\n",
    "    ) c\n",
    "    ON d.ParentProcessGuid= c.ProcessGuid\n",
    "    WHERE d.Channel = \"Microsoft-Windows-Sysmon/Operational\"\n",
    "      AND d.EventID = 1\n",
    "      AND d.Image LIKE '%powershell.exe'\n",
    ") e\n",
    "ON f.ExecutionProcessID = e.ProcessId\n",
    "WHERE f.Channel = \"Microsoft-Windows-PowerShell/Operational\"\n",
    "  AND f.EventID = 4104\n",
    "  AND LOWER(f.ScriptBlockText) LIKE \"%copy-item%\"\n",
    "\n",
    "'''\n",
    ")\n",
    "df.show(100,truncate = False, vertical = True)"
   ]
  },
  {
   "cell_type": "code",
   "execution_count": null,
   "metadata": {},
   "outputs": [],
   "source": [
    "df_labelled = apply_label(df_labelled, df, df.columns[0], \"7.B.4. Exfiltration Over Alternative Protocol\")"
   ]
  },
  {
   "cell_type": "markdown",
   "metadata": {},
   "source": [
    "**Query ID:B19F8E16-AA6C-45C1-8A0D-92812830C237**"
   ]
  },
  {
   "cell_type": "code",
   "execution_count": null,
   "metadata": {},
   "outputs": [],
   "source": [
    "df = spark.sql(\n",
    "'''\n",
    "SELECT f.Message\n",
    "FROM apt29Host f\n",
    "INNER JOIN (\n",
    "  SELECT split(d.NewProcessId, '0x')[1] as NewProcessId\n",
    "  FROM apt29Host d\n",
    "  INNER JOIN(\n",
    "    SELECT a.ProcessId, a.NewProcessId\n",
    "    FROM apt29Host a\n",
    "    INNER JOIN (\n",
    "      SELECT NewProcessId\n",
    "      FROM apt29Host\n",
    "      WHERE LOWER(Channel) = \"security\"\n",
    "          AND EventID = 4688\n",
    "          AND LOWER(NewProcessName) LIKE \"%control.exe\"\n",
    "          AND LOWER(ParentProcessName) LIKE \"%sdclt.exe\"\n",
    "    ) b\n",
    "    ON a.ProcessId = b.NewProcessId\n",
    "    WHERE LOWER(a.Channel) = \"security\"\n",
    "      AND a.EventID = 4688\n",
    "      AND a.MandatoryLabel = \"S-1-16-12288\"\n",
    "      AND a.TokenElevationType = \"%%1937\"\n",
    "  ) c\n",
    "  ON d.ProcessId = c.NewProcessId\n",
    "  WHERE LOWER(d.Channel) = \"security\"\n",
    "    AND d.EventID = 4688\n",
    "    AND d.NewProcessName LIKE '%powershell.exe'\n",
    ") e\n",
    "ON LOWER(hex(f.ExecutionProcessID)) = e.NewProcessId\n",
    "WHERE f.Channel = \"Microsoft-Windows-PowerShell/Operational\"\n",
    "AND f.EventID = 4104\n",
    "AND LOWER(f.ScriptBlockText) LIKE \"%copy-item%\"\n",
    "\n",
    "'''\n",
    ")\n",
    "df.show(100,truncate = False, vertical = True)"
   ]
  },
  {
   "cell_type": "code",
   "execution_count": null,
   "metadata": {},
   "outputs": [],
   "source": [
    "df_labelled = apply_label(df_labelled, df, df.columns[0], \"7.B.4. Exfiltration Over Alternative Protocol\")"
   ]
  },
  {
   "cell_type": "markdown",
   "metadata": {},
   "source": [
    "### Detection Type:technique(Alert)"
   ]
  },
  {
   "cell_type": "markdown",
   "metadata": {},
   "source": [
    "**Query ID:C10730EA-6345-4934-AA0F-B0EFCA0C4BA6**"
   ]
  },
  {
   "cell_type": "code",
   "execution_count": null,
   "metadata": {},
   "outputs": [],
   "source": [
    "df = spark.sql(\n",
    "'''\n",
    "SELECT Message\n",
    "FROM apt29Host\n",
    "WHERE Channel = \"Microsoft-Windows-Sysmon/Operational\"\n",
    "    AND EventID = 1\n",
    "    AND CommandLine RLIKE '.*rundll32.exe.*\\\\\\\\\\\\\\\\windows\\\\\\\\\\\\\\\\system32\\\\\\\\\\\\\\\\davclnt.dll.*DavSetCookie.*'\n",
    "\n",
    "'''\n",
    ")\n",
    "df.show(100,truncate = False, vertical = True)"
   ]
  },
  {
   "cell_type": "code",
   "execution_count": null,
   "metadata": {},
   "outputs": [],
   "source": [
    "df_labelled = apply_label(df_labelled, df, df.columns[0], \"7.B.4. Exfiltration Over Alternative Protocol\")"
   ]
  },
  {
   "cell_type": "markdown",
   "metadata": {},
   "source": [
    "## 8.A.1. Remote System Discovery\n",
    "**Procedure:** Enumerated remote systems using LDAP queries\n",
    "\n",
    "**Criteria:** powershell.exe making LDAP queries over port 389 to the Domain Controller (10.0.0.4)\n"
   ]
  },
  {
   "cell_type": "code",
   "execution_count": null,
   "metadata": {},
   "outputs": [],
   "source": [
    "df_labelled = df_labelled.checkpoint()"
   ]
  },
  {
   "cell_type": "markdown",
   "metadata": {},
   "source": [
    "### Detection Type:Telemetry(Correlated)"
   ]
  },
  {
   "cell_type": "markdown",
   "metadata": {},
   "source": [
    "**Query ID:C1307FC1-19B7-467B-9705-95147B492CC7**"
   ]
  },
  {
   "cell_type": "code",
   "execution_count": null,
   "metadata": {},
   "outputs": [],
   "source": [
    "df = spark.sql(\n",
    "'''\n",
    "SELECT f.Message\n",
    "FROM apt29Host f\n",
    "INNER JOIN (\n",
    "SELECT d.ProcessId, d.ParentProcessId\n",
    "FROM apt29Host d\n",
    "INNER JOIN (\n",
    "  SELECT a.ProcessGuid, a.ParentProcessGuid\n",
    "  FROM apt29Host a\n",
    "  INNER JOIN (\n",
    "    SELECT ProcessGuid\n",
    "    FROM apt29Host\n",
    "    WHERE Channel = \"Microsoft-Windows-Sysmon/Operational\"\n",
    "        AND EventID = 1\n",
    "        AND LOWER(Image) LIKE \"%control.exe\"\n",
    "        AND LOWER(ParentImage) LIKE \"%sdclt.exe\"\n",
    "  ) b\n",
    "  ON a.ParentProcessGuid = b.ProcessGuid\n",
    "  WHERE a.Channel = \"Microsoft-Windows-Sysmon/Operational\"\n",
    "    AND a.EventID = 1\n",
    "    AND a.IntegrityLevel = \"High\"\n",
    ") c\n",
    "ON d.ParentProcessGuid= c.ProcessGuid\n",
    "WHERE d.Channel = \"Microsoft-Windows-Sysmon/Operational\"\n",
    "  AND d.EventID = 1\n",
    "  AND d.Image LIKE '%powershell.exe'\n",
    ") e\n",
    "ON f.ProcessId = e.ProcessId\n",
    "WHERE f.Channel = \"Microsoft-Windows-Sysmon/Operational\"\n",
    "  AND f.EventID = 3\n",
    "  AND f.DestinationPort = 389\n",
    "\n",
    "'''\n",
    ")\n",
    "df.show(100,truncate = False, vertical = True)"
   ]
  },
  {
   "cell_type": "code",
   "execution_count": null,
   "metadata": {},
   "outputs": [],
   "source": [
    "df_labelled = apply_label(df_labelled, df, df.columns[0], \"8.A.1. Remote System Discovery\")"
   ]
  },
  {
   "cell_type": "markdown",
   "metadata": {},
   "source": [
    "**Query ID:542C2E36-0BC0-450B-A34F-C600E9DC396B**"
   ]
  },
  {
   "cell_type": "code",
   "execution_count": null,
   "metadata": {},
   "outputs": [],
   "source": [
    "df = spark.sql(\n",
    "'''\n",
    "SELECT f.Message\n",
    "FROM apt29Host f\n",
    "INNER JOIN (\n",
    "    SELECT split(d.NewProcessId, '0x')[1] as NewProcessId\n",
    "    FROM apt29Host d\n",
    "    INNER JOIN(\n",
    "      SELECT a.ProcessId, a.NewProcessId\n",
    "      FROM apt29Host a\n",
    "      INNER JOIN (\n",
    "        SELECT NewProcessId\n",
    "        FROM apt29Host\n",
    "        WHERE LOWER(Channel) = \"security\"\n",
    "            AND EventID = 4688\n",
    "            AND LOWER(NewProcessName) LIKE \"%control.exe\"\n",
    "            AND LOWER(ParentProcessName) LIKE \"%sdclt.exe\"\n",
    "      ) b\n",
    "      ON a.ProcessId = b.NewProcessId\n",
    "      WHERE LOWER(a.Channel) = \"security\"\n",
    "        AND a.EventID = 4688\n",
    "        AND a.MandatoryLabel = \"S-1-16-12288\"\n",
    "        AND a.TokenElevationType = \"%%1937\"\n",
    "    ) c\n",
    "    ON d.ProcessId = c.NewProcessId\n",
    "    WHERE LOWER(d.Channel) = \"security\"\n",
    "      AND d.EventID = 4688\n",
    "      AND d.NewProcessName LIKE '%powershell.exe'\n",
    ") e\n",
    "ON LOWER(hex(CAST(f.ProcessId as INT))) = e.NewProcessId\n",
    "WHERE LOWER(f.Channel) = \"security\"\n",
    "    AND EventID = 5156\n",
    "    AND DestPort = 389\n",
    "\n",
    "'''\n",
    ")\n",
    "df.show(100,truncate = False, vertical = True)"
   ]
  },
  {
   "cell_type": "code",
   "execution_count": null,
   "metadata": {},
   "outputs": [],
   "source": [
    "df_labelled = apply_label(df_labelled, df, df.columns[0], \"8.A.1. Remote System Discovery\")"
   ]
  },
  {
   "cell_type": "markdown",
   "metadata": {},
   "source": [
    "## 8.A.2. Remote System Discovery\n",
    "**Procedure:** Established WinRM connection to remote host NASHUA (10.0.1.6)\n",
    "\n",
    "**Criteria:** Network connection to NASHUA (10.0.1.6) over port 5985\n"
   ]
  },
  {
   "cell_type": "markdown",
   "metadata": {},
   "source": [
    "### Detection Type:Telemetry(Correlated)"
   ]
  },
  {
   "cell_type": "markdown",
   "metadata": {},
   "source": [
    "**Query ID:0A5428EA-171D-4944-B27C-0EBC3D557FAD**"
   ]
  },
  {
   "cell_type": "code",
   "execution_count": null,
   "metadata": {},
   "outputs": [],
   "source": [
    "df = spark.sql(\n",
    "'''\n",
    "SELECT f.Message\n",
    "FROM apt29Host f\n",
    "INNER JOIN (\n",
    "SELECT d.ProcessId, d.ParentProcessId\n",
    "FROM apt29Host d\n",
    "INNER JOIN (\n",
    "  SELECT a.ProcessGuid, a.ParentProcessGuid\n",
    "  FROM apt29Host a\n",
    "  INNER JOIN (\n",
    "    SELECT ProcessGuid\n",
    "    FROM apt29Host\n",
    "    WHERE Channel = \"Microsoft-Windows-Sysmon/Operational\"\n",
    "        AND EventID = 1\n",
    "        AND LOWER(Image) LIKE \"%control.exe\"\n",
    "        AND LOWER(ParentImage) LIKE \"%sdclt.exe\"\n",
    "  ) b\n",
    "  ON a.ParentProcessGuid = b.ProcessGuid\n",
    "  WHERE a.Channel = \"Microsoft-Windows-Sysmon/Operational\"\n",
    "    AND a.EventID = 1\n",
    "    AND a.IntegrityLevel = \"High\"\n",
    ") c\n",
    "ON d.ParentProcessGuid= c.ProcessGuid\n",
    "WHERE d.Channel = \"Microsoft-Windows-Sysmon/Operational\"\n",
    "  AND d.EventID = 1\n",
    "  AND d.Image LIKE '%powershell.exe'\n",
    ") e\n",
    "ON f.ProcessId = e.ProcessId\n",
    "WHERE f.Channel = \"Microsoft-Windows-Sysmon/Operational\"\n",
    "  AND f.EventID = 3\n",
    "  AND f.DestinationPort = 5985\n",
    "\n",
    "'''\n",
    ")\n",
    "df.show(100,truncate = False, vertical = True)"
   ]
  },
  {
   "cell_type": "code",
   "execution_count": null,
   "metadata": {},
   "outputs": [],
   "source": [
    "df_labelled = apply_label(df_labelled, df, df.columns[0], \"8.A.2. Remote System Discovery\")"
   ]
  },
  {
   "cell_type": "markdown",
   "metadata": {},
   "source": [
    "**Query ID:0376E07E-3C48-4B89-A50D-B3FAAB23EDAB**"
   ]
  },
  {
   "cell_type": "code",
   "execution_count": null,
   "metadata": {},
   "outputs": [],
   "source": [
    "df = spark.sql(\n",
    "'''\n",
    "SELECT f.Message\n",
    "FROM apt29Host f\n",
    "INNER JOIN (\n",
    "    SELECT split(d.NewProcessId, '0x')[1] as NewProcessId\n",
    "    FROM apt29Host d\n",
    "    INNER JOIN(\n",
    "      SELECT a.ProcessId, a.NewProcessId\n",
    "      FROM apt29Host a\n",
    "      INNER JOIN (\n",
    "        SELECT NewProcessId\n",
    "        FROM apt29Host\n",
    "        WHERE LOWER(Channel) = \"security\"\n",
    "            AND EventID = 4688\n",
    "            AND LOWER(NewProcessName) LIKE \"%control.exe\"\n",
    "            AND LOWER(ParentProcessName) LIKE \"%sdclt.exe\"\n",
    "      ) b\n",
    "      ON a.ProcessId = b.NewProcessId\n",
    "      WHERE LOWER(a.Channel) = \"security\"\n",
    "        AND a.EventID = 4688\n",
    "        AND a.MandatoryLabel = \"S-1-16-12288\"\n",
    "        AND a.TokenElevationType = \"%%1937\"\n",
    "    ) c\n",
    "    ON d.ProcessId = c.NewProcessId\n",
    "    WHERE LOWER(d.Channel) = \"security\"\n",
    "      AND d.EventID = 4688\n",
    "      AND d.NewProcessName LIKE '%powershell.exe'\n",
    ") e\n",
    "ON LOWER(hex(CAST(f.ProcessId as INT))) = e.NewProcessId\n",
    "WHERE LOWER(f.Channel) = \"security\"\n",
    "    AND EventID = 5156\n",
    "    AND DestPort = 5985\n",
    "\n",
    "'''\n",
    ")\n",
    "df.show(100,truncate = False, vertical = True)"
   ]
  },
  {
   "cell_type": "code",
   "execution_count": null,
   "metadata": {},
   "outputs": [],
   "source": [
    "df_labelled = apply_label(df_labelled, df, df.columns[0], \"8.A.2. Remote System Discovery\")"
   ]
  },
  {
   "cell_type": "markdown",
   "metadata": {},
   "source": [
    "## 8.A.3. Process Discovery\n",
    "**Procedure:** Enumerated processes on remote host Scranton (10.0.1.4) using PowerShell\n",
    "\n",
    "**Criteria:** powershell.exe executing Get-Process\n"
   ]
  },
  {
   "cell_type": "markdown",
   "metadata": {},
   "source": [
    "### Detection Type:Telemetry(Correlated)"
   ]
  },
  {
   "cell_type": "markdown",
   "metadata": {},
   "source": [
    "**Query ID:6C481791-2AE8-4F6B-9BFE-C1F6DE1E0BC0**"
   ]
  },
  {
   "cell_type": "code",
   "execution_count": null,
   "metadata": {},
   "outputs": [],
   "source": [
    "df = spark.sql(\n",
    "'''\n",
    "SELECT b.Message\n",
    "FROM apt29Host b\n",
    "INNER JOIN (\n",
    "    SELECT ProcessGuid, ProcessId\n",
    "    FROM apt29Host\n",
    "    WHERE Channel = \"Microsoft-Windows-Sysmon/Operational\"\n",
    "    AND EventID = 1\n",
    "    AND LOWER(Image) LIKE '%wsmprovhost.exe'\n",
    ") a\n",
    "ON b.ExecutionProcessID = a.ProcessId\n",
    "WHERE b.Channel = \"Microsoft-Windows-PowerShell/Operational\"\n",
    "  AND b.EventID = 4104\n",
    "  AND LOWER(b.ScriptBlockText) LIKE \"%get-process%\"\n",
    "\n",
    "'''\n",
    ")\n",
    "df.show(100,truncate = False, vertical = True)"
   ]
  },
  {
   "cell_type": "code",
   "execution_count": null,
   "metadata": {},
   "outputs": [],
   "source": [
    "df_labelled = apply_label(df_labelled, df, df.columns[0], \"8.A.3. Process Discovery\")"
   ]
  },
  {
   "cell_type": "markdown",
   "metadata": {},
   "source": [
    "**Query ID:088846AF-FF45-4FC4-896C-64F24517BBD7**"
   ]
  },
  {
   "cell_type": "code",
   "execution_count": null,
   "metadata": {},
   "outputs": [],
   "source": [
    "df = spark.sql(\n",
    "'''\n",
    "SELECT b.Message\n",
    "FROM apt29Host b\n",
    "INNER JOIN (\n",
    "    SELECT split(NewProcessId, '0x')[1] as NewProcessId\n",
    "    FROM apt29Host\n",
    "    WHERE LOWER(Channel) = \"security\"\n",
    "      AND EventID = 4688\n",
    "      AND LOWER(NewProcessName) LIKE '%wsmprovhost.exe'\n",
    ") a\n",
    "ON LOWER(hex(b.ExecutionProcessID)) = a.NewProcessId\n",
    "WHERE b.Channel = \"Microsoft-Windows-PowerShell/Operational\"\n",
    "AND b.EventID = 4104\n",
    "AND LOWER(b.ScriptBlockText) LIKE \"%get-process%\"\n",
    "\n",
    "'''\n",
    ")\n",
    "df.show(100,truncate = False, vertical = True)"
   ]
  },
  {
   "cell_type": "code",
   "execution_count": null,
   "metadata": {},
   "outputs": [],
   "source": [
    "df_labelled = apply_label(df_labelled, df, df.columns[0], \"8.A.3. Process Discovery\")"
   ]
  },
  {
   "cell_type": "markdown",
   "metadata": {},
   "source": [
    "## 8.B.1. Remote File Copy\n",
    "**Procedure:** Copied python.exe payload from a WebDAV share (192.168.0.4) to remote host Scranton (10.0.1.4)\n",
    "\n",
    "**Criteria:** The file python.exe created on Scranton (10.0.1.4)\n"
   ]
  },
  {
   "cell_type": "markdown",
   "metadata": {},
   "source": [
    "### Detection Type:Telemetry(None)"
   ]
  },
  {
   "cell_type": "markdown",
   "metadata": {},
   "source": [
    "**Query ID:97402495-2449-415F-BDAD-5CC8EFC1E1B5**"
   ]
  },
  {
   "cell_type": "code",
   "execution_count": null,
   "metadata": {},
   "outputs": [],
   "source": [
    "df = spark.sql(\n",
    "'''\n",
    "SELECT Message\n",
    "FROM apt29Host\n",
    "WHERE LOWER(Channel) = \"security\"\n",
    "  AND EventID = 5145\n",
    "  AND RelativeTargetName LIKE '%python.exe'\n",
    "\n",
    "'''\n",
    ")\n",
    "df.show(100,truncate = False, vertical = True)"
   ]
  },
  {
   "cell_type": "code",
   "execution_count": null,
   "metadata": {},
   "outputs": [],
   "source": [
    "df_labelled = apply_label(df_labelled, df, df.columns[0], \"8.B.1. Remote File Copy\")"
   ]
  },
  {
   "cell_type": "markdown",
   "metadata": {},
   "source": [
    "**Query ID:D804F2D8-C65B-42D6-A731-C13BE2BDB441**"
   ]
  },
  {
   "cell_type": "code",
   "execution_count": null,
   "metadata": {},
   "outputs": [],
   "source": [
    "df = spark.sql(\n",
    "'''\n",
    "SELECT Message\n",
    "FROM apt29Host\n",
    "WHERE Channel = 'Microsoft-Windows-Sysmon/Operational'\n",
    "    AND EventID = 11\n",
    "    AND TargetFilename LIKE '%python.exe'\n",
    "\n",
    "'''\n",
    ")\n",
    "df.show(100,truncate = False, vertical = True)"
   ]
  },
  {
   "cell_type": "code",
   "execution_count": null,
   "metadata": {},
   "outputs": [],
   "source": [
    "df_labelled = apply_label(df_labelled, df, df.columns[0], \"8.B.1. Remote File Copy\")"
   ]
  },
  {
   "cell_type": "markdown",
   "metadata": {},
   "source": [
    "## 8.B.2. Software Packing\n",
    "**Procedure:** python.exe payload was packed with UPX\n",
    "\n",
    "**Criteria:** Evidence that the file python.exe is packed\n"
   ]
  },
  {
   "cell_type": "markdown",
   "metadata": {},
   "source": [
    "### Detection Type:None(None)"
   ]
  },
  {
   "cell_type": "markdown",
   "metadata": {},
   "source": [
    "## 8.C.1. Valid Accounts\n",
    "**Procedure:** Logged on to remote host NASHUA (10.0.1.6) using valid credentials for user Pam\n",
    "\n",
    "**Criteria:** Successful logon as user Pam on NASHUA (10.0.1.6)\n"
   ]
  },
  {
   "cell_type": "markdown",
   "metadata": {},
   "source": [
    "### Detection Type:Telemetry(None)"
   ]
  },
  {
   "cell_type": "markdown",
   "metadata": {},
   "source": [
    "**Query ID:AF5E8E22-DEC8-40AF-98AD-84BE1AC3F34C**"
   ]
  },
  {
   "cell_type": "code",
   "execution_count": null,
   "metadata": {},
   "outputs": [],
   "source": [
    "df = spark.sql(\n",
    "'''\n",
    "SELECT a.Message\n",
    "FROM apt29Host b\n",
    "INNER JOIN (\n",
    "    SELECT TargetLogonId, Message\n",
    "    FROM apt29Host\n",
    "    WHERE LOWER(Channel) = \"security\"\n",
    "        AND EventID = 4624\n",
    "        AND LogonType = 3\n",
    "        AND TargetUserName NOT LIKE '%$'\n",
    ") a\n",
    "ON b.SubjectLogonId = a.TargetLogonId\n",
    "WHERE LOWER(b.Channel) = \"security\"\n",
    "  AND b.EventID = 5145\n",
    "  AND b.RelativeTargetName LIKE '%python.exe'\n",
    "\n",
    "'''\n",
    ")\n",
    "df.show(100,truncate = False, vertical = True)"
   ]
  },
  {
   "cell_type": "code",
   "execution_count": null,
   "metadata": {},
   "outputs": [],
   "source": [
    "df_labelled = apply_label(df_labelled, df, df.columns[0], \"8.C.1. Valid Accounts\")"
   ]
  },
  {
   "cell_type": "markdown",
   "metadata": {},
   "source": [
    "## 8.C.2. Windows Admin Shares\n",
    "**Procedure:** Established SMB session to remote host NASHUA's (10.0.1.6) IPC$ share using PsExec\n",
    "\n",
    "**Criteria:** SMB session to NASHUA (10.0.1.6) over TCP port 445/135 OR evidence of usage of a Windows share\n"
   ]
  },
  {
   "cell_type": "markdown",
   "metadata": {},
   "source": [
    "### Detection Type:Telemetry(None)"
   ]
  },
  {
   "cell_type": "markdown",
   "metadata": {},
   "source": [
    "**Query ID:C91A4BF2-22B1-421B-B1DE-626778AD3BBB**"
   ]
  },
  {
   "cell_type": "code",
   "execution_count": null,
   "metadata": {},
   "outputs": [],
   "source": [
    "df = spark.sql(\n",
    "'''\n",
    "SELECT EventTime, Hostname, ShareName, RelativeTargetName, SubjectUserName\n",
    "FROM apt29Host\n",
    "WHERE LOWER(Channel) = \"security\"\n",
    "  AND EventID = 5145\n",
    "  AND ShareName LIKE '%IPC%'\n",
    "  AND RelativeTargetName LIKE '%PSEXESVC%'\n",
    "\n",
    "'''\n",
    ")\n",
    "df.show(100,truncate = False, vertical = True)"
   ]
  },
  {
   "cell_type": "code",
   "execution_count": null,
   "metadata": {},
   "outputs": [],
   "source": [
    "df = spark.sql(\n",
    "'''\n",
    "SELECT Message\n",
    "FROM apt29Host\n",
    "WHERE LOWER(Channel) = \"security\"\n",
    "  AND EventID = 5145\n",
    "  AND ShareName LIKE '%IPC%'\n",
    "  AND RelativeTargetName LIKE '%PSEXESVC%'\n",
    "\n",
    "'''\n",
    ")\n",
    "df.show(100,truncate = False, vertical = True)"
   ]
  },
  {
   "cell_type": "code",
   "execution_count": null,
   "metadata": {},
   "outputs": [],
   "source": [
    "df_labelled = apply_label(df_labelled, df, df.columns[0], \"8.C.2. Windows Admin Shares\")"
   ]
  },
  {
   "cell_type": "markdown",
   "metadata": {},
   "source": [
    "## 8.C.3. Service Execution\n",
    "**Procedure:** Executed python.exe using PSExec\n",
    "\n",
    "**Criteria:** python.exe spawned by PSEXESVC.exe\n"
   ]
  },
  {
   "cell_type": "markdown",
   "metadata": {},
   "source": [
    "### Detection Type:Telemetry(Correlated)"
   ]
  },
  {
   "cell_type": "markdown",
   "metadata": {},
   "source": [
    "**Query ID:BDE98B9B-77DD-4AD4-B755-463C3C27EE5F**"
   ]
  },
  {
   "cell_type": "code",
   "execution_count": null,
   "metadata": {},
   "outputs": [],
   "source": [
    "df = spark.sql(\n",
    "'''\n",
    "SELECT Message\n",
    "FROM apt29Host b\n",
    "INNER JOIN (\n",
    "    SELECT ProcessGuid\n",
    "    FROM apt29Host\n",
    "    WHERE Channel = \"Microsoft-Windows-Sysmon/Operational\"\n",
    "        AND EventID = 1\n",
    "        AND ParentImage LIKE '%services.exe'\n",
    ") a\n",
    "ON b.ParentProcessGuid = a.ProcessGuid\n",
    "WHERE Channel = \"Microsoft-Windows-Sysmon/Operational\"\n",
    "    AND Image LIKE '%python.exe'\n",
    "\n",
    "'''\n",
    ")\n",
    "df.show(100,truncate = False, vertical = True)"
   ]
  },
  {
   "cell_type": "code",
   "execution_count": null,
   "metadata": {},
   "outputs": [],
   "source": [
    "df_labelled = apply_label(df_labelled, df, df.columns[0], \"8.C.3. Service Execution\")"
   ]
  },
  {
   "cell_type": "markdown",
   "metadata": {},
   "source": [
    "**Query ID:11D81CCD-163F-4347-8F1D-072F4B4B3B26**"
   ]
  },
  {
   "cell_type": "code",
   "execution_count": null,
   "metadata": {},
   "outputs": [],
   "source": [
    "df = spark.sql(\n",
    "'''\n",
    "SELECT Message\n",
    "FROM apt29Host b\n",
    "INNER JOIN (\n",
    "    SELECT NewProcessId\n",
    "    FROM apt29Host\n",
    "    WHERE LOWER(Channel) = \"security\"\n",
    "        AND EventID = 4688\n",
    "        AND ParentProcessName LIKE '%services.exe'\n",
    ") a\n",
    "ON b.ProcessId = a.NewProcessId\n",
    "WHERE LOWER(Channel) = \"security\"\n",
    "    AND NewProcessName LIKE '%python.exe'\n",
    "\n",
    "'''\n",
    ")\n",
    "df.show(100,truncate = False, vertical = True)"
   ]
  },
  {
   "cell_type": "code",
   "execution_count": null,
   "metadata": {},
   "outputs": [],
   "source": [
    "df_labelled = apply_label(df_labelled, df, df.columns[0], \"8.C.3. Service Execution\")"
   ]
  },
  {
   "cell_type": "markdown",
   "metadata": {},
   "source": [
    "## 9.A.1. Remote File Copy\n",
    "**Procedure:** Dropped rar.exe to disk on remote host NASHUA (10.0.1.6)\n",
    "\n",
    "**Criteria:** python.exe creating the file rar.exe\n"
   ]
  },
  {
   "cell_type": "code",
   "execution_count": null,
   "metadata": {},
   "outputs": [],
   "source": [
    "df_labelled = df_labelled.checkpoint()"
   ]
  },
  {
   "cell_type": "markdown",
   "metadata": {},
   "source": [
    "### Detection Type:Telemetry(Correlated)"
   ]
  },
  {
   "cell_type": "markdown",
   "metadata": {},
   "source": [
    "**Query ID:1C94AFAF-74A9-4578-B026-7AA6948D9DBE**"
   ]
  },
  {
   "cell_type": "code",
   "execution_count": null,
   "metadata": {},
   "outputs": [],
   "source": [
    "df = spark.sql(\n",
    "'''\n",
    "SELECT Message\n",
    "FROM apt29Host f\n",
    "INNER JOIN (\n",
    "    SELECT d.ProcessGuid\n",
    "    FROM apt29Host d\n",
    "    INNER JOIN (\n",
    "        SELECT b.ProcessGuid\n",
    "        FROM apt29Host b\n",
    "        INNER JOIN (\n",
    "          SELECT ProcessGuid\n",
    "          FROM apt29Host\n",
    "          WHERE Channel = \"Microsoft-Windows-Sysmon/Operational\"\n",
    "              AND EventID = 1\n",
    "              AND ParentImage LIKE '%services.exe'\n",
    "        ) a\n",
    "        ON b.ParentProcessGuid = a.ProcessGuid\n",
    "        WHERE Channel = \"Microsoft-Windows-Sysmon/Operational\"\n",
    "          AND Image LIKE '%python.exe'\n",
    "    ) c\n",
    "    ON d.ParentProcessGuid = c.ProcessGuid\n",
    "    WHERE Channel = \"Microsoft-Windows-Sysmon/Operational\"\n",
    "        AND EventID = 1\n",
    ") e\n",
    "ON f.ProcessGuid = e.ProcessGuid\n",
    "WHERE Channel = \"Microsoft-Windows-Sysmon/Operational\"\n",
    "    AND EventID = 11\n",
    "\n",
    "'''\n",
    ")\n",
    "df.show(100,truncate = False, vertical = True)"
   ]
  },
  {
   "cell_type": "code",
   "execution_count": null,
   "metadata": {},
   "outputs": [],
   "source": [
    "df_labelled = apply_label(df_labelled, df, df.columns[0], \"9.A.1. Remote File Copy\")"
   ]
  },
  {
   "cell_type": "markdown",
   "metadata": {},
   "source": [
    "## 9.A.2. Remote File Copy\n",
    "**Procedure:** Dropped rar.exe to disk on remote host NASHUA (10.0.1.6)\n",
    "\n",
    "**Criteria:** python.exe creating the file sdelete64.exe\n"
   ]
  },
  {
   "cell_type": "markdown",
   "metadata": {},
   "source": [
    "### Detection Type:Telemetry(Correlated)"
   ]
  },
  {
   "cell_type": "markdown",
   "metadata": {},
   "source": [
    "**Query ID:F98D589E-94A9-4974-A142-7E75D9760118**"
   ]
  },
  {
   "cell_type": "code",
   "execution_count": null,
   "metadata": {},
   "outputs": [],
   "source": [
    "df = spark.sql(\n",
    "'''\n",
    "SELECT Message\n",
    "FROM apt29Host f\n",
    "INNER JOIN (\n",
    "    SELECT d.ProcessGuid\n",
    "    FROM apt29Host d\n",
    "    INNER JOIN (\n",
    "        SELECT b.ProcessGuid\n",
    "        FROM apt29Host b\n",
    "        INNER JOIN (\n",
    "          SELECT ProcessGuid\n",
    "          FROM apt29Host\n",
    "          WHERE Channel = \"Microsoft-Windows-Sysmon/Operational\"\n",
    "              AND EventID = 1\n",
    "              AND ParentImage LIKE '%services.exe'\n",
    "        ) a\n",
    "        ON b.ParentProcessGuid = a.ProcessGuid\n",
    "        WHERE Channel = \"Microsoft-Windows-Sysmon/Operational\"\n",
    "          AND Image LIKE '%python.exe'\n",
    "    ) c\n",
    "    ON d.ParentProcessGuid = c.ProcessGuid\n",
    "    WHERE Channel = \"Microsoft-Windows-Sysmon/Operational\"\n",
    "        AND EventID = 1\n",
    ") e\n",
    "ON f.ProcessGuid = e.ProcessGuid\n",
    "WHERE Channel = \"Microsoft-Windows-Sysmon/Operational\"\n",
    "    AND EventID = 11\n",
    "\n",
    "'''\n",
    ")\n",
    "df.show(100,truncate = False, vertical = True)"
   ]
  },
  {
   "cell_type": "code",
   "execution_count": null,
   "metadata": {},
   "outputs": [],
   "source": [
    "df_labelled = apply_label(df_labelled, df, df.columns[0], \"9.A.2. Remote File Copy\")"
   ]
  },
  {
   "cell_type": "markdown",
   "metadata": {},
   "source": [
    "## 9.B.1. PowerShell\n",
    "**Procedure:** Spawned interactive powershell.exe\n",
    "\n",
    "**Criteria:** powershell.exe​ spawning from python.exe\n"
   ]
  },
  {
   "cell_type": "markdown",
   "metadata": {},
   "source": [
    "### Detection Type:Telemetry(Correlated)"
   ]
  },
  {
   "cell_type": "markdown",
   "metadata": {},
   "source": [
    "**Query ID:77D403CE-2832-4927-B74A-42D965B5AF94**"
   ]
  },
  {
   "cell_type": "code",
   "execution_count": null,
   "metadata": {},
   "outputs": [],
   "source": [
    "df = spark.sql(\n",
    "'''\n",
    "SELECT Message\n",
    "FROM apt29Host f\n",
    "INNER JOIN (\n",
    "    SELECT d.ProcessGuid\n",
    "    FROM apt29Host d\n",
    "    INNER JOIN (\n",
    "        SELECT b.ProcessGuid\n",
    "        FROM apt29Host b\n",
    "        INNER JOIN (\n",
    "          SELECT ProcessGuid\n",
    "          FROM apt29Host\n",
    "          WHERE Channel = \"Microsoft-Windows-Sysmon/Operational\"\n",
    "              AND EventID = 1\n",
    "              AND ParentImage LIKE '%services.exe'\n",
    "        ) a\n",
    "        ON b.ParentProcessGuid = a.ProcessGuid\n",
    "        WHERE Channel = \"Microsoft-Windows-Sysmon/Operational\"\n",
    "          AND Image LIKE '%python.exe'\n",
    "    ) c\n",
    "    ON d.ParentProcessGuid = c.ProcessGuid\n",
    "    WHERE Channel = \"Microsoft-Windows-Sysmon/Operational\"\n",
    "        AND EventID = 1\n",
    ") e\n",
    "ON f.ParentProcessGuid = e.ProcessGuid\n",
    "WHERE Channel = \"Microsoft-Windows-Sysmon/Operational\"\n",
    "    AND EventID = 1\n",
    "    AND Image LIKE '%powershell.exe'\n",
    "\n",
    "'''\n",
    ")\n",
    "df.show(100,truncate = False, vertical = True)"
   ]
  },
  {
   "cell_type": "code",
   "execution_count": null,
   "metadata": {},
   "outputs": [],
   "source": [
    "df_labelled = apply_label(df_labelled, df, df.columns[0], \"9.B.1. PowerShell\")"
   ]
  },
  {
   "cell_type": "markdown",
   "metadata": {},
   "source": [
    "**Query ID:B56C6666-EEF3-4028-85D4-6AAE01CD506C**"
   ]
  },
  {
   "cell_type": "code",
   "execution_count": null,
   "metadata": {},
   "outputs": [],
   "source": [
    "df = spark.sql(\n",
    "'''\n",
    "SELECT Message\n",
    "FROM apt29Host f\n",
    "INNER JOIN (\n",
    "    SELECT d.NewProcessId\n",
    "    FROM apt29Host d\n",
    "    INNER JOIN (\n",
    "        SELECT b.NewProcessId\n",
    "        FROM apt29Host b\n",
    "        INNER JOIN (\n",
    "          SELECT NewProcessId\n",
    "          FROM apt29Host\n",
    "          WHERE LOWER(Channel) = \"security\"\n",
    "              AND EventID = 4688\n",
    "              AND ParentProcessName LIKE '%services.exe'\n",
    "        ) a\n",
    "        ON b.ProcessId = a.NewProcessId\n",
    "        WHERE LOWER(Channel) = \"security\"\n",
    "          AND NewProcessName LIKE '%python.exe'\n",
    "    ) c\n",
    "    ON d.ProcessId = c.NewProcessId\n",
    "    WHERE LOWER(Channel) = \"security\"\n",
    "        AND EventID = 4688\n",
    ") e\n",
    "ON f.ProcessId = e.NewProcessId\n",
    "WHERE LOWER(Channel) = \"security\"\n",
    "    AND EventID = 4688\n",
    "    AND NewProcessName LIKE '%powershell.exe'\n",
    "\n",
    "'''\n",
    ")\n",
    "df.show(100,truncate = False, vertical = True)"
   ]
  },
  {
   "cell_type": "code",
   "execution_count": null,
   "metadata": {},
   "outputs": [],
   "source": [
    "df_labelled = apply_label(df_labelled, df, df.columns[0], \"9.B.1. PowerShell\")"
   ]
  },
  {
   "cell_type": "markdown",
   "metadata": {},
   "source": [
    "## 9.B.2. File and Directory Discovery\n",
    "**Procedure:** Searched filesystem for document and media files using PowerShell\n",
    "\n",
    "**Criteria:** powershell.exe executing (Get-)ChildItem​\n"
   ]
  },
  {
   "cell_type": "markdown",
   "metadata": {},
   "source": [
    "### Detection Type:Telemetry(Correlated)"
   ]
  },
  {
   "cell_type": "markdown",
   "metadata": {},
   "source": [
    "**Query ID:3DDF2B9B-10AC-454C-BFA0-1F7BD011947E**"
   ]
  },
  {
   "cell_type": "code",
   "execution_count": null,
   "metadata": {},
   "outputs": [],
   "source": [
    "df = spark.sql(\n",
    "'''\n",
    "SELECT h.Message\n",
    "FROM apt29Host h\n",
    "INNER JOIN (\n",
    "    SELECT f.ProcessId\n",
    "    FROM apt29Host f\n",
    "    INNER JOIN (\n",
    "      SELECT d.ProcessGuid\n",
    "      FROM apt29Host d\n",
    "      INNER JOIN (\n",
    "          SELECT b.ProcessGuid\n",
    "          FROM apt29Host b\n",
    "          INNER JOIN (\n",
    "            SELECT ProcessGuid\n",
    "            FROM apt29Host\n",
    "            WHERE Channel = \"Microsoft-Windows-Sysmon/Operational\"\n",
    "                AND EventID = 1\n",
    "                AND ParentImage LIKE '%services.exe'\n",
    "          ) a\n",
    "          ON b.ParentProcessGuid = a.ProcessGuid\n",
    "          WHERE Channel = \"Microsoft-Windows-Sysmon/Operational\"\n",
    "            AND Image LIKE '%python.exe'\n",
    "      ) c\n",
    "      ON d.ParentProcessGuid = c.ProcessGuid\n",
    "      WHERE Channel = \"Microsoft-Windows-Sysmon/Operational\"\n",
    "          AND EventID = 1\n",
    "    ) e\n",
    "    ON f.ParentProcessGuid = e.ProcessGuid\n",
    "    WHERE Channel = \"Microsoft-Windows-Sysmon/Operational\"\n",
    "      AND EventID = 1\n",
    "      AND Image LIKE '%powershell.exe'\n",
    ") g\n",
    "ON h.ExecutionProcessID = g.ProcessId\n",
    "WHERE h.Channel = \"Microsoft-Windows-PowerShell/Operational\"\n",
    "    AND h.EventID = 4104\n",
    "    AND LOWER(h.ScriptBlockText) LIKE \"%childitem%\"\n",
    "\n",
    "'''\n",
    ")\n",
    "df.show(100,truncate = False, vertical = True)"
   ]
  },
  {
   "cell_type": "code",
   "execution_count": null,
   "metadata": {},
   "outputs": [],
   "source": [
    "df_labelled = apply_label(df_labelled, df, df.columns[0], \"9.B.2. File and Directory Discovery\")"
   ]
  },
  {
   "cell_type": "markdown",
   "metadata": {},
   "source": [
    "**Query ID:E7ED941E-F3B3-441B-B43D-1F1B194D6303**"
   ]
  },
  {
   "cell_type": "code",
   "execution_count": null,
   "metadata": {},
   "outputs": [],
   "source": [
    "df = spark.sql(\n",
    "'''\n",
    "SELECT h.Message\n",
    "FROM apt29Host h\n",
    "INNER JOIN (\n",
    "    SELECT split(f.NewProcessId, '0x')[1] as NewProcessId\n",
    "    FROM apt29Host f\n",
    "    INNER JOIN (\n",
    "        SELECT d.NewProcessId\n",
    "        FROM apt29Host d\n",
    "        INNER JOIN (\n",
    "            SELECT b.NewProcessId\n",
    "            FROM apt29Host b\n",
    "            INNER JOIN (\n",
    "              SELECT NewProcessId\n",
    "              FROM apt29Host\n",
    "              WHERE LOWER(Channel) = \"security\"\n",
    "                  AND EventID = 4688\n",
    "                  AND ParentProcessName LIKE '%services.exe'\n",
    "            ) a\n",
    "            ON b.ProcessId = a.NewProcessId\n",
    "            WHERE LOWER(Channel) = \"security\"\n",
    "              AND NewProcessName LIKE '%python.exe'\n",
    "        ) c\n",
    "        ON d.ProcessId = c.NewProcessId\n",
    "        WHERE LOWER(Channel) = \"security\"\n",
    "            AND EventID = 4688\n",
    "    ) e\n",
    "    ON f.ProcessId = e.NewProcessId\n",
    "    WHERE LOWER(Channel) = \"security\"\n",
    "        AND EventID = 4688\n",
    "        AND NewProcessName LIKE '%powershell.exe'\n",
    ") g\n",
    "ON LOWER(hex(h.ExecutionProcessID)) = g.NewProcessId\n",
    "WHERE h.Channel = \"Microsoft-Windows-PowerShell/Operational\"\n",
    "    AND h.EventID = 4104\n",
    "    AND LOWER(h.ScriptBlockText) LIKE \"%childitem%\"\n",
    "\n",
    "'''\n",
    ")\n",
    "df.show(100,truncate = False, vertical = True)"
   ]
  },
  {
   "cell_type": "code",
   "execution_count": null,
   "metadata": {},
   "outputs": [],
   "source": [
    "df_labelled = apply_label(df_labelled, df, df.columns[0], \"9.B.2. File and Directory Discovery\")"
   ]
  },
  {
   "cell_type": "markdown",
   "metadata": {},
   "source": [
    "## 9.B.3. Automated Collection\n",
    "**Procedure:** Scripted search of filesystem for document and media files using PowerShell\n",
    "\n",
    "**Criteria:** powershell.exe executing (Get-)ChildItem\n"
   ]
  },
  {
   "cell_type": "markdown",
   "metadata": {},
   "source": [
    "### Detection Type:Telemetry(Correlated)"
   ]
  },
  {
   "cell_type": "markdown",
   "metadata": {},
   "source": [
    "**Query ID:6AE2BDBE-48BD-4323-8572-B2214D244013**"
   ]
  },
  {
   "cell_type": "code",
   "execution_count": null,
   "metadata": {},
   "outputs": [],
   "source": [
    "df = spark.sql(\n",
    "'''\n",
    "SELECT h.Message\n",
    "FROM apt29Host h\n",
    "INNER JOIN (\n",
    "    SELECT f.ProcessId\n",
    "    FROM apt29Host f\n",
    "    INNER JOIN (\n",
    "      SELECT d.ProcessGuid\n",
    "      FROM apt29Host d\n",
    "      INNER JOIN (\n",
    "          SELECT b.ProcessGuid\n",
    "          FROM apt29Host b\n",
    "          INNER JOIN (\n",
    "            SELECT ProcessGuid\n",
    "            FROM apt29Host\n",
    "            WHERE Channel = \"Microsoft-Windows-Sysmon/Operational\"\n",
    "                AND EventID = 1\n",
    "                AND ParentImage LIKE '%services.exe'\n",
    "          ) a\n",
    "          ON b.ParentProcessGuid = a.ProcessGuid\n",
    "          WHERE Channel = \"Microsoft-Windows-Sysmon/Operational\"\n",
    "            AND Image LIKE '%python.exe'\n",
    "      ) c\n",
    "      ON d.ParentProcessGuid = c.ProcessGuid\n",
    "      WHERE Channel = \"Microsoft-Windows-Sysmon/Operational\"\n",
    "          AND EventID = 1\n",
    "    ) e\n",
    "    ON f.ParentProcessGuid = e.ProcessGuid\n",
    "    WHERE Channel = \"Microsoft-Windows-Sysmon/Operational\"\n",
    "      AND EventID = 1\n",
    "      AND Image LIKE '%powershell.exe'\n",
    ") g\n",
    "ON h.ExecutionProcessID = g.ProcessId\n",
    "WHERE h.Channel = \"Microsoft-Windows-PowerShell/Operational\"\n",
    "    AND h.EventID = 4104\n",
    "    AND LOWER(h.ScriptBlockText) LIKE \"%childitem%\"\n",
    "\n",
    "'''\n",
    ")\n",
    "df.show(100,truncate = False, vertical = True)"
   ]
  },
  {
   "cell_type": "code",
   "execution_count": null,
   "metadata": {},
   "outputs": [],
   "source": [
    "df_labelled = apply_label(df_labelled, df, df.columns[0], \"9.B.3. Automated Collection\")"
   ]
  },
  {
   "cell_type": "markdown",
   "metadata": {},
   "source": [
    "**Query ID:6A0DF333-5329-42B5-9AF6-60AB647051CD**"
   ]
  },
  {
   "cell_type": "code",
   "execution_count": null,
   "metadata": {},
   "outputs": [],
   "source": [
    "df = spark.sql(\n",
    "'''\n",
    "SELECT h.Message\n",
    "FROM apt29Host h\n",
    "INNER JOIN (\n",
    "    SELECT split(f.NewProcessId, '0x')[1] as NewProcessId\n",
    "    FROM apt29Host f\n",
    "    INNER JOIN (\n",
    "        SELECT d.NewProcessId\n",
    "        FROM apt29Host d\n",
    "        INNER JOIN (\n",
    "            SELECT b.NewProcessId\n",
    "            FROM apt29Host b\n",
    "            INNER JOIN (\n",
    "              SELECT NewProcessId\n",
    "              FROM apt29Host\n",
    "              WHERE LOWER(Channel) = \"security\"\n",
    "                  AND EventID = 4688\n",
    "                  AND ParentProcessName LIKE '%services.exe'\n",
    "            ) a\n",
    "            ON b.ProcessId = a.NewProcessId\n",
    "            WHERE LOWER(Channel) = \"security\"\n",
    "              AND NewProcessName LIKE '%python.exe'\n",
    "        ) c\n",
    "        ON d.ProcessId = c.NewProcessId\n",
    "        WHERE LOWER(Channel) = \"security\"\n",
    "            AND EventID = 4688\n",
    "    ) e\n",
    "    ON f.ProcessId = e.NewProcessId\n",
    "    WHERE LOWER(Channel) = \"security\"\n",
    "        AND EventID = 4688\n",
    "        AND NewProcessName LIKE '%powershell.exe'\n",
    ") g\n",
    "ON LOWER(hex(h.ExecutionProcessID)) = g.NewProcessId\n",
    "WHERE h.Channel = \"Microsoft-Windows-PowerShell/Operational\"\n",
    "    AND h.EventID = 4104\n",
    "    AND LOWER(h.ScriptBlockText) LIKE \"%childitem%\"\n",
    "\n",
    "'''\n",
    ")\n",
    "df.show(100,truncate = False, vertical = True)"
   ]
  },
  {
   "cell_type": "code",
   "execution_count": null,
   "metadata": {},
   "outputs": [],
   "source": [
    "df_labelled = apply_label(df_labelled, df, df.columns[0], \"9.B.3. Automated Collection\")"
   ]
  },
  {
   "cell_type": "markdown",
   "metadata": {},
   "source": [
    "## 9.B.4. Data from Local System\n",
    "**Procedure:** Recursively collected files found in C:\\Users\\Pam\\ using PowerShell\n",
    "\n",
    "**Criteria:** powershell.exe reading files in C:\\Users\\Pam\\\n"
   ]
  },
  {
   "cell_type": "markdown",
   "metadata": {},
   "source": [
    "### Detection Type:None(None)"
   ]
  },
  {
   "cell_type": "markdown",
   "metadata": {},
   "source": [
    "## 9.B.5. Data Staged\n",
    "**Procedure:** Staged files for exfiltration into ZIP (working.zip in AppData directory) using PowerShell\n",
    "\n",
    "**Criteria:** powershell.exe creating the file working.zip\n"
   ]
  },
  {
   "cell_type": "code",
   "execution_count": null,
   "metadata": {},
   "outputs": [],
   "source": [
    "df_labelled = df_labelled.checkpoint()"
   ]
  },
  {
   "cell_type": "markdown",
   "metadata": {},
   "source": [
    "### Detection Type:Telemetry(Correlated)"
   ]
  },
  {
   "cell_type": "markdown",
   "metadata": {},
   "source": [
    "**Query ID:17B04626-D628-4CFC-9EF1-7FF9CD48FF5E**"
   ]
  },
  {
   "cell_type": "code",
   "execution_count": null,
   "metadata": {},
   "outputs": [],
   "source": [
    "df = spark.sql(\n",
    "'''\n",
    "SELECT h.Message\n",
    "FROM apt29Host h\n",
    "INNER JOIN (\n",
    "    SELECT f.ProcessGuid\n",
    "    FROM apt29Host f\n",
    "    INNER JOIN (\n",
    "      SELECT d.ProcessGuid\n",
    "      FROM apt29Host d\n",
    "      INNER JOIN (\n",
    "          SELECT b.ProcessGuid\n",
    "          FROM apt29Host b\n",
    "          INNER JOIN (\n",
    "            SELECT ProcessGuid\n",
    "            FROM apt29Host\n",
    "            WHERE Channel = \"Microsoft-Windows-Sysmon/Operational\"\n",
    "                AND EventID = 1\n",
    "                AND ParentImage LIKE '%services.exe'\n",
    "          ) a\n",
    "          ON b.ParentProcessGuid = a.ProcessGuid\n",
    "          WHERE Channel = \"Microsoft-Windows-Sysmon/Operational\"\n",
    "            AND Image LIKE '%python.exe'\n",
    "      ) c\n",
    "      ON d.ParentProcessGuid = c.ProcessGuid\n",
    "      WHERE Channel = \"Microsoft-Windows-Sysmon/Operational\"\n",
    "          AND EventID = 1\n",
    "    ) e\n",
    "    ON f.ParentProcessGuid = e.ProcessGuid\n",
    "    WHERE Channel = \"Microsoft-Windows-Sysmon/Operational\"\n",
    "      AND EventID = 1\n",
    "      AND Image LIKE '%powershell.exe'\n",
    ") g\n",
    "ON h.ProcessGuid = g.ProcessGuid\n",
    "WHERE Channel = \"Microsoft-Windows-Sysmon/Operational\"\n",
    "    AND h.EventID = 11\n",
    "    AND LOWER(h.TargetFilename) LIKE \"%working.zip\"\n",
    "\n",
    "'''\n",
    ")\n",
    "df.show(100,truncate = False, vertical = True)"
   ]
  },
  {
   "cell_type": "code",
   "execution_count": null,
   "metadata": {},
   "outputs": [],
   "source": [
    "df_labelled = apply_label(df_labelled, df, df.columns[0], \"9.B.5. Data Staged\")"
   ]
  },
  {
   "cell_type": "markdown",
   "metadata": {},
   "source": [
    "## 9.B.6. Data Encrypted\n",
    "**Procedure:** Encrypted staged ZIP (working.zip in AppData directory) into working.zip (on Desktop) using rar.exe\n",
    "\n",
    "**Criteria:** powershell.exe executing rar.exe with the -a parameter for a password to use for encryption\n"
   ]
  },
  {
   "cell_type": "markdown",
   "metadata": {},
   "source": [
    "### Detection Type:Telemetry(Correlated)"
   ]
  },
  {
   "cell_type": "markdown",
   "metadata": {},
   "source": [
    "**Query ID:9EC44B89-9B82-41F2-B11E-D49392853C63**"
   ]
  },
  {
   "cell_type": "code",
   "execution_count": null,
   "metadata": {},
   "outputs": [],
   "source": [
    "df = spark.sql(\n",
    "'''\n",
    "SELECT h.Message\n",
    "FROM apt29Host h\n",
    "INNER JOIN (\n",
    "    SELECT f.ProcessGuid\n",
    "    FROM apt29Host f\n",
    "    INNER JOIN (\n",
    "      SELECT d.ProcessGuid\n",
    "      FROM apt29Host d\n",
    "      INNER JOIN (\n",
    "          SELECT b.ProcessGuid\n",
    "          FROM apt29Host b\n",
    "          INNER JOIN (\n",
    "            SELECT ProcessGuid\n",
    "            FROM apt29Host\n",
    "            WHERE Channel = \"Microsoft-Windows-Sysmon/Operational\"\n",
    "                AND EventID = 1\n",
    "                AND ParentImage LIKE '%services.exe'\n",
    "          ) a\n",
    "          ON b.ParentProcessGuid = a.ProcessGuid\n",
    "          WHERE Channel = \"Microsoft-Windows-Sysmon/Operational\"\n",
    "            AND Image LIKE '%python.exe'\n",
    "      ) c\n",
    "      ON d.ParentProcessGuid = c.ProcessGuid\n",
    "      WHERE Channel = \"Microsoft-Windows-Sysmon/Operational\"\n",
    "          AND EventID = 1\n",
    "    ) e\n",
    "    ON f.ParentProcessGuid = e.ProcessGuid\n",
    "    WHERE Channel = \"Microsoft-Windows-Sysmon/Operational\"\n",
    "      AND EventID = 1\n",
    "      AND Image LIKE '%powershell.exe'\n",
    ") g\n",
    "ON h.ParentProcessGuid = g.ProcessGuid\n",
    "WHERE Channel = \"Microsoft-Windows-Sysmon/Operational\"\n",
    "    AND h.EventID = 1\n",
    "    AND LOWER(h.CommandLine) LIKE \"%rar.exe%\"\n",
    "\n",
    "'''\n",
    ")\n",
    "df.show(100,truncate = False, vertical = True)"
   ]
  },
  {
   "cell_type": "code",
   "execution_count": null,
   "metadata": {},
   "outputs": [],
   "source": [
    "df_labelled = apply_label(df_labelled, df, df.columns[0], \"9.B.6. Data Encrypted\")"
   ]
  },
  {
   "cell_type": "markdown",
   "metadata": {},
   "source": [
    "**Query ID:579D025B-DFFB-416B-B07A-A36D9CE1EF93**"
   ]
  },
  {
   "cell_type": "code",
   "execution_count": null,
   "metadata": {},
   "outputs": [],
   "source": [
    "df = spark.sql(\n",
    "'''\n",
    "SELECT h.Message\n",
    "FROM apt29Host h\n",
    "INNER JOIN (\n",
    "    SELECT f.NewProcessId\n",
    "    FROM apt29Host f\n",
    "    INNER JOIN (\n",
    "        SELECT d.NewProcessId\n",
    "        FROM apt29Host d\n",
    "        INNER JOIN (\n",
    "            SELECT b.NewProcessId\n",
    "            FROM apt29Host b\n",
    "            INNER JOIN (\n",
    "              SELECT NewProcessId\n",
    "              FROM apt29Host\n",
    "              WHERE LOWER(Channel) = \"security\"\n",
    "                  AND EventID = 4688\n",
    "                  AND ParentProcessName LIKE '%services.exe'\n",
    "            ) a\n",
    "            ON b.ProcessId = a.NewProcessId\n",
    "            WHERE LOWER(Channel) = \"security\"\n",
    "              AND NewProcessName LIKE '%python.exe'\n",
    "        ) c\n",
    "        ON d.ProcessId = c.NewProcessId\n",
    "        WHERE LOWER(Channel) = \"security\"\n",
    "            AND EventID = 4688\n",
    "    ) e\n",
    "    ON f.ProcessId = e.NewProcessId\n",
    "    WHERE LOWER(Channel) = \"security\"\n",
    "        AND EventID = 4688\n",
    "        AND NewProcessName LIKE '%powershell.exe'\n",
    ") g\n",
    "ON h.ProcessId = g.NewProcessId\n",
    "WHERE LOWER(Channel) = \"security\"\n",
    "    AND h.EventID = 4688\n",
    "    AND LOWER(h.CommandLine) LIKE \"%rar.exe%\"\n",
    "\n",
    "'''\n",
    ")\n",
    "df.show(100,truncate = False, vertical = True)"
   ]
  },
  {
   "cell_type": "code",
   "execution_count": null,
   "metadata": {},
   "outputs": [],
   "source": [
    "df_labelled = apply_label(df_labelled, df, df.columns[0], \"9.B.6. Data Encrypted\")"
   ]
  },
  {
   "cell_type": "markdown",
   "metadata": {},
   "source": [
    "## 9.B.7. Data Compressed\n",
    "**Procedure:** Compressed staged ZIP (working.zip in AppData directory) into working.zip (on Desktop) using rar.exe\n",
    "\n",
    "**Criteria:** powershell.exe executing rar.exe\n"
   ]
  },
  {
   "cell_type": "markdown",
   "metadata": {},
   "source": [
    "### Detection Type:Telemetry(Correlated)"
   ]
  },
  {
   "cell_type": "markdown",
   "metadata": {},
   "source": [
    "**Query ID:FD1AE986-FD91-4B91-8BCE-42C9295949F7**"
   ]
  },
  {
   "cell_type": "code",
   "execution_count": null,
   "metadata": {},
   "outputs": [],
   "source": [
    "df = spark.sql(\n",
    "'''\n",
    "SELECT h.Message\n",
    "FROM apt29Host h\n",
    "INNER JOIN (\n",
    "    SELECT f.ProcessGuid\n",
    "    FROM apt29Host f\n",
    "    INNER JOIN (\n",
    "      SELECT d.ProcessGuid\n",
    "      FROM apt29Host d\n",
    "      INNER JOIN (\n",
    "          SELECT b.ProcessGuid\n",
    "          FROM apt29Host b\n",
    "          INNER JOIN (\n",
    "            SELECT ProcessGuid\n",
    "            FROM apt29Host\n",
    "            WHERE Channel = \"Microsoft-Windows-Sysmon/Operational\"\n",
    "                AND EventID = 1\n",
    "                AND ParentImage LIKE '%services.exe'\n",
    "          ) a\n",
    "          ON b.ParentProcessGuid = a.ProcessGuid\n",
    "          WHERE Channel = \"Microsoft-Windows-Sysmon/Operational\"\n",
    "            AND Image LIKE '%python.exe'\n",
    "      ) c\n",
    "      ON d.ParentProcessGuid = c.ProcessGuid\n",
    "      WHERE Channel = \"Microsoft-Windows-Sysmon/Operational\"\n",
    "          AND EventID = 1\n",
    "    ) e\n",
    "    ON f.ParentProcessGuid = e.ProcessGuid\n",
    "    WHERE Channel = \"Microsoft-Windows-Sysmon/Operational\"\n",
    "      AND EventID = 1\n",
    "      AND Image LIKE '%powershell.exe'\n",
    ") g\n",
    "ON h.ParentProcessGuid = g.ProcessGuid\n",
    "WHERE Channel = \"Microsoft-Windows-Sysmon/Operational\"\n",
    "    AND h.EventID = 1\n",
    "    AND LOWER(h.CommandLine) LIKE \"%rar.exe%\"\n",
    "\n",
    "'''\n",
    ")\n",
    "df.show(100,truncate = False, vertical = True)"
   ]
  },
  {
   "cell_type": "code",
   "execution_count": null,
   "metadata": {},
   "outputs": [],
   "source": [
    "df_labelled = apply_label(df_labelled, df, df.columns[0], \"9.B.7. Data Compressed\")"
   ]
  },
  {
   "cell_type": "markdown",
   "metadata": {},
   "source": [
    "**Query ID:8A865709-E762-4A26-BDEC-A762FB37947B**"
   ]
  },
  {
   "cell_type": "code",
   "execution_count": null,
   "metadata": {},
   "outputs": [],
   "source": [
    "df = spark.sql(\n",
    "'''\n",
    "SELECT h.Message\n",
    "FROM apt29Host h\n",
    "INNER JOIN (\n",
    "    SELECT f.NewProcessId\n",
    "    FROM apt29Host f\n",
    "    INNER JOIN (\n",
    "        SELECT d.NewProcessId\n",
    "        FROM apt29Host d\n",
    "        INNER JOIN (\n",
    "            SELECT b.NewProcessId\n",
    "            FROM apt29Host b\n",
    "            INNER JOIN (\n",
    "              SELECT NewProcessId\n",
    "              FROM apt29Host\n",
    "              WHERE LOWER(Channel) = \"security\"\n",
    "                  AND EventID = 4688\n",
    "                  AND ParentProcessName LIKE '%services.exe'\n",
    "            ) a\n",
    "            ON b.ProcessId = a.NewProcessId\n",
    "            WHERE LOWER(Channel) = \"security\"\n",
    "              AND NewProcessName LIKE '%python.exe'\n",
    "        ) c\n",
    "        ON d.ProcessId = c.NewProcessId\n",
    "        WHERE LOWER(Channel) = \"security\"\n",
    "            AND EventID = 4688\n",
    "    ) e\n",
    "    ON f.ProcessId = e.NewProcessId\n",
    "    WHERE LOWER(Channel) = \"security\"\n",
    "        AND EventID = 4688\n",
    "        AND NewProcessName LIKE '%powershell.exe'\n",
    ") g\n",
    "ON h.ProcessId = g.NewProcessId\n",
    "WHERE LOWER(Channel) = \"security\"\n",
    "    AND h.EventID = 4688\n",
    "    AND LOWER(h.CommandLine) LIKE \"%rar.exe%\"\n",
    "\n",
    "'''\n",
    ")\n",
    "df.show(100,truncate = False, vertical = True)"
   ]
  },
  {
   "cell_type": "code",
   "execution_count": null,
   "metadata": {},
   "outputs": [],
   "source": [
    "df_labelled = apply_label(df_labelled, df, df.columns[0], \"9.B.7. Data Compressed\")"
   ]
  },
  {
   "cell_type": "markdown",
   "metadata": {},
   "source": [
    "## 9.B.8. Exfiltration Over Command and Control Channel\n",
    "**Procedure:** Read and downloaded ZIP (working.zip on Desktop) over C2 channel (192.168.0.5 over TCP port 8443)\n",
    "\n",
    "**Criteria:** python.exe reading the file working.zip while connected to the C2 channel\n"
   ]
  },
  {
   "cell_type": "markdown",
   "metadata": {},
   "source": [
    "### Detection Type:None(None)"
   ]
  },
  {
   "cell_type": "markdown",
   "metadata": {},
   "source": [
    "## 9.C.1. File Deletion\n",
    "**Procedure:** Deleted rar.exe on disk using SDelete\n",
    "\n",
    "**Criteria:** sdelete64.exe deleting the file rar.exe\n"
   ]
  },
  {
   "cell_type": "markdown",
   "metadata": {},
   "source": [
    "### Detection Type:Telemetry(Correlated)"
   ]
  },
  {
   "cell_type": "markdown",
   "metadata": {},
   "source": [
    "**Query ID:C20D8999-0B0D-4A50-9CDC-2BAAC4C7B577**"
   ]
  },
  {
   "cell_type": "code",
   "execution_count": null,
   "metadata": {},
   "outputs": [],
   "source": [
    "df = spark.sql(\n",
    "'''\n",
    "SELECT Message\n",
    "FROM apt29Host j\n",
    "INNER JOIN (\n",
    "    SELECT h.ProcessGuid\n",
    "    FROM apt29Host h\n",
    "    INNER JOIN (\n",
    "        SELECT f.ProcessGuid\n",
    "        FROM apt29Host f\n",
    "        INNER JOIN (\n",
    "          SELECT d.ProcessGuid\n",
    "          FROM apt29Host d\n",
    "          INNER JOIN (\n",
    "              SELECT b.ProcessGuid\n",
    "              FROM apt29Host b\n",
    "              INNER JOIN (\n",
    "                SELECT ProcessGuid\n",
    "                FROM apt29Host\n",
    "                WHERE Channel = \"Microsoft-Windows-Sysmon/Operational\"\n",
    "                    AND EventID = 1\n",
    "                    AND ParentImage LIKE '%services.exe'\n",
    "              ) a\n",
    "              ON b.ParentProcessGuid = a.ProcessGuid\n",
    "              WHERE Channel = \"Microsoft-Windows-Sysmon/Operational\"\n",
    "                AND Image LIKE '%python.exe'\n",
    "          ) c\n",
    "          ON d.ParentProcessGuid = c.ProcessGuid\n",
    "          WHERE Channel = \"Microsoft-Windows-Sysmon/Operational\"\n",
    "              AND EventID = 1\n",
    "        ) e\n",
    "        ON f.ParentProcessGuid = e.ProcessGuid\n",
    "        WHERE Channel = \"Microsoft-Windows-Sysmon/Operational\"\n",
    "          AND EventID = 1\n",
    "          AND Image LIKE '%cmd.exe'\n",
    "    ) g\n",
    "    ON h.ParentProcessGuid = g.ProcessGuid\n",
    "    WHERE Channel = \"Microsoft-Windows-Sysmon/Operational\"\n",
    "        AND h.EventID = 1\n",
    ") i\n",
    "ON j.ProcessGuid = i.ProcessGuid\n",
    "WHERE j.Channel = \"Microsoft-Windows-Sysmon/Operational\"\n",
    "    AND j.EventID = 23\n",
    "\n",
    "'''\n",
    ")\n",
    "df.show(100,truncate = False, vertical = True)"
   ]
  },
  {
   "cell_type": "code",
   "execution_count": null,
   "metadata": {},
   "outputs": [],
   "source": [
    "df_labelled = apply_label(df_labelled, df, df.columns[0], \"9.C.1. File Deletion\")"
   ]
  },
  {
   "cell_type": "markdown",
   "metadata": {},
   "source": [
    "## 9.C.2. File Deletion\n",
    "**Procedure:** Deleted working.zip (from Desktop) on disk using SDelete\n",
    "\n",
    "**Criteria:** sdelete64.exe deleting the file \\Desktop\\working.zip\n"
   ]
  },
  {
   "cell_type": "markdown",
   "metadata": {},
   "source": [
    "### Detection Type:Telemetry(Correlated)"
   ]
  },
  {
   "cell_type": "markdown",
   "metadata": {},
   "source": [
    "**Query ID:CB869916-7BCF-4F9F-8B95-C19B407B91E3**"
   ]
  },
  {
   "cell_type": "code",
   "execution_count": null,
   "metadata": {},
   "outputs": [],
   "source": [
    "df = spark.sql(\n",
    "'''\n",
    "SELECT Message\n",
    "FROM apt29Host j\n",
    "INNER JOIN (\n",
    "    SELECT h.ProcessGuid\n",
    "    FROM apt29Host h\n",
    "    INNER JOIN (\n",
    "        SELECT f.ProcessGuid\n",
    "        FROM apt29Host f\n",
    "        INNER JOIN (\n",
    "          SELECT d.ProcessGuid\n",
    "          FROM apt29Host d\n",
    "          INNER JOIN (\n",
    "              SELECT b.ProcessGuid\n",
    "              FROM apt29Host b\n",
    "              INNER JOIN (\n",
    "                SELECT ProcessGuid\n",
    "                FROM apt29Host\n",
    "                WHERE Channel = \"Microsoft-Windows-Sysmon/Operational\"\n",
    "                    AND EventID = 1\n",
    "                    AND ParentImage LIKE '%services.exe'\n",
    "              ) a\n",
    "              ON b.ParentProcessGuid = a.ProcessGuid\n",
    "              WHERE Channel = \"Microsoft-Windows-Sysmon/Operational\"\n",
    "                AND Image LIKE '%python.exe'\n",
    "          ) c\n",
    "          ON d.ParentProcessGuid = c.ProcessGuid\n",
    "          WHERE Channel = \"Microsoft-Windows-Sysmon/Operational\"\n",
    "              AND EventID = 1\n",
    "        ) e\n",
    "        ON f.ParentProcessGuid = e.ProcessGuid\n",
    "        WHERE Channel = \"Microsoft-Windows-Sysmon/Operational\"\n",
    "          AND EventID = 1\n",
    "          AND Image LIKE '%cmd.exe'\n",
    "    ) g\n",
    "    ON h.ParentProcessGuid = g.ProcessGuid\n",
    "    WHERE Channel = \"Microsoft-Windows-Sysmon/Operational\"\n",
    "        AND h.EventID = 1\n",
    ") i\n",
    "ON j.ProcessGuid = i.ProcessGuid\n",
    "WHERE j.Channel = \"Microsoft-Windows-Sysmon/Operational\"\n",
    "    AND j.EventID = 23\n",
    "\n",
    "'''\n",
    ")\n",
    "df.show(100,truncate = False, vertical = True)"
   ]
  },
  {
   "cell_type": "code",
   "execution_count": null,
   "metadata": {},
   "outputs": [],
   "source": [
    "df_labelled = apply_label(df_labelled, df, df.columns[0], \"9.C.2. File Deletion\")"
   ]
  },
  {
   "cell_type": "markdown",
   "metadata": {},
   "source": [
    "## 9.C.3. File Deletion\n",
    "**Procedure:** Deleted working.zip (from AppData directory) on disk using SDelete\n",
    "\n",
    "**Criteria:** sdelete64.exe deleting the file \\AppData\\Roaming\\working.zip\n"
   ]
  },
  {
   "cell_type": "markdown",
   "metadata": {},
   "source": [
    "### Detection Type:Telemetry(Correlated)"
   ]
  },
  {
   "cell_type": "markdown",
   "metadata": {},
   "source": [
    "**Query ID:59F37185-0BE4-4D81-8B81-FBFBD8055587**"
   ]
  },
  {
   "cell_type": "code",
   "execution_count": null,
   "metadata": {},
   "outputs": [],
   "source": [
    "df = spark.sql(\n",
    "'''\n",
    "SELECT Message\n",
    "FROM apt29Host j\n",
    "INNER JOIN (\n",
    "    SELECT h.ProcessGuid\n",
    "    FROM apt29Host h\n",
    "    INNER JOIN (\n",
    "        SELECT f.ProcessGuid\n",
    "        FROM apt29Host f\n",
    "        INNER JOIN (\n",
    "          SELECT d.ProcessGuid\n",
    "          FROM apt29Host d\n",
    "          INNER JOIN (\n",
    "              SELECT b.ProcessGuid\n",
    "              FROM apt29Host b\n",
    "              INNER JOIN (\n",
    "                SELECT ProcessGuid\n",
    "                FROM apt29Host\n",
    "                WHERE Channel = \"Microsoft-Windows-Sysmon/Operational\"\n",
    "                    AND EventID = 1\n",
    "                    AND ParentImage LIKE '%services.exe'\n",
    "              ) a\n",
    "              ON b.ParentProcessGuid = a.ProcessGuid\n",
    "              WHERE Channel = \"Microsoft-Windows-Sysmon/Operational\"\n",
    "                AND Image LIKE '%python.exe'\n",
    "          ) c\n",
    "          ON d.ParentProcessGuid = c.ProcessGuid\n",
    "          WHERE Channel = \"Microsoft-Windows-Sysmon/Operational\"\n",
    "              AND EventID = 1\n",
    "        ) e\n",
    "        ON f.ParentProcessGuid = e.ProcessGuid\n",
    "        WHERE Channel = \"Microsoft-Windows-Sysmon/Operational\"\n",
    "          AND EventID = 1\n",
    "          AND Image LIKE '%cmd.exe'\n",
    "    ) g\n",
    "    ON h.ParentProcessGuid = g.ProcessGuid\n",
    "    WHERE Channel = \"Microsoft-Windows-Sysmon/Operational\"\n",
    "        AND h.EventID = 1\n",
    ") i\n",
    "ON j.ProcessGuid = i.ProcessGuid\n",
    "WHERE j.Channel = \"Microsoft-Windows-Sysmon/Operational\"\n",
    "    AND j.EventID = 23\n",
    "\n",
    "'''\n",
    ")\n",
    "df.show(100,truncate = False, vertical = True)"
   ]
  },
  {
   "cell_type": "code",
   "execution_count": null,
   "metadata": {},
   "outputs": [],
   "source": [
    "df_labelled = apply_label(df_labelled, df, df.columns[0], \"9.C.3. File Deletion\")"
   ]
  },
  {
   "cell_type": "markdown",
   "metadata": {},
   "source": [
    "## 9.C.4. File Deletion\n",
    "**Procedure:** Deleted SDelete on disk using cmd.exe del command\n",
    "\n",
    "**Criteria:** cmd.exe deleting the file sdelete64.exe\n"
   ]
  },
  {
   "cell_type": "markdown",
   "metadata": {},
   "source": [
    "### Detection Type:Telemetry(Correlated)"
   ]
  },
  {
   "cell_type": "markdown",
   "metadata": {},
   "source": [
    "**Query ID:0FC62E32-9052-49EB-A5D5-1DF316D634AD**"
   ]
  },
  {
   "cell_type": "code",
   "execution_count": null,
   "metadata": {},
   "outputs": [],
   "source": [
    "df = spark.sql(\n",
    "'''\n",
    "SELECT h.Message\n",
    "FROM apt29Host h\n",
    "INNER JOIN (\n",
    "    SELECT f.ProcessGuid\n",
    "    FROM apt29Host f\n",
    "    INNER JOIN (\n",
    "      SELECT d.ProcessGuid\n",
    "      FROM apt29Host d\n",
    "      INNER JOIN (\n",
    "          SELECT b.ProcessGuid\n",
    "          FROM apt29Host b\n",
    "          INNER JOIN (\n",
    "            SELECT ProcessGuid\n",
    "            FROM apt29Host\n",
    "            WHERE Channel = \"Microsoft-Windows-Sysmon/Operational\"\n",
    "                AND EventID = 1\n",
    "                AND ParentImage LIKE '%services.exe'\n",
    "          ) a\n",
    "          ON b.ParentProcessGuid = a.ProcessGuid\n",
    "          WHERE Channel = \"Microsoft-Windows-Sysmon/Operational\"\n",
    "            AND Image LIKE '%python.exe'\n",
    "      ) c\n",
    "      ON d.ParentProcessGuid = c.ProcessGuid\n",
    "      WHERE Channel = \"Microsoft-Windows-Sysmon/Operational\"\n",
    "          AND EventID = 1\n",
    "    ) e\n",
    "    ON f.ParentProcessGuid = e.ProcessGuid\n",
    "    WHERE Channel = \"Microsoft-Windows-Sysmon/Operational\"\n",
    "      AND EventID = 1\n",
    "      AND Image LIKE '%cmd.exe'\n",
    ") g\n",
    "ON h.ProcessGuid = g.ProcessGuid\n",
    "WHERE Channel = \"Microsoft-Windows-Sysmon/Operational\"\n",
    "    AND h.EventID = 23\n",
    "\n",
    "'''\n",
    ")\n",
    "df.show(100,truncate = False, vertical = True)"
   ]
  },
  {
   "cell_type": "code",
   "execution_count": null,
   "metadata": {},
   "outputs": [],
   "source": [
    "df_labelled = apply_label(df_labelled, df, df.columns[0], \"9.C.4. File Deletion\")"
   ]
  },
  {
   "cell_type": "markdown",
   "metadata": {},
   "source": [
    "## 10.A.1. Service Execution\n",
    "**Procedure:** Executed persistent service (javamtsup) on system startup\n",
    "\n",
    "**Criteria:** javamtsup.exe spawning from services.exe\n"
   ]
  },
  {
   "cell_type": "code",
   "execution_count": null,
   "metadata": {},
   "outputs": [],
   "source": [
    "df_labelled = df_labelled.checkpoint()"
   ]
  },
  {
   "cell_type": "markdown",
   "metadata": {},
   "source": [
    "### Detection Type:Telemetry(None)"
   ]
  },
  {
   "cell_type": "markdown",
   "metadata": {},
   "source": [
    "**Query ID:CB9F90C0-93EA-469A-9515-7DF27DF1592A**"
   ]
  },
  {
   "cell_type": "code",
   "execution_count": null,
   "metadata": {},
   "outputs": [],
   "source": [
    "df = spark.sql(\n",
    "'''\n",
    "SELECT Message\n",
    "FROM apt29Host\n",
    "WHERE Channel = \"Microsoft-Windows-Sysmon/Operational\"\n",
    "  AND EventID = 1\n",
    "  AND ParentImage LIKE '%services.exe'\n",
    "  AND Image LIKE '%javamtsup.exe'\n",
    "\n",
    "'''\n",
    ")\n",
    "df.show(100,truncate = False, vertical = True)"
   ]
  },
  {
   "cell_type": "code",
   "execution_count": null,
   "metadata": {},
   "outputs": [],
   "source": [
    "df_labelled = apply_label(df_labelled, df, df.columns[0], \"10.A.1. Service Execution\")"
   ]
  },
  {
   "cell_type": "markdown",
   "metadata": {},
   "source": [
    "**Query ID:4DABE602-E648-4C1E-81B3-A2AC96F94CE0**"
   ]
  },
  {
   "cell_type": "code",
   "execution_count": null,
   "metadata": {},
   "outputs": [],
   "source": [
    "df = spark.sql(\n",
    "'''\n",
    "SELECT Message\n",
    "FROM apt29Host\n",
    "WHERE LOWER(Channel) = \"security\"\n",
    "  AND EventID = 4688\n",
    "  AND ParentProcessName LIKE '%services.exe'\n",
    "  AND NewProcessName LIKE '%javamtsup.exe'\n",
    "\n",
    "'''\n",
    ")\n",
    "df.show(100,truncate = False, vertical = True)"
   ]
  },
  {
   "cell_type": "code",
   "execution_count": null,
   "metadata": {},
   "outputs": [],
   "source": [
    "df_labelled = apply_label(df_labelled, df, df.columns[0], \"10.A.1. Service Execution\")"
   ]
  },
  {
   "cell_type": "markdown",
   "metadata": {},
   "source": [
    "## 10.B.1. Registry Run Keys / Startup Folder\n",
    "**Procedure:** Executed LNK payload (hostui.lnk) in Startup Folder on user login\n",
    "\n",
    "**Criteria:** Evidence that the file hostui.lnk (which executes hostui.bat as a byproduct) was executed from the Startup Folder\n"
   ]
  },
  {
   "cell_type": "markdown",
   "metadata": {},
   "source": [
    "### Detection Type:None(None)"
   ]
  },
  {
   "cell_type": "markdown",
   "metadata": {},
   "source": [
    "## 10.B.2. Execution through API\n",
    "**Procedure:** Executed PowerShell payload via the CreateProcessWithToken API\n",
    "\n",
    "**Criteria:** hostui.exe executing the CreateProcessWithToken API\n"
   ]
  },
  {
   "cell_type": "markdown",
   "metadata": {},
   "source": [
    "### Detection Type:None(None)"
   ]
  },
  {
   "cell_type": "markdown",
   "metadata": {},
   "source": [
    "## 10.B.3. Access Token Manipulation\n",
    "**Procedure:** Manipulated the token of the PowerShell payload via the CreateProcessWithToken API\n",
    "\n",
    "**Criteria:** hostui.exe manipulating the token of powershell.exe via the CreateProcessWithToken API OR powershell.exe executing with the stolen token of explorer.exe\n"
   ]
  },
  {
   "cell_type": "markdown",
   "metadata": {},
   "source": [
    "### Detection Type:None(None)"
   ]
  },
  {
   "cell_type": "code",
   "execution_count": null,
   "metadata": {},
   "outputs": [],
   "source": [
    "df_labelled.coalesce(1).write.format('json').save('./df_labelled_coalesce.json')"
   ]
  },
  {
   "cell_type": "code",
   "execution_count": null,
   "metadata": {},
   "outputs": [],
   "source": []
  }
 ],
 "metadata": {
  "kernelspec": {
   "display_name": "Python 3",
   "language": "python",
   "name": "python3"
  },
  "language_info": {
   "codemirror_mode": {
    "name": "ipython",
    "version": 3
   },
   "file_extension": ".py",
   "mimetype": "text/x-python",
   "name": "python",
   "nbconvert_exporter": "python",
   "pygments_lexer": "ipython3",
   "version": "3.7.7"
  }
 },
 "nbformat": 4,
 "nbformat_minor": 4
}
